{
 "cells": [
  {
   "cell_type": "markdown",
   "id": "4e3a54d2",
   "metadata": {
    "papermill": {
     "duration": 0.021016,
     "end_time": "2021-08-26T12:47:21.796118",
     "exception": false,
     "start_time": "2021-08-26T12:47:21.775102",
     "status": "completed"
    },
    "tags": []
   },
   "source": [
    "**This notebook is an exercise in the [Python](https://www.kaggle.com/learn/python) course.  You can reference the tutorial at [this link](https://www.kaggle.com/colinmorris/hello-python).**\n",
    "\n",
    "---\n"
   ]
  },
  {
   "cell_type": "markdown",
   "id": "9f95c986",
   "metadata": {
    "papermill": {
     "duration": 0.019248,
     "end_time": "2021-08-26T12:47:21.836555",
     "exception": false,
     "start_time": "2021-08-26T12:47:21.817307",
     "status": "completed"
    },
    "tags": []
   },
   "source": [
    "Welcome to your first set of Python coding problems.  If this is your first time using Kaggle Notebooks, welcome! \n",
    "\n",
    "Notebooks are composed of blocks (called \"cells\") of text and code. Each of these is editable, though you'll mainly be editing the code cells to answer some questions.\n",
    "\n",
    "To get started, try running the code cell below (by pressing the ► button, or clicking on the cell and pressing ctrl+enter on your keyboard)."
   ]
  },
  {
   "cell_type": "code",
   "execution_count": 1,
   "id": "e82eba1d",
   "metadata": {
    "execution": {
     "iopub.execute_input": "2021-08-26T12:47:21.889777Z",
     "iopub.status.busy": "2021-08-26T12:47:21.888852Z",
     "iopub.status.idle": "2021-08-26T12:47:21.895875Z",
     "shell.execute_reply": "2021-08-26T12:47:21.894717Z",
     "shell.execute_reply.started": "2021-08-26T12:38:43.832193Z"
    },
    "papermill": {
     "duration": 0.040315,
     "end_time": "2021-08-26T12:47:21.896154",
     "exception": false,
     "start_time": "2021-08-26T12:47:21.855839",
     "status": "completed"
    },
    "tags": []
   },
   "outputs": [
    {
     "name": "stdout",
     "output_type": "stream",
     "text": [
      "You've successfully run some Python code\n",
      "Congratulations!\n"
     ]
    }
   ],
   "source": [
    "print(\"You've successfully run some Python code\")\n",
    "print(\"Congratulations!\")"
   ]
  },
  {
   "cell_type": "markdown",
   "id": "4b4bce58",
   "metadata": {
    "papermill": {
     "duration": 0.019301,
     "end_time": "2021-08-26T12:47:21.936350",
     "exception": false,
     "start_time": "2021-08-26T12:47:21.917049",
     "status": "completed"
    },
    "tags": []
   },
   "source": [
    "Try adding another line of code in the cell above and re-running it. \n",
    "\n",
    "Now let's get a little fancier:  Add a new code cell by clicking on an existing code cell, hitting the escape key, and then hitting the `a` or `b` key.  The `a` key will add a cell above the current cell, and `b` adds a cell below.\n",
    "\n",
    "Great! Now you know how to use Notebooks.\n",
    "\n",
    "Each hands-on exercise starts by setting up our feedback and code checking mechanism. Run the code cell below to do that. Then you'll be ready to move on to question 0."
   ]
  },
  {
   "cell_type": "code",
   "execution_count": 2,
   "id": "a90df528",
   "metadata": {
    "_kg_hide-input": true,
    "_kg_hide-output": true,
    "execution": {
     "iopub.execute_input": "2021-08-26T12:47:21.991492Z",
     "iopub.status.busy": "2021-08-26T12:47:21.990539Z",
     "iopub.status.idle": "2021-08-26T12:47:22.195429Z",
     "shell.execute_reply": "2021-08-26T12:47:22.196004Z",
     "shell.execute_reply.started": "2021-08-26T12:40:45.062996Z"
    },
    "papermill": {
     "duration": 0.23554,
     "end_time": "2021-08-26T12:47:22.196259",
     "exception": false,
     "start_time": "2021-08-26T12:47:21.960719",
     "status": "completed"
    },
    "tags": []
   },
   "outputs": [
    {
     "name": "stdout",
     "output_type": "stream",
     "text": [
      "Setup complete! You're ready to start question 0.\n"
     ]
    }
   ],
   "source": [
    "from learntools.core import binder; binder.bind(globals())\n",
    "from learntools.python.ex1 import *\n",
    "print(\"Setup complete! You're ready to start question 0.\")"
   ]
  },
  {
   "cell_type": "markdown",
   "id": "d1474231",
   "metadata": {
    "papermill": {
     "duration": 0.02108,
     "end_time": "2021-08-26T12:47:22.239598",
     "exception": false,
     "start_time": "2021-08-26T12:47:22.218518",
     "status": "completed"
    },
    "tags": []
   },
   "source": [
    "# 0.\n",
    "\n",
    "*This is a silly question intended as an introduction to the format we use for hands-on exercises throughout all Kaggle courses.*\n",
    "\n",
    "**What is your favorite color? **\n",
    "\n",
    "To complete this question, create a variable called `color` in the cell below with an appropriate value. The function call `q0.check()` (which we've already provided in the cell below) will check your answer."
   ]
  },
  {
   "cell_type": "code",
   "execution_count": 3,
   "id": "74579d5a",
   "metadata": {
    "execution": {
     "iopub.execute_input": "2021-08-26T12:47:22.289401Z",
     "iopub.status.busy": "2021-08-26T12:47:22.288534Z",
     "iopub.status.idle": "2021-08-26T12:47:22.296709Z",
     "shell.execute_reply": "2021-08-26T12:47:22.296152Z",
     "shell.execute_reply.started": "2021-08-26T12:41:38.498179Z"
    },
    "papermill": {
     "duration": 0.036561,
     "end_time": "2021-08-26T12:47:22.296870",
     "exception": false,
     "start_time": "2021-08-26T12:47:22.260309",
     "status": "completed"
    },
    "tags": []
   },
   "outputs": [
    {
     "data": {
      "application/javascript": [
       "parent.postMessage({\"jupyterEvent\": \"custom.exercise_interaction\", \"data\": {\"outcomeType\": 1, \"valueTowardsCompletion\": 0.25, \"interactionType\": 1, \"questionType\": 2, \"questionId\": \"0_ExerciseFormatTutorial\", \"learnToolsVersion\": \"0.3.4\", \"failureMessage\": \"\", \"exceptionClass\": \"\", \"trace\": \"\"}}, \"*\")"
      ],
      "text/plain": [
       "<IPython.core.display.Javascript object>"
      ]
     },
     "metadata": {},
     "output_type": "display_data"
    },
    {
     "data": {
      "text/markdown": [
       "<span style=\"color:#33cc33\">Correct:</span> What?! You got it right without needing a hint or anything? Drats. Well hey, you should still continue to the next step to get some practice asking for a hint and checking solutions. (Even though you obviously don't need any help here.)"
      ],
      "text/plain": [
       "Correct: What?! You got it right without needing a hint or anything? Drats. Well hey, you should still continue to the next step to get some practice asking for a hint and checking solutions. (Even though you obviously don't need any help here.)"
      ]
     },
     "metadata": {},
     "output_type": "display_data"
    }
   ],
   "source": [
    "# create a variable called color with an appropriate value on the line below\n",
    "# (Remember, strings in Python must be enclosed in 'single' or \"double\" quotes)\n",
    "____\n",
    "color = 'Blue'\n",
    "# Check your answer\n",
    "q0.check()"
   ]
  },
  {
   "cell_type": "markdown",
   "id": "3eb63316",
   "metadata": {
    "papermill": {
     "duration": 0.021133,
     "end_time": "2021-08-26T12:47:22.340408",
     "exception": false,
     "start_time": "2021-08-26T12:47:22.319275",
     "status": "completed"
    },
    "tags": []
   },
   "source": [
    "Didn't get the right answer? How do you not even know your own favorite color?!\n",
    "\n",
    "Delete the `#` in the line below to make one of the lines run. You can choose between getting a hint or the full answer by choosing which line to remove the `#` from. \n",
    "\n",
    "Removing the `#` is called uncommenting, because it changes that line from a \"comment\" which Python doesn't run to code, which Python does run."
   ]
  },
  {
   "cell_type": "code",
   "execution_count": 4,
   "id": "3f1b8cde",
   "metadata": {
    "execution": {
     "iopub.execute_input": "2021-08-26T12:47:22.391781Z",
     "iopub.status.busy": "2021-08-26T12:47:22.391106Z",
     "iopub.status.idle": "2021-08-26T12:47:22.394124Z",
     "shell.execute_reply": "2021-08-26T12:47:22.394650Z"
    },
    "papermill": {
     "duration": 0.031813,
     "end_time": "2021-08-26T12:47:22.394862",
     "exception": false,
     "start_time": "2021-08-26T12:47:22.363049",
     "status": "completed"
    },
    "tags": []
   },
   "outputs": [],
   "source": [
    "#q0.hint()\n",
    "#q0.solution()"
   ]
  },
  {
   "cell_type": "markdown",
   "id": "302c2ace",
   "metadata": {
    "papermill": {
     "duration": 0.022412,
     "end_time": "2021-08-26T12:47:22.440380",
     "exception": false,
     "start_time": "2021-08-26T12:47:22.417968",
     "status": "completed"
    },
    "tags": []
   },
   "source": [
    "The upcoming questions work the same way. The only thing that will change are the question numbers. For the next question, you'll call `q1.check()`, `q1.hint()`, `q1.solution()`, for question 2, you'll call `q2.check()`, and so on."
   ]
  },
  {
   "cell_type": "markdown",
   "id": "eff33d38",
   "metadata": {
    "papermill": {
     "duration": 0.027409,
     "end_time": "2021-08-26T12:47:22.493873",
     "exception": false,
     "start_time": "2021-08-26T12:47:22.466464",
     "status": "completed"
    },
    "tags": []
   },
   "source": [
    "<hr/>\n",
    "\n",
    "# 1.\n",
    "\n",
    "Complete the code below. In case it's helpful, here is the table of available arithmetic operations:\n",
    "\n",
    "\n",
    "\n",
    "| Operator     | Name           | Description                                            |\n",
    "|--------------|----------------|--------------------------------------------------------|\n",
    "| ``a + b``    | Addition       | Sum of ``a`` and ``b``                                 |\n",
    "| ``a - b``    | Subtraction    | Difference of ``a`` and ``b``                          |\n",
    "| ``a * b``    | Multiplication | Product of ``a`` and ``b``                             |\n",
    "| ``a / b``    | True division  | Quotient of ``a`` and ``b``                            |\n",
    "| ``a // b``   | Floor division | Quotient of ``a`` and ``b``, removing fractional parts |\n",
    "| ``a % b``    | Modulus        | Integer remainder after division of ``a`` by ``b``     |\n",
    "| ``a ** b``   | Exponentiation | ``a`` raised to the power of ``b``                     |\n",
    "| ``-a``       | Negation       | The negative of ``a``                                  |\n",
    "\n",
    "<span style=\"display:none\"></span>\n"
   ]
  },
  {
   "cell_type": "code",
   "execution_count": 5,
   "id": "1984ef3d",
   "metadata": {
    "execution": {
     "iopub.execute_input": "2021-08-26T12:47:22.555206Z",
     "iopub.status.busy": "2021-08-26T12:47:22.554529Z",
     "iopub.status.idle": "2021-08-26T12:47:22.559586Z",
     "shell.execute_reply": "2021-08-26T12:47:22.558921Z",
     "shell.execute_reply.started": "2021-08-26T12:43:16.337333Z"
    },
    "papermill": {
     "duration": 0.035415,
     "end_time": "2021-08-26T12:47:22.559761",
     "exception": false,
     "start_time": "2021-08-26T12:47:22.524346",
     "status": "completed"
    },
    "tags": []
   },
   "outputs": [
    {
     "data": {
      "application/javascript": [
       "parent.postMessage({\"jupyterEvent\": \"custom.exercise_interaction\", \"data\": {\"outcomeType\": 1, \"valueTowardsCompletion\": 0.25, \"interactionType\": 1, \"questionType\": 1, \"questionId\": \"1_CircleArea\", \"learnToolsVersion\": \"0.3.4\", \"failureMessage\": \"\", \"exceptionClass\": \"\", \"trace\": \"\"}}, \"*\")"
      ],
      "text/plain": [
       "<IPython.core.display.Javascript object>"
      ]
     },
     "metadata": {},
     "output_type": "display_data"
    },
    {
     "data": {
      "text/markdown": [
       "<span style=\"color:#33cc33\">Correct</span>"
      ],
      "text/plain": [
       "Correct"
      ]
     },
     "metadata": {},
     "output_type": "display_data"
    }
   ],
   "source": [
    "pi = 3.14159 # approximate\n",
    "diameter = 3\n",
    "\n",
    "# Create a variable called 'radius' equal to half the diameter\n",
    "radius = diameter / 2\n",
    "\n",
    "# Create a variable called 'area', using the formula for the area of a circle: pi times the radius squared\n",
    "area = pi * radius**2\n",
    "\n",
    "# Check your answer\n",
    "q1.check()"
   ]
  },
  {
   "cell_type": "code",
   "execution_count": 6,
   "id": "85389394",
   "metadata": {
    "execution": {
     "iopub.execute_input": "2021-08-26T12:47:22.609786Z",
     "iopub.status.busy": "2021-08-26T12:47:22.609130Z",
     "iopub.status.idle": "2021-08-26T12:47:22.611116Z",
     "shell.execute_reply": "2021-08-26T12:47:22.611703Z"
    },
    "papermill": {
     "duration": 0.028974,
     "end_time": "2021-08-26T12:47:22.611891",
     "exception": false,
     "start_time": "2021-08-26T12:47:22.582917",
     "status": "completed"
    },
    "tags": []
   },
   "outputs": [],
   "source": [
    "# Uncomment and run the lines below if you need help.\n",
    "#q1.hint()\n",
    "#q1.solution()"
   ]
  },
  {
   "cell_type": "markdown",
   "id": "856fcade",
   "metadata": {
    "papermill": {
     "duration": 0.024349,
     "end_time": "2021-08-26T12:47:22.659355",
     "exception": false,
     "start_time": "2021-08-26T12:47:22.635006",
     "status": "completed"
    },
    "tags": []
   },
   "source": [
    "<hr/>\n",
    "\n",
    "# 2.\n",
    "\n",
    "Add code to the following cell to swap variables `a` and `b` (so that `a` refers to the object previously referred to by `b` and vice versa)."
   ]
  },
  {
   "cell_type": "code",
   "execution_count": 7,
   "id": "9c7e1013",
   "metadata": {
    "execution": {
     "iopub.execute_input": "2021-08-26T12:47:22.708357Z",
     "iopub.status.busy": "2021-08-26T12:47:22.707634Z",
     "iopub.status.idle": "2021-08-26T12:47:22.714555Z",
     "shell.execute_reply": "2021-08-26T12:47:22.715014Z",
     "shell.execute_reply.started": "2021-08-26T12:43:48.727168Z"
    },
    "papermill": {
     "duration": 0.03298,
     "end_time": "2021-08-26T12:47:22.715239",
     "exception": false,
     "start_time": "2021-08-26T12:47:22.682259",
     "status": "completed"
    },
    "tags": []
   },
   "outputs": [
    {
     "data": {
      "application/javascript": [
       "parent.postMessage({\"jupyterEvent\": \"custom.exercise_interaction\", \"data\": {\"outcomeType\": 1, \"valueTowardsCompletion\": 0.25, \"interactionType\": 1, \"questionType\": 2, \"questionId\": \"2_VariableSwap\", \"learnToolsVersion\": \"0.3.4\", \"failureMessage\": \"\", \"exceptionClass\": \"\", \"trace\": \"\"}}, \"*\")"
      ],
      "text/plain": [
       "<IPython.core.display.Javascript object>"
      ]
     },
     "metadata": {},
     "output_type": "display_data"
    },
    {
     "data": {
      "text/markdown": [
       "<span style=\"color:#33cc33\">Correct:</span> \n",
       "\n",
       "The most straightforward solution is to use a third variable to temporarily store one of the old values. e.g.:\n",
       "\n",
       "    tmp = a\n",
       "    a = b\n",
       "    b = tmp\n",
       "\n",
       "If you've read lots of Python code, you might have seen the following trick to swap two variables in one line:\n",
       "\n",
       "    a, b = b, a\n",
       "\n",
       "We'll demystify this bit of Python magic later when we talk about *tuples*."
      ],
      "text/plain": [
       "Correct: \n",
       "\n",
       "The most straightforward solution is to use a third variable to temporarily store one of the old values. e.g.:\n",
       "\n",
       "    tmp = a\n",
       "    a = b\n",
       "    b = tmp\n",
       "\n",
       "If you've read lots of Python code, you might have seen the following trick to swap two variables in one line:\n",
       "\n",
       "    a, b = b, a\n",
       "\n",
       "We'll demystify this bit of Python magic later when we talk about *tuples*."
      ]
     },
     "metadata": {},
     "output_type": "display_data"
    }
   ],
   "source": [
    "########### Setup code - don't touch this part ######################\n",
    "# If you're curious, these are examples of lists. We'll talk about \n",
    "# them in depth a few lessons from now. For now, just know that they're\n",
    "# yet another type of Python object, like int or float.\n",
    "a = [1, 2, 3]\n",
    "b = [3, 2, 1]\n",
    "q2.store_original_ids()\n",
    "######################################################################\n",
    "\n",
    "# Your code goes here. Swap the values to which a and b refer.\n",
    "# If you get stuck, you can always uncomment one or both of the lines in\n",
    "# the next cell for a hint, or to peek at the solution.\n",
    "\n",
    "######################################################################\n",
    "a, b = b, a\n",
    "# Check your answer\n",
    "q2.check()"
   ]
  },
  {
   "cell_type": "code",
   "execution_count": 8,
   "id": "97e20d3d",
   "metadata": {
    "execution": {
     "iopub.execute_input": "2021-08-26T12:47:22.767188Z",
     "iopub.status.busy": "2021-08-26T12:47:22.766569Z",
     "iopub.status.idle": "2021-08-26T12:47:22.769798Z",
     "shell.execute_reply": "2021-08-26T12:47:22.770312Z"
    },
    "papermill": {
     "duration": 0.030128,
     "end_time": "2021-08-26T12:47:22.770505",
     "exception": false,
     "start_time": "2021-08-26T12:47:22.740377",
     "status": "completed"
    },
    "tags": []
   },
   "outputs": [],
   "source": [
    "#q2.hint()"
   ]
  },
  {
   "cell_type": "code",
   "execution_count": 9,
   "id": "da9b87d5",
   "metadata": {
    "execution": {
     "iopub.execute_input": "2021-08-26T12:47:22.821516Z",
     "iopub.status.busy": "2021-08-26T12:47:22.820837Z",
     "iopub.status.idle": "2021-08-26T12:47:22.823834Z",
     "shell.execute_reply": "2021-08-26T12:47:22.824330Z"
    },
    "papermill": {
     "duration": 0.030441,
     "end_time": "2021-08-26T12:47:22.824535",
     "exception": false,
     "start_time": "2021-08-26T12:47:22.794094",
     "status": "completed"
    },
    "tags": []
   },
   "outputs": [],
   "source": [
    "#q2.solution()"
   ]
  },
  {
   "cell_type": "markdown",
   "id": "3f17c581",
   "metadata": {
    "papermill": {
     "duration": 0.023764,
     "end_time": "2021-08-26T12:47:22.873060",
     "exception": false,
     "start_time": "2021-08-26T12:47:22.849296",
     "status": "completed"
    },
    "tags": []
   },
   "source": [
    "<hr/>\n",
    "\n",
    "# 3a.\n",
    "\n",
    "Add parentheses to the following expression so that it evaluates to 1."
   ]
  },
  {
   "cell_type": "code",
   "execution_count": 10,
   "id": "f3cb285a",
   "metadata": {
    "execution": {
     "iopub.execute_input": "2021-08-26T12:47:22.923880Z",
     "iopub.status.busy": "2021-08-26T12:47:22.923236Z",
     "iopub.status.idle": "2021-08-26T12:47:22.928901Z",
     "shell.execute_reply": "2021-08-26T12:47:22.929447Z",
     "shell.execute_reply.started": "2021-08-26T12:44:09.972842Z"
    },
    "papermill": {
     "duration": 0.033101,
     "end_time": "2021-08-26T12:47:22.929639",
     "exception": false,
     "start_time": "2021-08-26T12:47:22.896538",
     "status": "completed"
    },
    "tags": []
   },
   "outputs": [
    {
     "data": {
      "text/plain": [
       "1"
      ]
     },
     "execution_count": 10,
     "metadata": {},
     "output_type": "execute_result"
    }
   ],
   "source": [
    "(5 - 3) // 2"
   ]
  },
  {
   "cell_type": "code",
   "execution_count": 11,
   "id": "49fbe3f1",
   "metadata": {
    "execution": {
     "iopub.execute_input": "2021-08-26T12:47:22.984373Z",
     "iopub.status.busy": "2021-08-26T12:47:22.983405Z",
     "iopub.status.idle": "2021-08-26T12:47:22.987230Z",
     "shell.execute_reply": "2021-08-26T12:47:22.987781Z"
    },
    "papermill": {
     "duration": 0.032548,
     "end_time": "2021-08-26T12:47:22.987990",
     "exception": false,
     "start_time": "2021-08-26T12:47:22.955442",
     "status": "completed"
    },
    "tags": []
   },
   "outputs": [],
   "source": [
    "#q3.a.hint()"
   ]
  },
  {
   "cell_type": "code",
   "execution_count": 12,
   "id": "cbbfd1b6",
   "metadata": {
    "execution": {
     "iopub.execute_input": "2021-08-26T12:47:23.043538Z",
     "iopub.status.busy": "2021-08-26T12:47:23.042494Z",
     "iopub.status.idle": "2021-08-26T12:47:23.050693Z",
     "shell.execute_reply": "2021-08-26T12:47:23.051206Z"
    },
    "papermill": {
     "duration": 0.036964,
     "end_time": "2021-08-26T12:47:23.051414",
     "exception": false,
     "start_time": "2021-08-26T12:47:23.014450",
     "status": "completed"
    },
    "tags": []
   },
   "outputs": [
    {
     "data": {
      "application/javascript": [
       "parent.postMessage({\"jupyterEvent\": \"custom.exercise_interaction\", \"data\": {\"interactionType\": 3, \"questionType\": 4, \"questionId\": \"3.1_ArithmeticParensEasy\", \"learnToolsVersion\": \"0.3.4\", \"valueTowardsCompletion\": 0.0, \"failureMessage\": \"\", \"exceptionClass\": \"\", \"trace\": \"\", \"outcomeType\": 4}}, \"*\")"
      ],
      "text/plain": [
       "<IPython.core.display.Javascript object>"
      ]
     },
     "metadata": {},
     "output_type": "display_data"
    },
    {
     "data": {
      "text/markdown": [
       "<span style=\"color:#33cc99\">Solution:</span> \n",
       "```python\n",
       "(5 - 3) // 2\n",
       "```"
      ],
      "text/plain": [
       "Solution: \n",
       "```python\n",
       "(5 - 3) // 2\n",
       "```"
      ]
     },
     "metadata": {},
     "output_type": "display_data"
    }
   ],
   "source": [
    "# Check your answer (Run this code cell to receive credit!)\n",
    "q3.a.solution()"
   ]
  },
  {
   "cell_type": "markdown",
   "id": "4fcf96a0",
   "metadata": {
    "papermill": {
     "duration": 0.02626,
     "end_time": "2021-08-26T12:47:23.104884",
     "exception": false,
     "start_time": "2021-08-26T12:47:23.078624",
     "status": "completed"
    },
    "tags": []
   },
   "source": [
    "# 3b.  <span title=\"A bit spicy\" style=\"color: darkgreen \">🌶️</span>\n",
    "\n",
    "<small>Questions, like this one, marked a spicy pepper are a bit harder.</small>\n",
    "\n",
    "Add parentheses to the following expression so that it evaluates to 0."
   ]
  },
  {
   "cell_type": "code",
   "execution_count": 13,
   "id": "38f3a21b",
   "metadata": {
    "execution": {
     "iopub.execute_input": "2021-08-26T12:47:23.165096Z",
     "iopub.status.busy": "2021-08-26T12:47:23.164129Z",
     "iopub.status.idle": "2021-08-26T12:47:23.170928Z",
     "shell.execute_reply": "2021-08-26T12:47:23.170409Z",
     "shell.execute_reply.started": "2021-08-26T12:44:37.353435Z"
    },
    "papermill": {
     "duration": 0.037191,
     "end_time": "2021-08-26T12:47:23.171083",
     "exception": false,
     "start_time": "2021-08-26T12:47:23.133892",
     "status": "completed"
    },
    "tags": []
   },
   "outputs": [
    {
     "data": {
      "text/plain": [
       "0"
      ]
     },
     "execution_count": 13,
     "metadata": {},
     "output_type": "execute_result"
    }
   ],
   "source": [
    "8 - (3 * 2) - (1 + 1)"
   ]
  },
  {
   "cell_type": "code",
   "execution_count": 14,
   "id": "26aa7083",
   "metadata": {
    "execution": {
     "iopub.execute_input": "2021-08-26T12:47:23.229352Z",
     "iopub.status.busy": "2021-08-26T12:47:23.228526Z",
     "iopub.status.idle": "2021-08-26T12:47:23.232103Z",
     "shell.execute_reply": "2021-08-26T12:47:23.231586Z"
    },
    "papermill": {
     "duration": 0.035572,
     "end_time": "2021-08-26T12:47:23.232289",
     "exception": false,
     "start_time": "2021-08-26T12:47:23.196717",
     "status": "completed"
    },
    "tags": []
   },
   "outputs": [],
   "source": [
    "#q3.b.hint()"
   ]
  },
  {
   "cell_type": "code",
   "execution_count": 15,
   "id": "7ca7abe3",
   "metadata": {
    "execution": {
     "iopub.execute_input": "2021-08-26T12:47:23.289860Z",
     "iopub.status.busy": "2021-08-26T12:47:23.289203Z",
     "iopub.status.idle": "2021-08-26T12:47:23.293767Z",
     "shell.execute_reply": "2021-08-26T12:47:23.294331Z"
    },
    "papermill": {
     "duration": 0.036195,
     "end_time": "2021-08-26T12:47:23.294568",
     "exception": false,
     "start_time": "2021-08-26T12:47:23.258373",
     "status": "completed"
    },
    "tags": []
   },
   "outputs": [
    {
     "data": {
      "application/javascript": [
       "parent.postMessage({\"jupyterEvent\": \"custom.exercise_interaction\", \"data\": {\"interactionType\": 3, \"questionType\": 4, \"questionId\": \"3.2_ArithmeticParensHard\", \"learnToolsVersion\": \"0.3.4\", \"valueTowardsCompletion\": 0.0, \"failureMessage\": \"\", \"exceptionClass\": \"\", \"trace\": \"\", \"outcomeType\": 4}}, \"*\")"
      ],
      "text/plain": [
       "<IPython.core.display.Javascript object>"
      ]
     },
     "metadata": {},
     "output_type": "display_data"
    },
    {
     "data": {
      "text/markdown": [
       "<span style=\"color:#33cc99\">Solution:</span> `(8 - 3) * (2 - (1 + 1))` is one solution. There may be others."
      ],
      "text/plain": [
       "Solution: `(8 - 3) * (2 - (1 + 1))` is one solution. There may be others."
      ]
     },
     "metadata": {},
     "output_type": "display_data"
    }
   ],
   "source": [
    "# Check your answer (Run this code cell to receive credit!)\n",
    "q3.b.solution()"
   ]
  },
  {
   "cell_type": "markdown",
   "id": "d26557d3",
   "metadata": {
    "papermill": {
     "duration": 0.026492,
     "end_time": "2021-08-26T12:47:23.347999",
     "exception": false,
     "start_time": "2021-08-26T12:47:23.321507",
     "status": "completed"
    },
    "tags": []
   },
   "source": [
    "<hr/>\n",
    "\n",
    "# 4. \n",
    "Alice, Bob and Carol have agreed to pool their Halloween candy and split it evenly among themselves.\n",
    "For the sake of their friendship, any candies left over will be smashed. For example, if they collectively\n",
    "bring home 91 candies, they'll take 30 each and smash 1.\n",
    "\n",
    "Write an arithmetic expression below to calculate how many candies they must smash for a given haul."
   ]
  },
  {
   "cell_type": "code",
   "execution_count": 16,
   "id": "7321797e",
   "metadata": {
    "execution": {
     "iopub.execute_input": "2021-08-26T12:47:23.415241Z",
     "iopub.status.busy": "2021-08-26T12:47:23.411716Z",
     "iopub.status.idle": "2021-08-26T12:47:23.425689Z",
     "shell.execute_reply": "2021-08-26T12:47:23.424852Z",
     "shell.execute_reply.started": "2021-08-26T12:45:48.327445Z"
    },
    "papermill": {
     "duration": 0.049691,
     "end_time": "2021-08-26T12:47:23.425897",
     "exception": false,
     "start_time": "2021-08-26T12:47:23.376206",
     "status": "completed"
    },
    "tags": []
   },
   "outputs": [
    {
     "data": {
      "application/javascript": [
       "parent.postMessage({\"jupyterEvent\": \"custom.exercise_interaction\", \"data\": {\"outcomeType\": 1, \"valueTowardsCompletion\": 0.25, \"interactionType\": 1, \"questionType\": 1, \"questionId\": \"4_CandySplitting\", \"learnToolsVersion\": \"0.3.4\", \"failureMessage\": \"\", \"exceptionClass\": \"\", \"trace\": \"\"}}, \"*\")"
      ],
      "text/plain": [
       "<IPython.core.display.Javascript object>"
      ]
     },
     "metadata": {},
     "output_type": "display_data"
    },
    {
     "data": {
      "text/markdown": [
       "<span style=\"color:#33cc33\">Correct</span>"
      ],
      "text/plain": [
       "Correct"
      ]
     },
     "metadata": {},
     "output_type": "display_data"
    }
   ],
   "source": [
    "# Variables representing the number of candies collected by alice, bob, and carol\n",
    "alice_candies = 121\n",
    "bob_candies = 77\n",
    "carol_candies = 109\n",
    "\n",
    "# Your code goes here! Replace the right-hand side of this assignment with an expression\n",
    "# involving alice_candies, bob_candies, and carol_candies\n",
    "total_candies = alice_candies + bob_candies + carol_candies\n",
    "to_smash = total_candies % 3\n",
    "\n",
    "# Check your answer\n",
    "q4.check()"
   ]
  },
  {
   "cell_type": "code",
   "execution_count": 17,
   "id": "3164c53a",
   "metadata": {
    "execution": {
     "iopub.execute_input": "2021-08-26T12:47:23.506566Z",
     "iopub.status.busy": "2021-08-26T12:47:23.505300Z",
     "iopub.status.idle": "2021-08-26T12:47:23.508273Z",
     "shell.execute_reply": "2021-08-26T12:47:23.508892Z"
    },
    "papermill": {
     "duration": 0.042474,
     "end_time": "2021-08-26T12:47:23.509095",
     "exception": false,
     "start_time": "2021-08-26T12:47:23.466621",
     "status": "completed"
    },
    "tags": []
   },
   "outputs": [],
   "source": [
    "#q4.hint()\n",
    "#q4.solution()"
   ]
  },
  {
   "cell_type": "markdown",
   "id": "344ec983",
   "metadata": {
    "papermill": {
     "duration": 0.028221,
     "end_time": "2021-08-26T12:47:23.566670",
     "exception": false,
     "start_time": "2021-08-26T12:47:23.538449",
     "status": "completed"
    },
    "tags": []
   },
   "source": [
    "# Keep Going\n",
    "\n",
    "Next up, you'll **[learn to write new functions and understand functions others write](https://www.kaggle.com/colinmorris/functions-and-getting-help)**. This will make you at least 10 times more productive as a Python programmer. "
   ]
  },
  {
   "cell_type": "markdown",
   "id": "3910be49",
   "metadata": {
    "papermill": {
     "duration": 0.028476,
     "end_time": "2021-08-26T12:47:23.623529",
     "exception": false,
     "start_time": "2021-08-26T12:47:23.595053",
     "status": "completed"
    },
    "tags": []
   },
   "source": [
    "---\n",
    "\n",
    "\n",
    "\n",
    "\n",
    "*Have questions or comments? Visit the [Learn Discussion forum](https://www.kaggle.com/learn-forum/161283) to chat with other Learners.*"
   ]
  }
 ],
 "metadata": {
  "kernelspec": {
   "display_name": "Python 3",
   "language": "python",
   "name": "python3"
  },
  "language_info": {
   "codemirror_mode": {
    "name": "ipython",
    "version": 3
   },
   "file_extension": ".py",
   "mimetype": "text/x-python",
   "name": "python",
   "nbconvert_exporter": "python",
   "pygments_lexer": "ipython3",
   "version": "3.7.10"
  },
  "papermill": {
   "default_parameters": {},
   "duration": 10.647519,
   "end_time": "2021-08-26T12:47:24.265542",
   "environment_variables": {},
   "exception": null,
   "input_path": "__notebook__.ipynb",
   "output_path": "__notebook__.ipynb",
   "parameters": {},
   "start_time": "2021-08-26T12:47:13.618023",
   "version": "2.3.3"
  }
 },
 "nbformat": 4,
 "nbformat_minor": 5
}
