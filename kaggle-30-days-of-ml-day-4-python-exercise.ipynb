{
 "cells": [
  {
   "cell_type": "markdown",
   "id": "9d8fa7ea",
   "metadata": {
    "papermill": {
     "duration": 0.031967,
     "end_time": "2021-08-27T17:02:40.614405",
     "exception": false,
     "start_time": "2021-08-27T17:02:40.582438",
     "status": "completed"
    },
    "tags": []
   },
   "source": [
    "**This notebook is an exercise in the [Python](https://www.kaggle.com/learn/python) course.  You can reference the tutorial at [this link](https://www.kaggle.com/colinmorris/booleans-and-conditionals).**\n",
    "\n",
    "---\n"
   ]
  },
  {
   "cell_type": "markdown",
   "id": "e5d760b8",
   "metadata": {
    "papermill": {
     "duration": 0.02871,
     "end_time": "2021-08-27T17:02:40.672699",
     "exception": false,
     "start_time": "2021-08-27T17:02:40.643989",
     "status": "completed"
    },
    "tags": []
   },
   "source": [
    "In this exercise, you'll put to work what you have learned about booleans and conditionals.\n",
    "\n",
    "To get started, **run the setup code below** before writing your own code (and if you leave this notebook and come back later, don't forget to run the setup code again)."
   ]
  },
  {
   "cell_type": "code",
   "execution_count": 1,
   "id": "3a607016",
   "metadata": {
    "execution": {
     "iopub.execute_input": "2021-08-27T17:02:40.736107Z",
     "iopub.status.busy": "2021-08-27T17:02:40.734778Z",
     "iopub.status.idle": "2021-08-27T17:02:40.942971Z",
     "shell.execute_reply": "2021-08-27T17:02:40.943978Z",
     "shell.execute_reply.started": "2021-08-27T16:51:45.210942Z"
    },
    "papermill": {
     "duration": 0.242704,
     "end_time": "2021-08-27T17:02:40.944446",
     "exception": false,
     "start_time": "2021-08-27T17:02:40.701742",
     "status": "completed"
    },
    "tags": []
   },
   "outputs": [
    {
     "name": "stdout",
     "output_type": "stream",
     "text": [
      "Setup complete.\n"
     ]
    }
   ],
   "source": [
    "from learntools.core import binder; binder.bind(globals())\n",
    "from learntools.python.ex3 import *\n",
    "print('Setup complete.')"
   ]
  },
  {
   "cell_type": "markdown",
   "id": "bf799c0f",
   "metadata": {
    "papermill": {
     "duration": 0.029287,
     "end_time": "2021-08-27T17:02:41.006481",
     "exception": false,
     "start_time": "2021-08-27T17:02:40.977194",
     "status": "completed"
    },
    "tags": []
   },
   "source": [
    "# 1.\n",
    "\n",
    "Many programming languages have [`sign`](https://en.wikipedia.org/wiki/Sign_function) available as a built-in function. Python doesn't, but we can define our own!\n",
    "\n",
    "In the cell below, define a function called `sign` which takes a numerical argument and returns -1 if it's negative, 1 if it's positive, and 0 if it's 0."
   ]
  },
  {
   "cell_type": "code",
   "execution_count": 2,
   "id": "0dc5f40a",
   "metadata": {
    "execution": {
     "iopub.execute_input": "2021-08-27T17:02:41.074888Z",
     "iopub.status.busy": "2021-08-27T17:02:41.074128Z",
     "iopub.status.idle": "2021-08-27T17:02:41.080228Z",
     "shell.execute_reply": "2021-08-27T17:02:41.079691Z",
     "shell.execute_reply.started": "2021-08-27T16:52:23.372250Z"
    },
    "papermill": {
     "duration": 0.044275,
     "end_time": "2021-08-27T17:02:41.080401",
     "exception": false,
     "start_time": "2021-08-27T17:02:41.036126",
     "status": "completed"
    },
    "tags": []
   },
   "outputs": [
    {
     "data": {
      "application/javascript": [
       "parent.postMessage({\"jupyterEvent\": \"custom.exercise_interaction\", \"data\": {\"outcomeType\": 1, \"valueTowardsCompletion\": 0.2, \"interactionType\": 1, \"questionType\": 2, \"questionId\": \"1_SignFunctionProblem\", \"learnToolsVersion\": \"0.3.4\", \"failureMessage\": \"\", \"exceptionClass\": \"\", \"trace\": \"\"}}, \"*\")"
      ],
      "text/plain": [
       "<IPython.core.display.Javascript object>"
      ]
     },
     "metadata": {},
     "output_type": "display_data"
    },
    {
     "data": {
      "text/markdown": [
       "<span style=\"color:#33cc33\">Correct</span>"
      ],
      "text/plain": [
       "Correct"
      ]
     },
     "metadata": {},
     "output_type": "display_data"
    }
   ],
   "source": [
    "# Your code goes here. Define a function called 'sign'\n",
    "def sign (num):\n",
    "    if num < 0:\n",
    "        return -1\n",
    "    elif num > 0:\n",
    "        return 1\n",
    "    else:\n",
    "        return 0\n",
    "# Check your answer\n",
    "q1.check()"
   ]
  },
  {
   "cell_type": "code",
   "execution_count": 3,
   "id": "d4a9fe59",
   "metadata": {
    "execution": {
     "iopub.execute_input": "2021-08-27T17:02:41.149845Z",
     "iopub.status.busy": "2021-08-27T17:02:41.149102Z",
     "iopub.status.idle": "2021-08-27T17:02:41.155444Z",
     "shell.execute_reply": "2021-08-27T17:02:41.154935Z",
     "shell.execute_reply.started": "2021-08-27T16:52:38.791598Z"
    },
    "papermill": {
     "duration": 0.044743,
     "end_time": "2021-08-27T17:02:41.155606",
     "exception": false,
     "start_time": "2021-08-27T17:02:41.110863",
     "status": "completed"
    },
    "tags": []
   },
   "outputs": [
    {
     "data": {
      "application/javascript": [
       "parent.postMessage({\"jupyterEvent\": \"custom.exercise_interaction\", \"data\": {\"interactionType\": 3, \"questionType\": 2, \"questionId\": \"1_SignFunctionProblem\", \"learnToolsVersion\": \"0.3.4\", \"valueTowardsCompletion\": 0.0, \"failureMessage\": \"\", \"exceptionClass\": \"\", \"trace\": \"\", \"outcomeType\": 4}}, \"*\")"
      ],
      "text/plain": [
       "<IPython.core.display.Javascript object>"
      ]
     },
     "metadata": {},
     "output_type": "display_data"
    },
    {
     "data": {
      "text/markdown": [
       "<span style=\"color:#33cc99\">Solution:</span> \n",
       "```python\n",
       "def sign(x):\n",
       "    if x > 0:\n",
       "        return 1\n",
       "    elif x < 0:\n",
       "        return -1\n",
       "    else:\n",
       "        return 0\n",
       "```"
      ],
      "text/plain": [
       "Solution: \n",
       "```python\n",
       "def sign(x):\n",
       "    if x > 0:\n",
       "        return 1\n",
       "    elif x < 0:\n",
       "        return -1\n",
       "    else:\n",
       "        return 0\n",
       "```"
      ]
     },
     "metadata": {},
     "output_type": "display_data"
    }
   ],
   "source": [
    "q1.solution()"
   ]
  },
  {
   "cell_type": "markdown",
   "id": "6d5d90e7",
   "metadata": {
    "papermill": {
     "duration": 0.030834,
     "end_time": "2021-08-27T17:02:41.218040",
     "exception": false,
     "start_time": "2021-08-27T17:02:41.187206",
     "status": "completed"
    },
    "tags": []
   },
   "source": [
    "# 2.\n",
    "\n",
    "We've decided to add \"logging\" to our `to_smash` function from the previous exercise."
   ]
  },
  {
   "cell_type": "code",
   "execution_count": 4,
   "id": "91c68ea2",
   "metadata": {
    "execution": {
     "iopub.execute_input": "2021-08-27T17:02:41.288303Z",
     "iopub.status.busy": "2021-08-27T17:02:41.287536Z",
     "iopub.status.idle": "2021-08-27T17:02:41.292715Z",
     "shell.execute_reply": "2021-08-27T17:02:41.292127Z",
     "shell.execute_reply.started": "2021-08-27T16:52:48.255849Z"
    },
    "papermill": {
     "duration": 0.043629,
     "end_time": "2021-08-27T17:02:41.292898",
     "exception": false,
     "start_time": "2021-08-27T17:02:41.249269",
     "status": "completed"
    },
    "tags": []
   },
   "outputs": [
    {
     "name": "stdout",
     "output_type": "stream",
     "text": [
      "Splitting 91 candies\n"
     ]
    },
    {
     "data": {
      "text/plain": [
       "1"
      ]
     },
     "execution_count": 4,
     "metadata": {},
     "output_type": "execute_result"
    }
   ],
   "source": [
    "def to_smash(total_candies):\n",
    "    \"\"\"Return the number of leftover candies that must be smashed after distributing\n",
    "    the given number of candies evenly between 3 friends.\n",
    "    \n",
    "    >>> to_smash(91)\n",
    "    1\n",
    "    \"\"\"\n",
    "    print(\"Splitting\", total_candies, \"candies\")\n",
    "    return total_candies % 3\n",
    "\n",
    "to_smash(91)"
   ]
  },
  {
   "cell_type": "markdown",
   "id": "c8ae1c64",
   "metadata": {
    "papermill": {
     "duration": 0.031862,
     "end_time": "2021-08-27T17:02:41.357433",
     "exception": false,
     "start_time": "2021-08-27T17:02:41.325571",
     "status": "completed"
    },
    "tags": []
   },
   "source": [
    "What happens if we call it with `total_candies = 1`?"
   ]
  },
  {
   "cell_type": "code",
   "execution_count": 5,
   "id": "71078acb",
   "metadata": {
    "execution": {
     "iopub.execute_input": "2021-08-27T17:02:41.428743Z",
     "iopub.status.busy": "2021-08-27T17:02:41.427998Z",
     "iopub.status.idle": "2021-08-27T17:02:41.433518Z",
     "shell.execute_reply": "2021-08-27T17:02:41.432655Z",
     "shell.execute_reply.started": "2021-08-27T16:52:53.210801Z"
    },
    "papermill": {
     "duration": 0.042919,
     "end_time": "2021-08-27T17:02:41.433742",
     "exception": false,
     "start_time": "2021-08-27T17:02:41.390823",
     "status": "completed"
    },
    "tags": []
   },
   "outputs": [
    {
     "name": "stdout",
     "output_type": "stream",
     "text": [
      "Splitting 1 candies\n"
     ]
    },
    {
     "data": {
      "text/plain": [
       "1"
      ]
     },
     "execution_count": 5,
     "metadata": {},
     "output_type": "execute_result"
    }
   ],
   "source": [
    "to_smash(1)"
   ]
  },
  {
   "cell_type": "markdown",
   "id": "efd949d6",
   "metadata": {
    "papermill": {
     "duration": 0.032371,
     "end_time": "2021-08-27T17:02:41.499528",
     "exception": false,
     "start_time": "2021-08-27T17:02:41.467157",
     "status": "completed"
    },
    "tags": []
   },
   "source": [
    "That isn't great grammar!\n",
    "\n",
    "Modify the definition in the cell below to correct the grammar of our print statement. (If there's only one candy, we should use the singular \"candy\" instead of the plural \"candies\")"
   ]
  },
  {
   "cell_type": "code",
   "execution_count": 6,
   "id": "c697f3b1",
   "metadata": {
    "execution": {
     "iopub.execute_input": "2021-08-27T17:02:41.573926Z",
     "iopub.status.busy": "2021-08-27T17:02:41.573148Z",
     "iopub.status.idle": "2021-08-27T17:02:41.578595Z",
     "shell.execute_reply": "2021-08-27T17:02:41.577936Z",
     "shell.execute_reply.started": "2021-08-27T16:53:30.201342Z"
    },
    "papermill": {
     "duration": 0.046637,
     "end_time": "2021-08-27T17:02:41.578776",
     "exception": false,
     "start_time": "2021-08-27T17:02:41.532139",
     "status": "completed"
    },
    "tags": []
   },
   "outputs": [
    {
     "name": "stdout",
     "output_type": "stream",
     "text": [
      "Splitting 91 candies\n",
      "Splitting 1 candy\n"
     ]
    },
    {
     "data": {
      "text/plain": [
       "1"
      ]
     },
     "execution_count": 6,
     "metadata": {},
     "output_type": "execute_result"
    }
   ],
   "source": [
    "def to_smash(total_candies):\n",
    "    \"\"\"Return the number of leftover candies that must be smashed after distributing\n",
    "    the given number of candies evenly between 3 friends.\n",
    "    \n",
    "    >>> to_smash(91)\n",
    "    1\n",
    "    \"\"\"\n",
    "    if total_candies == 1:\n",
    "        print(\"Splitting\", total_candies, \"candy\")\n",
    "    else:\n",
    "        print(\"Splitting\", total_candies, \"candies\")\n",
    "    return total_candies % 3\n",
    "\n",
    "to_smash(91)\n",
    "to_smash(1)"
   ]
  },
  {
   "cell_type": "markdown",
   "id": "7d0c27a9",
   "metadata": {
    "papermill": {
     "duration": 0.033515,
     "end_time": "2021-08-27T17:02:41.645862",
     "exception": false,
     "start_time": "2021-08-27T17:02:41.612347",
     "status": "completed"
    },
    "tags": []
   },
   "source": [
    "To get credit for completing this problem, and to see the official answer, run the code cell below."
   ]
  },
  {
   "cell_type": "code",
   "execution_count": 7,
   "id": "22f82706",
   "metadata": {
    "execution": {
     "iopub.execute_input": "2021-08-27T17:02:41.718594Z",
     "iopub.status.busy": "2021-08-27T17:02:41.717918Z",
     "iopub.status.idle": "2021-08-27T17:02:41.723812Z",
     "shell.execute_reply": "2021-08-27T17:02:41.723227Z",
     "shell.execute_reply.started": "2021-08-27T16:53:33.592892Z"
    },
    "papermill": {
     "duration": 0.044844,
     "end_time": "2021-08-27T17:02:41.723981",
     "exception": false,
     "start_time": "2021-08-27T17:02:41.679137",
     "status": "completed"
    },
    "tags": []
   },
   "outputs": [
    {
     "data": {
      "application/javascript": [
       "parent.postMessage({\"jupyterEvent\": \"custom.exercise_interaction\", \"data\": {\"interactionType\": 3, \"questionType\": 4, \"questionId\": \"2_PluralizationProblem\", \"learnToolsVersion\": \"0.3.4\", \"valueTowardsCompletion\": 0.0, \"failureMessage\": \"\", \"exceptionClass\": \"\", \"trace\": \"\", \"outcomeType\": 4}}, \"*\")"
      ],
      "text/plain": [
       "<IPython.core.display.Javascript object>"
      ]
     },
     "metadata": {},
     "output_type": "display_data"
    },
    {
     "data": {
      "text/markdown": [
       "<span style=\"color:#33cc99\">Solution:</span> A straightforward (and totally fine) solution is to replace the original `print` call with:\n",
       "\n",
       "```python\n",
       "if total_candies == 1:\n",
       "    print(\"Splitting 1 candy\")\n",
       "else:\n",
       "    print(\"Splitting\", total_candies, \"candies\")\n",
       "```\n",
       "\n",
       "Here's a slightly more succinct solution using a conditional expression:\n",
       "\n",
       "```python\n",
       "print(\"Splitting\", total_candies, \"candy\" if total_candies == 1 else \"candies\")\n",
       "```"
      ],
      "text/plain": [
       "Solution: A straightforward (and totally fine) solution is to replace the original `print` call with:\n",
       "\n",
       "```python\n",
       "if total_candies == 1:\n",
       "    print(\"Splitting 1 candy\")\n",
       "else:\n",
       "    print(\"Splitting\", total_candies, \"candies\")\n",
       "```\n",
       "\n",
       "Here's a slightly more succinct solution using a conditional expression:\n",
       "\n",
       "```python\n",
       "print(\"Splitting\", total_candies, \"candy\" if total_candies == 1 else \"candies\")\n",
       "```"
      ]
     },
     "metadata": {},
     "output_type": "display_data"
    }
   ],
   "source": [
    "# Check your answer (Run this code cell to receive credit!)\n",
    "q2.solution()"
   ]
  },
  {
   "cell_type": "markdown",
   "id": "639e21c4",
   "metadata": {
    "papermill": {
     "duration": 0.035046,
     "end_time": "2021-08-27T17:02:41.793803",
     "exception": false,
     "start_time": "2021-08-27T17:02:41.758757",
     "status": "completed"
    },
    "tags": []
   },
   "source": [
    "# 3. <span title=\"A bit spicy\" style=\"color: darkgreen \">🌶️</span>\n",
    "\n",
    "In the tutorial, we talked about deciding whether we're prepared for the weather. I said that I'm safe from today's weather if...\n",
    "- I have an umbrella...\n",
    "- or if the rain isn't too heavy and I have a hood...\n",
    "- otherwise, I'm still fine unless it's raining *and* it's a workday\n",
    "\n",
    "The function below uses our first attempt at turning this logic into a Python expression. I claimed that there was a bug in that code. Can you find it?\n",
    "\n",
    "To prove that `prepared_for_weather` is buggy, come up with a set of inputs where either:\n",
    "- the function returns `False` (but should have returned `True`), or\n",
    "- the function returned `True` (but should have returned `False`).\n",
    "\n",
    "To get credit for completing this question, your code should return a <font color='#33cc33'>Correct</font> result."
   ]
  },
  {
   "cell_type": "code",
   "execution_count": 8,
   "id": "5a968959",
   "metadata": {
    "execution": {
     "iopub.execute_input": "2021-08-27T17:02:41.871559Z",
     "iopub.status.busy": "2021-08-27T17:02:41.870820Z",
     "iopub.status.idle": "2021-08-27T17:02:41.877010Z",
     "shell.execute_reply": "2021-08-27T17:02:41.876365Z",
     "shell.execute_reply.started": "2021-08-27T16:53:57.926755Z"
    },
    "papermill": {
     "duration": 0.048724,
     "end_time": "2021-08-27T17:02:41.877177",
     "exception": false,
     "start_time": "2021-08-27T17:02:41.828453",
     "status": "completed"
    },
    "tags": []
   },
   "outputs": [
    {
     "name": "stdout",
     "output_type": "stream",
     "text": [
      "False\n"
     ]
    },
    {
     "data": {
      "application/javascript": [
       "parent.postMessage({\"jupyterEvent\": \"custom.exercise_interaction\", \"data\": {\"outcomeType\": 1, \"valueTowardsCompletion\": 0.2, \"interactionType\": 1, \"questionType\": 1, \"questionId\": \"3_WeatherDebug\", \"learnToolsVersion\": \"0.3.4\", \"failureMessage\": \"\", \"exceptionClass\": \"\", \"trace\": \"\"}}, \"*\")"
      ],
      "text/plain": [
       "<IPython.core.display.Javascript object>"
      ]
     },
     "metadata": {},
     "output_type": "display_data"
    },
    {
     "data": {
      "text/markdown": [
       "<span style=\"color:#33cc33\">Correct:</span> \n",
       "\n",
       "One example of a failing test case is:\n",
       "\n",
       "```python\n",
       "have_umbrella = False\n",
       "rain_level = 0.0\n",
       "have_hood = False\n",
       "is_workday = False\n",
       "```\n",
       "\n",
       "Clearly we're prepared for the weather in this case. It's not raining. Not only that, it's not a workday, so we don't even need to leave the house! But our function will return False on these inputs.\n",
       "\n",
       "The key problem is that Python implictly parenthesizes the last part as:\n",
       "\n",
       "```python\n",
       "(not (rain_level > 0)) and is_workday\n",
       "```\n",
       "\n",
       "Whereas what we were trying to express would look more like:\n",
       "\n",
       "```python\n",
       "not (rain_level > 0 and is_workday)\n",
       "```\n"
      ],
      "text/plain": [
       "Correct: \n",
       "\n",
       "One example of a failing test case is:\n",
       "\n",
       "```python\n",
       "have_umbrella = False\n",
       "rain_level = 0.0\n",
       "have_hood = False\n",
       "is_workday = False\n",
       "```\n",
       "\n",
       "Clearly we're prepared for the weather in this case. It's not raining. Not only that, it's not a workday, so we don't even need to leave the house! But our function will return False on these inputs.\n",
       "\n",
       "The key problem is that Python implictly parenthesizes the last part as:\n",
       "\n",
       "```python\n",
       "(not (rain_level > 0)) and is_workday\n",
       "```\n",
       "\n",
       "Whereas what we were trying to express would look more like:\n",
       "\n",
       "```python\n",
       "not (rain_level > 0 and is_workday)\n",
       "```"
      ]
     },
     "metadata": {},
     "output_type": "display_data"
    }
   ],
   "source": [
    "def prepared_for_weather(have_umbrella, rain_level, have_hood, is_workday):\n",
    "    # Don't change this code. Our goal is just to find the bug, not fix it!\n",
    "    return have_umbrella or rain_level < 5 and have_hood or not rain_level > 0 and is_workday\n",
    "\n",
    "# Change the values of these inputs so they represent a case where prepared_for_weather\n",
    "# returns the wrong answer.\n",
    "have_umbrella = False\n",
    "rain_level = 0.0\n",
    "have_hood = False\n",
    "is_workday = False\n",
    "\n",
    "# Check what the function returns given the current values of the variables above\n",
    "actual = prepared_for_weather(have_umbrella, rain_level, have_hood, is_workday)\n",
    "print(actual)\n",
    "\n",
    "# Check your answer\n",
    "q3.check()"
   ]
  },
  {
   "cell_type": "code",
   "execution_count": 9,
   "id": "d1b78bf6",
   "metadata": {
    "execution": {
     "iopub.execute_input": "2021-08-27T17:02:41.956014Z",
     "iopub.status.busy": "2021-08-27T17:02:41.955162Z",
     "iopub.status.idle": "2021-08-27T17:02:41.957187Z",
     "shell.execute_reply": "2021-08-27T17:02:41.957721Z"
    },
    "papermill": {
     "duration": 0.044623,
     "end_time": "2021-08-27T17:02:41.957929",
     "exception": false,
     "start_time": "2021-08-27T17:02:41.913306",
     "status": "completed"
    },
    "tags": []
   },
   "outputs": [],
   "source": [
    "#q3.hint()\n",
    "#q3.solution()"
   ]
  },
  {
   "cell_type": "markdown",
   "id": "bed9055e",
   "metadata": {
    "papermill": {
     "duration": 0.037054,
     "end_time": "2021-08-27T17:02:42.031748",
     "exception": false,
     "start_time": "2021-08-27T17:02:41.994694",
     "status": "completed"
    },
    "tags": []
   },
   "source": [
    "# 4.\n",
    "\n",
    "The function `is_negative` below is implemented correctly - it returns True if the given number is negative and False otherwise.\n",
    "\n",
    "However, it's more verbose than it needs to be. We can actually reduce the number of lines of code in this function by *75%* while keeping the same behaviour. \n",
    "\n",
    "See if you can come up with an equivalent body that uses just **one line** of code, and put it in the function `concise_is_negative`. (HINT: you don't even need Python's ternary syntax)"
   ]
  },
  {
   "cell_type": "code",
   "execution_count": 10,
   "id": "0451cb8c",
   "metadata": {
    "execution": {
     "iopub.execute_input": "2021-08-27T17:02:42.107853Z",
     "iopub.status.busy": "2021-08-27T17:02:42.107170Z",
     "iopub.status.idle": "2021-08-27T17:02:42.114576Z",
     "shell.execute_reply": "2021-08-27T17:02:42.115100Z",
     "shell.execute_reply.started": "2021-08-27T16:54:13.556474Z"
    },
    "papermill": {
     "duration": 0.047358,
     "end_time": "2021-08-27T17:02:42.115324",
     "exception": false,
     "start_time": "2021-08-27T17:02:42.067966",
     "status": "completed"
    },
    "tags": []
   },
   "outputs": [
    {
     "data": {
      "application/javascript": [
       "parent.postMessage({\"jupyterEvent\": \"custom.exercise_interaction\", \"data\": {\"outcomeType\": 1, \"valueTowardsCompletion\": 0.2, \"interactionType\": 1, \"questionType\": 2, \"questionId\": \"4_ConciseIsNegative\", \"learnToolsVersion\": \"0.3.4\", \"failureMessage\": \"\", \"exceptionClass\": \"\", \"trace\": \"\"}}, \"*\")"
      ],
      "text/plain": [
       "<IPython.core.display.Javascript object>"
      ]
     },
     "metadata": {},
     "output_type": "display_data"
    },
    {
     "data": {
      "text/markdown": [
       "<span style=\"color:#33cc33\">Correct</span>"
      ],
      "text/plain": [
       "Correct"
      ]
     },
     "metadata": {},
     "output_type": "display_data"
    }
   ],
   "source": [
    "def is_negative(number):\n",
    "    if number < 0:\n",
    "        return True\n",
    "    else:\n",
    "        return False\n",
    "\n",
    "def concise_is_negative(number):\n",
    "    return number < 0 # Your code goes here (try to keep it to one line!)\n",
    "\n",
    "# Check your answer\n",
    "q4.check()"
   ]
  },
  {
   "cell_type": "code",
   "execution_count": 11,
   "id": "2450b6bf",
   "metadata": {
    "execution": {
     "iopub.execute_input": "2021-08-27T17:02:42.192677Z",
     "iopub.status.busy": "2021-08-27T17:02:42.192015Z",
     "iopub.status.idle": "2021-08-27T17:02:42.200903Z",
     "shell.execute_reply": "2021-08-27T17:02:42.201406Z",
     "shell.execute_reply.started": "2021-08-27T16:54:17.795168Z"
    },
    "papermill": {
     "duration": 0.049459,
     "end_time": "2021-08-27T17:02:42.201593",
     "exception": false,
     "start_time": "2021-08-27T17:02:42.152134",
     "status": "completed"
    },
    "tags": []
   },
   "outputs": [
    {
     "data": {
      "application/javascript": [
       "parent.postMessage({\"jupyterEvent\": \"custom.exercise_interaction\", \"data\": {\"interactionType\": 2, \"questionType\": 2, \"questionId\": \"4_ConciseIsNegative\", \"learnToolsVersion\": \"0.3.4\", \"valueTowardsCompletion\": 0.0, \"failureMessage\": \"\", \"exceptionClass\": \"\", \"trace\": \"\", \"outcomeType\": 4}}, \"*\")"
      ],
      "text/plain": [
       "<IPython.core.display.Javascript object>"
      ]
     },
     "metadata": {},
     "output_type": "display_data"
    },
    {
     "data": {
      "text/markdown": [
       "<span style=\"color:#3366cc\">Hint:</span> If the value of the expression `number < 0` is `True`, then we return `True`. If it's `False`, then we return `False`..."
      ],
      "text/plain": [
       "Hint: If the value of the expression `number < 0` is `True`, then we return `True`. If it's `False`, then we return `False`..."
      ]
     },
     "metadata": {},
     "output_type": "display_data"
    },
    {
     "data": {
      "application/javascript": [
       "parent.postMessage({\"jupyterEvent\": \"custom.exercise_interaction\", \"data\": {\"interactionType\": 3, \"questionType\": 2, \"questionId\": \"4_ConciseIsNegative\", \"learnToolsVersion\": \"0.3.4\", \"valueTowardsCompletion\": 0.0, \"failureMessage\": \"\", \"exceptionClass\": \"\", \"trace\": \"\", \"outcomeType\": 4}}, \"*\")"
      ],
      "text/plain": [
       "<IPython.core.display.Javascript object>"
      ]
     },
     "metadata": {},
     "output_type": "display_data"
    },
    {
     "data": {
      "text/markdown": [
       "<span style=\"color:#33cc99\">Solution:</span> \n",
       "```python\n",
       "return number < 0\n",
       "```"
      ],
      "text/plain": [
       "Solution: \n",
       "```python\n",
       "return number < 0\n",
       "```"
      ]
     },
     "metadata": {},
     "output_type": "display_data"
    }
   ],
   "source": [
    "q4.hint()\n",
    "q4.solution()"
   ]
  },
  {
   "cell_type": "markdown",
   "id": "de1cb90d",
   "metadata": {
    "papermill": {
     "duration": 0.038634,
     "end_time": "2021-08-27T17:02:42.279446",
     "exception": false,
     "start_time": "2021-08-27T17:02:42.240812",
     "status": "completed"
    },
    "tags": []
   },
   "source": [
    "# 5a.\n",
    "\n",
    "The boolean variables `ketchup`, `mustard` and `onion` represent whether a customer wants a particular topping on their hot dog. We want to implement a number of boolean functions that correspond to some yes-or-no questions about the customer's order. For example:"
   ]
  },
  {
   "cell_type": "code",
   "execution_count": 12,
   "id": "c1a17ff7",
   "metadata": {
    "execution": {
     "iopub.execute_input": "2021-08-27T17:02:42.361152Z",
     "iopub.status.busy": "2021-08-27T17:02:42.360463Z",
     "iopub.status.idle": "2021-08-27T17:02:42.365117Z",
     "shell.execute_reply": "2021-08-27T17:02:42.365597Z",
     "shell.execute_reply.started": "2021-08-27T16:54:20.920332Z"
    },
    "papermill": {
     "duration": 0.047229,
     "end_time": "2021-08-27T17:02:42.365824",
     "exception": false,
     "start_time": "2021-08-27T17:02:42.318595",
     "status": "completed"
    },
    "tags": []
   },
   "outputs": [],
   "source": [
    "def onionless(ketchup, mustard, onion):\n",
    "    \"\"\"Return whether the customer doesn't want onions.\n",
    "    \"\"\"\n",
    "    return not onion"
   ]
  },
  {
   "cell_type": "code",
   "execution_count": 13,
   "id": "f840b3c8",
   "metadata": {
    "execution": {
     "iopub.execute_input": "2021-08-27T17:02:42.451723Z",
     "iopub.status.busy": "2021-08-27T17:02:42.450846Z",
     "iopub.status.idle": "2021-08-27T17:02:42.455912Z",
     "shell.execute_reply": "2021-08-27T17:02:42.456404Z",
     "shell.execute_reply.started": "2021-08-27T16:54:42.506804Z"
    },
    "papermill": {
     "duration": 0.051132,
     "end_time": "2021-08-27T17:02:42.456593",
     "exception": false,
     "start_time": "2021-08-27T17:02:42.405461",
     "status": "completed"
    },
    "tags": []
   },
   "outputs": [
    {
     "data": {
      "application/javascript": [
       "parent.postMessage({\"jupyterEvent\": \"custom.exercise_interaction\", \"data\": {\"outcomeType\": 1, \"valueTowardsCompletion\": 0.2, \"interactionType\": 1, \"questionType\": 2, \"questionId\": \"5.1_AllToppings\", \"learnToolsVersion\": \"0.3.4\", \"failureMessage\": \"\", \"exceptionClass\": \"\", \"trace\": \"\"}}, \"*\")"
      ],
      "text/plain": [
       "<IPython.core.display.Javascript object>"
      ]
     },
     "metadata": {},
     "output_type": "display_data"
    },
    {
     "data": {
      "text/markdown": [
       "<span style=\"color:#33cc33\">Correct</span>"
      ],
      "text/plain": [
       "Correct"
      ]
     },
     "metadata": {},
     "output_type": "display_data"
    }
   ],
   "source": [
    "def wants_all_toppings(ketchup, mustard, onion):\n",
    "    \"\"\"Return whether the customer wants \"the works\" (all 3 toppings)\n",
    "    \"\"\"\n",
    "    return ketchup and mustard and onion\n",
    "\n",
    "# Check your answer\n",
    "q5.a.check()"
   ]
  },
  {
   "cell_type": "code",
   "execution_count": 14,
   "id": "28155d34",
   "metadata": {
    "execution": {
     "iopub.execute_input": "2021-08-27T17:02:42.540983Z",
     "iopub.status.busy": "2021-08-27T17:02:42.540200Z",
     "iopub.status.idle": "2021-08-27T17:02:42.544467Z",
     "shell.execute_reply": "2021-08-27T17:02:42.543808Z"
    },
    "papermill": {
     "duration": 0.047917,
     "end_time": "2021-08-27T17:02:42.544643",
     "exception": false,
     "start_time": "2021-08-27T17:02:42.496726",
     "status": "completed"
    },
    "tags": []
   },
   "outputs": [],
   "source": [
    "#q5.a.hint()\n",
    "#q5.a.solution()"
   ]
  },
  {
   "cell_type": "markdown",
   "id": "2834eb7f",
   "metadata": {
    "papermill": {
     "duration": 0.040178,
     "end_time": "2021-08-27T17:02:42.625596",
     "exception": false,
     "start_time": "2021-08-27T17:02:42.585418",
     "status": "completed"
    },
    "tags": []
   },
   "source": [
    "# 5b.\n",
    "\n",
    "For the next function, fill in the body to match the English description in the docstring. "
   ]
  },
  {
   "cell_type": "code",
   "execution_count": 15,
   "id": "1fe3c050",
   "metadata": {
    "execution": {
     "iopub.execute_input": "2021-08-27T17:02:42.715486Z",
     "iopub.status.busy": "2021-08-27T17:02:42.714416Z",
     "iopub.status.idle": "2021-08-27T17:02:42.721305Z",
     "shell.execute_reply": "2021-08-27T17:02:42.721776Z",
     "shell.execute_reply.started": "2021-08-27T16:55:08.502266Z"
    },
    "papermill": {
     "duration": 0.055723,
     "end_time": "2021-08-27T17:02:42.721978",
     "exception": false,
     "start_time": "2021-08-27T17:02:42.666255",
     "status": "completed"
    },
    "tags": []
   },
   "outputs": [
    {
     "data": {
      "application/javascript": [
       "parent.postMessage({\"jupyterEvent\": \"custom.exercise_interaction\", \"data\": {\"outcomeType\": 1, \"valueTowardsCompletion\": 0.2, \"interactionType\": 1, \"questionType\": 2, \"questionId\": \"5.2_PlainDog\", \"learnToolsVersion\": \"0.3.4\", \"failureMessage\": \"\", \"exceptionClass\": \"\", \"trace\": \"\"}}, \"*\")"
      ],
      "text/plain": [
       "<IPython.core.display.Javascript object>"
      ]
     },
     "metadata": {},
     "output_type": "display_data"
    },
    {
     "data": {
      "text/markdown": [
       "<span style=\"color:#33cc33\">Correct:</span> \n",
       "\n",
       "One solution looks like:\n",
       "```python\n",
       "return not ketchup and not mustard and not onion\n",
       "```\n",
       "\n",
       "We can also [\"factor out\" the nots](https://en.wikipedia.org/wiki/De_Morgan%27s_laws) to get:\n",
       "\n",
       "```python\n",
       "return not (ketchup or mustard or onion)\n",
       "```"
      ],
      "text/plain": [
       "Correct: \n",
       "\n",
       "One solution looks like:\n",
       "```python\n",
       "return not ketchup and not mustard and not onion\n",
       "```\n",
       "\n",
       "We can also [\"factor out\" the nots](https://en.wikipedia.org/wiki/De_Morgan%27s_laws) to get:\n",
       "\n",
       "```python\n",
       "return not (ketchup or mustard or onion)\n",
       "```"
      ]
     },
     "metadata": {},
     "output_type": "display_data"
    }
   ],
   "source": [
    "def wants_plain_hotdog(ketchup, mustard, onion):\n",
    "    \"\"\"Return whether the customer wants a plain hot dog with no toppings.\n",
    "    \"\"\"\n",
    "    return not (ketchup or mustard or onion)\n",
    "\n",
    "# Check your answer\n",
    "q5.b.check()"
   ]
  },
  {
   "cell_type": "code",
   "execution_count": 16,
   "id": "20ec4e90",
   "metadata": {
    "execution": {
     "iopub.execute_input": "2021-08-27T17:02:42.810810Z",
     "iopub.status.busy": "2021-08-27T17:02:42.810084Z",
     "iopub.status.idle": "2021-08-27T17:02:42.818021Z",
     "shell.execute_reply": "2021-08-27T17:02:42.817368Z",
     "shell.execute_reply.started": "2021-08-27T16:55:14.317766Z"
    },
    "papermill": {
     "duration": 0.054625,
     "end_time": "2021-08-27T17:02:42.818204",
     "exception": false,
     "start_time": "2021-08-27T17:02:42.763579",
     "status": "completed"
    },
    "tags": []
   },
   "outputs": [
    {
     "data": {
      "application/javascript": [
       "parent.postMessage({\"jupyterEvent\": \"custom.exercise_interaction\", \"data\": {\"interactionType\": 2, \"questionType\": 2, \"questionId\": \"5.2_PlainDog\", \"learnToolsVersion\": \"0.3.4\", \"valueTowardsCompletion\": 0.0, \"failureMessage\": \"\", \"exceptionClass\": \"\", \"trace\": \"\", \"outcomeType\": 4}}, \"*\")"
      ],
      "text/plain": [
       "<IPython.core.display.Javascript object>"
      ]
     },
     "metadata": {},
     "output_type": "display_data"
    },
    {
     "data": {
      "text/markdown": [
       "<span style=\"color:#3366cc\">Hint:</span> You'll need to use the `not` operator."
      ],
      "text/plain": [
       "Hint: You'll need to use the `not` operator."
      ]
     },
     "metadata": {},
     "output_type": "display_data"
    },
    {
     "data": {
      "application/javascript": [
       "parent.postMessage({\"jupyterEvent\": \"custom.exercise_interaction\", \"data\": {\"interactionType\": 3, \"questionType\": 2, \"questionId\": \"5.2_PlainDog\", \"learnToolsVersion\": \"0.3.4\", \"valueTowardsCompletion\": 0.0, \"failureMessage\": \"\", \"exceptionClass\": \"\", \"trace\": \"\", \"outcomeType\": 4}}, \"*\")"
      ],
      "text/plain": [
       "<IPython.core.display.Javascript object>"
      ]
     },
     "metadata": {},
     "output_type": "display_data"
    },
    {
     "data": {
      "text/markdown": [
       "<span style=\"color:#33cc99\">Solution:</span> One solution looks like:\n",
       "```python\n",
       "return not ketchup and not mustard and not onion\n",
       "```\n",
       "\n",
       "We can also [\"factor out\" the nots](https://en.wikipedia.org/wiki/De_Morgan%27s_laws) to get:\n",
       "\n",
       "```python\n",
       "return not (ketchup or mustard or onion)\n",
       "```"
      ],
      "text/plain": [
       "Solution: One solution looks like:\n",
       "```python\n",
       "return not ketchup and not mustard and not onion\n",
       "```\n",
       "\n",
       "We can also [\"factor out\" the nots](https://en.wikipedia.org/wiki/De_Morgan%27s_laws) to get:\n",
       "\n",
       "```python\n",
       "return not (ketchup or mustard or onion)\n",
       "```"
      ]
     },
     "metadata": {},
     "output_type": "display_data"
    }
   ],
   "source": [
    "q5.b.hint()\n",
    "q5.b.solution()"
   ]
  },
  {
   "cell_type": "markdown",
   "id": "1d51a277",
   "metadata": {
    "papermill": {
     "duration": 0.043205,
     "end_time": "2021-08-27T17:02:42.905278",
     "exception": false,
     "start_time": "2021-08-27T17:02:42.862073",
     "status": "completed"
    },
    "tags": []
   },
   "source": [
    "# 5c.\n",
    "\n",
    "You know what to do: for the next function, fill in the body to match the English description in the docstring."
   ]
  },
  {
   "cell_type": "code",
   "execution_count": 17,
   "id": "3a1aade2",
   "metadata": {
    "execution": {
     "iopub.execute_input": "2021-08-27T17:02:42.997724Z",
     "iopub.status.busy": "2021-08-27T17:02:42.996925Z",
     "iopub.status.idle": "2021-08-27T17:02:43.004401Z",
     "shell.execute_reply": "2021-08-27T17:02:43.004938Z",
     "shell.execute_reply.started": "2021-08-27T16:55:43.556838Z"
    },
    "papermill": {
     "duration": 0.054665,
     "end_time": "2021-08-27T17:02:43.005131",
     "exception": false,
     "start_time": "2021-08-27T17:02:42.950466",
     "status": "completed"
    },
    "tags": []
   },
   "outputs": [
    {
     "data": {
      "application/javascript": [
       "parent.postMessage({\"jupyterEvent\": \"custom.exercise_interaction\", \"data\": {\"outcomeType\": 1, \"valueTowardsCompletion\": 0.2, \"interactionType\": 1, \"questionType\": 2, \"questionId\": \"5.3_OneSauce\", \"learnToolsVersion\": \"0.3.4\", \"failureMessage\": \"\", \"exceptionClass\": \"\", \"trace\": \"\"}}, \"*\")"
      ],
      "text/plain": [
       "<IPython.core.display.Javascript object>"
      ]
     },
     "metadata": {},
     "output_type": "display_data"
    },
    {
     "data": {
      "text/markdown": [
       "<span style=\"color:#33cc33\">Correct</span>"
      ],
      "text/plain": [
       "Correct"
      ]
     },
     "metadata": {},
     "output_type": "display_data"
    }
   ],
   "source": [
    "def exactly_one_sauce(ketchup, mustard, onion):\n",
    "    \"\"\"Return whether the customer wants either ketchup or mustard, but not both.\n",
    "    (You may be familiar with this operation under the name \"exclusive or\")\n",
    "    \"\"\"\n",
    "    return ((ketchup or mustard) and (not (ketchup and mustard)))\n",
    "\n",
    "# Check your answer\n",
    "q5.c.check()"
   ]
  },
  {
   "cell_type": "code",
   "execution_count": 18,
   "id": "bc3944de",
   "metadata": {
    "execution": {
     "iopub.execute_input": "2021-08-27T17:02:43.099860Z",
     "iopub.status.busy": "2021-08-27T17:02:43.099047Z",
     "iopub.status.idle": "2021-08-27T17:02:43.108699Z",
     "shell.execute_reply": "2021-08-27T17:02:43.109261Z",
     "shell.execute_reply.started": "2021-08-27T16:55:46.760510Z"
    },
    "papermill": {
     "duration": 0.058622,
     "end_time": "2021-08-27T17:02:43.109449",
     "exception": false,
     "start_time": "2021-08-27T17:02:43.050827",
     "status": "completed"
    },
    "tags": []
   },
   "outputs": [
    {
     "data": {
      "application/javascript": [
       "parent.postMessage({\"jupyterEvent\": \"custom.exercise_interaction\", \"data\": {\"interactionType\": 2, \"questionType\": 2, \"questionId\": \"5.3_OneSauce\", \"learnToolsVersion\": \"0.3.4\", \"valueTowardsCompletion\": 0.0, \"failureMessage\": \"\", \"exceptionClass\": \"\", \"trace\": \"\", \"outcomeType\": 4}}, \"*\")"
      ],
      "text/plain": [
       "<IPython.core.display.Javascript object>"
      ]
     },
     "metadata": {},
     "output_type": "display_data"
    },
    {
     "data": {
      "text/markdown": [
       "<span style=\"color:#3366cc\">Hint:</span> There are exactly two ways to set ketchup and mustard to make this true. What are they?"
      ],
      "text/plain": [
       "Hint: There are exactly two ways to set ketchup and mustard to make this true. What are they?"
      ]
     },
     "metadata": {},
     "output_type": "display_data"
    },
    {
     "data": {
      "application/javascript": [
       "parent.postMessage({\"jupyterEvent\": \"custom.exercise_interaction\", \"data\": {\"interactionType\": 3, \"questionType\": 2, \"questionId\": \"5.3_OneSauce\", \"learnToolsVersion\": \"0.3.4\", \"valueTowardsCompletion\": 0.0, \"failureMessage\": \"\", \"exceptionClass\": \"\", \"trace\": \"\", \"outcomeType\": 4}}, \"*\")"
      ],
      "text/plain": [
       "<IPython.core.display.Javascript object>"
      ]
     },
     "metadata": {},
     "output_type": "display_data"
    },
    {
     "data": {
      "text/markdown": [
       "<span style=\"color:#33cc99\">Solution:</span> \n",
       "```python\n",
       "return (ketchup and not mustard) or (mustard and not ketchup)\n",
       "```"
      ],
      "text/plain": [
       "Solution: \n",
       "```python\n",
       "return (ketchup and not mustard) or (mustard and not ketchup)\n",
       "```"
      ]
     },
     "metadata": {},
     "output_type": "display_data"
    }
   ],
   "source": [
    "q5.c.hint()\n",
    "q5.c.solution()"
   ]
  },
  {
   "cell_type": "markdown",
   "id": "6fe26df2",
   "metadata": {
    "papermill": {
     "duration": 0.045597,
     "end_time": "2021-08-27T17:02:43.203117",
     "exception": false,
     "start_time": "2021-08-27T17:02:43.157520",
     "status": "completed"
    },
    "tags": []
   },
   "source": [
    "# 6. <span title=\"A bit spicy\" style=\"color: darkgreen \">🌶️</span>\n",
    "\n",
    "We’ve seen that calling `bool()` on an integer returns `False` if it’s equal to 0 and `True` otherwise. What happens if we call `int()` on a bool? Try it out in the notebook cell below.\n",
    "\n",
    "Can you take advantage of this to write a succinct function that corresponds to the English sentence \"does the customer want exactly one topping?\"?"
   ]
  },
  {
   "cell_type": "code",
   "execution_count": 19,
   "id": "f2d96a68",
   "metadata": {
    "execution": {
     "iopub.execute_input": "2021-08-27T17:02:43.299881Z",
     "iopub.status.busy": "2021-08-27T17:02:43.299196Z",
     "iopub.status.idle": "2021-08-27T17:02:43.308441Z",
     "shell.execute_reply": "2021-08-27T17:02:43.307799Z",
     "shell.execute_reply.started": "2021-08-27T16:56:17.431603Z"
    },
    "papermill": {
     "duration": 0.058511,
     "end_time": "2021-08-27T17:02:43.308629",
     "exception": false,
     "start_time": "2021-08-27T17:02:43.250118",
     "status": "completed"
    },
    "tags": []
   },
   "outputs": [
    {
     "data": {
      "application/javascript": [
       "parent.postMessage({\"jupyterEvent\": \"custom.exercise_interaction\", \"data\": {\"outcomeType\": 1, \"valueTowardsCompletion\": 0.2, \"interactionType\": 1, \"questionType\": 2, \"questionId\": \"6_OneTopping\", \"learnToolsVersion\": \"0.3.4\", \"failureMessage\": \"\", \"exceptionClass\": \"\", \"trace\": \"\"}}, \"*\")"
      ],
      "text/plain": [
       "<IPython.core.display.Javascript object>"
      ]
     },
     "metadata": {},
     "output_type": "display_data"
    },
    {
     "data": {
      "text/markdown": [
       "<span style=\"color:#33cc33\">Correct:</span> \n",
       "\n",
       "This condition would be pretty complicated to express using just `and`, `or` and `not`, but using boolean-to-integer conversion gives us this short solution:\n",
       "```python\n",
       "return (int(ketchup) + int(mustard) + int(onion)) == 1\n",
       "```\n",
       "\n",
       "Fun fact: we don't technically need to call `int` on the arguments. Just by doing addition with booleans, Python implicitly does the integer conversion. So we could also write...\n",
       "\n",
       "```python\n",
       "return (ketchup + mustard + onion) == 1\n",
       "```"
      ],
      "text/plain": [
       "Correct: \n",
       "\n",
       "This condition would be pretty complicated to express using just `and`, `or` and `not`, but using boolean-to-integer conversion gives us this short solution:\n",
       "```python\n",
       "return (int(ketchup) + int(mustard) + int(onion)) == 1\n",
       "```\n",
       "\n",
       "Fun fact: we don't technically need to call `int` on the arguments. Just by doing addition with booleans, Python implicitly does the integer conversion. So we could also write...\n",
       "\n",
       "```python\n",
       "return (ketchup + mustard + onion) == 1\n",
       "```"
      ]
     },
     "metadata": {},
     "output_type": "display_data"
    }
   ],
   "source": [
    "def exactly_one_topping(ketchup, mustard, onion):\n",
    "    \"\"\"Return whether the customer wants exactly one of the three available toppings\n",
    "    on their hot dog.\n",
    "    \"\"\"\n",
    "    return int(ketchup) + int(mustard) + int(onion) == 1\n",
    "\n",
    "# Check your answer\n",
    "q6.check()"
   ]
  },
  {
   "cell_type": "code",
   "execution_count": 20,
   "id": "d2d202fb",
   "metadata": {
    "execution": {
     "iopub.execute_input": "2021-08-27T17:02:43.407797Z",
     "iopub.status.busy": "2021-08-27T17:02:43.406988Z",
     "iopub.status.idle": "2021-08-27T17:02:43.416131Z",
     "shell.execute_reply": "2021-08-27T17:02:43.416728Z",
     "shell.execute_reply.started": "2021-08-27T16:56:20.810675Z"
    },
    "papermill": {
     "duration": 0.060089,
     "end_time": "2021-08-27T17:02:43.416922",
     "exception": false,
     "start_time": "2021-08-27T17:02:43.356833",
     "status": "completed"
    },
    "tags": []
   },
   "outputs": [
    {
     "data": {
      "application/javascript": [
       "parent.postMessage({\"jupyterEvent\": \"custom.exercise_interaction\", \"data\": {\"interactionType\": 2, \"questionType\": 2, \"questionId\": \"6_OneTopping\", \"learnToolsVersion\": \"0.3.4\", \"valueTowardsCompletion\": 0.0, \"failureMessage\": \"\", \"exceptionClass\": \"\", \"trace\": \"\", \"outcomeType\": 4}}, \"*\")"
      ],
      "text/plain": [
       "<IPython.core.display.Javascript object>"
      ]
     },
     "metadata": {},
     "output_type": "display_data"
    },
    {
     "data": {
      "text/markdown": [
       "<span style=\"color:#3366cc\">Hint:</span> You may have already found that `int(True)` is 1, and `int(False)` is 0. Think about what kinds of basic arithmetic operations you might want to perform on `ketchup`, `mustard`, and `onion` after converting them to integers."
      ],
      "text/plain": [
       "Hint: You may have already found that `int(True)` is 1, and `int(False)` is 0. Think about what kinds of basic arithmetic operations you might want to perform on `ketchup`, `mustard`, and `onion` after converting them to integers."
      ]
     },
     "metadata": {},
     "output_type": "display_data"
    },
    {
     "data": {
      "application/javascript": [
       "parent.postMessage({\"jupyterEvent\": \"custom.exercise_interaction\", \"data\": {\"interactionType\": 3, \"questionType\": 2, \"questionId\": \"6_OneTopping\", \"learnToolsVersion\": \"0.3.4\", \"valueTowardsCompletion\": 0.0, \"failureMessage\": \"\", \"exceptionClass\": \"\", \"trace\": \"\", \"outcomeType\": 4}}, \"*\")"
      ],
      "text/plain": [
       "<IPython.core.display.Javascript object>"
      ]
     },
     "metadata": {},
     "output_type": "display_data"
    },
    {
     "data": {
      "text/markdown": [
       "<span style=\"color:#33cc99\">Solution:</span> This condition would be pretty complicated to express using just `and`, `or` and `not`, but using boolean-to-integer conversion gives us this short solution:\n",
       "```python\n",
       "return (int(ketchup) + int(mustard) + int(onion)) == 1\n",
       "```\n",
       "\n",
       "Fun fact: we don't technically need to call `int` on the arguments. Just by doing addition with booleans, Python implicitly does the integer conversion. So we could also write...\n",
       "\n",
       "```python\n",
       "return (ketchup + mustard + onion) == 1\n",
       "```"
      ],
      "text/plain": [
       "Solution: This condition would be pretty complicated to express using just `and`, `or` and `not`, but using boolean-to-integer conversion gives us this short solution:\n",
       "```python\n",
       "return (int(ketchup) + int(mustard) + int(onion)) == 1\n",
       "```\n",
       "\n",
       "Fun fact: we don't technically need to call `int` on the arguments. Just by doing addition with booleans, Python implicitly does the integer conversion. So we could also write...\n",
       "\n",
       "```python\n",
       "return (ketchup + mustard + onion) == 1\n",
       "```"
      ]
     },
     "metadata": {},
     "output_type": "display_data"
    }
   ],
   "source": [
    "q6.hint()\n",
    "q6.solution()"
   ]
  },
  {
   "cell_type": "markdown",
   "id": "601c50c0",
   "metadata": {
    "papermill": {
     "duration": 0.050477,
     "end_time": "2021-08-27T17:02:43.516687",
     "exception": false,
     "start_time": "2021-08-27T17:02:43.466210",
     "status": "completed"
    },
    "tags": []
   },
   "source": [
    "# 7. <span title=\"A bit spicy\" style=\"color: darkgreen \">🌶️</span> (Optional)\n",
    "\n",
    "In this problem we'll be working with a simplified version of [blackjack](https://en.wikipedia.org/wiki/Blackjack) (aka twenty-one). In this version there is one player (who you'll control) and a dealer. Play proceeds as follows:\n",
    "\n",
    "- The player is dealt two face-up cards. The dealer is dealt one face-up card.\n",
    "- The player may ask to be dealt another card ('hit') as many times as they wish. If the sum of their cards exceeds 21, they lose the round immediately.\n",
    "- The dealer then deals additional cards to himself until either:\n",
    "    - the sum of the dealer's cards exceeds 21, in which case the player wins the round\n",
    "    - the sum of the dealer's cards is greater than or equal to 17. If the player's total is greater than the dealer's, the player wins. Otherwise, the dealer wins (even in case of a tie).\n",
    "    \n",
    "When calculating the sum of cards, Jack, Queen, and King count for 10. Aces can count as 1 or 11 (when referring to a player's \"total\" above, we mean the largest total that can be made without exceeding 21. So e.g. A+8 = 19, A+8+8 = 17)\n",
    "\n",
    "For this problem, you'll write a function representing the player's decision-making strategy in this game. We've provided a very unintelligent implementation below:"
   ]
  },
  {
   "cell_type": "code",
   "execution_count": 21,
   "id": "d08718c0",
   "metadata": {
    "execution": {
     "iopub.execute_input": "2021-08-27T17:02:43.618361Z",
     "iopub.status.busy": "2021-08-27T17:02:43.617648Z",
     "iopub.status.idle": "2021-08-27T17:02:43.621680Z",
     "shell.execute_reply": "2021-08-27T17:02:43.622268Z",
     "shell.execute_reply.started": "2021-08-27T16:56:29.872504Z"
    },
    "papermill": {
     "duration": 0.056688,
     "end_time": "2021-08-27T17:02:43.622465",
     "exception": false,
     "start_time": "2021-08-27T17:02:43.565777",
     "status": "completed"
    },
    "tags": []
   },
   "outputs": [],
   "source": [
    "def should_hit(dealer_total, player_total, player_low_aces, player_high_aces):\n",
    "    \"\"\"Return True if the player should hit (request another card) given the current game\n",
    "    state, or False if the player should stay.\n",
    "    When calculating a hand's total value, we count aces as \"high\" (with value 11) if doing so\n",
    "    doesn't bring the total above 21, otherwise we count them as low (with value 1). \n",
    "    For example, if the player's hand is {A, A, A, 7}, we will count it as 11 + 1 + 1 + 7,\n",
    "    and therefore set player_total=20, player_low_aces=2, player_high_aces=1.\n",
    "    \"\"\"\n",
    "    return False"
   ]
  },
  {
   "cell_type": "markdown",
   "id": "889da72d",
   "metadata": {
    "papermill": {
     "duration": 0.049236,
     "end_time": "2021-08-27T17:02:43.723225",
     "exception": false,
     "start_time": "2021-08-27T17:02:43.673989",
     "status": "completed"
    },
    "tags": []
   },
   "source": [
    "This very conservative agent *always* sticks with the hand of two cards that they're dealt.\n",
    "\n",
    "We'll be simulating games between your player agent and our own dealer agent by calling your function.\n",
    "\n",
    "Try running the function below to see an example of a simulated game:"
   ]
  },
  {
   "cell_type": "code",
   "execution_count": 22,
   "id": "96ea60e5",
   "metadata": {
    "execution": {
     "iopub.execute_input": "2021-08-27T17:02:43.826645Z",
     "iopub.status.busy": "2021-08-27T17:02:43.825939Z",
     "iopub.status.idle": "2021-08-27T17:02:43.832956Z",
     "shell.execute_reply": "2021-08-27T17:02:43.833473Z",
     "shell.execute_reply.started": "2021-08-27T16:56:32.057599Z"
    },
    "papermill": {
     "duration": 0.059886,
     "end_time": "2021-08-27T17:02:43.833722",
     "exception": false,
     "start_time": "2021-08-27T17:02:43.773836",
     "status": "completed"
    },
    "tags": []
   },
   "outputs": [
    {
     "name": "stdout",
     "output_type": "stream",
     "text": [
      "Player starts with 10 and K (total = 20)\n",
      "Dealer starts with 2\n",
      "\n",
      "__Player's turn__\n",
      "Player stays\n",
      "\n",
      "__Dealer's turn__\n",
      "Dealer hits and receives 4. (total = 6)\n",
      "Dealer hits and receives 10. (total = 16)\n",
      "Dealer hits and receives 4. (total = 20)\n",
      "Dealer stands.\n",
      "Dealer wins. 20 >= 20\n"
     ]
    }
   ],
   "source": [
    "q7.simulate_one_game()"
   ]
  },
  {
   "cell_type": "markdown",
   "id": "0bacd808",
   "metadata": {
    "papermill": {
     "duration": 0.049541,
     "end_time": "2021-08-27T17:02:43.933820",
     "exception": false,
     "start_time": "2021-08-27T17:02:43.884279",
     "status": "completed"
    },
    "tags": []
   },
   "source": [
    "The real test of your agent's mettle is their average win rate over many games. Try calling the function below to simulate 50000 games of blackjack (it may take a couple seconds):"
   ]
  },
  {
   "cell_type": "code",
   "execution_count": 23,
   "id": "a99ee555",
   "metadata": {
    "execution": {
     "iopub.execute_input": "2021-08-27T17:02:44.053422Z",
     "iopub.status.busy": "2021-08-27T17:02:44.042996Z",
     "iopub.status.idle": "2021-08-27T17:02:46.025082Z",
     "shell.execute_reply": "2021-08-27T17:02:46.025579Z",
     "shell.execute_reply.started": "2021-08-27T16:56:34.418105Z"
    },
    "papermill": {
     "duration": 2.041558,
     "end_time": "2021-08-27T17:02:46.025810",
     "exception": false,
     "start_time": "2021-08-27T17:02:43.984252",
     "status": "completed"
    },
    "tags": []
   },
   "outputs": [
    {
     "name": "stdout",
     "output_type": "stream",
     "text": [
      "Player won 19043 out of 50000 games (win rate = 38.1%)\n"
     ]
    }
   ],
   "source": [
    "q7.simulate(n_games=50000)"
   ]
  },
  {
   "cell_type": "markdown",
   "id": "6f93f21b",
   "metadata": {
    "papermill": {
     "duration": 0.050211,
     "end_time": "2021-08-27T17:02:46.125578",
     "exception": false,
     "start_time": "2021-08-27T17:02:46.075367",
     "status": "completed"
    },
    "tags": []
   },
   "source": [
    "Our dumb agent that completely ignores the game state still manages to win shockingly often!\n",
    "\n",
    "Try adding some more smarts to the `should_hit` function and see how it affects the results."
   ]
  },
  {
   "cell_type": "code",
   "execution_count": 24,
   "id": "0bbaa82e",
   "metadata": {
    "execution": {
     "iopub.execute_input": "2021-08-27T17:02:46.260894Z",
     "iopub.status.busy": "2021-08-27T17:02:46.245024Z",
     "iopub.status.idle": "2021-08-27T17:02:48.557223Z",
     "shell.execute_reply": "2021-08-27T17:02:48.557732Z",
     "shell.execute_reply.started": "2021-08-27T17:01:57.998078Z"
    },
    "papermill": {
     "duration": 2.382153,
     "end_time": "2021-08-27T17:02:48.557945",
     "exception": false,
     "start_time": "2021-08-27T17:02:46.175792",
     "status": "completed"
    },
    "tags": []
   },
   "outputs": [
    {
     "name": "stdout",
     "output_type": "stream",
     "text": [
      "Player won 19811 out of 50000 games (win rate = 39.6%)\n"
     ]
    }
   ],
   "source": [
    "def should_hit(dealer_total, player_total, player_low_aces, player_high_aces):\n",
    "    \"\"\"Return True if the player should hit (request another card) given the current game\n",
    "    state, or False if the player should stay.\n",
    "    When calculating a hand's total value, we count aces as \"high\" (with value 11) if doing so\n",
    "    doesn't bring the total above 21, otherwise we count them as low (with value 1). \n",
    "    For example, if the player's hand is {A, A, A, 7}, we will count it as 11 + 1 + 1 + 7,\n",
    "    and therefore set player_total=20, player_low_aces=2, player_high_aces=1.\n",
    "    \"\"\"\n",
    "    if (player_total >= 17 and player_high_aces == 0) or dealer_total >= 21:\n",
    "        return False\n",
    "    elif player_total >= 17 and player_high_aces == 1:\n",
    "        return True\n",
    "    elif 17 <= dealer_total < 21 or player_total <= dealer_total:\n",
    "        return True\n",
    "    elif 17 <= dealer_total < 21 and player_total > dealer_total:\n",
    "        return False\n",
    "    elif player_total <= 12 or player_high_aces == 1:\n",
    "        return True        \n",
    "    else:\n",
    "        return False\n",
    "\n",
    "q7.simulate(n_games=50000)"
   ]
  },
  {
   "cell_type": "markdown",
   "id": "91fcd074",
   "metadata": {
    "papermill": {
     "duration": 0.050229,
     "end_time": "2021-08-27T17:02:48.659439",
     "exception": false,
     "start_time": "2021-08-27T17:02:48.609210",
     "status": "completed"
    },
    "tags": []
   },
   "source": [
    "# Keep Going\n",
    "\n",
    "Learn about **[lists and tuples](https://www.kaggle.com/colinmorris/lists)** to handle multiple items of data in a systematic way."
   ]
  },
  {
   "cell_type": "markdown",
   "id": "9c7f8598",
   "metadata": {
    "papermill": {
     "duration": 0.050083,
     "end_time": "2021-08-27T17:02:48.760223",
     "exception": false,
     "start_time": "2021-08-27T17:02:48.710140",
     "status": "completed"
    },
    "tags": []
   },
   "source": [
    "---\n",
    "\n",
    "\n",
    "\n",
    "\n",
    "*Have questions or comments? Visit the [Learn Discussion forum](https://www.kaggle.com/learn-forum/161283) to chat with other Learners.*"
   ]
  }
 ],
 "metadata": {
  "kernelspec": {
   "display_name": "Python 3",
   "language": "python",
   "name": "python3"
  },
  "language_info": {
   "codemirror_mode": {
    "name": "ipython",
    "version": 3
   },
   "file_extension": ".py",
   "mimetype": "text/x-python",
   "name": "python",
   "nbconvert_exporter": "python",
   "pygments_lexer": "ipython3",
   "version": "3.7.10"
  },
  "papermill": {
   "default_parameters": {},
   "duration": 17.629407,
   "end_time": "2021-08-27T17:02:49.724103",
   "environment_variables": {},
   "exception": null,
   "input_path": "__notebook__.ipynb",
   "output_path": "__notebook__.ipynb",
   "parameters": {},
   "start_time": "2021-08-27T17:02:32.094696",
   "version": "2.3.3"
  }
 },
 "nbformat": 4,
 "nbformat_minor": 5
}
