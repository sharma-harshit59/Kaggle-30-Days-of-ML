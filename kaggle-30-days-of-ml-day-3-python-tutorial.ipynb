{
 "cells": [
  {
   "cell_type": "markdown",
   "id": "230977f8",
   "metadata": {
    "papermill": {
     "duration": 0.024778,
     "end_time": "2021-08-26T14:07:35.018203",
     "exception": false,
     "start_time": "2021-08-26T14:07:34.993425",
     "status": "completed"
    },
    "tags": []
   },
   "source": [
    "You've already seen and used functions such as `print` and `abs`. But Python has many more functions, and defining your own functions is a big part of python programming.\n",
    "\n",
    "In this lesson, you will learn more about using and defining functions."
   ]
  },
  {
   "cell_type": "markdown",
   "id": "80a57911",
   "metadata": {
    "papermill": {
     "duration": 0.023301,
     "end_time": "2021-08-26T14:07:35.066359",
     "exception": false,
     "start_time": "2021-08-26T14:07:35.043058",
     "status": "completed"
    },
    "tags": []
   },
   "source": [
    "# Getting Help\n",
    "\n",
    "You saw the `abs` function in the previous tutorial, but what if you've forgotten what it does?\n",
    "\n",
    "The `help()` function is possibly the most important Python function you can learn. If you can remember how to use `help()`, you hold the key to understanding most other functions.\n",
    "\n",
    "Here is an example:"
   ]
  },
  {
   "cell_type": "code",
   "execution_count": 1,
   "id": "6e43f093",
   "metadata": {
    "execution": {
     "iopub.execute_input": "2021-08-26T14:07:35.116883Z",
     "iopub.status.busy": "2021-08-26T14:07:35.115726Z",
     "iopub.status.idle": "2021-08-26T14:07:35.128184Z",
     "shell.execute_reply": "2021-08-26T14:07:35.128919Z",
     "shell.execute_reply.started": "2021-08-26T13:28:04.557494Z"
    },
    "papermill": {
     "duration": 0.039826,
     "end_time": "2021-08-26T14:07:35.129302",
     "exception": false,
     "start_time": "2021-08-26T14:07:35.089476",
     "status": "completed"
    },
    "tags": []
   },
   "outputs": [
    {
     "name": "stdout",
     "output_type": "stream",
     "text": [
      "Help on built-in function round in module builtins:\n",
      "\n",
      "round(number, ndigits=None)\n",
      "    Round a number to a given precision in decimal digits.\n",
      "    \n",
      "    The return value is an integer if ndigits is omitted or None.  Otherwise\n",
      "    the return value has the same type as the number.  ndigits may be negative.\n",
      "\n"
     ]
    }
   ],
   "source": [
    "help(round)"
   ]
  },
  {
   "cell_type": "markdown",
   "id": "0c147f42",
   "metadata": {
    "papermill": {
     "duration": 0.023029,
     "end_time": "2021-08-26T14:07:35.178170",
     "exception": false,
     "start_time": "2021-08-26T14:07:35.155141",
     "status": "completed"
    },
    "tags": []
   },
   "source": [
    "`help()` displays two things:\n",
    "\n",
    "1. the header of that function `round(number, ndigits=None)`. In this case, this tells us that `round()` takes an argument we can describe as `number`. Additionally, we can optionally give a separate argument which could be described as `ndigits`.\n",
    "2. A brief English description of what the function does. "
   ]
  },
  {
   "cell_type": "markdown",
   "id": "bd8680f5",
   "metadata": {
    "papermill": {
     "duration": 0.022815,
     "end_time": "2021-08-26T14:07:35.224354",
     "exception": false,
     "start_time": "2021-08-26T14:07:35.201539",
     "status": "completed"
    },
    "tags": []
   },
   "source": [
    "**Common pitfall:** when you're looking up a function, remember to pass in the name of the function itself, and not the result of calling that function. \n",
    "\n",
    "What happens if we invoke help on a *call* to the function `round()`? Unhide the output of the cell below to see."
   ]
  },
  {
   "cell_type": "code",
   "execution_count": 2,
   "id": "ff2b9f8f",
   "metadata": {
    "_kg_hide-output": true,
    "execution": {
     "iopub.execute_input": "2021-08-26T14:07:35.274288Z",
     "iopub.status.busy": "2021-08-26T14:07:35.273649Z",
     "iopub.status.idle": "2021-08-26T14:07:35.397900Z",
     "shell.execute_reply": "2021-08-26T14:07:35.398856Z",
     "shell.execute_reply.started": "2021-08-26T13:29:50.642582Z"
    },
    "papermill": {
     "duration": 0.151687,
     "end_time": "2021-08-26T14:07:35.399172",
     "exception": false,
     "start_time": "2021-08-26T14:07:35.247485",
     "status": "completed"
    },
    "tags": []
   },
   "outputs": [
    {
     "name": "stdout",
     "output_type": "stream",
     "text": [
      "Help on int object:\n",
      "\n",
      "class int(object)\n",
      " |  int([x]) -> integer\n",
      " |  int(x, base=10) -> integer\n",
      " |  \n",
      " |  Convert a number or string to an integer, or return 0 if no arguments\n",
      " |  are given.  If x is a number, return x.__int__().  For floating point\n",
      " |  numbers, this truncates towards zero.\n",
      " |  \n",
      " |  If x is not a number or if base is given, then x must be a string,\n",
      " |  bytes, or bytearray instance representing an integer literal in the\n",
      " |  given base.  The literal can be preceded by '+' or '-' and be surrounded\n",
      " |  by whitespace.  The base defaults to 10.  Valid bases are 0 and 2-36.\n",
      " |  Base 0 means to interpret the base from the string as an integer literal.\n",
      " |  >>> int('0b100', base=0)\n",
      " |  4\n",
      " |  \n",
      " |  Methods defined here:\n",
      " |  \n",
      " |  __abs__(self, /)\n",
      " |      abs(self)\n",
      " |  \n",
      " |  __add__(self, value, /)\n",
      " |      Return self+value.\n",
      " |  \n",
      " |  __and__(self, value, /)\n",
      " |      Return self&value.\n",
      " |  \n",
      " |  __bool__(self, /)\n",
      " |      self != 0\n",
      " |  \n",
      " |  __ceil__(...)\n",
      " |      Ceiling of an Integral returns itself.\n",
      " |  \n",
      " |  __divmod__(self, value, /)\n",
      " |      Return divmod(self, value).\n",
      " |  \n",
      " |  __eq__(self, value, /)\n",
      " |      Return self==value.\n",
      " |  \n",
      " |  __float__(self, /)\n",
      " |      float(self)\n",
      " |  \n",
      " |  __floor__(...)\n",
      " |      Flooring an Integral returns itself.\n",
      " |  \n",
      " |  __floordiv__(self, value, /)\n",
      " |      Return self//value.\n",
      " |  \n",
      " |  __format__(self, format_spec, /)\n",
      " |      Default object formatter.\n",
      " |  \n",
      " |  __ge__(self, value, /)\n",
      " |      Return self>=value.\n",
      " |  \n",
      " |  __getattribute__(self, name, /)\n",
      " |      Return getattr(self, name).\n",
      " |  \n",
      " |  __getnewargs__(self, /)\n",
      " |  \n",
      " |  __gt__(self, value, /)\n",
      " |      Return self>value.\n",
      " |  \n",
      " |  __hash__(self, /)\n",
      " |      Return hash(self).\n",
      " |  \n",
      " |  __index__(self, /)\n",
      " |      Return self converted to an integer, if self is suitable for use as an index into a list.\n",
      " |  \n",
      " |  __int__(self, /)\n",
      " |      int(self)\n",
      " |  \n",
      " |  __invert__(self, /)\n",
      " |      ~self\n",
      " |  \n",
      " |  __le__(self, value, /)\n",
      " |      Return self<=value.\n",
      " |  \n",
      " |  __lshift__(self, value, /)\n",
      " |      Return self<<value.\n",
      " |  \n",
      " |  __lt__(self, value, /)\n",
      " |      Return self<value.\n",
      " |  \n",
      " |  __mod__(self, value, /)\n",
      " |      Return self%value.\n",
      " |  \n",
      " |  __mul__(self, value, /)\n",
      " |      Return self*value.\n",
      " |  \n",
      " |  __ne__(self, value, /)\n",
      " |      Return self!=value.\n",
      " |  \n",
      " |  __neg__(self, /)\n",
      " |      -self\n",
      " |  \n",
      " |  __or__(self, value, /)\n",
      " |      Return self|value.\n",
      " |  \n",
      " |  __pos__(self, /)\n",
      " |      +self\n",
      " |  \n",
      " |  __pow__(self, value, mod=None, /)\n",
      " |      Return pow(self, value, mod).\n",
      " |  \n",
      " |  __radd__(self, value, /)\n",
      " |      Return value+self.\n",
      " |  \n",
      " |  __rand__(self, value, /)\n",
      " |      Return value&self.\n",
      " |  \n",
      " |  __rdivmod__(self, value, /)\n",
      " |      Return divmod(value, self).\n",
      " |  \n",
      " |  __repr__(self, /)\n",
      " |      Return repr(self).\n",
      " |  \n",
      " |  __rfloordiv__(self, value, /)\n",
      " |      Return value//self.\n",
      " |  \n",
      " |  __rlshift__(self, value, /)\n",
      " |      Return value<<self.\n",
      " |  \n",
      " |  __rmod__(self, value, /)\n",
      " |      Return value%self.\n",
      " |  \n",
      " |  __rmul__(self, value, /)\n",
      " |      Return value*self.\n",
      " |  \n",
      " |  __ror__(self, value, /)\n",
      " |      Return value|self.\n",
      " |  \n",
      " |  __round__(...)\n",
      " |      Rounding an Integral returns itself.\n",
      " |      Rounding with an ndigits argument also returns an integer.\n",
      " |  \n",
      " |  __rpow__(self, value, mod=None, /)\n",
      " |      Return pow(value, self, mod).\n",
      " |  \n",
      " |  __rrshift__(self, value, /)\n",
      " |      Return value>>self.\n",
      " |  \n",
      " |  __rshift__(self, value, /)\n",
      " |      Return self>>value.\n",
      " |  \n",
      " |  __rsub__(self, value, /)\n",
      " |      Return value-self.\n",
      " |  \n",
      " |  __rtruediv__(self, value, /)\n",
      " |      Return value/self.\n",
      " |  \n",
      " |  __rxor__(self, value, /)\n",
      " |      Return value^self.\n",
      " |  \n",
      " |  __sizeof__(self, /)\n",
      " |      Returns size in memory, in bytes.\n",
      " |  \n",
      " |  __str__(self, /)\n",
      " |      Return str(self).\n",
      " |  \n",
      " |  __sub__(self, value, /)\n",
      " |      Return self-value.\n",
      " |  \n",
      " |  __truediv__(self, value, /)\n",
      " |      Return self/value.\n",
      " |  \n",
      " |  __trunc__(...)\n",
      " |      Truncating an Integral returns itself.\n",
      " |  \n",
      " |  __xor__(self, value, /)\n",
      " |      Return self^value.\n",
      " |  \n",
      " |  bit_length(self, /)\n",
      " |      Number of bits necessary to represent self in binary.\n",
      " |      \n",
      " |      >>> bin(37)\n",
      " |      '0b100101'\n",
      " |      >>> (37).bit_length()\n",
      " |      6\n",
      " |  \n",
      " |  conjugate(...)\n",
      " |      Returns self, the complex conjugate of any int.\n",
      " |  \n",
      " |  to_bytes(self, /, length, byteorder, *, signed=False)\n",
      " |      Return an array of bytes representing an integer.\n",
      " |      \n",
      " |      length\n",
      " |        Length of bytes object to use.  An OverflowError is raised if the\n",
      " |        integer is not representable with the given number of bytes.\n",
      " |      byteorder\n",
      " |        The byte order used to represent the integer.  If byteorder is 'big',\n",
      " |        the most significant byte is at the beginning of the byte array.  If\n",
      " |        byteorder is 'little', the most significant byte is at the end of the\n",
      " |        byte array.  To request the native byte order of the host system, use\n",
      " |        `sys.byteorder' as the byte order value.\n",
      " |      signed\n",
      " |        Determines whether two's complement is used to represent the integer.\n",
      " |        If signed is False and a negative integer is given, an OverflowError\n",
      " |        is raised.\n",
      " |  \n",
      " |  ----------------------------------------------------------------------\n",
      " |  Class methods defined here:\n",
      " |  \n",
      " |  from_bytes(bytes, byteorder, *, signed=False) from builtins.type\n",
      " |      Return the integer represented by the given array of bytes.\n",
      " |      \n",
      " |      bytes\n",
      " |        Holds the array of bytes to convert.  The argument must either\n",
      " |        support the buffer protocol or be an iterable object producing bytes.\n",
      " |        Bytes and bytearray are examples of built-in objects that support the\n",
      " |        buffer protocol.\n",
      " |      byteorder\n",
      " |        The byte order used to represent the integer.  If byteorder is 'big',\n",
      " |        the most significant byte is at the beginning of the byte array.  If\n",
      " |        byteorder is 'little', the most significant byte is at the end of the\n",
      " |        byte array.  To request the native byte order of the host system, use\n",
      " |        `sys.byteorder' as the byte order value.\n",
      " |      signed\n",
      " |        Indicates whether two's complement is used to represent the integer.\n",
      " |  \n",
      " |  ----------------------------------------------------------------------\n",
      " |  Static methods defined here:\n",
      " |  \n",
      " |  __new__(*args, **kwargs) from builtins.type\n",
      " |      Create and return a new object.  See help(type) for accurate signature.\n",
      " |  \n",
      " |  ----------------------------------------------------------------------\n",
      " |  Data descriptors defined here:\n",
      " |  \n",
      " |  denominator\n",
      " |      the denominator of a rational number in lowest terms\n",
      " |  \n",
      " |  imag\n",
      " |      the imaginary part of a complex number\n",
      " |  \n",
      " |  numerator\n",
      " |      the numerator of a rational number in lowest terms\n",
      " |  \n",
      " |  real\n",
      " |      the real part of a complex number\n",
      "\n"
     ]
    }
   ],
   "source": [
    "help(round(-2.01))"
   ]
  },
  {
   "cell_type": "markdown",
   "id": "d399a602",
   "metadata": {
    "papermill": {
     "duration": 0.033028,
     "end_time": "2021-08-26T14:07:35.467484",
     "exception": false,
     "start_time": "2021-08-26T14:07:35.434456",
     "status": "completed"
    },
    "tags": []
   },
   "source": [
    "Python evaluates an expression like this from the inside out. First it calculates the value of `round(-2.01)`, then it provides help on the output of that expression.\n",
    "\n",
    "<small>(And it turns out to have a lot to say about integers! After we talk later about objects, methods, and attributes in Python, the help output above will make more sense.)</small>\n",
    "\n",
    "`round` is a very simple function with a short docstring. `help` shines even more when dealing with more complex, configurable functions like `print`. Don't worry if the following output looks inscrutable... for now, just see if you can pick anything new out from this help."
   ]
  },
  {
   "cell_type": "code",
   "execution_count": 3,
   "id": "820cd4d0",
   "metadata": {
    "execution": {
     "iopub.execute_input": "2021-08-26T14:07:35.535881Z",
     "iopub.status.busy": "2021-08-26T14:07:35.535111Z",
     "iopub.status.idle": "2021-08-26T14:07:35.540598Z",
     "shell.execute_reply": "2021-08-26T14:07:35.541058Z",
     "shell.execute_reply.started": "2021-08-26T13:33:32.517393Z"
    },
    "papermill": {
     "duration": 0.038047,
     "end_time": "2021-08-26T14:07:35.541252",
     "exception": false,
     "start_time": "2021-08-26T14:07:35.503205",
     "status": "completed"
    },
    "tags": []
   },
   "outputs": [
    {
     "name": "stdout",
     "output_type": "stream",
     "text": [
      "Help on built-in function print in module builtins:\n",
      "\n",
      "print(...)\n",
      "    print(value, ..., sep=' ', end='\\n', file=sys.stdout, flush=False)\n",
      "    \n",
      "    Prints the values to a stream, or to sys.stdout by default.\n",
      "    Optional keyword arguments:\n",
      "    file:  a file-like object (stream); defaults to the current sys.stdout.\n",
      "    sep:   string inserted between values, default a space.\n",
      "    end:   string appended after the last value, default a newline.\n",
      "    flush: whether to forcibly flush the stream.\n",
      "\n"
     ]
    }
   ],
   "source": [
    "help(print)"
   ]
  },
  {
   "cell_type": "markdown",
   "id": "ff334d23",
   "metadata": {
    "papermill": {
     "duration": 0.024364,
     "end_time": "2021-08-26T14:07:35.590633",
     "exception": false,
     "start_time": "2021-08-26T14:07:35.566269",
     "status": "completed"
    },
    "tags": []
   },
   "source": [
    "If you were looking for it, you might learn that print can take an argument called `sep`, and that this describes what we put between all the other arguments when we print them."
   ]
  },
  {
   "cell_type": "markdown",
   "id": "1f2491fa",
   "metadata": {
    "papermill": {
     "duration": 0.024131,
     "end_time": "2021-08-26T14:07:35.639744",
     "exception": false,
     "start_time": "2021-08-26T14:07:35.615613",
     "status": "completed"
    },
    "tags": []
   },
   "source": [
    "## Defining functions\n",
    "\n",
    "Builtin functions are great, but we can only get so far with them before we need to start defining our own functions. Below is a simple example."
   ]
  },
  {
   "cell_type": "code",
   "execution_count": 4,
   "id": "cf96a4d9",
   "metadata": {
    "execution": {
     "iopub.execute_input": "2021-08-26T14:07:35.692720Z",
     "iopub.status.busy": "2021-08-26T14:07:35.691704Z",
     "iopub.status.idle": "2021-08-26T14:07:35.697959Z",
     "shell.execute_reply": "2021-08-26T14:07:35.697408Z",
     "shell.execute_reply.started": "2021-08-26T13:52:49.128709Z"
    },
    "papermill": {
     "duration": 0.033853,
     "end_time": "2021-08-26T14:07:35.698107",
     "exception": false,
     "start_time": "2021-08-26T14:07:35.664254",
     "status": "completed"
    },
    "tags": []
   },
   "outputs": [],
   "source": [
    "def least_difference(a, b, c):\n",
    "    diff1 = abs(a - b)\n",
    "    diff2 = abs(b - c)\n",
    "    diff3 = abs(a - c)\n",
    "    return min(diff1, diff2, diff3)"
   ]
  },
  {
   "cell_type": "markdown",
   "id": "8e849abc",
   "metadata": {
    "papermill": {
     "duration": 0.024092,
     "end_time": "2021-08-26T14:07:35.746568",
     "exception": false,
     "start_time": "2021-08-26T14:07:35.722476",
     "status": "completed"
    },
    "tags": []
   },
   "source": [
    "This creates a function called `least_difference`, which takes three arguments, `a`, `b`, and `c`.\n",
    "\n",
    "Functions start with a header introduced by the `def` keyword. The indented block of code following the `:` is run when the function is called.\n",
    "\n",
    "`return` is another keyword uniquely associated with functions. When Python encounters a `return` statement, it exits the function immediately, and passes the value on the right hand side to the calling context.\n",
    "\n",
    "Is it clear what `least_difference()` does from the source code? If we're not sure, we can always try it out on a few examples:"
   ]
  },
  {
   "cell_type": "code",
   "execution_count": 5,
   "id": "e53cdcfe",
   "metadata": {
    "collapsed": true,
    "execution": {
     "iopub.execute_input": "2021-08-26T14:07:35.801117Z",
     "iopub.status.busy": "2021-08-26T14:07:35.800073Z",
     "iopub.status.idle": "2021-08-26T14:07:35.807974Z",
     "shell.execute_reply": "2021-08-26T14:07:35.808921Z"
    },
    "jupyter": {
     "outputs_hidden": true
    },
    "papermill": {
     "duration": 0.03792,
     "end_time": "2021-08-26T14:07:35.809179",
     "exception": false,
     "start_time": "2021-08-26T14:07:35.771259",
     "status": "completed"
    },
    "tags": []
   },
   "outputs": [
    {
     "name": "stdout",
     "output_type": "stream",
     "text": [
      "9 0 1\n"
     ]
    }
   ],
   "source": [
    "print(\n",
    "    least_difference(1, 10, 100),\n",
    "    least_difference(1, 10, 10),\n",
    "    least_difference(5, 6, 7), # Python allows trailing commas in argument lists. How nice is that?\n",
    ")"
   ]
  },
  {
   "cell_type": "markdown",
   "id": "4ef0cf35",
   "metadata": {
    "papermill": {
     "duration": 0.026788,
     "end_time": "2021-08-26T14:07:35.862368",
     "exception": false,
     "start_time": "2021-08-26T14:07:35.835580",
     "status": "completed"
    },
    "tags": []
   },
   "source": [
    "Or maybe the `help()` function can tell us something about it."
   ]
  },
  {
   "cell_type": "code",
   "execution_count": 6,
   "id": "63156f7d",
   "metadata": {
    "execution": {
     "iopub.execute_input": "2021-08-26T14:07:35.918342Z",
     "iopub.status.busy": "2021-08-26T14:07:35.917664Z",
     "iopub.status.idle": "2021-08-26T14:07:35.920361Z",
     "shell.execute_reply": "2021-08-26T14:07:35.920996Z",
     "shell.execute_reply.started": "2021-08-26T13:54:35.692833Z"
    },
    "papermill": {
     "duration": 0.033931,
     "end_time": "2021-08-26T14:07:35.921174",
     "exception": false,
     "start_time": "2021-08-26T14:07:35.887243",
     "status": "completed"
    },
    "tags": []
   },
   "outputs": [
    {
     "name": "stdout",
     "output_type": "stream",
     "text": [
      "Help on function least_difference in module __main__:\n",
      "\n",
      "least_difference(a, b, c)\n",
      "\n"
     ]
    }
   ],
   "source": [
    "help(least_difference)"
   ]
  },
  {
   "cell_type": "markdown",
   "id": "38da5d4e",
   "metadata": {
    "papermill": {
     "duration": 0.025744,
     "end_time": "2021-08-26T14:07:35.972215",
     "exception": false,
     "start_time": "2021-08-26T14:07:35.946471",
     "status": "completed"
    },
    "tags": []
   },
   "source": [
    "Python isn't smart enough to read my code and turn it into a nice English description. However, when I write a function, I can provide a description in what's called the **docstring**.\n",
    "\n",
    "### Docstrings"
   ]
  },
  {
   "cell_type": "code",
   "execution_count": 7,
   "id": "fa75e0ea",
   "metadata": {
    "execution": {
     "iopub.execute_input": "2021-08-26T14:07:36.027073Z",
     "iopub.status.busy": "2021-08-26T14:07:36.026308Z",
     "iopub.status.idle": "2021-08-26T14:07:36.031685Z",
     "shell.execute_reply": "2021-08-26T14:07:36.032265Z",
     "shell.execute_reply.started": "2021-08-26T13:54:52.898369Z"
    },
    "papermill": {
     "duration": 0.034085,
     "end_time": "2021-08-26T14:07:36.032462",
     "exception": false,
     "start_time": "2021-08-26T14:07:35.998377",
     "status": "completed"
    },
    "tags": []
   },
   "outputs": [],
   "source": [
    "def least_difference(a, b, c):\n",
    "    \"\"\"Return the smallest difference between any two numbers\n",
    "    among a, b and c.\n",
    "    \n",
    "    >>> least_difference(1, 5, -5)\n",
    "    4\n",
    "    \"\"\"\n",
    "    diff1 = abs(a - b)\n",
    "    diff2 = abs(b - c)\n",
    "    diff3 = abs(a - c)\n",
    "    return min(diff1, diff2, diff3)"
   ]
  },
  {
   "cell_type": "markdown",
   "id": "32532701",
   "metadata": {
    "papermill": {
     "duration": 0.025424,
     "end_time": "2021-08-26T14:07:36.084115",
     "exception": false,
     "start_time": "2021-08-26T14:07:36.058691",
     "status": "completed"
    },
    "tags": []
   },
   "source": [
    "The docstring is a triple-quoted string (which may span multiple lines) that comes immediately after the header of a function. When we call `help()` on a function, it shows the docstring."
   ]
  },
  {
   "cell_type": "code",
   "execution_count": 8,
   "id": "b06f198f",
   "metadata": {
    "execution": {
     "iopub.execute_input": "2021-08-26T14:07:36.138988Z",
     "iopub.status.busy": "2021-08-26T14:07:36.138242Z",
     "iopub.status.idle": "2021-08-26T14:07:36.144454Z",
     "shell.execute_reply": "2021-08-26T14:07:36.143552Z",
     "shell.execute_reply.started": "2021-08-26T13:54:58.782879Z"
    },
    "papermill": {
     "duration": 0.034332,
     "end_time": "2021-08-26T14:07:36.144671",
     "exception": false,
     "start_time": "2021-08-26T14:07:36.110339",
     "status": "completed"
    },
    "tags": []
   },
   "outputs": [
    {
     "name": "stdout",
     "output_type": "stream",
     "text": [
      "Help on function least_difference in module __main__:\n",
      "\n",
      "least_difference(a, b, c)\n",
      "    Return the smallest difference between any two numbers\n",
      "    among a, b and c.\n",
      "    \n",
      "    >>> least_difference(1, 5, -5)\n",
      "    4\n",
      "\n"
     ]
    }
   ],
   "source": [
    "help(least_difference)"
   ]
  },
  {
   "cell_type": "markdown",
   "id": "e93ba7f8",
   "metadata": {
    "papermill": {
     "duration": 0.025008,
     "end_time": "2021-08-26T14:07:36.196947",
     "exception": false,
     "start_time": "2021-08-26T14:07:36.171939",
     "status": "completed"
    },
    "tags": []
   },
   "source": [
    "> **Aside:**\n",
    "> The last two lines of the docstring are an example function call and result. (The `>>>` is a reference to the command prompt used in Python interactive shells.) Python doesn't run the example call - it's just there for the benefit of the reader. The convention of including 1 or more example calls in a function's docstring is far from universally observed, but it can be very effective at helping someone understand your function. For a real-world example, see [this docstring for the numpy function `np.eye`](https://github.com/numpy/numpy/blob/v1.14.2/numpy/lib/twodim_base.py#L140-L194)."
   ]
  },
  {
   "cell_type": "markdown",
   "id": "26a0b3e2",
   "metadata": {
    "papermill": {
     "duration": 0.025153,
     "end_time": "2021-08-26T14:07:36.248410",
     "exception": false,
     "start_time": "2021-08-26T14:07:36.223257",
     "status": "completed"
    },
    "tags": []
   },
   "source": [
    "Good programmers use docstrings unless they expect to throw away the code soon after it's used (which is rare).  So, you should start writing docstrings, too!"
   ]
  },
  {
   "cell_type": "markdown",
   "id": "09a00263",
   "metadata": {
    "papermill": {
     "duration": 0.025341,
     "end_time": "2021-08-26T14:07:36.299426",
     "exception": false,
     "start_time": "2021-08-26T14:07:36.274085",
     "status": "completed"
    },
    "tags": []
   },
   "source": [
    "## Functions that don't return\n",
    "\n",
    "What would happen if we didn't include the `return` keyword in our function?"
   ]
  },
  {
   "cell_type": "code",
   "execution_count": 9,
   "id": "162964ee",
   "metadata": {
    "execution": {
     "iopub.execute_input": "2021-08-26T14:07:36.359332Z",
     "iopub.status.busy": "2021-08-26T14:07:36.358547Z",
     "iopub.status.idle": "2021-08-26T14:07:36.363358Z",
     "shell.execute_reply": "2021-08-26T14:07:36.362632Z",
     "shell.execute_reply.started": "2021-08-26T13:56:54.258921Z"
    },
    "papermill": {
     "duration": 0.038748,
     "end_time": "2021-08-26T14:07:36.363580",
     "exception": false,
     "start_time": "2021-08-26T14:07:36.324832",
     "status": "completed"
    },
    "tags": []
   },
   "outputs": [
    {
     "name": "stdout",
     "output_type": "stream",
     "text": [
      "None None None\n"
     ]
    }
   ],
   "source": [
    "def least_difference(a, b, c):\n",
    "    \"\"\"Return the smallest difference between any two numbers\n",
    "    among a, b and c.\n",
    "    \"\"\"\n",
    "    diff1 = abs(a - b)\n",
    "    diff2 = abs(b - c)\n",
    "    diff3 = abs(a - c)\n",
    "    min(diff1, diff2, diff3)\n",
    "    \n",
    "print(\n",
    "    least_difference(1, 10, 100),\n",
    "    least_difference(1, 10, 10),\n",
    "    least_difference(5, 6, 7),\n",
    ")"
   ]
  },
  {
   "cell_type": "markdown",
   "id": "10ebcc2d",
   "metadata": {
    "papermill": {
     "duration": 0.025556,
     "end_time": "2021-08-26T14:07:36.416255",
     "exception": false,
     "start_time": "2021-08-26T14:07:36.390699",
     "status": "completed"
    },
    "tags": []
   },
   "source": [
    "Python allows us to define such functions. The result of calling them is the special value `None`. (This is similar to the concept of \"null\" in other languages.)\n",
    "\n",
    "Without a `return` statement, `least_difference` is completely pointless, but a function with side effects may do something useful without returning anything. We've already seen two examples of this: `print()` and `help()` don't return anything. We only call them for their side effects (putting some text on the screen). Other examples of useful side effects include writing to a file, or modifying an input."
   ]
  },
  {
   "cell_type": "code",
   "execution_count": 10,
   "id": "7bd4b7d4",
   "metadata": {
    "execution": {
     "iopub.execute_input": "2021-08-26T14:07:36.472277Z",
     "iopub.status.busy": "2021-08-26T14:07:36.471240Z",
     "iopub.status.idle": "2021-08-26T14:07:36.477649Z",
     "shell.execute_reply": "2021-08-26T14:07:36.476772Z",
     "shell.execute_reply.started": "2021-08-26T13:59:34.312669Z"
    },
    "papermill": {
     "duration": 0.035544,
     "end_time": "2021-08-26T14:07:36.477846",
     "exception": false,
     "start_time": "2021-08-26T14:07:36.442302",
     "status": "completed"
    },
    "tags": []
   },
   "outputs": [
    {
     "name": "stdout",
     "output_type": "stream",
     "text": [
      "\n",
      "None\n"
     ]
    }
   ],
   "source": [
    "mystery = print()\n",
    "print(mystery)"
   ]
  },
  {
   "cell_type": "markdown",
   "id": "a0095351",
   "metadata": {
    "papermill": {
     "duration": 0.025938,
     "end_time": "2021-08-26T14:07:36.530848",
     "exception": false,
     "start_time": "2021-08-26T14:07:36.504910",
     "status": "completed"
    },
    "tags": []
   },
   "source": [
    "## Default arguments\n",
    "\n",
    "When we called `help(print)`, we saw that the `print` function has several optional arguments. For example, we can specify a value for `sep` to put some special string in between our printed arguments:"
   ]
  },
  {
   "cell_type": "code",
   "execution_count": 11,
   "id": "7eb08c06",
   "metadata": {
    "execution": {
     "iopub.execute_input": "2021-08-26T14:07:36.589095Z",
     "iopub.status.busy": "2021-08-26T14:07:36.588433Z",
     "iopub.status.idle": "2021-08-26T14:07:36.591737Z",
     "shell.execute_reply": "2021-08-26T14:07:36.592238Z",
     "shell.execute_reply.started": "2021-08-26T14:00:17.927671Z"
    },
    "papermill": {
     "duration": 0.034825,
     "end_time": "2021-08-26T14:07:36.592409",
     "exception": false,
     "start_time": "2021-08-26T14:07:36.557584",
     "status": "completed"
    },
    "tags": []
   },
   "outputs": [
    {
     "name": "stdout",
     "output_type": "stream",
     "text": [
      "1 < 2 < 3\n"
     ]
    }
   ],
   "source": [
    "print(1, 2, 3, sep=' < ')"
   ]
  },
  {
   "cell_type": "markdown",
   "id": "b2e4ddee",
   "metadata": {
    "papermill": {
     "duration": 0.026449,
     "end_time": "2021-08-26T14:07:36.645627",
     "exception": false,
     "start_time": "2021-08-26T14:07:36.619178",
     "status": "completed"
    },
    "tags": []
   },
   "source": [
    "But if we don't specify a value, `sep` is treated as having a default value of `' '` (a single space)."
   ]
  },
  {
   "cell_type": "code",
   "execution_count": 12,
   "id": "22bc7f0a",
   "metadata": {
    "execution": {
     "iopub.execute_input": "2021-08-26T14:07:36.703753Z",
     "iopub.status.busy": "2021-08-26T14:07:36.702868Z",
     "iopub.status.idle": "2021-08-26T14:07:36.707218Z",
     "shell.execute_reply": "2021-08-26T14:07:36.707794Z",
     "shell.execute_reply.started": "2021-08-26T14:00:32.202136Z"
    },
    "papermill": {
     "duration": 0.036066,
     "end_time": "2021-08-26T14:07:36.707980",
     "exception": false,
     "start_time": "2021-08-26T14:07:36.671914",
     "status": "completed"
    },
    "tags": []
   },
   "outputs": [
    {
     "name": "stdout",
     "output_type": "stream",
     "text": [
      "123\n"
     ]
    }
   ],
   "source": [
    "print(1, 2, 3, sep = \"\")"
   ]
  },
  {
   "cell_type": "markdown",
   "id": "b57cef5f",
   "metadata": {
    "papermill": {
     "duration": 0.026178,
     "end_time": "2021-08-26T14:07:36.761047",
     "exception": false,
     "start_time": "2021-08-26T14:07:36.734869",
     "status": "completed"
    },
    "tags": []
   },
   "source": [
    "Adding optional arguments with default values to the functions we define turns out to be pretty easy:"
   ]
  },
  {
   "cell_type": "code",
   "execution_count": 13,
   "id": "e8110768",
   "metadata": {
    "execution": {
     "iopub.execute_input": "2021-08-26T14:07:36.821112Z",
     "iopub.status.busy": "2021-08-26T14:07:36.820269Z",
     "iopub.status.idle": "2021-08-26T14:07:36.826692Z",
     "shell.execute_reply": "2021-08-26T14:07:36.826109Z",
     "shell.execute_reply.started": "2021-08-26T14:02:11.237883Z"
    },
    "papermill": {
     "duration": 0.038463,
     "end_time": "2021-08-26T14:07:36.826861",
     "exception": false,
     "start_time": "2021-08-26T14:07:36.788398",
     "status": "completed"
    },
    "tags": []
   },
   "outputs": [
    {
     "name": "stdout",
     "output_type": "stream",
     "text": [
      "Hello, Colin!\n",
      "Hello, Kaggle!\n",
      "Hello, World!\n"
     ]
    }
   ],
   "source": [
    "def greet(who=\"Colin\"):\n",
    "    print(\"Hello,\", who + \"!\")\n",
    "    \n",
    "greet()\n",
    "greet(who=\"Kaggle\")\n",
    "# (In this case, we don't need to specify the name of the argument, because it's unambiguous.)\n",
    "greet(\"World\")"
   ]
  },
  {
   "cell_type": "markdown",
   "id": "ccfa733b",
   "metadata": {
    "papermill": {
     "duration": 0.026951,
     "end_time": "2021-08-26T14:07:36.881032",
     "exception": false,
     "start_time": "2021-08-26T14:07:36.854081",
     "status": "completed"
    },
    "tags": []
   },
   "source": [
    "## Functions Applied to Functions\n",
    "\n",
    "Here's something that's powerful, though it can feel very abstract at first.  You can supply functions as arguments to other functions.  Some example may make this clearer:"
   ]
  },
  {
   "cell_type": "code",
   "execution_count": 14,
   "id": "33c4a5a0",
   "metadata": {
    "execution": {
     "iopub.execute_input": "2021-08-26T14:07:36.942368Z",
     "iopub.status.busy": "2021-08-26T14:07:36.941566Z",
     "iopub.status.idle": "2021-08-26T14:07:36.945473Z",
     "shell.execute_reply": "2021-08-26T14:07:36.945995Z",
     "shell.execute_reply.started": "2021-08-26T14:02:41.798360Z"
    },
    "papermill": {
     "duration": 0.037642,
     "end_time": "2021-08-26T14:07:36.946174",
     "exception": false,
     "start_time": "2021-08-26T14:07:36.908532",
     "status": "completed"
    },
    "tags": []
   },
   "outputs": [
    {
     "name": "stdout",
     "output_type": "stream",
     "text": [
      "5\n",
      "25\n"
     ]
    }
   ],
   "source": [
    "def mult_by_five(x):\n",
    "    return 5 * x\n",
    "\n",
    "def call(fn, arg):\n",
    "    \"\"\"Call fn on arg\"\"\"\n",
    "    return fn(arg)\n",
    "\n",
    "def squared_call(fn, arg):\n",
    "    \"\"\"Call fn on the result of calling fn on arg\"\"\"\n",
    "    return fn(fn(arg))\n",
    "\n",
    "print(\n",
    "    call(mult_by_five, 1),\n",
    "    squared_call(mult_by_five, 1), \n",
    "    sep='\\n', # '\\n' is the newline character - it starts a new line\n",
    ")"
   ]
  },
  {
   "cell_type": "markdown",
   "id": "22629590",
   "metadata": {
    "papermill": {
     "duration": 0.026971,
     "end_time": "2021-08-26T14:07:37.000624",
     "exception": false,
     "start_time": "2021-08-26T14:07:36.973653",
     "status": "completed"
    },
    "tags": []
   },
   "source": [
    "Functions that operate on other functions are called \"higher-order functions.\" You probably won't write your own for a little while. But there are higher-order functions built into Python that you might find useful to call. \n",
    "\n",
    "Here's an interesting example using the `max` function.\n",
    "\n",
    "By default, `max` returns the largest of its arguments. But if we pass in a function using the optional `key` argument, it returns the argument `x` that maximizes `key(x)` (aka the 'argmax')."
   ]
  },
  {
   "cell_type": "code",
   "execution_count": 15,
   "id": "44f5b99e",
   "metadata": {
    "execution": {
     "iopub.execute_input": "2021-08-26T14:07:37.062506Z",
     "iopub.status.busy": "2021-08-26T14:07:37.061387Z",
     "iopub.status.idle": "2021-08-26T14:07:37.066167Z",
     "shell.execute_reply": "2021-08-26T14:07:37.065546Z",
     "shell.execute_reply.started": "2021-08-26T14:04:21.548468Z"
    },
    "papermill": {
     "duration": 0.038142,
     "end_time": "2021-08-26T14:07:37.066325",
     "exception": false,
     "start_time": "2021-08-26T14:07:37.028183",
     "status": "completed"
    },
    "tags": []
   },
   "outputs": [
    {
     "name": "stdout",
     "output_type": "stream",
     "text": [
      "Which number is biggest?\n",
      "100\n",
      "Which number is the biggest modulo 5?\n",
      "14\n"
     ]
    }
   ],
   "source": [
    "def mod_5(x):\n",
    "    \"\"\"Return the remainder of x after dividing by 5\"\"\"\n",
    "    return x % 5\n",
    "\n",
    "print(\n",
    "    'Which number is biggest?',\n",
    "    max(100, 51, 14),\n",
    "    'Which number is the biggest modulo 5?',\n",
    "    max(100, 51, 14, key=mod_5),\n",
    "    sep='\\n',\n",
    ")"
   ]
  },
  {
   "cell_type": "markdown",
   "id": "52d02937",
   "metadata": {
    "papermill": {
     "duration": 0.027603,
     "end_time": "2021-08-26T14:07:37.121954",
     "exception": false,
     "start_time": "2021-08-26T14:07:37.094351",
     "status": "completed"
    },
    "tags": []
   },
   "source": [
    "# Your Turn\n",
    "\n",
    "Functions open up a whole new world in Python programming. **[Try using them yourself](https://www.kaggle.com/kernels/fork/1275158)**."
   ]
  },
  {
   "cell_type": "markdown",
   "id": "c1af6545",
   "metadata": {
    "papermill": {
     "duration": 0.027674,
     "end_time": "2021-08-26T14:07:37.177664",
     "exception": false,
     "start_time": "2021-08-26T14:07:37.149990",
     "status": "completed"
    },
    "tags": []
   },
   "source": [
    "---\n",
    "\n",
    "\n",
    "\n",
    "\n",
    "*Have questions or comments? Visit the [Learn Discussion forum](https://www.kaggle.com/learn-forum/161283) to chat with other Learners.*"
   ]
  }
 ],
 "metadata": {
  "kernelspec": {
   "display_name": "Python 3",
   "language": "python",
   "name": "python3"
  },
  "language_info": {
   "codemirror_mode": {
    "name": "ipython",
    "version": 3
   },
   "file_extension": ".py",
   "mimetype": "text/x-python",
   "name": "python",
   "nbconvert_exporter": "python",
   "pygments_lexer": "ipython3",
   "version": "3.7.10"
  },
  "papermill": {
   "default_parameters": {},
   "duration": 12.925627,
   "end_time": "2021-08-26T14:07:38.789170",
   "environment_variables": {},
   "exception": null,
   "input_path": "__notebook__.ipynb",
   "output_path": "__notebook__.ipynb",
   "parameters": {},
   "start_time": "2021-08-26T14:07:25.863543",
   "version": "2.3.3"
  }
 },
 "nbformat": 4,
 "nbformat_minor": 5
}
