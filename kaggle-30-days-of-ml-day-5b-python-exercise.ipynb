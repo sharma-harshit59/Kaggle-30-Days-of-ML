{
 "cells": [
  {
   "cell_type": "markdown",
   "id": "ce77efa0",
   "metadata": {
    "papermill": {
     "duration": 0.012592,
     "end_time": "2021-08-27T05:37:49.925344",
     "exception": false,
     "start_time": "2021-08-27T05:37:49.912752",
     "status": "completed"
    },
    "tags": []
   },
   "source": [
    "**This notebook is an exercise in the [Python](https://www.kaggle.com/learn/python) course.  You can reference the tutorial at [this link](https://www.kaggle.com/colinmorris/loops-and-list-comprehensions).**\n",
    "\n",
    "---\n"
   ]
  },
  {
   "cell_type": "markdown",
   "id": "71268565",
   "metadata": {
    "papermill": {
     "duration": 0.011302,
     "end_time": "2021-08-27T05:37:49.948634",
     "exception": false,
     "start_time": "2021-08-27T05:37:49.937332",
     "status": "completed"
    },
    "tags": []
   },
   "source": [
    "With all you've learned, you can start writing much more interesting programs. See if you can solve the problems below.\n",
    "\n",
    "As always, run the setup code below before working on the questions."
   ]
  },
  {
   "cell_type": "code",
   "execution_count": 1,
   "id": "ed952eb0",
   "metadata": {
    "execution": {
     "iopub.execute_input": "2021-08-27T05:37:49.980002Z",
     "iopub.status.busy": "2021-08-27T05:37:49.979492Z",
     "iopub.status.idle": "2021-08-27T05:37:50.093849Z",
     "shell.execute_reply": "2021-08-27T05:37:50.094320Z",
     "shell.execute_reply.started": "2021-08-27T05:24:51.426914Z"
    },
    "papermill": {
     "duration": 0.134574,
     "end_time": "2021-08-27T05:37:50.094581",
     "exception": false,
     "start_time": "2021-08-27T05:37:49.960007",
     "status": "completed"
    },
    "tags": []
   },
   "outputs": [
    {
     "name": "stdout",
     "output_type": "stream",
     "text": [
      "Setup complete.\n"
     ]
    }
   ],
   "source": [
    "from learntools.core import binder; binder.bind(globals())\n",
    "from learntools.python.ex5 import *\n",
    "print('Setup complete.')"
   ]
  },
  {
   "cell_type": "markdown",
   "id": "35962ed4",
   "metadata": {
    "papermill": {
     "duration": 0.011437,
     "end_time": "2021-08-27T05:37:50.118174",
     "exception": false,
     "start_time": "2021-08-27T05:37:50.106737",
     "status": "completed"
    },
    "tags": []
   },
   "source": [
    "# 1.\n",
    "\n",
    "Have you ever felt debugging involved a bit of luck? The following program has a bug. Try to identify the bug and fix it."
   ]
  },
  {
   "cell_type": "code",
   "execution_count": 2,
   "id": "e0e86da7",
   "metadata": {
    "execution": {
     "iopub.execute_input": "2021-08-27T05:37:50.144791Z",
     "iopub.status.busy": "2021-08-27T05:37:50.143907Z",
     "iopub.status.idle": "2021-08-27T05:37:50.148238Z",
     "shell.execute_reply": "2021-08-27T05:37:50.148651Z",
     "shell.execute_reply.started": "2021-08-27T05:25:50.252731Z"
    },
    "papermill": {
     "duration": 0.01899,
     "end_time": "2021-08-27T05:37:50.148805",
     "exception": false,
     "start_time": "2021-08-27T05:37:50.129815",
     "status": "completed"
    },
    "tags": []
   },
   "outputs": [],
   "source": [
    "def has_lucky_number(nums):\n",
    "    \"\"\"Return whether the given list of numbers is lucky. A lucky list contains\n",
    "    at least one number divisible by 7.\n",
    "    \"\"\"\n",
    "    for num in nums:\n",
    "        if num % 7 == 0:\n",
    "            return True\n",
    "        else:\n",
    "            return False"
   ]
  },
  {
   "cell_type": "markdown",
   "id": "f437abf2",
   "metadata": {
    "papermill": {
     "duration": 0.011462,
     "end_time": "2021-08-27T05:37:50.171881",
     "exception": false,
     "start_time": "2021-08-27T05:37:50.160419",
     "status": "completed"
    },
    "tags": []
   },
   "source": [
    "Try to identify the bug and fix it in the cell below:"
   ]
  },
  {
   "cell_type": "code",
   "execution_count": 3,
   "id": "bd465d06",
   "metadata": {
    "execution": {
     "iopub.execute_input": "2021-08-27T05:37:50.198405Z",
     "iopub.status.busy": "2021-08-27T05:37:50.197525Z",
     "iopub.status.idle": "2021-08-27T05:37:50.207542Z",
     "shell.execute_reply": "2021-08-27T05:37:50.207980Z",
     "shell.execute_reply.started": "2021-08-27T05:26:54.281787Z"
    },
    "papermill": {
     "duration": 0.024724,
     "end_time": "2021-08-27T05:37:50.208172",
     "exception": false,
     "start_time": "2021-08-27T05:37:50.183448",
     "status": "completed"
    },
    "tags": []
   },
   "outputs": [
    {
     "data": {
      "application/javascript": [
       "parent.postMessage({\"jupyterEvent\": \"custom.exercise_interaction\", \"data\": {\"outcomeType\": 1, \"valueTowardsCompletion\": 0.25, \"interactionType\": 1, \"questionType\": 2, \"questionId\": \"1_EarlyExitDebugging\", \"learnToolsVersion\": \"0.3.4\", \"failureMessage\": \"\", \"exceptionClass\": \"\", \"trace\": \"\"}}, \"*\")"
      ],
      "text/plain": [
       "<IPython.core.display.Javascript object>"
      ]
     },
     "metadata": {},
     "output_type": "display_data"
    },
    {
     "data": {
      "text/markdown": [
       "<span style=\"color:#33cc33\">Correct:</span> \n",
       "\n",
       "Remember that `return` causes a function to exit immediately. So our original implementation always ran for just one iteration. We can only return `False` if we've looked at every element of the list (and confirmed that none of them are lucky). Though we can return early if the answer is `True`:\n",
       "\n",
       "```python\n",
       "def has_lucky_number(nums):\n",
       "    for num in nums:\n",
       "        if num % 7 == 0:\n",
       "            return True\n",
       "    # We've exhausted the list without finding a lucky number\n",
       "    return False\n",
       "```\n",
       "\n",
       "Here's a one-line version using a list comprehension with Python's `any` function (you can read about what it does by calling `help(any)`):\n",
       "\n",
       "```python\n",
       "def has_lucky_number(nums):\n",
       "    return any([num % 7 == 0 for num in nums])\n",
       "```\n"
      ],
      "text/plain": [
       "Correct: \n",
       "\n",
       "Remember that `return` causes a function to exit immediately. So our original implementation always ran for just one iteration. We can only return `False` if we've looked at every element of the list (and confirmed that none of them are lucky). Though we can return early if the answer is `True`:\n",
       "\n",
       "```python\n",
       "def has_lucky_number(nums):\n",
       "    for num in nums:\n",
       "        if num % 7 == 0:\n",
       "            return True\n",
       "    # We've exhausted the list without finding a lucky number\n",
       "    return False\n",
       "```\n",
       "\n",
       "Here's a one-line version using a list comprehension with Python's `any` function (you can read about what it does by calling `help(any)`):\n",
       "\n",
       "```python\n",
       "def has_lucky_number(nums):\n",
       "    return any([num % 7 == 0 for num in nums])\n",
       "```"
      ]
     },
     "metadata": {},
     "output_type": "display_data"
    }
   ],
   "source": [
    "def has_lucky_number(nums):\n",
    "    \"\"\"Return whether the given list of numbers is lucky. A lucky list contains\n",
    "    at least one number divisible by 7.\n",
    "    \"\"\"\n",
    "    for num in nums:\n",
    "        if num % 7 == 0:\n",
    "            return True\n",
    "    return False\n",
    "\n",
    "# Check your answer\n",
    "q1.check()"
   ]
  },
  {
   "cell_type": "code",
   "execution_count": 4,
   "id": "ce1592cd",
   "metadata": {
    "execution": {
     "iopub.execute_input": "2021-08-27T05:37:50.237978Z",
     "iopub.status.busy": "2021-08-27T05:37:50.237143Z",
     "iopub.status.idle": "2021-08-27T05:37:50.240160Z",
     "shell.execute_reply": "2021-08-27T05:37:50.240580Z"
    },
    "papermill": {
     "duration": 0.019981,
     "end_time": "2021-08-27T05:37:50.240730",
     "exception": false,
     "start_time": "2021-08-27T05:37:50.220749",
     "status": "completed"
    },
    "tags": []
   },
   "outputs": [],
   "source": [
    "#q1.hint()\n",
    "#q1.solution()"
   ]
  },
  {
   "cell_type": "markdown",
   "id": "6a96743c",
   "metadata": {
    "papermill": {
     "duration": 0.012258,
     "end_time": "2021-08-27T05:37:50.265586",
     "exception": false,
     "start_time": "2021-08-27T05:37:50.253328",
     "status": "completed"
    },
    "tags": []
   },
   "source": [
    "# 2.\n",
    "Look at the Python expression below. What do you think we'll get when we run it? When you've made your prediction, uncomment the code and run the cell to see if you were right."
   ]
  },
  {
   "cell_type": "code",
   "execution_count": 5,
   "id": "f6f19c02",
   "metadata": {
    "execution": {
     "iopub.execute_input": "2021-08-27T05:37:50.293913Z",
     "iopub.status.busy": "2021-08-27T05:37:50.293031Z",
     "iopub.status.idle": "2021-08-27T05:37:50.296449Z",
     "shell.execute_reply": "2021-08-27T05:37:50.296884Z",
     "shell.execute_reply.started": "2021-08-27T05:28:00.808233Z"
    },
    "papermill": {
     "duration": 0.018902,
     "end_time": "2021-08-27T05:37:50.297029",
     "exception": false,
     "start_time": "2021-08-27T05:37:50.278127",
     "status": "completed"
    },
    "tags": []
   },
   "outputs": [],
   "source": [
    "# [1, 2, 3, 4] > 2"
   ]
  },
  {
   "cell_type": "markdown",
   "id": "3fd0ea4b",
   "metadata": {
    "papermill": {
     "duration": 0.012184,
     "end_time": "2021-08-27T05:37:50.321700",
     "exception": false,
     "start_time": "2021-08-27T05:37:50.309516",
     "status": "completed"
    },
    "tags": []
   },
   "source": [
    "R and Python have some libraries (like numpy and pandas) compare each element of the list to 2 (i.e. do an 'element-wise' comparison) and give us a list of booleans like `[False, False, True, True]`. \n",
    "\n",
    "Implement a function that reproduces this behaviour, returning a list of booleans corresponding to whether the corresponding element is greater than n."
   ]
  },
  {
   "cell_type": "code",
   "execution_count": 6,
   "id": "93e7a26a",
   "metadata": {
    "execution": {
     "iopub.execute_input": "2021-08-27T05:37:50.349850Z",
     "iopub.status.busy": "2021-08-27T05:37:50.348961Z",
     "iopub.status.idle": "2021-08-27T05:37:50.356493Z",
     "shell.execute_reply": "2021-08-27T05:37:50.356921Z",
     "shell.execute_reply.started": "2021-08-27T05:29:40.133062Z"
    },
    "papermill": {
     "duration": 0.022931,
     "end_time": "2021-08-27T05:37:50.357094",
     "exception": false,
     "start_time": "2021-08-27T05:37:50.334163",
     "status": "completed"
    },
    "tags": []
   },
   "outputs": [
    {
     "data": {
      "application/javascript": [
       "parent.postMessage({\"jupyterEvent\": \"custom.exercise_interaction\", \"data\": {\"outcomeType\": 1, \"valueTowardsCompletion\": 0.25, \"interactionType\": 1, \"questionType\": 2, \"questionId\": \"2_ElementWiseComparison\", \"learnToolsVersion\": \"0.3.4\", \"failureMessage\": \"\", \"exceptionClass\": \"\", \"trace\": \"\"}}, \"*\")"
      ],
      "text/plain": [
       "<IPython.core.display.Javascript object>"
      ]
     },
     "metadata": {},
     "output_type": "display_data"
    },
    {
     "data": {
      "text/markdown": [
       "<span style=\"color:#33cc33\">Correct:</span> \n",
       "\n",
       "Here's one solution:\n",
       "```python\n",
       "def elementwise_greater_than(L, thresh):\n",
       "    res = []\n",
       "    for ele in L:\n",
       "        res.append(ele > thresh)\n",
       "    return res\n",
       "```\n",
       "\n",
       "And here's the list comprehension version:\n",
       "```python\n",
       "def elementwise_greater_than(L, thresh):\n",
       "    return [ele > thresh for ele in L]\n",
       "```\n"
      ],
      "text/plain": [
       "Correct: \n",
       "\n",
       "Here's one solution:\n",
       "```python\n",
       "def elementwise_greater_than(L, thresh):\n",
       "    res = []\n",
       "    for ele in L:\n",
       "        res.append(ele > thresh)\n",
       "    return res\n",
       "```\n",
       "\n",
       "And here's the list comprehension version:\n",
       "```python\n",
       "def elementwise_greater_than(L, thresh):\n",
       "    return [ele > thresh for ele in L]\n",
       "```"
      ]
     },
     "metadata": {},
     "output_type": "display_data"
    }
   ],
   "source": [
    "def elementwise_greater_than(L, thresh):\n",
    "    \"\"\"Return a list with the same length as L, where the value at index i is \n",
    "    True if L[i] is greater than thresh, and False otherwise.\n",
    "    \n",
    "    >>> elementwise_greater_than([1, 2, 3, 4], 2)\n",
    "    [False, False, True, True]\n",
    "    \"\"\"\n",
    "    for i in range(len(L)):\n",
    "        L[i] = (L[i] > thresh)\n",
    "    \n",
    "    return L\n",
    "\n",
    "# Check your answer\n",
    "q2.check()"
   ]
  },
  {
   "cell_type": "code",
   "execution_count": 7,
   "id": "7e19103c",
   "metadata": {
    "execution": {
     "iopub.execute_input": "2021-08-27T05:37:50.387549Z",
     "iopub.status.busy": "2021-08-27T05:37:50.386661Z",
     "iopub.status.idle": "2021-08-27T05:37:50.389695Z",
     "shell.execute_reply": "2021-08-27T05:37:50.390145Z"
    },
    "papermill": {
     "duration": 0.01946,
     "end_time": "2021-08-27T05:37:50.390290",
     "exception": false,
     "start_time": "2021-08-27T05:37:50.370830",
     "status": "completed"
    },
    "tags": []
   },
   "outputs": [],
   "source": [
    "#q2.solution()"
   ]
  },
  {
   "cell_type": "markdown",
   "id": "a2e5aa53",
   "metadata": {
    "papermill": {
     "duration": 0.013426,
     "end_time": "2021-08-27T05:37:50.417104",
     "exception": false,
     "start_time": "2021-08-27T05:37:50.403678",
     "status": "completed"
    },
    "tags": []
   },
   "source": [
    "# 3.\n",
    "\n",
    "Complete the body of the function below according to its docstring."
   ]
  },
  {
   "cell_type": "code",
   "execution_count": 8,
   "id": "cb8e1ea2",
   "metadata": {
    "execution": {
     "iopub.execute_input": "2021-08-27T05:37:50.447590Z",
     "iopub.status.busy": "2021-08-27T05:37:50.446735Z",
     "iopub.status.idle": "2021-08-27T05:37:50.456641Z",
     "shell.execute_reply": "2021-08-27T05:37:50.456139Z",
     "shell.execute_reply.started": "2021-08-27T05:31:27.968440Z"
    },
    "papermill": {
     "duration": 0.026007,
     "end_time": "2021-08-27T05:37:50.456781",
     "exception": false,
     "start_time": "2021-08-27T05:37:50.430774",
     "status": "completed"
    },
    "tags": []
   },
   "outputs": [
    {
     "data": {
      "application/javascript": [
       "parent.postMessage({\"jupyterEvent\": \"custom.exercise_interaction\", \"data\": {\"outcomeType\": 1, \"valueTowardsCompletion\": 0.25, \"interactionType\": 1, \"questionType\": 2, \"questionId\": \"3_BoringMenu\", \"learnToolsVersion\": \"0.3.4\", \"failureMessage\": \"\", \"exceptionClass\": \"\", \"trace\": \"\"}}, \"*\")"
      ],
      "text/plain": [
       "<IPython.core.display.Javascript object>"
      ]
     },
     "metadata": {},
     "output_type": "display_data"
    },
    {
     "data": {
      "text/markdown": [
       "<span style=\"color:#33cc33\">Correct:</span> \n",
       "\n",
       "\n",
       "\n",
       "```python\n",
       "def menu_is_boring(meals):\n",
       "    # Iterate over all indices of the list, except the last one\n",
       "    for i in range(len(meals)-1):\n",
       "        if meals[i] == meals[i+1]:\n",
       "            return True\n",
       "    return False\n",
       "```\n",
       "\n",
       "The key to our solution is the call to `range`. `range(len(meals))` would give us all the indices of `meals`. If we had used that range, the last iteration of the loop would be comparing the last element to the element after it, which is... `IndexError`! `range(len(meals)-1)` gives us all the indices except the index of the last element.\n",
       "\n",
       "But don't we need to check if `meals` is empty? Turns out that `range(0) == range(-1)` - they're both empty. So if `meals` has length 0 or 1, we just won't do any iterations of our for loop.\n"
      ],
      "text/plain": [
       "Correct: \n",
       "\n",
       "\n",
       "\n",
       "```python\n",
       "def menu_is_boring(meals):\n",
       "    # Iterate over all indices of the list, except the last one\n",
       "    for i in range(len(meals)-1):\n",
       "        if meals[i] == meals[i+1]:\n",
       "            return True\n",
       "    return False\n",
       "```\n",
       "\n",
       "The key to our solution is the call to `range`. `range(len(meals))` would give us all the indices of `meals`. If we had used that range, the last iteration of the loop would be comparing the last element to the element after it, which is... `IndexError`! `range(len(meals)-1)` gives us all the indices except the index of the last element.\n",
       "\n",
       "But don't we need to check if `meals` is empty? Turns out that `range(0) == range(-1)` - they're both empty. So if `meals` has length 0 or 1, we just won't do any iterations of our for loop."
      ]
     },
     "metadata": {},
     "output_type": "display_data"
    }
   ],
   "source": [
    "def menu_is_boring(meals):\n",
    "    \"\"\"Given a list of meals served over some period of time, return True if the\n",
    "    same meal has ever been served two days in a row, and False otherwise.\n",
    "    \"\"\"\n",
    "    for i in range(len(meals)-1):\n",
    "        if meals[i] == meals[i+1]:\n",
    "            return True\n",
    "        \n",
    "    return False\n",
    "\n",
    "# Check your answer\n",
    "q3.check()"
   ]
  },
  {
   "cell_type": "code",
   "execution_count": 9,
   "id": "03540ee8",
   "metadata": {
    "execution": {
     "iopub.execute_input": "2021-08-27T05:37:50.489568Z",
     "iopub.status.busy": "2021-08-27T05:37:50.488794Z",
     "iopub.status.idle": "2021-08-27T05:37:50.491894Z",
     "shell.execute_reply": "2021-08-27T05:37:50.491443Z"
    },
    "papermill": {
     "duration": 0.02077,
     "end_time": "2021-08-27T05:37:50.492017",
     "exception": false,
     "start_time": "2021-08-27T05:37:50.471247",
     "status": "completed"
    },
    "tags": []
   },
   "outputs": [],
   "source": [
    "#q3.hint()\n",
    "#q3.solution()"
   ]
  },
  {
   "cell_type": "markdown",
   "id": "d18746b9",
   "metadata": {
    "papermill": {
     "duration": 0.013923,
     "end_time": "2021-08-27T05:37:50.520345",
     "exception": false,
     "start_time": "2021-08-27T05:37:50.506422",
     "status": "completed"
    },
    "tags": []
   },
   "source": [
    "# 4. <span title=\"A bit spicy\" style=\"color: darkgreen \">🌶️</span>\n",
    "\n",
    "Next to the Blackjack table, the Python Challenge Casino has a slot machine. You can get a result from the slot machine by calling `play_slot_machine()`. The number it returns is your winnings in dollars. Usually it returns 0.  But sometimes you'll get lucky and get a big payday. Try running it below:"
   ]
  },
  {
   "cell_type": "code",
   "execution_count": 10,
   "id": "664272d7",
   "metadata": {
    "execution": {
     "iopub.execute_input": "2021-08-27T05:37:50.552962Z",
     "iopub.status.busy": "2021-08-27T05:37:50.552445Z",
     "iopub.status.idle": "2021-08-27T05:37:50.556084Z",
     "shell.execute_reply": "2021-08-27T05:37:50.555553Z",
     "shell.execute_reply.started": "2021-08-27T05:36:11.968448Z"
    },
    "papermill": {
     "duration": 0.021649,
     "end_time": "2021-08-27T05:37:50.556206",
     "exception": false,
     "start_time": "2021-08-27T05:37:50.534557",
     "status": "completed"
    },
    "tags": []
   },
   "outputs": [
    {
     "data": {
      "text/plain": [
       "1.5"
      ]
     },
     "execution_count": 10,
     "metadata": {},
     "output_type": "execute_result"
    }
   ],
   "source": [
    "play_slot_machine()"
   ]
  },
  {
   "cell_type": "markdown",
   "id": "3f149b78",
   "metadata": {
    "papermill": {
     "duration": 0.015938,
     "end_time": "2021-08-27T05:37:50.586725",
     "exception": false,
     "start_time": "2021-08-27T05:37:50.570787",
     "status": "completed"
    },
    "tags": []
   },
   "source": [
    "By the way, did we mention that each play costs $1? Don't worry, we'll send you the bill later.\n",
    "\n",
    "On average, how much money can you expect to gain (or lose) every time you play the machine?  The casino keeps it a secret, but you can estimate the average value of each pull using a technique called the **Monte Carlo method**. To estimate the average outcome, we simulate the scenario many times, and return the average result.\n",
    "\n",
    "Complete the following function to calculate the average value per play of the slot machine."
   ]
  },
  {
   "cell_type": "code",
   "execution_count": 11,
   "id": "cd61d3d6",
   "metadata": {
    "execution": {
     "iopub.execute_input": "2021-08-27T05:37:50.635033Z",
     "iopub.status.busy": "2021-08-27T05:37:50.634484Z",
     "iopub.status.idle": "2021-08-27T05:37:50.636996Z",
     "shell.execute_reply": "2021-08-27T05:37:50.637708Z",
     "shell.execute_reply.started": "2021-08-27T05:36:32.302621Z"
    },
    "papermill": {
     "duration": 0.027798,
     "end_time": "2021-08-27T05:37:50.637925",
     "exception": false,
     "start_time": "2021-08-27T05:37:50.610127",
     "status": "completed"
    },
    "tags": []
   },
   "outputs": [],
   "source": [
    "def estimate_average_slot_payout(n_runs):\n",
    "    \"\"\"Run the slot machine n_runs times and return the average net profit per run.\n",
    "    Example calls (note that return value is nondeterministic!):\n",
    "    >>> estimate_average_slot_payout(1)\n",
    "    -1\n",
    "    >>> estimate_average_slot_payout(1)\n",
    "    0.5\n",
    "    \"\"\"\n",
    "    profit = [(play_slot_machine() - 1) for i in range(n_runs)]\n",
    "    avg = sum(profit) / n_runs\n",
    "    print(avg)"
   ]
  },
  {
   "cell_type": "markdown",
   "id": "600f1b3a",
   "metadata": {
    "papermill": {
     "duration": 0.014892,
     "end_time": "2021-08-27T05:37:50.672342",
     "exception": false,
     "start_time": "2021-08-27T05:37:50.657450",
     "status": "completed"
    },
    "tags": []
   },
   "source": [
    "When you think you know the expected value per spin, run the code cell below to view the solution and get credit for answering the question."
   ]
  },
  {
   "cell_type": "code",
   "execution_count": 12,
   "id": "50ffa791",
   "metadata": {
    "execution": {
     "iopub.execute_input": "2021-08-27T05:37:50.705430Z",
     "iopub.status.busy": "2021-08-27T05:37:50.704834Z",
     "iopub.status.idle": "2021-08-27T05:37:50.710073Z",
     "shell.execute_reply": "2021-08-27T05:37:50.710519Z",
     "shell.execute_reply.started": "2021-08-27T05:36:36.077161Z"
    },
    "papermill": {
     "duration": 0.023245,
     "end_time": "2021-08-27T05:37:50.710667",
     "exception": false,
     "start_time": "2021-08-27T05:37:50.687422",
     "status": "completed"
    },
    "tags": []
   },
   "outputs": [
    {
     "data": {
      "application/javascript": [
       "parent.postMessage({\"jupyterEvent\": \"custom.exercise_interaction\", \"data\": {\"interactionType\": 3, \"questionType\": 4, \"questionId\": \"4_ExpectedSlotsPayout\", \"learnToolsVersion\": \"0.3.4\", \"valueTowardsCompletion\": 0.0, \"failureMessage\": \"\", \"exceptionClass\": \"\", \"trace\": \"\", \"outcomeType\": 4}}, \"*\")"
      ],
      "text/plain": [
       "<IPython.core.display.Javascript object>"
      ]
     },
     "metadata": {},
     "output_type": "display_data"
    },
    {
     "data": {
      "text/markdown": [
       "<span style=\"color:#33cc99\">Solution:</span> The exact expected value of one pull of the slot machine is 0.025 - i.e. a little more than 2 cents. See? Not every game in the Python Challenge Casino is rigged against the player!\n",
       "\n",
       "Because of the high variance of the outcome (there are some very rare high payout results that significantly affect the average) you might need to run your function with a very high value of `n_runs` to get a stable answer close to the true expectation.\n",
       "\n",
       "If your answer is way higher than 0.025, then maybe you forgot to account for the $1 cost per play?"
      ],
      "text/plain": [
       "Solution: The exact expected value of one pull of the slot machine is 0.025 - i.e. a little more than 2 cents. See? Not every game in the Python Challenge Casino is rigged against the player!\n",
       "\n",
       "Because of the high variance of the outcome (there are some very rare high payout results that significantly affect the average) you might need to run your function with a very high value of `n_runs` to get a stable answer close to the true expectation.\n",
       "\n",
       "If your answer is way higher than 0.025, then maybe you forgot to account for the $1 cost per play?"
      ]
     },
     "metadata": {},
     "output_type": "display_data"
    }
   ],
   "source": [
    "# Check your answer (Run this code cell to receive credit!)\n",
    "q4.solution()"
   ]
  },
  {
   "cell_type": "markdown",
   "id": "129336a1",
   "metadata": {
    "papermill": {
     "duration": 0.015256,
     "end_time": "2021-08-27T05:37:50.741337",
     "exception": false,
     "start_time": "2021-08-27T05:37:50.726081",
     "status": "completed"
    },
    "tags": []
   },
   "source": [
    "# Keep Going\n",
    "\n",
    "Many programmers report that dictionaries are their favorite data structure. You'll get to **[learn about them](https://www.kaggle.com/colinmorris/strings-and-dictionaries)** (as well as strings) in the next lesson."
   ]
  },
  {
   "cell_type": "markdown",
   "id": "e52c6535",
   "metadata": {
    "papermill": {
     "duration": 0.014969,
     "end_time": "2021-08-27T05:37:50.772253",
     "exception": false,
     "start_time": "2021-08-27T05:37:50.757284",
     "status": "completed"
    },
    "tags": []
   },
   "source": [
    "---\n",
    "\n",
    "\n",
    "\n",
    "\n",
    "*Have questions or comments? Visit the [Learn Discussion forum](https://www.kaggle.com/learn-forum/161283) to chat with other Learners.*"
   ]
  }
 ],
 "metadata": {
  "kernelspec": {
   "display_name": "Python 3",
   "language": "python",
   "name": "python3"
  },
  "language_info": {
   "codemirror_mode": {
    "name": "ipython",
    "version": 3
   },
   "file_extension": ".py",
   "mimetype": "text/x-python",
   "name": "python",
   "nbconvert_exporter": "python",
   "pygments_lexer": "ipython3",
   "version": "3.7.10"
  },
  "papermill": {
   "default_parameters": {},
   "duration": 8.120261,
   "end_time": "2021-08-27T05:37:51.300203",
   "environment_variables": {},
   "exception": null,
   "input_path": "__notebook__.ipynb",
   "output_path": "__notebook__.ipynb",
   "parameters": {},
   "start_time": "2021-08-27T05:37:43.179942",
   "version": "2.3.3"
  }
 },
 "nbformat": 4,
 "nbformat_minor": 5
}
