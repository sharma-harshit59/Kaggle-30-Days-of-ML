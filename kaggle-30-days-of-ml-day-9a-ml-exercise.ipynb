{
 "cells": [
  {
   "cell_type": "markdown",
   "id": "e34b3788",
   "metadata": {
    "papermill": {
     "duration": 0.01748,
     "end_time": "2021-09-08T12:03:13.355209",
     "exception": false,
     "start_time": "2021-09-08T12:03:13.337729",
     "status": "completed"
    },
    "tags": []
   },
   "source": [
    "**This notebook is an exercise in the [Introduction to Machine Learning](https://www.kaggle.com/learn/intro-to-machine-learning) course.  You can reference the tutorial at [this link](https://www.kaggle.com/dansbecker/your-first-machine-learning-model).**\n",
    "\n",
    "---\n"
   ]
  },
  {
   "cell_type": "markdown",
   "id": "9d9cf04c",
   "metadata": {
    "papermill": {
     "duration": 0.014993,
     "end_time": "2021-09-08T12:03:13.386662",
     "exception": false,
     "start_time": "2021-09-08T12:03:13.371669",
     "status": "completed"
    },
    "tags": []
   },
   "source": [
    "## Recap\n",
    "So far, you have loaded your data and reviewed it with the following code. Run this cell to set up your coding environment where the previous step left off."
   ]
  },
  {
   "cell_type": "code",
   "execution_count": 1,
   "id": "c27b2d15",
   "metadata": {
    "execution": {
     "iopub.execute_input": "2021-09-08T12:03:13.421801Z",
     "iopub.status.busy": "2021-09-08T12:03:13.420662Z",
     "iopub.status.idle": "2021-09-08T12:03:14.867116Z",
     "shell.execute_reply": "2021-09-08T12:03:14.867709Z",
     "shell.execute_reply.started": "2021-09-08T11:51:01.875113Z"
    },
    "papermill": {
     "duration": 1.466159,
     "end_time": "2021-09-08T12:03:14.868079",
     "exception": false,
     "start_time": "2021-09-08T12:03:13.401920",
     "status": "completed"
    },
    "tags": []
   },
   "outputs": [
    {
     "name": "stdout",
     "output_type": "stream",
     "text": [
      "Setup Complete\n"
     ]
    }
   ],
   "source": [
    "# Code you have previously used to load data\n",
    "import pandas as pd\n",
    "\n",
    "# Path of the file to read\n",
    "iowa_file_path = '../input/home-data-for-ml-course/train.csv'\n",
    "\n",
    "home_data = pd.read_csv(iowa_file_path)\n",
    "\n",
    "# Set up code checking\n",
    "from learntools.core import binder\n",
    "binder.bind(globals())\n",
    "from learntools.machine_learning.ex3 import *\n",
    "\n",
    "print(\"Setup Complete\")"
   ]
  },
  {
   "cell_type": "markdown",
   "id": "fe72df00",
   "metadata": {
    "papermill": {
     "duration": 0.015592,
     "end_time": "2021-09-08T12:03:14.901337",
     "exception": false,
     "start_time": "2021-09-08T12:03:14.885745",
     "status": "completed"
    },
    "tags": []
   },
   "source": [
    "# Exercises\n",
    "\n",
    "## Step 1: Specify Prediction Target\n",
    "Select the target variable, which corresponds to the sales price. Save this to a new variable called `y`. You'll need to print a list of the columns to find the name of the column you need.\n"
   ]
  },
  {
   "cell_type": "code",
   "execution_count": 2,
   "id": "b173cccc",
   "metadata": {
    "execution": {
     "iopub.execute_input": "2021-09-08T12:03:14.942833Z",
     "iopub.status.busy": "2021-09-08T12:03:14.941867Z",
     "iopub.status.idle": "2021-09-08T12:03:14.945562Z",
     "shell.execute_reply": "2021-09-08T12:03:14.946106Z",
     "shell.execute_reply.started": "2021-09-08T11:51:11.775196Z"
    },
    "papermill": {
     "duration": 0.029129,
     "end_time": "2021-09-08T12:03:14.946297",
     "exception": false,
     "start_time": "2021-09-08T12:03:14.917168",
     "status": "completed"
    },
    "tags": []
   },
   "outputs": [
    {
     "data": {
      "text/plain": [
       "Index(['Id', 'MSSubClass', 'MSZoning', 'LotFrontage', 'LotArea', 'Street',\n",
       "       'Alley', 'LotShape', 'LandContour', 'Utilities', 'LotConfig',\n",
       "       'LandSlope', 'Neighborhood', 'Condition1', 'Condition2', 'BldgType',\n",
       "       'HouseStyle', 'OverallQual', 'OverallCond', 'YearBuilt', 'YearRemodAdd',\n",
       "       'RoofStyle', 'RoofMatl', 'Exterior1st', 'Exterior2nd', 'MasVnrType',\n",
       "       'MasVnrArea', 'ExterQual', 'ExterCond', 'Foundation', 'BsmtQual',\n",
       "       'BsmtCond', 'BsmtExposure', 'BsmtFinType1', 'BsmtFinSF1',\n",
       "       'BsmtFinType2', 'BsmtFinSF2', 'BsmtUnfSF', 'TotalBsmtSF', 'Heating',\n",
       "       'HeatingQC', 'CentralAir', 'Electrical', '1stFlrSF', '2ndFlrSF',\n",
       "       'LowQualFinSF', 'GrLivArea', 'BsmtFullBath', 'BsmtHalfBath', 'FullBath',\n",
       "       'HalfBath', 'BedroomAbvGr', 'KitchenAbvGr', 'KitchenQual',\n",
       "       'TotRmsAbvGrd', 'Functional', 'Fireplaces', 'FireplaceQu', 'GarageType',\n",
       "       'GarageYrBlt', 'GarageFinish', 'GarageCars', 'GarageArea', 'GarageQual',\n",
       "       'GarageCond', 'PavedDrive', 'WoodDeckSF', 'OpenPorchSF',\n",
       "       'EnclosedPorch', '3SsnPorch', 'ScreenPorch', 'PoolArea', 'PoolQC',\n",
       "       'Fence', 'MiscFeature', 'MiscVal', 'MoSold', 'YrSold', 'SaleType',\n",
       "       'SaleCondition', 'SalePrice'],\n",
       "      dtype='object')"
      ]
     },
     "execution_count": 2,
     "metadata": {},
     "output_type": "execute_result"
    }
   ],
   "source": [
    "# print the list of columns in the dataset to find the name of the prediction target\n",
    "home_data.columns"
   ]
  },
  {
   "cell_type": "code",
   "execution_count": 3,
   "id": "bbd70e11",
   "metadata": {
    "execution": {
     "iopub.execute_input": "2021-09-08T12:03:14.982782Z",
     "iopub.status.busy": "2021-09-08T12:03:14.982169Z",
     "iopub.status.idle": "2021-09-08T12:03:14.996315Z",
     "shell.execute_reply": "2021-09-08T12:03:14.996799Z",
     "shell.execute_reply.started": "2021-09-08T11:51:56.609724Z"
    },
    "papermill": {
     "duration": 0.033601,
     "end_time": "2021-09-08T12:03:14.997095",
     "exception": false,
     "start_time": "2021-09-08T12:03:14.963494",
     "status": "completed"
    },
    "tags": []
   },
   "outputs": [
    {
     "data": {
      "application/javascript": [
       "parent.postMessage({\"jupyterEvent\": \"custom.exercise_interaction\", \"data\": {\"outcomeType\": 1, \"valueTowardsCompletion\": 0.25, \"interactionType\": 1, \"questionType\": 2, \"questionId\": \"1_SetTarget\", \"learnToolsVersion\": \"0.3.4\", \"failureMessage\": \"\", \"exceptionClass\": \"\", \"trace\": \"\"}}, \"*\")"
      ],
      "text/plain": [
       "<IPython.core.display.Javascript object>"
      ]
     },
     "metadata": {},
     "output_type": "display_data"
    },
    {
     "data": {
      "text/markdown": [
       "<span style=\"color:#33cc33\">Correct</span>"
      ],
      "text/plain": [
       "Correct"
      ]
     },
     "metadata": {},
     "output_type": "display_data"
    }
   ],
   "source": [
    "y = home_data.SalePrice\n",
    "\n",
    "# Check your answer\n",
    "step_1.check()"
   ]
  },
  {
   "cell_type": "code",
   "execution_count": 4,
   "id": "88122379",
   "metadata": {
    "collapsed": true,
    "execution": {
     "iopub.execute_input": "2021-09-08T12:03:15.036224Z",
     "iopub.status.busy": "2021-09-08T12:03:15.035532Z",
     "iopub.status.idle": "2021-09-08T12:03:15.039362Z",
     "shell.execute_reply": "2021-09-08T12:03:15.039831Z"
    },
    "jupyter": {
     "outputs_hidden": true
    },
    "papermill": {
     "duration": 0.025309,
     "end_time": "2021-09-08T12:03:15.040052",
     "exception": false,
     "start_time": "2021-09-08T12:03:15.014743",
     "status": "completed"
    },
    "tags": []
   },
   "outputs": [],
   "source": [
    "# The lines below will show you a hint or the solution.\n",
    "# step_1.hint() \n",
    "# step_1.solution()"
   ]
  },
  {
   "cell_type": "markdown",
   "id": "48e7d569",
   "metadata": {
    "papermill": {
     "duration": 0.017327,
     "end_time": "2021-09-08T12:03:15.074866",
     "exception": false,
     "start_time": "2021-09-08T12:03:15.057539",
     "status": "completed"
    },
    "tags": []
   },
   "source": [
    "## Step 2: Create X\n",
    "Now you will create a DataFrame called `X` holding the predictive features.\n",
    "\n",
    "Since you want only some columns from the original data, you'll first create a list with the names of the columns you want in `X`.\n",
    "\n",
    "You'll use just the following columns in the list (you can copy and paste the whole list to save some typing, though you'll still need to add quotes):\n",
    "    * LotArea\n",
    "    * YearBuilt\n",
    "    * 1stFlrSF\n",
    "    * 2ndFlrSF\n",
    "    * FullBath\n",
    "    * BedroomAbvGr\n",
    "    * TotRmsAbvGrd\n",
    "\n",
    "After you've created that list of features, use it to create the DataFrame that you'll use to fit the model."
   ]
  },
  {
   "cell_type": "code",
   "execution_count": 5,
   "id": "317db062",
   "metadata": {
    "execution": {
     "iopub.execute_input": "2021-09-08T12:03:15.119500Z",
     "iopub.status.busy": "2021-09-08T12:03:15.118525Z",
     "iopub.status.idle": "2021-09-08T12:03:15.125317Z",
     "shell.execute_reply": "2021-09-08T12:03:15.124773Z",
     "shell.execute_reply.started": "2021-09-08T11:54:27.300016Z"
    },
    "papermill": {
     "duration": 0.033236,
     "end_time": "2021-09-08T12:03:15.125463",
     "exception": false,
     "start_time": "2021-09-08T12:03:15.092227",
     "status": "completed"
    },
    "tags": []
   },
   "outputs": [
    {
     "data": {
      "application/javascript": [
       "parent.postMessage({\"jupyterEvent\": \"custom.exercise_interaction\", \"data\": {\"outcomeType\": 1, \"valueTowardsCompletion\": 0.25, \"interactionType\": 1, \"questionType\": 2, \"questionId\": \"2_SelectPredictionData\", \"learnToolsVersion\": \"0.3.4\", \"failureMessage\": \"\", \"exceptionClass\": \"\", \"trace\": \"\"}}, \"*\")"
      ],
      "text/plain": [
       "<IPython.core.display.Javascript object>"
      ]
     },
     "metadata": {},
     "output_type": "display_data"
    },
    {
     "data": {
      "text/markdown": [
       "<span style=\"color:#33cc33\">Correct</span>"
      ],
      "text/plain": [
       "Correct"
      ]
     },
     "metadata": {},
     "output_type": "display_data"
    }
   ],
   "source": [
    "# Create the list of features below\n",
    "feature_names = ['LotArea', 'YearBuilt', '1stFlrSF', '2ndFlrSF', 'FullBath', 'BedroomAbvGr', 'TotRmsAbvGrd']\n",
    "\n",
    "# Select data corresponding to features in feature_names\n",
    "X = home_data[feature_names]\n",
    "\n",
    "# Check your answer\n",
    "step_2.check()"
   ]
  },
  {
   "cell_type": "code",
   "execution_count": 6,
   "id": "90e91d68",
   "metadata": {
    "collapsed": true,
    "execution": {
     "iopub.execute_input": "2021-09-08T12:03:15.167405Z",
     "iopub.status.busy": "2021-09-08T12:03:15.166679Z",
     "iopub.status.idle": "2021-09-08T12:03:15.168557Z",
     "shell.execute_reply": "2021-09-08T12:03:15.169101Z"
    },
    "jupyter": {
     "outputs_hidden": true
    },
    "papermill": {
     "duration": 0.025091,
     "end_time": "2021-09-08T12:03:15.169292",
     "exception": false,
     "start_time": "2021-09-08T12:03:15.144201",
     "status": "completed"
    },
    "tags": []
   },
   "outputs": [],
   "source": [
    "# step_2.hint()\n",
    "# step_2.solution()"
   ]
  },
  {
   "cell_type": "markdown",
   "id": "d52bfe89",
   "metadata": {
    "papermill": {
     "duration": 0.018813,
     "end_time": "2021-09-08T12:03:15.206401",
     "exception": false,
     "start_time": "2021-09-08T12:03:15.187588",
     "status": "completed"
    },
    "tags": []
   },
   "source": [
    "## Review Data\n",
    "Before building a model, take a quick look at **X** to verify it looks sensible"
   ]
  },
  {
   "cell_type": "code",
   "execution_count": 7,
   "id": "2dfe40eb",
   "metadata": {
    "execution": {
     "iopub.execute_input": "2021-09-08T12:03:15.247534Z",
     "iopub.status.busy": "2021-09-08T12:03:15.246839Z",
     "iopub.status.idle": "2021-09-08T12:03:15.281629Z",
     "shell.execute_reply": "2021-09-08T12:03:15.282237Z",
     "shell.execute_reply.started": "2021-09-08T11:55:15.840081Z"
    },
    "papermill": {
     "duration": 0.05658,
     "end_time": "2021-09-08T12:03:15.282463",
     "exception": false,
     "start_time": "2021-09-08T12:03:15.225883",
     "status": "completed"
    },
    "tags": []
   },
   "outputs": [
    {
     "name": "stdout",
     "output_type": "stream",
     "text": [
      "             LotArea    YearBuilt     1stFlrSF     2ndFlrSF     FullBath  \\\n",
      "count    1460.000000  1460.000000  1460.000000  1460.000000  1460.000000   \n",
      "mean    10516.828082  1971.267808  1162.626712   346.992466     1.565068   \n",
      "std      9981.264932    30.202904   386.587738   436.528436     0.550916   \n",
      "min      1300.000000  1872.000000   334.000000     0.000000     0.000000   \n",
      "25%      7553.500000  1954.000000   882.000000     0.000000     1.000000   \n",
      "50%      9478.500000  1973.000000  1087.000000     0.000000     2.000000   \n",
      "75%     11601.500000  2000.000000  1391.250000   728.000000     2.000000   \n",
      "max    215245.000000  2010.000000  4692.000000  2065.000000     3.000000   \n",
      "\n",
      "       BedroomAbvGr  TotRmsAbvGrd  \n",
      "count   1460.000000   1460.000000  \n",
      "mean       2.866438      6.517808  \n",
      "std        0.815778      1.625393  \n",
      "min        0.000000      2.000000  \n",
      "25%        2.000000      5.000000  \n",
      "50%        3.000000      6.000000  \n",
      "75%        3.000000      7.000000  \n",
      "max        8.000000     14.000000  \n",
      "   LotArea  YearBuilt  1stFlrSF  2ndFlrSF  FullBath  BedroomAbvGr  \\\n",
      "0     8450       2003       856       854         2             3   \n",
      "1     9600       1976      1262         0         2             3   \n",
      "2    11250       2001       920       866         2             3   \n",
      "3     9550       1915       961       756         1             3   \n",
      "4    14260       2000      1145      1053         2             4   \n",
      "\n",
      "   TotRmsAbvGrd  \n",
      "0             8  \n",
      "1             6  \n",
      "2             6  \n",
      "3             7  \n",
      "4             9  \n"
     ]
    }
   ],
   "source": [
    "# Review data\n",
    "# print description or statistics from X\n",
    "print(X.describe())\n",
    "\n",
    "# print the top few lines\n",
    "print(X.head())"
   ]
  },
  {
   "cell_type": "markdown",
   "id": "ff1ca419",
   "metadata": {
    "papermill": {
     "duration": 0.018288,
     "end_time": "2021-09-08T12:03:15.320524",
     "exception": false,
     "start_time": "2021-09-08T12:03:15.302236",
     "status": "completed"
    },
    "tags": []
   },
   "source": [
    "## Step 3: Specify and Fit Model\n",
    "Create a `DecisionTreeRegressor` and save it iowa_model. Ensure you've done the relevant import from sklearn to run this command.\n",
    "\n",
    "Then fit the model you just created using the data in `X` and `y` that you saved above."
   ]
  },
  {
   "cell_type": "code",
   "execution_count": 8,
   "id": "09c605d5",
   "metadata": {
    "execution": {
     "iopub.execute_input": "2021-09-08T12:03:15.361173Z",
     "iopub.status.busy": "2021-09-08T12:03:15.360447Z",
     "iopub.status.idle": "2021-09-08T12:03:15.379783Z",
     "shell.execute_reply": "2021-09-08T12:03:15.379213Z",
     "shell.execute_reply.started": "2021-09-08T11:57:57.523767Z"
    },
    "papermill": {
     "duration": 0.04075,
     "end_time": "2021-09-08T12:03:15.379936",
     "exception": false,
     "start_time": "2021-09-08T12:03:15.339186",
     "status": "completed"
    },
    "tags": []
   },
   "outputs": [
    {
     "data": {
      "application/javascript": [
       "parent.postMessage({\"jupyterEvent\": \"custom.exercise_interaction\", \"data\": {\"outcomeType\": 1, \"valueTowardsCompletion\": 0.25, \"interactionType\": 1, \"questionType\": 2, \"questionId\": \"3_CreateModel\", \"learnToolsVersion\": \"0.3.4\", \"failureMessage\": \"\", \"exceptionClass\": \"\", \"trace\": \"\"}}, \"*\")"
      ],
      "text/plain": [
       "<IPython.core.display.Javascript object>"
      ]
     },
     "metadata": {},
     "output_type": "display_data"
    },
    {
     "data": {
      "text/markdown": [
       "<span style=\"color:#33cc33\">Correct</span>"
      ],
      "text/plain": [
       "Correct"
      ]
     },
     "metadata": {},
     "output_type": "display_data"
    }
   ],
   "source": [
    "from sklearn.tree import DecisionTreeRegressor\n",
    "#specify the model. \n",
    "#For model reproducibility, set a numeric value for random_state when specifying the model\n",
    "iowa_model = DecisionTreeRegressor(random_state=1)\n",
    "\n",
    "# Fit the model\n",
    "iowa_model.fit(X, y)\n",
    "\n",
    "# Check your answer\n",
    "step_3.check()"
   ]
  },
  {
   "cell_type": "code",
   "execution_count": 9,
   "id": "1b7ee5d2",
   "metadata": {
    "execution": {
     "iopub.execute_input": "2021-09-08T12:03:15.424478Z",
     "iopub.status.busy": "2021-09-08T12:03:15.423447Z",
     "iopub.status.idle": "2021-09-08T12:03:15.426496Z",
     "shell.execute_reply": "2021-09-08T12:03:15.425977Z",
     "shell.execute_reply.started": "2021-09-08T11:58:00.983938Z"
    },
    "papermill": {
     "duration": 0.027093,
     "end_time": "2021-09-08T12:03:15.426646",
     "exception": false,
     "start_time": "2021-09-08T12:03:15.399553",
     "status": "completed"
    },
    "tags": []
   },
   "outputs": [],
   "source": [
    "# step_3.hint()\n",
    "# step_3.solution()"
   ]
  },
  {
   "cell_type": "markdown",
   "id": "ea5e3188",
   "metadata": {
    "papermill": {
     "duration": 0.019183,
     "end_time": "2021-09-08T12:03:15.466121",
     "exception": false,
     "start_time": "2021-09-08T12:03:15.446938",
     "status": "completed"
    },
    "tags": []
   },
   "source": [
    "## Step 4: Make Predictions\n",
    "Make predictions with the model's `predict` command using `X` as the data. Save the results to a variable called `predictions`."
   ]
  },
  {
   "cell_type": "code",
   "execution_count": 10,
   "id": "5df662cc",
   "metadata": {
    "execution": {
     "iopub.execute_input": "2021-09-08T12:03:15.511427Z",
     "iopub.status.busy": "2021-09-08T12:03:15.510749Z",
     "iopub.status.idle": "2021-09-08T12:03:15.522225Z",
     "shell.execute_reply": "2021-09-08T12:03:15.521560Z",
     "shell.execute_reply.started": "2021-09-08T11:59:22.174437Z"
    },
    "papermill": {
     "duration": 0.036848,
     "end_time": "2021-09-08T12:03:15.522365",
     "exception": false,
     "start_time": "2021-09-08T12:03:15.485517",
     "status": "completed"
    },
    "tags": []
   },
   "outputs": [
    {
     "name": "stdout",
     "output_type": "stream",
     "text": [
      "[208500. 181500. 223500. ... 266500. 142125. 147500.]\n"
     ]
    },
    {
     "data": {
      "application/javascript": [
       "parent.postMessage({\"jupyterEvent\": \"custom.exercise_interaction\", \"data\": {\"outcomeType\": 1, \"valueTowardsCompletion\": 0.25, \"interactionType\": 1, \"questionType\": 2, \"questionId\": \"4_MakePredictions\", \"learnToolsVersion\": \"0.3.4\", \"failureMessage\": \"\", \"exceptionClass\": \"\", \"trace\": \"\"}}, \"*\")"
      ],
      "text/plain": [
       "<IPython.core.display.Javascript object>"
      ]
     },
     "metadata": {},
     "output_type": "display_data"
    },
    {
     "data": {
      "text/markdown": [
       "<span style=\"color:#33cc33\">Correct</span>"
      ],
      "text/plain": [
       "Correct"
      ]
     },
     "metadata": {},
     "output_type": "display_data"
    }
   ],
   "source": [
    "predictions = iowa_model.predict(X)\n",
    "print(predictions)\n",
    "\n",
    "# Check your answer\n",
    "step_4.check()"
   ]
  },
  {
   "cell_type": "code",
   "execution_count": 11,
   "id": "868dcb9c",
   "metadata": {
    "execution": {
     "iopub.execute_input": "2021-09-08T12:03:15.583684Z",
     "iopub.status.busy": "2021-09-08T12:03:15.582629Z",
     "iopub.status.idle": "2021-09-08T12:03:15.584739Z",
     "shell.execute_reply": "2021-09-08T12:03:15.585529Z",
     "shell.execute_reply.started": "2021-09-08T11:59:26.324281Z"
    },
    "papermill": {
     "duration": 0.038107,
     "end_time": "2021-09-08T12:03:15.585825",
     "exception": false,
     "start_time": "2021-09-08T12:03:15.547718",
     "status": "completed"
    },
    "tags": []
   },
   "outputs": [],
   "source": [
    "# step_4.hint()\n",
    "# step_4.solution()"
   ]
  },
  {
   "cell_type": "markdown",
   "id": "78f01938",
   "metadata": {
    "papermill": {
     "duration": 0.023442,
     "end_time": "2021-09-08T12:03:15.643675",
     "exception": false,
     "start_time": "2021-09-08T12:03:15.620233",
     "status": "completed"
    },
    "tags": []
   },
   "source": [
    "## Think About Your Results\n",
    "\n",
    "Use the `head` method to compare the top few predictions to the actual home values (in `y`) for those same homes. Anything surprising?\n"
   ]
  },
  {
   "cell_type": "code",
   "execution_count": 12,
   "id": "9b87d195",
   "metadata": {
    "execution": {
     "iopub.execute_input": "2021-09-08T12:03:15.693889Z",
     "iopub.status.busy": "2021-09-08T12:03:15.693246Z",
     "iopub.status.idle": "2021-09-08T12:03:15.701330Z",
     "shell.execute_reply": "2021-09-08T12:03:15.701799Z",
     "shell.execute_reply.started": "2021-09-08T12:01:53.229748Z"
    },
    "papermill": {
     "duration": 0.032265,
     "end_time": "2021-09-08T12:03:15.702016",
     "exception": false,
     "start_time": "2021-09-08T12:03:15.669751",
     "status": "completed"
    },
    "tags": []
   },
   "outputs": [
    {
     "name": "stdout",
     "output_type": "stream",
     "text": [
      "0    208500\n",
      "1    181500\n",
      "2    223500\n",
      "3    140000\n",
      "4    250000\n",
      "Name: SalePrice, dtype: int64\n",
      "208500.0 181500.0 223500.0 140000.0 250000.0\n"
     ]
    }
   ],
   "source": [
    "# You can write code in this cell\n",
    "print(y.head())\n",
    "print(predictions[0], predictions[1], predictions[2], predictions[3], predictions[4])"
   ]
  },
  {
   "cell_type": "markdown",
   "id": "1b79c7ea",
   "metadata": {
    "papermill": {
     "duration": 0.024601,
     "end_time": "2021-09-08T12:03:15.749218",
     "exception": false,
     "start_time": "2021-09-08T12:03:15.724617",
     "status": "completed"
    },
    "tags": []
   },
   "source": [
    "It's natural to ask how accurate the model's predictions will be and how you can improve that. That will be you're next step.\n",
    "\n",
    "# Keep Going\n",
    "\n",
    "You are ready for **[Model Validation](https://www.kaggle.com/dansbecker/model-validation).**\n"
   ]
  },
  {
   "cell_type": "markdown",
   "id": "16bfad4c",
   "metadata": {
    "papermill": {
     "duration": 0.02106,
     "end_time": "2021-09-08T12:03:15.791841",
     "exception": false,
     "start_time": "2021-09-08T12:03:15.770781",
     "status": "completed"
    },
    "tags": []
   },
   "source": [
    "---\n",
    "\n",
    "\n",
    "\n",
    "\n",
    "*Have questions or comments? Visit the [Learn Discussion forum](https://www.kaggle.com/learn-forum/161285) to chat with other Learners.*"
   ]
  }
 ],
 "metadata": {
  "kernelspec": {
   "display_name": "Python 3",
   "language": "python",
   "name": "python3"
  },
  "language_info": {
   "codemirror_mode": {
    "name": "ipython",
    "version": 3
   },
   "file_extension": ".py",
   "mimetype": "text/x-python",
   "name": "python",
   "nbconvert_exporter": "python",
   "pygments_lexer": "ipython3",
   "version": "3.7.10"
  },
  "papermill": {
   "default_parameters": {},
   "duration": 12.806279,
   "end_time": "2021-09-08T12:03:17.740355",
   "environment_variables": {},
   "exception": null,
   "input_path": "__notebook__.ipynb",
   "output_path": "__notebook__.ipynb",
   "parameters": {},
   "start_time": "2021-09-08T12:03:04.934076",
   "version": "2.3.3"
  }
 },
 "nbformat": 4,
 "nbformat_minor": 5
}
