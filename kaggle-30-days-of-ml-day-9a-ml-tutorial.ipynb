{
 "cells": [
  {
   "cell_type": "markdown",
   "id": "d9766a29",
   "metadata": {
    "papermill": {
     "duration": 0.014693,
     "end_time": "2021-09-08T11:49:15.638613",
     "exception": false,
     "start_time": "2021-09-08T11:49:15.623920",
     "status": "completed"
    },
    "tags": []
   },
   "source": [
    "# Selecting Data for Modeling\n",
    "Your dataset had  too many variables to wrap your head around, or even to print out nicely.  How can you pare down this overwhelming amount of data to something you can understand?\n",
    "\n",
    "We'll start by picking a few variables using our intuition. Later courses will show you statistical techniques to automatically prioritize variables.\n",
    "\n",
    "To choose variables/columns, we'll need to see a list of all columns in the dataset. That is done with the **columns** property of the DataFrame (the bottom line of code below).\n"
   ]
  },
  {
   "cell_type": "code",
   "execution_count": 1,
   "id": "59747a40",
   "metadata": {
    "execution": {
     "iopub.execute_input": "2021-09-08T11:49:15.678512Z",
     "iopub.status.busy": "2021-09-08T11:49:15.677795Z",
     "iopub.status.idle": "2021-09-08T11:49:15.876455Z",
     "shell.execute_reply": "2021-09-08T11:49:15.875167Z",
     "shell.execute_reply.started": "2021-09-08T11:24:58.452647Z"
    },
    "papermill": {
     "duration": 0.224501,
     "end_time": "2021-09-08T11:49:15.876755",
     "exception": false,
     "start_time": "2021-09-08T11:49:15.652254",
     "status": "completed"
    },
    "tags": []
   },
   "outputs": [
    {
     "data": {
      "text/plain": [
       "Index(['Suburb', 'Address', 'Rooms', 'Type', 'Price', 'Method', 'SellerG',\n",
       "       'Date', 'Distance', 'Postcode', 'Bedroom2', 'Bathroom', 'Car',\n",
       "       'Landsize', 'BuildingArea', 'YearBuilt', 'CouncilArea', 'Lattitude',\n",
       "       'Longtitude', 'Regionname', 'Propertycount'],\n",
       "      dtype='object')"
      ]
     },
     "execution_count": 1,
     "metadata": {},
     "output_type": "execute_result"
    }
   ],
   "source": [
    "import pandas as pd\n",
    "\n",
    "melbourne_file_path = '../input/melbourne-housing-snapshot/melb_data.csv'\n",
    "melbourne_data = pd.read_csv(melbourne_file_path) \n",
    "melbourne_data.columns"
   ]
  },
  {
   "cell_type": "code",
   "execution_count": 2,
   "id": "8be5c091",
   "metadata": {
    "execution": {
     "iopub.execute_input": "2021-09-08T11:49:15.933256Z",
     "iopub.status.busy": "2021-09-08T11:49:15.932468Z",
     "iopub.status.idle": "2021-09-08T11:49:15.986347Z",
     "shell.execute_reply": "2021-09-08T11:49:15.985445Z"
    },
    "papermill": {
     "duration": 0.087743,
     "end_time": "2021-09-08T11:49:15.986519",
     "exception": false,
     "start_time": "2021-09-08T11:49:15.898776",
     "status": "completed"
    },
    "tags": []
   },
   "outputs": [],
   "source": [
    "# The Melbourne data has some missing values (some houses for which some variables weren't recorded.)\n",
    "# We'll learn to handle missing values in a later tutorial.  \n",
    "# Your Iowa data doesn't have missing values in the columns you use. \n",
    "# So we will take the simplest option for now, and drop houses from our data. \n",
    "# Don't worry about this much for now, though the code is:\n",
    "\n",
    "# dropna drops missing values (think of na as \"not available\")\n",
    "melbourne_data = melbourne_data.dropna(axis=0)"
   ]
  },
  {
   "cell_type": "markdown",
   "id": "2a006d9f",
   "metadata": {
    "papermill": {
     "duration": 0.015391,
     "end_time": "2021-09-08T11:49:16.017726",
     "exception": false,
     "start_time": "2021-09-08T11:49:16.002335",
     "status": "completed"
    },
    "tags": []
   },
   "source": [
    "There are many ways to select a subset of your data. The [Pandas course](https://www.kaggle.com/learn/pandas) covers these in more depth, but we will focus on two approaches for now.\n",
    "\n",
    "1. Dot notation, which we use to select the \"prediction target\"\n",
    "2. Selecting with a column list, which we use to select the \"features\" \n",
    "\n",
    "## Selecting The Prediction Target \n",
    "You can pull out a variable with **dot-notation**.  This single column is stored in a **Series**, which is broadly like a DataFrame with only a single column of data.  \n",
    "\n",
    "We'll use the dot notation to select the column we want to predict, which is called the **prediction target**. By convention, the prediction target is called **y**. So the code we need to save the house prices in the Melbourne data is"
   ]
  },
  {
   "cell_type": "code",
   "execution_count": 3,
   "id": "99819798",
   "metadata": {
    "execution": {
     "iopub.execute_input": "2021-09-08T11:49:16.057473Z",
     "iopub.status.busy": "2021-09-08T11:49:16.056736Z",
     "iopub.status.idle": "2021-09-08T11:49:16.061770Z",
     "shell.execute_reply": "2021-09-08T11:49:16.061127Z",
     "shell.execute_reply.started": "2021-09-08T11:48:15.552157Z"
    },
    "papermill": {
     "duration": 0.028854,
     "end_time": "2021-09-08T11:49:16.061915",
     "exception": false,
     "start_time": "2021-09-08T11:49:16.033061",
     "status": "completed"
    },
    "tags": []
   },
   "outputs": [
    {
     "data": {
      "text/plain": [
       "1    1035000.0\n",
       "2    1465000.0\n",
       "4    1600000.0\n",
       "6    1876000.0\n",
       "7    1636000.0\n",
       "Name: Price, dtype: float64"
      ]
     },
     "execution_count": 3,
     "metadata": {},
     "output_type": "execute_result"
    }
   ],
   "source": [
    "y = melbourne_data.Price\n",
    "y.head()"
   ]
  },
  {
   "cell_type": "markdown",
   "id": "7c7c6d5f",
   "metadata": {
    "papermill": {
     "duration": 0.01394,
     "end_time": "2021-09-08T11:49:16.090370",
     "exception": false,
     "start_time": "2021-09-08T11:49:16.076430",
     "status": "completed"
    },
    "tags": []
   },
   "source": [
    "# Choosing \"Features\"\n",
    "The columns that are inputted into our model (and later used to make predictions) are called \"features.\" In our case, those would be the columns used to determine the home price. Sometimes, you will use all columns except the target as features. Other times you'll be better off with fewer features. \n",
    "\n",
    "For now, we'll build a model with only a few features. Later on you'll see how to iterate and compare models built with different features.\n",
    "\n",
    "We select multiple features by providing a list of column names inside brackets. Each item in that list should be a string (with quotes).\n",
    "\n",
    "Here is an example:"
   ]
  },
  {
   "cell_type": "code",
   "execution_count": 4,
   "id": "91c14d6a",
   "metadata": {
    "execution": {
     "iopub.execute_input": "2021-09-08T11:49:16.125546Z",
     "iopub.status.busy": "2021-09-08T11:49:16.124767Z",
     "iopub.status.idle": "2021-09-08T11:49:16.127815Z",
     "shell.execute_reply": "2021-09-08T11:49:16.128406Z",
     "shell.execute_reply.started": "2021-09-08T11:36:56.017154Z"
    },
    "papermill": {
     "duration": 0.022837,
     "end_time": "2021-09-08T11:49:16.128596",
     "exception": false,
     "start_time": "2021-09-08T11:49:16.105759",
     "status": "completed"
    },
    "tags": []
   },
   "outputs": [],
   "source": [
    "melbourne_features = ['Rooms', 'Bathroom', 'Landsize', 'Lattitude', 'Longtitude']"
   ]
  },
  {
   "cell_type": "markdown",
   "id": "8b69574b",
   "metadata": {
    "papermill": {
     "duration": 0.013646,
     "end_time": "2021-09-08T11:49:16.156572",
     "exception": false,
     "start_time": "2021-09-08T11:49:16.142926",
     "status": "completed"
    },
    "tags": []
   },
   "source": [
    "By convention, this data is called **X**."
   ]
  },
  {
   "cell_type": "code",
   "execution_count": 5,
   "id": "db6c530e",
   "metadata": {
    "execution": {
     "iopub.execute_input": "2021-09-08T11:49:16.192434Z",
     "iopub.status.busy": "2021-09-08T11:49:16.191419Z",
     "iopub.status.idle": "2021-09-08T11:49:16.194679Z",
     "shell.execute_reply": "2021-09-08T11:49:16.194152Z",
     "shell.execute_reply.started": "2021-09-08T11:37:19.871213Z"
    },
    "papermill": {
     "duration": 0.023214,
     "end_time": "2021-09-08T11:49:16.194824",
     "exception": false,
     "start_time": "2021-09-08T11:49:16.171610",
     "status": "completed"
    },
    "tags": []
   },
   "outputs": [],
   "source": [
    "X = melbourne_data[melbourne_features]"
   ]
  },
  {
   "cell_type": "markdown",
   "id": "5bd26fb5",
   "metadata": {
    "papermill": {
     "duration": 0.014163,
     "end_time": "2021-09-08T11:49:16.223226",
     "exception": false,
     "start_time": "2021-09-08T11:49:16.209063",
     "status": "completed"
    },
    "tags": []
   },
   "source": [
    "Let's quickly review the data we'll be using to predict house prices using the `describe` method and the `head` method, which shows the top few rows."
   ]
  },
  {
   "cell_type": "code",
   "execution_count": 6,
   "id": "6ad4e94b",
   "metadata": {
    "execution": {
     "iopub.execute_input": "2021-09-08T11:49:16.255695Z",
     "iopub.status.busy": "2021-09-08T11:49:16.255019Z",
     "iopub.status.idle": "2021-09-08T11:49:16.293943Z",
     "shell.execute_reply": "2021-09-08T11:49:16.293408Z",
     "shell.execute_reply.started": "2021-09-08T11:37:22.511586Z"
    },
    "papermill": {
     "duration": 0.056524,
     "end_time": "2021-09-08T11:49:16.294154",
     "exception": false,
     "start_time": "2021-09-08T11:49:16.237630",
     "status": "completed"
    },
    "tags": []
   },
   "outputs": [
    {
     "data": {
      "text/html": [
       "<div>\n",
       "<style scoped>\n",
       "    .dataframe tbody tr th:only-of-type {\n",
       "        vertical-align: middle;\n",
       "    }\n",
       "\n",
       "    .dataframe tbody tr th {\n",
       "        vertical-align: top;\n",
       "    }\n",
       "\n",
       "    .dataframe thead th {\n",
       "        text-align: right;\n",
       "    }\n",
       "</style>\n",
       "<table border=\"1\" class=\"dataframe\">\n",
       "  <thead>\n",
       "    <tr style=\"text-align: right;\">\n",
       "      <th></th>\n",
       "      <th>Rooms</th>\n",
       "      <th>Bathroom</th>\n",
       "      <th>Landsize</th>\n",
       "      <th>Lattitude</th>\n",
       "      <th>Longtitude</th>\n",
       "    </tr>\n",
       "  </thead>\n",
       "  <tbody>\n",
       "    <tr>\n",
       "      <th>count</th>\n",
       "      <td>6196.000000</td>\n",
       "      <td>6196.000000</td>\n",
       "      <td>6196.000000</td>\n",
       "      <td>6196.000000</td>\n",
       "      <td>6196.000000</td>\n",
       "    </tr>\n",
       "    <tr>\n",
       "      <th>mean</th>\n",
       "      <td>2.931407</td>\n",
       "      <td>1.576340</td>\n",
       "      <td>471.006940</td>\n",
       "      <td>-37.807904</td>\n",
       "      <td>144.990201</td>\n",
       "    </tr>\n",
       "    <tr>\n",
       "      <th>std</th>\n",
       "      <td>0.971079</td>\n",
       "      <td>0.711362</td>\n",
       "      <td>897.449881</td>\n",
       "      <td>0.075850</td>\n",
       "      <td>0.099165</td>\n",
       "    </tr>\n",
       "    <tr>\n",
       "      <th>min</th>\n",
       "      <td>1.000000</td>\n",
       "      <td>1.000000</td>\n",
       "      <td>0.000000</td>\n",
       "      <td>-38.164920</td>\n",
       "      <td>144.542370</td>\n",
       "    </tr>\n",
       "    <tr>\n",
       "      <th>25%</th>\n",
       "      <td>2.000000</td>\n",
       "      <td>1.000000</td>\n",
       "      <td>152.000000</td>\n",
       "      <td>-37.855438</td>\n",
       "      <td>144.926198</td>\n",
       "    </tr>\n",
       "    <tr>\n",
       "      <th>50%</th>\n",
       "      <td>3.000000</td>\n",
       "      <td>1.000000</td>\n",
       "      <td>373.000000</td>\n",
       "      <td>-37.802250</td>\n",
       "      <td>144.995800</td>\n",
       "    </tr>\n",
       "    <tr>\n",
       "      <th>75%</th>\n",
       "      <td>4.000000</td>\n",
       "      <td>2.000000</td>\n",
       "      <td>628.000000</td>\n",
       "      <td>-37.758200</td>\n",
       "      <td>145.052700</td>\n",
       "    </tr>\n",
       "    <tr>\n",
       "      <th>max</th>\n",
       "      <td>8.000000</td>\n",
       "      <td>8.000000</td>\n",
       "      <td>37000.000000</td>\n",
       "      <td>-37.457090</td>\n",
       "      <td>145.526350</td>\n",
       "    </tr>\n",
       "  </tbody>\n",
       "</table>\n",
       "</div>"
      ],
      "text/plain": [
       "             Rooms     Bathroom      Landsize    Lattitude   Longtitude\n",
       "count  6196.000000  6196.000000   6196.000000  6196.000000  6196.000000\n",
       "mean      2.931407     1.576340    471.006940   -37.807904   144.990201\n",
       "std       0.971079     0.711362    897.449881     0.075850     0.099165\n",
       "min       1.000000     1.000000      0.000000   -38.164920   144.542370\n",
       "25%       2.000000     1.000000    152.000000   -37.855438   144.926198\n",
       "50%       3.000000     1.000000    373.000000   -37.802250   144.995800\n",
       "75%       4.000000     2.000000    628.000000   -37.758200   145.052700\n",
       "max       8.000000     8.000000  37000.000000   -37.457090   145.526350"
      ]
     },
     "execution_count": 6,
     "metadata": {},
     "output_type": "execute_result"
    }
   ],
   "source": [
    "X.describe()"
   ]
  },
  {
   "cell_type": "code",
   "execution_count": 7,
   "id": "8f3e67e5",
   "metadata": {
    "execution": {
     "iopub.execute_input": "2021-09-08T11:49:16.338391Z",
     "iopub.status.busy": "2021-09-08T11:49:16.337524Z",
     "iopub.status.idle": "2021-09-08T11:49:16.341004Z",
     "shell.execute_reply": "2021-09-08T11:49:16.341495Z",
     "shell.execute_reply.started": "2021-09-08T11:37:36.002216Z"
    },
    "papermill": {
     "duration": 0.032549,
     "end_time": "2021-09-08T11:49:16.341681",
     "exception": false,
     "start_time": "2021-09-08T11:49:16.309132",
     "status": "completed"
    },
    "tags": []
   },
   "outputs": [
    {
     "data": {
      "text/html": [
       "<div>\n",
       "<style scoped>\n",
       "    .dataframe tbody tr th:only-of-type {\n",
       "        vertical-align: middle;\n",
       "    }\n",
       "\n",
       "    .dataframe tbody tr th {\n",
       "        vertical-align: top;\n",
       "    }\n",
       "\n",
       "    .dataframe thead th {\n",
       "        text-align: right;\n",
       "    }\n",
       "</style>\n",
       "<table border=\"1\" class=\"dataframe\">\n",
       "  <thead>\n",
       "    <tr style=\"text-align: right;\">\n",
       "      <th></th>\n",
       "      <th>Rooms</th>\n",
       "      <th>Bathroom</th>\n",
       "      <th>Landsize</th>\n",
       "      <th>Lattitude</th>\n",
       "      <th>Longtitude</th>\n",
       "    </tr>\n",
       "  </thead>\n",
       "  <tbody>\n",
       "    <tr>\n",
       "      <th>1</th>\n",
       "      <td>2</td>\n",
       "      <td>1.0</td>\n",
       "      <td>156.0</td>\n",
       "      <td>-37.8079</td>\n",
       "      <td>144.9934</td>\n",
       "    </tr>\n",
       "    <tr>\n",
       "      <th>2</th>\n",
       "      <td>3</td>\n",
       "      <td>2.0</td>\n",
       "      <td>134.0</td>\n",
       "      <td>-37.8093</td>\n",
       "      <td>144.9944</td>\n",
       "    </tr>\n",
       "    <tr>\n",
       "      <th>4</th>\n",
       "      <td>4</td>\n",
       "      <td>1.0</td>\n",
       "      <td>120.0</td>\n",
       "      <td>-37.8072</td>\n",
       "      <td>144.9941</td>\n",
       "    </tr>\n",
       "    <tr>\n",
       "      <th>6</th>\n",
       "      <td>3</td>\n",
       "      <td>2.0</td>\n",
       "      <td>245.0</td>\n",
       "      <td>-37.8024</td>\n",
       "      <td>144.9993</td>\n",
       "    </tr>\n",
       "    <tr>\n",
       "      <th>7</th>\n",
       "      <td>2</td>\n",
       "      <td>1.0</td>\n",
       "      <td>256.0</td>\n",
       "      <td>-37.8060</td>\n",
       "      <td>144.9954</td>\n",
       "    </tr>\n",
       "  </tbody>\n",
       "</table>\n",
       "</div>"
      ],
      "text/plain": [
       "   Rooms  Bathroom  Landsize  Lattitude  Longtitude\n",
       "1      2       1.0     156.0   -37.8079    144.9934\n",
       "2      3       2.0     134.0   -37.8093    144.9944\n",
       "4      4       1.0     120.0   -37.8072    144.9941\n",
       "6      3       2.0     245.0   -37.8024    144.9993\n",
       "7      2       1.0     256.0   -37.8060    144.9954"
      ]
     },
     "execution_count": 7,
     "metadata": {},
     "output_type": "execute_result"
    }
   ],
   "source": [
    "X.head()"
   ]
  },
  {
   "cell_type": "markdown",
   "id": "35613860",
   "metadata": {
    "papermill": {
     "duration": 0.014937,
     "end_time": "2021-09-08T11:49:16.372723",
     "exception": false,
     "start_time": "2021-09-08T11:49:16.357786",
     "status": "completed"
    },
    "tags": []
   },
   "source": [
    "Visually checking your data with these commands is an important part of a data scientist's job.  You'll frequently find surprises in the dataset that deserve further inspection."
   ]
  },
  {
   "cell_type": "markdown",
   "id": "843248b2",
   "metadata": {
    "papermill": {
     "duration": 0.015436,
     "end_time": "2021-09-08T11:49:16.403910",
     "exception": false,
     "start_time": "2021-09-08T11:49:16.388474",
     "status": "completed"
    },
    "tags": []
   },
   "source": [
    "---\n",
    "# Building Your Model\n",
    "\n",
    "You will use the **scikit-learn** library to create your models.  When coding, this library is written as **sklearn**, as you will see in the sample code. Scikit-learn is easily the most popular library for modeling the types of data typically stored in DataFrames. \n",
    "\n",
    "The steps to building and using a model are:\n",
    "* **Define:** What type of model will it be?  A decision tree?  Some other type of model? Some other parameters of the model type are specified too.\n",
    "* **Fit:** Capture patterns from provided data. This is the heart of modeling.\n",
    "* **Predict:** Just what it sounds like\n",
    "* **Evaluate**: Determine how accurate the model's predictions are.\n",
    "\n",
    "Here is an example of defining a decision tree model with scikit-learn and fitting it with the features and target variable."
   ]
  },
  {
   "cell_type": "code",
   "execution_count": 8,
   "id": "42ac5c3e",
   "metadata": {
    "execution": {
     "iopub.execute_input": "2021-09-08T11:49:16.438983Z",
     "iopub.status.busy": "2021-09-08T11:49:16.438204Z",
     "iopub.status.idle": "2021-09-08T11:49:17.688746Z",
     "shell.execute_reply": "2021-09-08T11:49:17.687646Z",
     "shell.execute_reply.started": "2021-09-08T11:46:17.307077Z"
    },
    "papermill": {
     "duration": 1.268954,
     "end_time": "2021-09-08T11:49:17.688992",
     "exception": false,
     "start_time": "2021-09-08T11:49:16.420038",
     "status": "completed"
    },
    "tags": []
   },
   "outputs": [
    {
     "data": {
      "text/plain": [
       "DecisionTreeRegressor(random_state=1)"
      ]
     },
     "execution_count": 8,
     "metadata": {},
     "output_type": "execute_result"
    }
   ],
   "source": [
    "from sklearn.tree import DecisionTreeRegressor\n",
    "\n",
    "# Define model. Specify a number for random_state to ensure same results each run\n",
    "melbourne_model = DecisionTreeRegressor(random_state=1)\n",
    "\n",
    "# Fit model\n",
    "melbourne_model.fit(X, y)"
   ]
  },
  {
   "cell_type": "markdown",
   "id": "e03b78ec",
   "metadata": {
    "papermill": {
     "duration": 0.014944,
     "end_time": "2021-09-08T11:49:17.719471",
     "exception": false,
     "start_time": "2021-09-08T11:49:17.704527",
     "status": "completed"
    },
    "tags": []
   },
   "source": [
    "Many machine learning models allow some randomness in model training. Specifying a number for `random_state` ensures you get the same results in each run. This is considered a good practice. You use any number, and model quality won't depend meaningfully on exactly what value you choose.\n",
    "\n",
    "We now have a fitted model that we can use to make predictions.\n",
    "\n",
    "In practice, you'll want to make predictions for new houses coming on the market rather than the houses we already have prices for. But we'll make predictions for the first few rows of the training data to see how the predict function works.\n"
   ]
  },
  {
   "cell_type": "code",
   "execution_count": 9,
   "id": "f298f054",
   "metadata": {
    "execution": {
     "iopub.execute_input": "2021-09-08T11:49:17.762269Z",
     "iopub.status.busy": "2021-09-08T11:49:17.761471Z",
     "iopub.status.idle": "2021-09-08T11:49:17.766107Z",
     "shell.execute_reply": "2021-09-08T11:49:17.765253Z",
     "shell.execute_reply.started": "2021-09-08T11:46:54.686932Z"
    },
    "papermill": {
     "duration": 0.031767,
     "end_time": "2021-09-08T11:49:17.766449",
     "exception": false,
     "start_time": "2021-09-08T11:49:17.734682",
     "status": "completed"
    },
    "tags": []
   },
   "outputs": [
    {
     "name": "stdout",
     "output_type": "stream",
     "text": [
      "Making predictions for the following 5 houses:\n",
      "   Rooms  Bathroom  Landsize  Lattitude  Longtitude\n",
      "1      2       1.0     156.0   -37.8079    144.9934\n",
      "2      3       2.0     134.0   -37.8093    144.9944\n",
      "4      4       1.0     120.0   -37.8072    144.9941\n",
      "6      3       2.0     245.0   -37.8024    144.9993\n",
      "7      2       1.0     256.0   -37.8060    144.9954\n",
      "The predictions are\n",
      "[1035000. 1465000. 1600000. 1876000. 1636000.]\n"
     ]
    }
   ],
   "source": [
    "print(\"Making predictions for the following 5 houses:\")\n",
    "print(X.head())\n",
    "print(\"The predictions are\")\n",
    "print(melbourne_model.predict(X.head()))"
   ]
  },
  {
   "cell_type": "markdown",
   "id": "206b4b59",
   "metadata": {
    "papermill": {
     "duration": 0.016363,
     "end_time": "2021-09-08T11:49:17.800743",
     "exception": false,
     "start_time": "2021-09-08T11:49:17.784380",
     "status": "completed"
    },
    "tags": []
   },
   "source": [
    "# Your Turn\n",
    "Try it out yourself in the **[Model Building Exercise](https://www.kaggle.com/kernels/fork/1404276)**"
   ]
  },
  {
   "cell_type": "markdown",
   "id": "6bdebf7f",
   "metadata": {
    "papermill": {
     "duration": 0.015663,
     "end_time": "2021-09-08T11:49:17.832489",
     "exception": false,
     "start_time": "2021-09-08T11:49:17.816826",
     "status": "completed"
    },
    "tags": []
   },
   "source": [
    "---\n",
    "\n",
    "\n",
    "\n",
    "\n",
    "*Have questions or comments? Visit the [Learn Discussion forum](https://www.kaggle.com/learn-forum/161285) to chat with other Learners.*"
   ]
  }
 ],
 "metadata": {
  "kernelspec": {
   "display_name": "Python 3",
   "language": "python",
   "name": "python3"
  },
  "language_info": {
   "codemirror_mode": {
    "name": "ipython",
    "version": 3
   },
   "file_extension": ".py",
   "mimetype": "text/x-python",
   "name": "python",
   "nbconvert_exporter": "python",
   "pygments_lexer": "ipython3",
   "version": "3.7.10"
  },
  "papermill": {
   "default_parameters": {},
   "duration": 11.496867,
   "end_time": "2021-09-08T11:49:18.563123",
   "environment_variables": {},
   "exception": null,
   "input_path": "__notebook__.ipynb",
   "output_path": "__notebook__.ipynb",
   "parameters": {},
   "start_time": "2021-09-08T11:49:07.066256",
   "version": "2.3.3"
  }
 },
 "nbformat": 4,
 "nbformat_minor": 5
}
