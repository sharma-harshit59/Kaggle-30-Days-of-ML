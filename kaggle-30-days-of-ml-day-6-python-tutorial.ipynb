{
 "cells": [
  {
   "cell_type": "markdown",
   "id": "c2ad9307",
   "metadata": {
    "papermill": {
     "duration": 0.044059,
     "end_time": "2021-08-27T11:14:12.751419",
     "exception": false,
     "start_time": "2021-08-27T11:14:12.707360",
     "status": "completed"
    },
    "tags": []
   },
   "source": [
    "This lesson will cover two essential Python types: **strings** and **dictionaries**."
   ]
  },
  {
   "cell_type": "markdown",
   "id": "635cbb5f",
   "metadata": {
    "papermill": {
     "duration": 0.043672,
     "end_time": "2021-08-27T11:14:12.838041",
     "exception": false,
     "start_time": "2021-08-27T11:14:12.794369",
     "status": "completed"
    },
    "tags": []
   },
   "source": [
    "# Strings"
   ]
  },
  {
   "cell_type": "markdown",
   "id": "3fcb1681",
   "metadata": {
    "papermill": {
     "duration": 0.046599,
     "end_time": "2021-08-27T11:14:12.928769",
     "exception": false,
     "start_time": "2021-08-27T11:14:12.882170",
     "status": "completed"
    },
    "tags": []
   },
   "source": [
    "One place where the Python language really shines is in the manipulation of strings.\n",
    "This section will cover some of Python's built-in string methods and formatting operations.\n",
    "\n",
    "Such string manipulation patterns come up often in the context of data science work.\n",
    "\n",
    "## String syntax\n",
    "\n",
    "You've already seen plenty of strings in examples during the previous lessons, but just to recap, strings in Python can be defined using either single or double quotations. They are functionally equivalent."
   ]
  },
  {
   "cell_type": "code",
   "execution_count": 1,
   "id": "9788a659",
   "metadata": {
    "execution": {
     "iopub.execute_input": "2021-08-27T11:14:13.029727Z",
     "iopub.status.busy": "2021-08-27T11:14:13.029201Z",
     "iopub.status.idle": "2021-08-27T11:14:13.032938Z",
     "shell.execute_reply": "2021-08-27T11:14:13.032406Z",
     "shell.execute_reply.started": "2021-08-27T10:35:40.239056Z"
    },
    "papermill": {
     "duration": 0.060974,
     "end_time": "2021-08-27T11:14:13.033078",
     "exception": false,
     "start_time": "2021-08-27T11:14:12.972104",
     "status": "completed"
    },
    "tags": []
   },
   "outputs": [
    {
     "data": {
      "text/plain": [
       "True"
      ]
     },
     "execution_count": 1,
     "metadata": {},
     "output_type": "execute_result"
    }
   ],
   "source": [
    "x = 'Pluto is a planet'\n",
    "y = \"Pluto is a planet\"\n",
    "x == y"
   ]
  },
  {
   "cell_type": "markdown",
   "id": "0e31e963",
   "metadata": {
    "papermill": {
     "duration": 0.043786,
     "end_time": "2021-08-27T11:14:13.119823",
     "exception": false,
     "start_time": "2021-08-27T11:14:13.076037",
     "status": "completed"
    },
    "tags": []
   },
   "source": [
    "Double quotes are convenient if your string contains a single quote character (e.g. representing an apostrophe).\n",
    "\n",
    "Similarly, it's easy to create a string that contains double-quotes if you wrap it in single quotes:"
   ]
  },
  {
   "cell_type": "code",
   "execution_count": 2,
   "id": "a39f2d5d",
   "metadata": {
    "execution": {
     "iopub.execute_input": "2021-08-27T11:14:13.210702Z",
     "iopub.status.busy": "2021-08-27T11:14:13.210093Z",
     "iopub.status.idle": "2021-08-27T11:14:13.212230Z",
     "shell.execute_reply": "2021-08-27T11:14:13.212664Z",
     "shell.execute_reply.started": "2021-08-27T10:36:23.310402Z"
    },
    "papermill": {
     "duration": 0.050475,
     "end_time": "2021-08-27T11:14:13.212802",
     "exception": false,
     "start_time": "2021-08-27T11:14:13.162327",
     "status": "completed"
    },
    "tags": []
   },
   "outputs": [
    {
     "name": "stdout",
     "output_type": "stream",
     "text": [
      "Pluto's a planet!\n",
      "My dog is named \"Pluto\"\n"
     ]
    }
   ],
   "source": [
    "print(\"Pluto's a planet!\")\n",
    "print('My dog is named \"Pluto\"')"
   ]
  },
  {
   "cell_type": "markdown",
   "id": "ba23dae9",
   "metadata": {
    "papermill": {
     "duration": 0.043975,
     "end_time": "2021-08-27T11:14:13.300475",
     "exception": false,
     "start_time": "2021-08-27T11:14:13.256500",
     "status": "completed"
    },
    "tags": []
   },
   "source": [
    "If we try to put a single quote character inside a single-quoted string, Python gets confused:"
   ]
  },
  {
   "cell_type": "code",
   "execution_count": 3,
   "id": "97cec64c",
   "metadata": {
    "execution": {
     "iopub.execute_input": "2021-08-27T11:14:13.389408Z",
     "iopub.status.busy": "2021-08-27T11:14:13.388793Z",
     "iopub.status.idle": "2021-08-27T11:14:13.393403Z",
     "shell.execute_reply": "2021-08-27T11:14:13.393907Z",
     "shell.execute_reply.started": "2021-08-27T10:38:22.130257Z"
    },
    "papermill": {
     "duration": 0.050172,
     "end_time": "2021-08-27T11:14:13.394044",
     "exception": false,
     "start_time": "2021-08-27T11:14:13.343872",
     "status": "completed"
    },
    "tags": [
     "raises-exception"
    ]
   },
   "outputs": [
    {
     "data": {
      "text/plain": [
       "\"Pluto's a planet!\""
      ]
     },
     "execution_count": 3,
     "metadata": {},
     "output_type": "execute_result"
    }
   ],
   "source": [
    "\"Pluto's a planet!\""
   ]
  },
  {
   "cell_type": "markdown",
   "id": "3cc112c3",
   "metadata": {
    "papermill": {
     "duration": 0.042956,
     "end_time": "2021-08-27T11:14:13.480458",
     "exception": false,
     "start_time": "2021-08-27T11:14:13.437502",
     "status": "completed"
    },
    "tags": []
   },
   "source": [
    "We can fix this by \"escaping\" the single quote with a backslash. "
   ]
  },
  {
   "cell_type": "code",
   "execution_count": 4,
   "id": "2697d9e1",
   "metadata": {
    "execution": {
     "iopub.execute_input": "2021-08-27T11:14:13.570827Z",
     "iopub.status.busy": "2021-08-27T11:14:13.570277Z",
     "iopub.status.idle": "2021-08-27T11:14:13.575526Z",
     "shell.execute_reply": "2021-08-27T11:14:13.575065Z",
     "shell.execute_reply.started": "2021-08-27T10:38:25.805356Z"
    },
    "papermill": {
     "duration": 0.051269,
     "end_time": "2021-08-27T11:14:13.575642",
     "exception": false,
     "start_time": "2021-08-27T11:14:13.524373",
     "status": "completed"
    },
    "tags": []
   },
   "outputs": [
    {
     "data": {
      "text/plain": [
       "\"Pluto's a planet!\""
      ]
     },
     "execution_count": 4,
     "metadata": {},
     "output_type": "execute_result"
    }
   ],
   "source": [
    "'Pluto\\'s a planet!'"
   ]
  },
  {
   "cell_type": "markdown",
   "id": "97f53595",
   "metadata": {
    "papermill": {
     "duration": 0.044624,
     "end_time": "2021-08-27T11:14:13.664868",
     "exception": false,
     "start_time": "2021-08-27T11:14:13.620244",
     "status": "completed"
    },
    "tags": []
   },
   "source": [
    "The table below summarizes some important uses of the backslash character.\n",
    "\n",
    "| What you type... | What you get | example               | `print(example)`             |\n",
    "|--------------|----------------|--------------------------------------------------------|\n",
    "| `\\'`         | `'`            | `'What\\'s up?'`         | `What's up?`                 |  \n",
    "| `\\\"`         | `\"`            | `\"That's \\\"cool\\\"\"`     | `That's \"cool\"`              |  \n",
    "| `\\\\`         | `\\`            |  `\"Look, a mountain: /\\\\\"` |  `Look, a mountain: /\\`  |\n",
    "| `\\n`        |   <br/>      |   `\"1\\n2 3\"`                       |   `1`<br/>`2 3`              |"
   ]
  },
  {
   "cell_type": "markdown",
   "id": "7c38b755",
   "metadata": {
    "papermill": {
     "duration": 0.043439,
     "end_time": "2021-08-27T11:14:13.752498",
     "exception": false,
     "start_time": "2021-08-27T11:14:13.709059",
     "status": "completed"
    },
    "tags": []
   },
   "source": [
    "The last sequence, `\\n`, represents the *newline character*. It causes Python to start a new line."
   ]
  },
  {
   "cell_type": "code",
   "execution_count": 5,
   "id": "cf524bf0",
   "metadata": {
    "execution": {
     "iopub.execute_input": "2021-08-27T11:14:13.848124Z",
     "iopub.status.busy": "2021-08-27T11:14:13.847546Z",
     "iopub.status.idle": "2021-08-27T11:14:13.851846Z",
     "shell.execute_reply": "2021-08-27T11:14:13.851082Z",
     "shell.execute_reply.started": "2021-08-27T10:38:57.245458Z"
    },
    "papermill": {
     "duration": 0.053954,
     "end_time": "2021-08-27T11:14:13.852017",
     "exception": false,
     "start_time": "2021-08-27T11:14:13.798063",
     "status": "completed"
    },
    "tags": []
   },
   "outputs": [
    {
     "name": "stdout",
     "output_type": "stream",
     "text": [
      "hello\n",
      "world\n"
     ]
    }
   ],
   "source": [
    "hello = \"hello\\nworld\"\n",
    "print(hello)"
   ]
  },
  {
   "cell_type": "markdown",
   "id": "2a440484",
   "metadata": {
    "papermill": {
     "duration": 0.045415,
     "end_time": "2021-08-27T11:14:13.942219",
     "exception": false,
     "start_time": "2021-08-27T11:14:13.896804",
     "status": "completed"
    },
    "tags": []
   },
   "source": [
    "In addition, Python's triple quote syntax for strings lets us include newlines literally (i.e. by just hitting 'Enter' on our keyboard, rather than using the special '\\n' sequence). We've already seen this in the docstrings we use to document our functions, but we can use them anywhere we want to define a string."
   ]
  },
  {
   "cell_type": "code",
   "execution_count": 6,
   "id": "bbd63ff1",
   "metadata": {
    "execution": {
     "iopub.execute_input": "2021-08-27T11:14:14.046642Z",
     "iopub.status.busy": "2021-08-27T11:14:14.045666Z",
     "iopub.status.idle": "2021-08-27T11:14:14.052269Z",
     "shell.execute_reply": "2021-08-27T11:14:14.053001Z",
     "shell.execute_reply.started": "2021-08-27T10:40:37.426302Z"
    },
    "papermill": {
     "duration": 0.067275,
     "end_time": "2021-08-27T11:14:14.053239",
     "exception": false,
     "start_time": "2021-08-27T11:14:13.985964",
     "status": "completed"
    },
    "tags": []
   },
   "outputs": [
    {
     "name": "stdout",
     "output_type": "stream",
     "text": [
      "hello\n",
      "world\n"
     ]
    },
    {
     "data": {
      "text/plain": [
       "True"
      ]
     },
     "execution_count": 6,
     "metadata": {},
     "output_type": "execute_result"
    }
   ],
   "source": [
    "triplequoted_hello = \"\"\"hello\n",
    "world\"\"\"\n",
    "print(triplequoted_hello)\n",
    "triplequoted_hello == hello"
   ]
  },
  {
   "cell_type": "markdown",
   "id": "af3e0846",
   "metadata": {
    "papermill": {
     "duration": 0.046197,
     "end_time": "2021-08-27T11:14:14.161307",
     "exception": false,
     "start_time": "2021-08-27T11:14:14.115110",
     "status": "completed"
    },
    "tags": []
   },
   "source": [
    "The `print()` function automatically adds a newline character unless we specify a value for the keyword argument `end` other than the default value of `'\\n'`:"
   ]
  },
  {
   "cell_type": "code",
   "execution_count": 7,
   "id": "2c0877b2",
   "metadata": {
    "execution": {
     "iopub.execute_input": "2021-08-27T11:14:14.255186Z",
     "iopub.status.busy": "2021-08-27T11:14:14.254600Z",
     "iopub.status.idle": "2021-08-27T11:14:14.260310Z",
     "shell.execute_reply": "2021-08-27T11:14:14.259734Z",
     "shell.execute_reply.started": "2021-08-27T10:49:23.665450Z"
    },
    "papermill": {
     "duration": 0.053784,
     "end_time": "2021-08-27T11:14:14.260451",
     "exception": false,
     "start_time": "2021-08-27T11:14:14.206667",
     "status": "completed"
    },
    "tags": []
   },
   "outputs": [
    {
     "name": "stdout",
     "output_type": "stream",
     "text": [
      "hello\n",
      "world\n",
      "hellopluto"
     ]
    }
   ],
   "source": [
    "print(\"hello\")\n",
    "print(\"world\")\n",
    "print(\"hello\", end='')\n",
    "print(\"pluto\", end='')"
   ]
  },
  {
   "cell_type": "markdown",
   "id": "a17630a9",
   "metadata": {
    "papermill": {
     "duration": 0.047072,
     "end_time": "2021-08-27T11:14:14.353568",
     "exception": false,
     "start_time": "2021-08-27T11:14:14.306496",
     "status": "completed"
    },
    "tags": []
   },
   "source": [
    "## Strings are sequences\n",
    "\n",
    "Strings can be thought of as sequences of characters. Almost everything we've seen that we can do to a list, we can also do to a string."
   ]
  },
  {
   "cell_type": "code",
   "execution_count": 8,
   "id": "0fddfb89",
   "metadata": {
    "execution": {
     "iopub.execute_input": "2021-08-27T11:14:14.450065Z",
     "iopub.status.busy": "2021-08-27T11:14:14.449487Z",
     "iopub.status.idle": "2021-08-27T11:14:14.451788Z",
     "shell.execute_reply": "2021-08-27T11:14:14.452215Z",
     "shell.execute_reply.started": "2021-08-27T10:49:39.899443Z"
    },
    "papermill": {
     "duration": 0.053556,
     "end_time": "2021-08-27T11:14:14.452367",
     "exception": false,
     "start_time": "2021-08-27T11:14:14.398811",
     "status": "completed"
    },
    "tags": []
   },
   "outputs": [
    {
     "data": {
      "text/plain": [
       "'P'"
      ]
     },
     "execution_count": 8,
     "metadata": {},
     "output_type": "execute_result"
    }
   ],
   "source": [
    "# Indexing\n",
    "planet = 'Pluto'\n",
    "planet[0]"
   ]
  },
  {
   "cell_type": "code",
   "execution_count": 9,
   "id": "d954459a",
   "metadata": {
    "execution": {
     "iopub.execute_input": "2021-08-27T11:14:14.548288Z",
     "iopub.status.busy": "2021-08-27T11:14:14.547678Z",
     "iopub.status.idle": "2021-08-27T11:14:14.551700Z",
     "shell.execute_reply": "2021-08-27T11:14:14.552166Z",
     "shell.execute_reply.started": "2021-08-27T10:49:48.099662Z"
    },
    "papermill": {
     "duration": 0.053633,
     "end_time": "2021-08-27T11:14:14.552309",
     "exception": false,
     "start_time": "2021-08-27T11:14:14.498676",
     "status": "completed"
    },
    "tags": []
   },
   "outputs": [
    {
     "data": {
      "text/plain": [
       "'uto'"
      ]
     },
     "execution_count": 9,
     "metadata": {},
     "output_type": "execute_result"
    }
   ],
   "source": [
    "# Slicing\n",
    "planet[-3:]"
   ]
  },
  {
   "cell_type": "code",
   "execution_count": 10,
   "id": "a093f9e7",
   "metadata": {
    "execution": {
     "iopub.execute_input": "2021-08-27T11:14:14.648780Z",
     "iopub.status.busy": "2021-08-27T11:14:14.648121Z",
     "iopub.status.idle": "2021-08-27T11:14:14.653772Z",
     "shell.execute_reply": "2021-08-27T11:14:14.653032Z",
     "shell.execute_reply.started": "2021-08-27T10:50:45.665847Z"
    },
    "papermill": {
     "duration": 0.054543,
     "end_time": "2021-08-27T11:14:14.653908",
     "exception": false,
     "start_time": "2021-08-27T11:14:14.599365",
     "status": "completed"
    },
    "tags": []
   },
   "outputs": [
    {
     "data": {
      "text/plain": [
       "5"
      ]
     },
     "execution_count": 10,
     "metadata": {},
     "output_type": "execute_result"
    }
   ],
   "source": [
    "# How long is this string?\n",
    "len(planet)"
   ]
  },
  {
   "cell_type": "code",
   "execution_count": 11,
   "id": "daf91e2f",
   "metadata": {
    "execution": {
     "iopub.execute_input": "2021-08-27T11:14:14.755221Z",
     "iopub.status.busy": "2021-08-27T11:14:14.754465Z",
     "iopub.status.idle": "2021-08-27T11:14:14.757547Z",
     "shell.execute_reply": "2021-08-27T11:14:14.758055Z",
     "shell.execute_reply.started": "2021-08-27T10:51:05.534968Z"
    },
    "papermill": {
     "duration": 0.056646,
     "end_time": "2021-08-27T11:14:14.758237",
     "exception": false,
     "start_time": "2021-08-27T11:14:14.701591",
     "status": "completed"
    },
    "tags": []
   },
   "outputs": [
    {
     "data": {
      "text/plain": [
       "['P! ', 'l! ', 'u! ', 't! ', 'o! ']"
      ]
     },
     "execution_count": 11,
     "metadata": {},
     "output_type": "execute_result"
    }
   ],
   "source": [
    "# Yes, we can even loop over them\n",
    "[char+'! ' for char in planet]"
   ]
  },
  {
   "cell_type": "markdown",
   "id": "4f7a8e92",
   "metadata": {
    "papermill": {
     "duration": 0.045572,
     "end_time": "2021-08-27T11:14:14.852267",
     "exception": false,
     "start_time": "2021-08-27T11:14:14.806695",
     "status": "completed"
    },
    "tags": []
   },
   "source": [
    "But a major way in which they differ from lists is that they are *immutable*. We can't modify them."
   ]
  },
  {
   "cell_type": "code",
   "execution_count": 12,
   "id": "5e33abd1",
   "metadata": {
    "execution": {
     "iopub.execute_input": "2021-08-27T11:14:14.950864Z",
     "iopub.status.busy": "2021-08-27T11:14:14.949996Z",
     "iopub.status.idle": "2021-08-27T11:14:14.952934Z",
     "shell.execute_reply": "2021-08-27T11:14:14.953421Z",
     "shell.execute_reply.started": "2021-08-27T10:51:24.593907Z"
    },
    "papermill": {
     "duration": 0.054149,
     "end_time": "2021-08-27T11:14:14.953572",
     "exception": false,
     "start_time": "2021-08-27T11:14:14.899423",
     "status": "completed"
    },
    "tags": [
     "raises-exception"
    ]
   },
   "outputs": [],
   "source": [
    "# planet[0] = 'B'\n",
    "# planet.append doesn't work either"
   ]
  },
  {
   "cell_type": "markdown",
   "id": "32f5e355",
   "metadata": {
    "papermill": {
     "duration": 0.048561,
     "end_time": "2021-08-27T11:14:15.049184",
     "exception": false,
     "start_time": "2021-08-27T11:14:15.000623",
     "status": "completed"
    },
    "tags": []
   },
   "source": [
    "## String methods\n",
    "\n",
    "Like `list`, the type `str` has lots of very useful methods. I'll show just a few examples here."
   ]
  },
  {
   "cell_type": "code",
   "execution_count": 13,
   "id": "024d06d5",
   "metadata": {
    "execution": {
     "iopub.execute_input": "2021-08-27T11:14:15.147434Z",
     "iopub.status.busy": "2021-08-27T11:14:15.146477Z",
     "iopub.status.idle": "2021-08-27T11:14:15.151760Z",
     "shell.execute_reply": "2021-08-27T11:14:15.152243Z",
     "shell.execute_reply.started": "2021-08-27T10:51:31.600205Z"
    },
    "papermill": {
     "duration": 0.055331,
     "end_time": "2021-08-27T11:14:15.152422",
     "exception": false,
     "start_time": "2021-08-27T11:14:15.097091",
     "status": "completed"
    },
    "tags": []
   },
   "outputs": [
    {
     "data": {
      "text/plain": [
       "'PLUTO IS A PLANET!'"
      ]
     },
     "execution_count": 13,
     "metadata": {},
     "output_type": "execute_result"
    }
   ],
   "source": [
    "# ALL CAPS\n",
    "claim = \"Pluto is a planet!\"\n",
    "claim.upper()"
   ]
  },
  {
   "cell_type": "code",
   "execution_count": 14,
   "id": "1681219f",
   "metadata": {
    "execution": {
     "iopub.execute_input": "2021-08-27T11:14:15.251016Z",
     "iopub.status.busy": "2021-08-27T11:14:15.250491Z",
     "iopub.status.idle": "2021-08-27T11:14:15.254330Z",
     "shell.execute_reply": "2021-08-27T11:14:15.253763Z",
     "shell.execute_reply.started": "2021-08-27T10:51:34.778951Z"
    },
    "papermill": {
     "duration": 0.055866,
     "end_time": "2021-08-27T11:14:15.254469",
     "exception": false,
     "start_time": "2021-08-27T11:14:15.198603",
     "status": "completed"
    },
    "tags": []
   },
   "outputs": [
    {
     "data": {
      "text/plain": [
       "'pluto is a planet!'"
      ]
     },
     "execution_count": 14,
     "metadata": {},
     "output_type": "execute_result"
    }
   ],
   "source": [
    "# all lowercase\n",
    "claim.lower()"
   ]
  },
  {
   "cell_type": "code",
   "execution_count": 15,
   "id": "e97f83ed",
   "metadata": {
    "execution": {
     "iopub.execute_input": "2021-08-27T11:14:15.353644Z",
     "iopub.status.busy": "2021-08-27T11:14:15.353027Z",
     "iopub.status.idle": "2021-08-27T11:14:15.355464Z",
     "shell.execute_reply": "2021-08-27T11:14:15.355924Z",
     "shell.execute_reply.started": "2021-08-27T10:53:59.844334Z"
    },
    "papermill": {
     "duration": 0.054975,
     "end_time": "2021-08-27T11:14:15.356072",
     "exception": false,
     "start_time": "2021-08-27T11:14:15.301097",
     "status": "completed"
    },
    "tags": []
   },
   "outputs": [
    {
     "data": {
      "text/plain": [
       "0"
      ]
     },
     "execution_count": 15,
     "metadata": {},
     "output_type": "execute_result"
    }
   ],
   "source": [
    "# Searching for the first index of a substring\n",
    "claim.index('P')"
   ]
  },
  {
   "cell_type": "code",
   "execution_count": 16,
   "id": "f6d77c5a",
   "metadata": {
    "execution": {
     "iopub.execute_input": "2021-08-27T11:14:15.452946Z",
     "iopub.status.busy": "2021-08-27T11:14:15.452371Z",
     "iopub.status.idle": "2021-08-27T11:14:15.457334Z",
     "shell.execute_reply": "2021-08-27T11:14:15.457961Z",
     "shell.execute_reply.started": "2021-08-27T10:54:19.455348Z"
    },
    "papermill": {
     "duration": 0.055557,
     "end_time": "2021-08-27T11:14:15.458154",
     "exception": false,
     "start_time": "2021-08-27T11:14:15.402597",
     "status": "completed"
    },
    "tags": []
   },
   "outputs": [
    {
     "name": "stdout",
     "output_type": "stream",
     "text": [
      "Help on built-in function startswith:\n",
      "\n",
      "startswith(...) method of builtins.str instance\n",
      "    S.startswith(prefix[, start[, end]]) -> bool\n",
      "    \n",
      "    Return True if S starts with the specified prefix, False otherwise.\n",
      "    With optional start, test S beginning at that position.\n",
      "    With optional end, stop comparing S at that position.\n",
      "    prefix can also be a tuple of strings to try.\n",
      "\n"
     ]
    }
   ],
   "source": [
    "# claim.startswith(planet)\n",
    "help(x.startswith)"
   ]
  },
  {
   "cell_type": "code",
   "execution_count": 17,
   "id": "58eb347d",
   "metadata": {
    "execution": {
     "iopub.execute_input": "2021-08-27T11:14:15.557769Z",
     "iopub.status.busy": "2021-08-27T11:14:15.557133Z",
     "iopub.status.idle": "2021-08-27T11:14:15.561401Z",
     "shell.execute_reply": "2021-08-27T11:14:15.561859Z",
     "shell.execute_reply.started": "2021-08-27T10:52:25.900252Z"
    },
    "papermill": {
     "duration": 0.055439,
     "end_time": "2021-08-27T11:14:15.562072",
     "exception": false,
     "start_time": "2021-08-27T11:14:15.506633",
     "status": "completed"
    },
    "tags": []
   },
   "outputs": [
    {
     "data": {
      "text/plain": [
       "False"
      ]
     },
     "execution_count": 17,
     "metadata": {},
     "output_type": "execute_result"
    }
   ],
   "source": [
    "claim.endswith('dwarf planet')"
   ]
  },
  {
   "cell_type": "markdown",
   "id": "c6aa91f3",
   "metadata": {
    "papermill": {
     "duration": 0.056856,
     "end_time": "2021-08-27T11:14:15.672506",
     "exception": false,
     "start_time": "2021-08-27T11:14:15.615650",
     "status": "completed"
    },
    "tags": []
   },
   "source": [
    "### Going between strings and lists: `.split()` and `.join()`\n",
    "\n",
    "`str.split()` turns a string into a list of smaller strings, breaking on whitespace by default. This is super useful for taking you from one big string to a list of words."
   ]
  },
  {
   "cell_type": "code",
   "execution_count": 18,
   "id": "1113d262",
   "metadata": {
    "execution": {
     "iopub.execute_input": "2021-08-27T11:14:15.789588Z",
     "iopub.status.busy": "2021-08-27T11:14:15.788676Z",
     "iopub.status.idle": "2021-08-27T11:14:15.791455Z",
     "shell.execute_reply": "2021-08-27T11:14:15.791946Z",
     "shell.execute_reply.started": "2021-08-27T10:52:45.309428Z"
    },
    "papermill": {
     "duration": 0.068408,
     "end_time": "2021-08-27T11:14:15.792104",
     "exception": false,
     "start_time": "2021-08-27T11:14:15.723696",
     "status": "completed"
    },
    "tags": []
   },
   "outputs": [
    {
     "data": {
      "text/plain": [
       "['Pluto', 'is', 'a', 'planet!']"
      ]
     },
     "execution_count": 18,
     "metadata": {},
     "output_type": "execute_result"
    }
   ],
   "source": [
    "words = claim.split()\n",
    "words"
   ]
  },
  {
   "cell_type": "markdown",
   "id": "8175b391",
   "metadata": {
    "papermill": {
     "duration": 0.056103,
     "end_time": "2021-08-27T11:14:15.898543",
     "exception": false,
     "start_time": "2021-08-27T11:14:15.842440",
     "status": "completed"
    },
    "tags": []
   },
   "source": [
    "Occasionally you'll want to split on something other than whitespace:"
   ]
  },
  {
   "cell_type": "code",
   "execution_count": 19,
   "id": "2d910831",
   "metadata": {
    "execution": {
     "iopub.execute_input": "2021-08-27T11:14:16.002377Z",
     "iopub.status.busy": "2021-08-27T11:14:16.001693Z",
     "iopub.status.idle": "2021-08-27T11:14:16.006122Z",
     "shell.execute_reply": "2021-08-27T11:14:16.006759Z",
     "shell.execute_reply.started": "2021-08-27T10:54:42.914116Z"
    },
    "papermill": {
     "duration": 0.056828,
     "end_time": "2021-08-27T11:14:16.006913",
     "exception": false,
     "start_time": "2021-08-27T11:14:15.950085",
     "status": "completed"
    },
    "tags": []
   },
   "outputs": [],
   "source": [
    "datestr = '1956-01-31'\n",
    "year, month, day = datestr.split('-')"
   ]
  },
  {
   "cell_type": "markdown",
   "id": "57a8619f",
   "metadata": {
    "papermill": {
     "duration": 0.050656,
     "end_time": "2021-08-27T11:14:16.107342",
     "exception": false,
     "start_time": "2021-08-27T11:14:16.056686",
     "status": "completed"
    },
    "tags": []
   },
   "source": [
    "`str.join()` takes us in the other direction, sewing a list of strings up into one long string, using the string it was called on as a separator."
   ]
  },
  {
   "cell_type": "code",
   "execution_count": 20,
   "id": "3c1c2644",
   "metadata": {
    "execution": {
     "iopub.execute_input": "2021-08-27T11:14:16.211633Z",
     "iopub.status.busy": "2021-08-27T11:14:16.210948Z",
     "iopub.status.idle": "2021-08-27T11:14:16.217701Z",
     "shell.execute_reply": "2021-08-27T11:14:16.218124Z",
     "shell.execute_reply.started": "2021-08-27T10:54:52.464681Z"
    },
    "papermill": {
     "duration": 0.060437,
     "end_time": "2021-08-27T11:14:16.218316",
     "exception": false,
     "start_time": "2021-08-27T11:14:16.157879",
     "status": "completed"
    },
    "tags": []
   },
   "outputs": [
    {
     "data": {
      "text/plain": [
       "'01/31/1956'"
      ]
     },
     "execution_count": 20,
     "metadata": {},
     "output_type": "execute_result"
    }
   ],
   "source": [
    "'/'.join([month, day, year])"
   ]
  },
  {
   "cell_type": "code",
   "execution_count": 21,
   "id": "8e1641cb",
   "metadata": {
    "execution": {
     "iopub.execute_input": "2021-08-27T11:14:16.324555Z",
     "iopub.status.busy": "2021-08-27T11:14:16.323903Z",
     "iopub.status.idle": "2021-08-27T11:14:16.326399Z",
     "shell.execute_reply": "2021-08-27T11:14:16.326936Z",
     "shell.execute_reply.started": "2021-08-27T10:56:39.791584Z"
    },
    "papermill": {
     "duration": 0.059083,
     "end_time": "2021-08-27T11:14:16.327085",
     "exception": false,
     "start_time": "2021-08-27T11:14:16.268002",
     "status": "completed"
    },
    "tags": []
   },
   "outputs": [
    {
     "data": {
      "text/plain": [
       "'PLUTO 👏 IS 👏 A 👏 PLANET!'"
      ]
     },
     "execution_count": 21,
     "metadata": {},
     "output_type": "execute_result"
    }
   ],
   "source": [
    "# Yes, we can put unicode characters right in our string literals :)\n",
    "' 👏 '.join([word.upper() for word in words])"
   ]
  },
  {
   "cell_type": "markdown",
   "id": "2697c9a3",
   "metadata": {
    "papermill": {
     "duration": 0.048717,
     "end_time": "2021-08-27T11:14:16.424065",
     "exception": false,
     "start_time": "2021-08-27T11:14:16.375348",
     "status": "completed"
    },
    "tags": []
   },
   "source": [
    "### Building strings with `.format()`\n",
    "\n",
    "Python lets us concatenate strings with the `+` operator."
   ]
  },
  {
   "cell_type": "code",
   "execution_count": 22,
   "id": "8f32f47e",
   "metadata": {
    "execution": {
     "iopub.execute_input": "2021-08-27T11:14:16.525199Z",
     "iopub.status.busy": "2021-08-27T11:14:16.524622Z",
     "iopub.status.idle": "2021-08-27T11:14:16.529156Z",
     "shell.execute_reply": "2021-08-27T11:14:16.529711Z",
     "shell.execute_reply.started": "2021-08-27T10:56:58.859595Z"
    },
    "papermill": {
     "duration": 0.056922,
     "end_time": "2021-08-27T11:14:16.529868",
     "exception": false,
     "start_time": "2021-08-27T11:14:16.472946",
     "status": "completed"
    },
    "tags": []
   },
   "outputs": [
    {
     "data": {
      "text/plain": [
       "'Pluto, we miss you.'"
      ]
     },
     "execution_count": 22,
     "metadata": {},
     "output_type": "execute_result"
    }
   ],
   "source": [
    "planet + ', we miss you.'"
   ]
  },
  {
   "cell_type": "markdown",
   "id": "9aa37474",
   "metadata": {
    "papermill": {
     "duration": 0.048371,
     "end_time": "2021-08-27T11:14:16.627069",
     "exception": false,
     "start_time": "2021-08-27T11:14:16.578698",
     "status": "completed"
    },
    "tags": []
   },
   "source": [
    "If we want to throw in any non-string objects, we have to be careful to call `str()` on them first"
   ]
  },
  {
   "cell_type": "code",
   "execution_count": 23,
   "id": "8104bf8f",
   "metadata": {
    "execution": {
     "iopub.execute_input": "2021-08-27T11:14:16.727774Z",
     "iopub.status.busy": "2021-08-27T11:14:16.727178Z",
     "iopub.status.idle": "2021-08-27T11:14:16.732057Z",
     "shell.execute_reply": "2021-08-27T11:14:16.732575Z",
     "shell.execute_reply.started": "2021-08-27T10:58:27.505100Z"
    },
    "papermill": {
     "duration": 0.056738,
     "end_time": "2021-08-27T11:14:16.732723",
     "exception": false,
     "start_time": "2021-08-27T11:14:16.675985",
     "status": "completed"
    },
    "tags": [
     "raises-exception"
    ]
   },
   "outputs": [
    {
     "data": {
      "text/plain": [
       "\"Pluto, you'll always be the 9th planet to me.\""
      ]
     },
     "execution_count": 23,
     "metadata": {},
     "output_type": "execute_result"
    }
   ],
   "source": [
    "position = 9\n",
    "planet + \", you'll always be the \" + str(position) + \"th planet to me.\""
   ]
  },
  {
   "cell_type": "code",
   "execution_count": 24,
   "id": "c5156136",
   "metadata": {
    "execution": {
     "iopub.execute_input": "2021-08-27T11:14:16.835333Z",
     "iopub.status.busy": "2021-08-27T11:14:16.834706Z",
     "iopub.status.idle": "2021-08-27T11:14:16.923431Z",
     "shell.execute_reply": "2021-08-27T11:14:16.923901Z",
     "shell.execute_reply.started": "2021-08-27T10:58:29.978769Z"
    },
    "papermill": {
     "duration": 0.141938,
     "end_time": "2021-08-27T11:14:16.924058",
     "exception": false,
     "start_time": "2021-08-27T11:14:16.782120",
     "status": "completed"
    },
    "tags": []
   },
   "outputs": [
    {
     "data": {
      "text/plain": [
       "\"Pluto, you'll always be the 9th planet to me.\""
      ]
     },
     "execution_count": 24,
     "metadata": {},
     "output_type": "execute_result"
    }
   ],
   "source": [
    "planet + \", you'll always be the \" + str(position) + \"th planet to me.\""
   ]
  },
  {
   "cell_type": "markdown",
   "id": "8bc21b9c",
   "metadata": {
    "papermill": {
     "duration": 0.051398,
     "end_time": "2021-08-27T11:14:17.025955",
     "exception": false,
     "start_time": "2021-08-27T11:14:16.974557",
     "status": "completed"
    },
    "tags": []
   },
   "source": [
    "This is getting hard to read and annoying to type. `str.format()` to the rescue."
   ]
  },
  {
   "cell_type": "code",
   "execution_count": 25,
   "id": "fa7c211a",
   "metadata": {
    "execution": {
     "iopub.execute_input": "2021-08-27T11:14:17.131074Z",
     "iopub.status.busy": "2021-08-27T11:14:17.130504Z",
     "iopub.status.idle": "2021-08-27T11:14:17.134957Z",
     "shell.execute_reply": "2021-08-27T11:14:17.135507Z",
     "shell.execute_reply.started": "2021-08-27T11:01:26.527791Z"
    },
    "papermill": {
     "duration": 0.058327,
     "end_time": "2021-08-27T11:14:17.135646",
     "exception": false,
     "start_time": "2021-08-27T11:14:17.077319",
     "status": "completed"
    },
    "tags": []
   },
   "outputs": [
    {
     "data": {
      "text/plain": [
       "\"Pluto, you'll always be the 9th planet to me.\""
      ]
     },
     "execution_count": 25,
     "metadata": {},
     "output_type": "execute_result"
    }
   ],
   "source": [
    "\"{}, you'll always be the {}th planet to me.\".format(planet, position)"
   ]
  },
  {
   "cell_type": "markdown",
   "id": "45f0d314",
   "metadata": {
    "papermill": {
     "duration": 0.051182,
     "end_time": "2021-08-27T11:14:17.238098",
     "exception": false,
     "start_time": "2021-08-27T11:14:17.186916",
     "status": "completed"
    },
    "tags": []
   },
   "source": [
    "So much cleaner! We call `.format()` on a \"format string\", where the Python values we want to insert are represented with `{}` placeholders.\n",
    "\n",
    "Notice how we didn't even have to call `str()` to convert `position` from an int. `format()` takes care of that for us.\n",
    "\n",
    "If that was all that `format()` did, it would still be incredibly useful. But as it turns out, it can do a *lot* more. Here's just a taste:"
   ]
  },
  {
   "cell_type": "code",
   "execution_count": 26,
   "id": "e09563ae",
   "metadata": {
    "execution": {
     "iopub.execute_input": "2021-08-27T11:14:17.346195Z",
     "iopub.status.busy": "2021-08-27T11:14:17.345623Z",
     "iopub.status.idle": "2021-08-27T11:14:17.351398Z",
     "shell.execute_reply": "2021-08-27T11:14:17.351889Z",
     "shell.execute_reply.started": "2021-08-27T11:01:50.053782Z"
    },
    "papermill": {
     "duration": 0.060433,
     "end_time": "2021-08-27T11:14:17.352028",
     "exception": false,
     "start_time": "2021-08-27T11:14:17.291595",
     "status": "completed"
    },
    "tags": []
   },
   "outputs": [
    {
     "data": {
      "text/plain": [
       "\"Pluto weighs about 1.3e+22 kilograms (0.218% of Earth's mass). It is home to 52,910,390 Plutonians.\""
      ]
     },
     "execution_count": 26,
     "metadata": {},
     "output_type": "execute_result"
    }
   ],
   "source": [
    "pluto_mass = 1.303 * 10**22\n",
    "earth_mass = 5.9722 * 10**24\n",
    "population = 52910390\n",
    "#         2 decimal points   3 decimal points, format as percent     separate with commas\n",
    "\"{} weighs about {:.2} kilograms ({:.3%} of Earth's mass). It is home to {:,} Plutonians.\".format(\n",
    "    planet, pluto_mass, pluto_mass / earth_mass, population,\n",
    ")"
   ]
  },
  {
   "cell_type": "code",
   "execution_count": 27,
   "id": "6a5a18a2",
   "metadata": {
    "execution": {
     "iopub.execute_input": "2021-08-27T11:14:17.457146Z",
     "iopub.status.busy": "2021-08-27T11:14:17.456549Z",
     "iopub.status.idle": "2021-08-27T11:14:17.463014Z",
     "shell.execute_reply": "2021-08-27T11:14:17.462135Z",
     "shell.execute_reply.started": "2021-08-27T11:02:32.307942Z"
    },
    "papermill": {
     "duration": 0.059607,
     "end_time": "2021-08-27T11:14:17.463274",
     "exception": false,
     "start_time": "2021-08-27T11:14:17.403667",
     "status": "completed"
    },
    "tags": []
   },
   "outputs": [
    {
     "name": "stdout",
     "output_type": "stream",
     "text": [
      "Pluto's a planet.\n",
      "No, it's a dwarf planet.\n",
      "planet!\n",
      "dwarf planet!\n"
     ]
    }
   ],
   "source": [
    "# Referring to format() arguments by index, starting from 0\n",
    "s = \"\"\"Pluto's a {0}.\n",
    "No, it's a {1}.\n",
    "{0}!\n",
    "{1}!\"\"\".format('planet', 'dwarf planet')\n",
    "print(s)"
   ]
  },
  {
   "cell_type": "markdown",
   "id": "9d15bc7d",
   "metadata": {
    "papermill": {
     "duration": 0.051581,
     "end_time": "2021-08-27T11:14:17.567311",
     "exception": false,
     "start_time": "2021-08-27T11:14:17.515730",
     "status": "completed"
    },
    "tags": []
   },
   "source": [
    "You could probably write a short book just on `str.format`, so I'll stop here, and point you to [pyformat.info](https://pyformat.info/) and [the official docs](https://docs.python.org/3/library/string.html#formatstrings) for further reading."
   ]
  },
  {
   "cell_type": "markdown",
   "id": "a669c611",
   "metadata": {
    "papermill": {
     "duration": 0.051283,
     "end_time": "2021-08-27T11:14:17.668775",
     "exception": false,
     "start_time": "2021-08-27T11:14:17.617492",
     "status": "completed"
    },
    "tags": []
   },
   "source": [
    "# Dictionaries\n",
    "\n",
    "Dictionaries are a built-in Python data structure for mapping keys to values."
   ]
  },
  {
   "cell_type": "code",
   "execution_count": 28,
   "id": "30363500",
   "metadata": {
    "execution": {
     "iopub.execute_input": "2021-08-27T11:14:17.776262Z",
     "iopub.status.busy": "2021-08-27T11:14:17.775632Z",
     "iopub.status.idle": "2021-08-27T11:14:17.778659Z",
     "shell.execute_reply": "2021-08-27T11:14:17.778094Z",
     "shell.execute_reply.started": "2021-08-27T11:03:15.932259Z"
    },
    "papermill": {
     "duration": 0.058154,
     "end_time": "2021-08-27T11:14:17.778801",
     "exception": false,
     "start_time": "2021-08-27T11:14:17.720647",
     "status": "completed"
    },
    "tags": []
   },
   "outputs": [],
   "source": [
    "numbers = {'one':1, 'two':2, 'three':3}"
   ]
  },
  {
   "cell_type": "markdown",
   "id": "15d366d2",
   "metadata": {
    "papermill": {
     "duration": 0.051372,
     "end_time": "2021-08-27T11:14:17.883385",
     "exception": false,
     "start_time": "2021-08-27T11:14:17.832013",
     "status": "completed"
    },
    "tags": []
   },
   "source": [
    "In this case `'one'`, `'two'`, and `'three'` are the **keys**, and 1, 2 and 3 are their corresponding values.\n",
    "\n",
    "Values are accessed via square bracket syntax similar to indexing into lists and strings."
   ]
  },
  {
   "cell_type": "code",
   "execution_count": 29,
   "id": "b1d1887f",
   "metadata": {
    "execution": {
     "iopub.execute_input": "2021-08-27T11:14:17.992551Z",
     "iopub.status.busy": "2021-08-27T11:14:17.991919Z",
     "iopub.status.idle": "2021-08-27T11:14:17.995339Z",
     "shell.execute_reply": "2021-08-27T11:14:17.995766Z",
     "shell.execute_reply.started": "2021-08-27T11:03:24.268777Z"
    },
    "papermill": {
     "duration": 0.060559,
     "end_time": "2021-08-27T11:14:17.995915",
     "exception": false,
     "start_time": "2021-08-27T11:14:17.935356",
     "status": "completed"
    },
    "tags": []
   },
   "outputs": [
    {
     "data": {
      "text/plain": [
       "1"
      ]
     },
     "execution_count": 29,
     "metadata": {},
     "output_type": "execute_result"
    }
   ],
   "source": [
    "numbers['one']"
   ]
  },
  {
   "cell_type": "markdown",
   "id": "215f24f9",
   "metadata": {
    "papermill": {
     "duration": 0.052873,
     "end_time": "2021-08-27T11:14:18.102321",
     "exception": false,
     "start_time": "2021-08-27T11:14:18.049448",
     "status": "completed"
    },
    "tags": []
   },
   "source": [
    "We can use the same syntax to add another key, value pair"
   ]
  },
  {
   "cell_type": "code",
   "execution_count": 30,
   "id": "1ec884b3",
   "metadata": {
    "execution": {
     "iopub.execute_input": "2021-08-27T11:14:18.211473Z",
     "iopub.status.busy": "2021-08-27T11:14:18.210793Z",
     "iopub.status.idle": "2021-08-27T11:14:18.214774Z",
     "shell.execute_reply": "2021-08-27T11:14:18.215247Z",
     "shell.execute_reply.started": "2021-08-27T11:03:27.546971Z"
    },
    "papermill": {
     "duration": 0.061148,
     "end_time": "2021-08-27T11:14:18.215392",
     "exception": false,
     "start_time": "2021-08-27T11:14:18.154244",
     "status": "completed"
    },
    "tags": []
   },
   "outputs": [
    {
     "data": {
      "text/plain": [
       "{'one': 1, 'two': 2, 'three': 3, 'eleven': 11}"
      ]
     },
     "execution_count": 30,
     "metadata": {},
     "output_type": "execute_result"
    }
   ],
   "source": [
    "numbers['eleven'] = 11\n",
    "numbers"
   ]
  },
  {
   "cell_type": "markdown",
   "id": "0f1352fd",
   "metadata": {
    "papermill": {
     "duration": 0.051352,
     "end_time": "2021-08-27T11:14:18.318427",
     "exception": false,
     "start_time": "2021-08-27T11:14:18.267075",
     "status": "completed"
    },
    "tags": []
   },
   "source": [
    "Or to change the value associated with an existing key"
   ]
  },
  {
   "cell_type": "code",
   "execution_count": 31,
   "id": "6fa5777c",
   "metadata": {
    "execution": {
     "iopub.execute_input": "2021-08-27T11:14:18.428035Z",
     "iopub.status.busy": "2021-08-27T11:14:18.427239Z",
     "iopub.status.idle": "2021-08-27T11:14:18.431250Z",
     "shell.execute_reply": "2021-08-27T11:14:18.430669Z",
     "shell.execute_reply.started": "2021-08-27T11:03:33.478166Z"
    },
    "papermill": {
     "duration": 0.060883,
     "end_time": "2021-08-27T11:14:18.431385",
     "exception": false,
     "start_time": "2021-08-27T11:14:18.370502",
     "status": "completed"
    },
    "tags": []
   },
   "outputs": [
    {
     "data": {
      "text/plain": [
       "{'one': 'Pluto', 'two': 2, 'three': 3, 'eleven': 11}"
      ]
     },
     "execution_count": 31,
     "metadata": {},
     "output_type": "execute_result"
    }
   ],
   "source": [
    "numbers['one'] = 'Pluto'\n",
    "numbers"
   ]
  },
  {
   "cell_type": "markdown",
   "id": "aa12279c",
   "metadata": {
    "papermill": {
     "duration": 0.052316,
     "end_time": "2021-08-27T11:14:18.536675",
     "exception": false,
     "start_time": "2021-08-27T11:14:18.484359",
     "status": "completed"
    },
    "tags": []
   },
   "source": [
    "Python has *dictionary comprehensions* with a syntax similar to the list comprehensions we saw in the previous tutorial."
   ]
  },
  {
   "cell_type": "code",
   "execution_count": 32,
   "id": "08465b49",
   "metadata": {
    "execution": {
     "iopub.execute_input": "2021-08-27T11:14:18.648570Z",
     "iopub.status.busy": "2021-08-27T11:14:18.647664Z",
     "iopub.status.idle": "2021-08-27T11:14:18.651671Z",
     "shell.execute_reply": "2021-08-27T11:14:18.651056Z",
     "shell.execute_reply.started": "2021-08-27T11:03:42.011786Z"
    },
    "papermill": {
     "duration": 0.062601,
     "end_time": "2021-08-27T11:14:18.651794",
     "exception": false,
     "start_time": "2021-08-27T11:14:18.589193",
     "status": "completed"
    },
    "tags": []
   },
   "outputs": [
    {
     "data": {
      "text/plain": [
       "{'Mercury': 'M',\n",
       " 'Venus': 'V',\n",
       " 'Earth': 'E',\n",
       " 'Mars': 'M',\n",
       " 'Jupiter': 'J',\n",
       " 'Saturn': 'S',\n",
       " 'Uranus': 'U',\n",
       " 'Neptune': 'N'}"
      ]
     },
     "execution_count": 32,
     "metadata": {},
     "output_type": "execute_result"
    }
   ],
   "source": [
    "planets = ['Mercury', 'Venus', 'Earth', 'Mars', 'Jupiter', 'Saturn', 'Uranus', 'Neptune']\n",
    "planet_to_initial = {planet: planet[0] for planet in planets}\n",
    "planet_to_initial"
   ]
  },
  {
   "cell_type": "markdown",
   "id": "62ca559f",
   "metadata": {
    "papermill": {
     "duration": 0.052227,
     "end_time": "2021-08-27T11:14:18.756759",
     "exception": false,
     "start_time": "2021-08-27T11:14:18.704532",
     "status": "completed"
    },
    "tags": []
   },
   "source": [
    "The `in` operator tells us whether something is a key in the dictionary"
   ]
  },
  {
   "cell_type": "code",
   "execution_count": 33,
   "id": "b13a56dd",
   "metadata": {
    "execution": {
     "iopub.execute_input": "2021-08-27T11:14:18.865758Z",
     "iopub.status.busy": "2021-08-27T11:14:18.864873Z",
     "iopub.status.idle": "2021-08-27T11:14:18.870053Z",
     "shell.execute_reply": "2021-08-27T11:14:18.870633Z",
     "shell.execute_reply.started": "2021-08-27T11:03:49.038184Z"
    },
    "papermill": {
     "duration": 0.061528,
     "end_time": "2021-08-27T11:14:18.870783",
     "exception": false,
     "start_time": "2021-08-27T11:14:18.809255",
     "status": "completed"
    },
    "tags": []
   },
   "outputs": [
    {
     "data": {
      "text/plain": [
       "True"
      ]
     },
     "execution_count": 33,
     "metadata": {},
     "output_type": "execute_result"
    }
   ],
   "source": [
    "'Saturn' in planet_to_initial"
   ]
  },
  {
   "cell_type": "code",
   "execution_count": 34,
   "id": "2bb89188",
   "metadata": {
    "execution": {
     "iopub.execute_input": "2021-08-27T11:14:18.982714Z",
     "iopub.status.busy": "2021-08-27T11:14:18.981755Z",
     "iopub.status.idle": "2021-08-27T11:14:18.987130Z",
     "shell.execute_reply": "2021-08-27T11:14:18.987747Z",
     "shell.execute_reply.started": "2021-08-27T11:03:55.835054Z"
    },
    "papermill": {
     "duration": 0.06329,
     "end_time": "2021-08-27T11:14:18.987903",
     "exception": false,
     "start_time": "2021-08-27T11:14:18.924613",
     "status": "completed"
    },
    "tags": []
   },
   "outputs": [
    {
     "data": {
      "text/plain": [
       "False"
      ]
     },
     "execution_count": 34,
     "metadata": {},
     "output_type": "execute_result"
    }
   ],
   "source": [
    "'Betelgeuse' in planet_to_initial"
   ]
  },
  {
   "cell_type": "markdown",
   "id": "c192b01b",
   "metadata": {
    "papermill": {
     "duration": 0.054051,
     "end_time": "2021-08-27T11:14:19.094664",
     "exception": false,
     "start_time": "2021-08-27T11:14:19.040613",
     "status": "completed"
    },
    "tags": []
   },
   "source": [
    "A for loop over a dictionary will loop over its keys"
   ]
  },
  {
   "cell_type": "code",
   "execution_count": 35,
   "id": "23a3c110",
   "metadata": {
    "execution": {
     "iopub.execute_input": "2021-08-27T11:14:19.206659Z",
     "iopub.status.busy": "2021-08-27T11:14:19.205887Z",
     "iopub.status.idle": "2021-08-27T11:14:19.209788Z",
     "shell.execute_reply": "2021-08-27T11:14:19.209188Z",
     "shell.execute_reply.started": "2021-08-27T11:04:06.207472Z"
    },
    "papermill": {
     "duration": 0.062179,
     "end_time": "2021-08-27T11:14:19.209914",
     "exception": false,
     "start_time": "2021-08-27T11:14:19.147735",
     "status": "completed"
    },
    "tags": []
   },
   "outputs": [
    {
     "name": "stdout",
     "output_type": "stream",
     "text": [
      "one = Pluto\n",
      "two = 2\n",
      "three = 3\n",
      "eleven = 11\n"
     ]
    }
   ],
   "source": [
    "for k in numbers:\n",
    "    print(\"{} = {}\".format(k, numbers[k]))"
   ]
  },
  {
   "cell_type": "markdown",
   "id": "836665c8",
   "metadata": {
    "papermill": {
     "duration": 0.053129,
     "end_time": "2021-08-27T11:14:19.317008",
     "exception": false,
     "start_time": "2021-08-27T11:14:19.263879",
     "status": "completed"
    },
    "tags": []
   },
   "source": [
    "We can access a collection of all the keys or all the values with `dict.keys()` and `dict.values()`, respectively."
   ]
  },
  {
   "cell_type": "code",
   "execution_count": 36,
   "id": "41dcd2d7",
   "metadata": {
    "execution": {
     "iopub.execute_input": "2021-08-27T11:14:19.429116Z",
     "iopub.status.busy": "2021-08-27T11:14:19.428249Z",
     "iopub.status.idle": "2021-08-27T11:14:19.432083Z",
     "shell.execute_reply": "2021-08-27T11:14:19.431538Z",
     "shell.execute_reply.started": "2021-08-27T11:04:26.097772Z"
    },
    "papermill": {
     "duration": 0.062163,
     "end_time": "2021-08-27T11:14:19.432227",
     "exception": false,
     "start_time": "2021-08-27T11:14:19.370064",
     "status": "completed"
    },
    "tags": []
   },
   "outputs": [
    {
     "data": {
      "text/plain": [
       "'E J M M N S U V'"
      ]
     },
     "execution_count": 36,
     "metadata": {},
     "output_type": "execute_result"
    }
   ],
   "source": [
    "# Get all the initials, sort them alphabetically, and put them in a space-separated string.\n",
    "' '.join(sorted(planet_to_initial.values()))"
   ]
  },
  {
   "cell_type": "markdown",
   "id": "a574506d",
   "metadata": {
    "papermill": {
     "duration": 0.053338,
     "end_time": "2021-08-27T11:14:19.538778",
     "exception": false,
     "start_time": "2021-08-27T11:14:19.485440",
     "status": "completed"
    },
    "tags": []
   },
   "source": [
    "The very useful `dict.items()` method lets us iterate over the keys and values of a dictionary simultaneously. (In Python jargon, an **item** refers to a key, value pair)"
   ]
  },
  {
   "cell_type": "code",
   "execution_count": 37,
   "id": "a99fe697",
   "metadata": {
    "execution": {
     "iopub.execute_input": "2021-08-27T11:14:19.651361Z",
     "iopub.status.busy": "2021-08-27T11:14:19.650770Z",
     "iopub.status.idle": "2021-08-27T11:14:19.655374Z",
     "shell.execute_reply": "2021-08-27T11:14:19.654872Z",
     "shell.execute_reply.started": "2021-08-27T11:08:59.652674Z"
    },
    "papermill": {
     "duration": 0.062741,
     "end_time": "2021-08-27T11:14:19.655495",
     "exception": false,
     "start_time": "2021-08-27T11:14:19.592754",
     "status": "completed"
    },
    "tags": []
   },
   "outputs": [
    {
     "name": "stdout",
     "output_type": "stream",
     "text": [
      "   Mercury begins with \"M\"\n",
      "     Venus begins with \"V\"\n",
      "     Earth begins with \"E\"\n",
      "      Mars begins with \"M\"\n",
      "   Jupiter begins with \"J\"\n",
      "    Saturn begins with \"S\"\n",
      "    Uranus begins with \"U\"\n",
      "   Neptune begins with \"N\"\n"
     ]
    }
   ],
   "source": [
    "for planet, initial in planet_to_initial.items():\n",
    "    print(\"{} begins with \\\"{}\\\"\".format(planet.rjust(10), initial))"
   ]
  },
  {
   "cell_type": "markdown",
   "id": "77095151",
   "metadata": {
    "papermill": {
     "duration": 0.05363,
     "end_time": "2021-08-27T11:14:19.764390",
     "exception": false,
     "start_time": "2021-08-27T11:14:19.710760",
     "status": "completed"
    },
    "tags": []
   },
   "source": [
    "To read a full inventory of dictionaries' methods, click the \"output\" button below to read the full help page, or check out the [official online documentation](https://docs.python.org/3/library/stdtypes.html#dict)."
   ]
  },
  {
   "cell_type": "code",
   "execution_count": 38,
   "id": "252e803e",
   "metadata": {
    "_kg_hide-output": true,
    "execution": {
     "iopub.execute_input": "2021-08-27T11:14:19.885129Z",
     "iopub.status.busy": "2021-08-27T11:14:19.884602Z",
     "iopub.status.idle": "2021-08-27T11:14:19.889944Z",
     "shell.execute_reply": "2021-08-27T11:14:19.889481Z",
     "shell.execute_reply.started": "2021-08-27T11:13:32.207762Z"
    },
    "papermill": {
     "duration": 0.071349,
     "end_time": "2021-08-27T11:14:19.890072",
     "exception": false,
     "start_time": "2021-08-27T11:14:19.818723",
     "status": "completed"
    },
    "tags": []
   },
   "outputs": [
    {
     "name": "stdout",
     "output_type": "stream",
     "text": [
      "Help on class dict in module builtins:\n",
      "\n",
      "class dict(object)\n",
      " |  dict() -> new empty dictionary\n",
      " |  dict(mapping) -> new dictionary initialized from a mapping object's\n",
      " |      (key, value) pairs\n",
      " |  dict(iterable) -> new dictionary initialized as if via:\n",
      " |      d = {}\n",
      " |      for k, v in iterable:\n",
      " |          d[k] = v\n",
      " |  dict(**kwargs) -> new dictionary initialized with the name=value pairs\n",
      " |      in the keyword argument list.  For example:  dict(one=1, two=2)\n",
      " |  \n",
      " |  Methods defined here:\n",
      " |  \n",
      " |  __contains__(self, key, /)\n",
      " |      True if the dictionary has the specified key, else False.\n",
      " |  \n",
      " |  __delitem__(self, key, /)\n",
      " |      Delete self[key].\n",
      " |  \n",
      " |  __eq__(self, value, /)\n",
      " |      Return self==value.\n",
      " |  \n",
      " |  __ge__(self, value, /)\n",
      " |      Return self>=value.\n",
      " |  \n",
      " |  __getattribute__(self, name, /)\n",
      " |      Return getattr(self, name).\n",
      " |  \n",
      " |  __getitem__(...)\n",
      " |      x.__getitem__(y) <==> x[y]\n",
      " |  \n",
      " |  __gt__(self, value, /)\n",
      " |      Return self>value.\n",
      " |  \n",
      " |  __init__(self, /, *args, **kwargs)\n",
      " |      Initialize self.  See help(type(self)) for accurate signature.\n",
      " |  \n",
      " |  __iter__(self, /)\n",
      " |      Implement iter(self).\n",
      " |  \n",
      " |  __le__(self, value, /)\n",
      " |      Return self<=value.\n",
      " |  \n",
      " |  __len__(self, /)\n",
      " |      Return len(self).\n",
      " |  \n",
      " |  __lt__(self, value, /)\n",
      " |      Return self<value.\n",
      " |  \n",
      " |  __ne__(self, value, /)\n",
      " |      Return self!=value.\n",
      " |  \n",
      " |  __repr__(self, /)\n",
      " |      Return repr(self).\n",
      " |  \n",
      " |  __setitem__(self, key, value, /)\n",
      " |      Set self[key] to value.\n",
      " |  \n",
      " |  __sizeof__(...)\n",
      " |      D.__sizeof__() -> size of D in memory, in bytes\n",
      " |  \n",
      " |  clear(...)\n",
      " |      D.clear() -> None.  Remove all items from D.\n",
      " |  \n",
      " |  copy(...)\n",
      " |      D.copy() -> a shallow copy of D\n",
      " |  \n",
      " |  get(self, key, default=None, /)\n",
      " |      Return the value for key if key is in the dictionary, else default.\n",
      " |  \n",
      " |  items(...)\n",
      " |      D.items() -> a set-like object providing a view on D's items\n",
      " |  \n",
      " |  keys(...)\n",
      " |      D.keys() -> a set-like object providing a view on D's keys\n",
      " |  \n",
      " |  pop(...)\n",
      " |      D.pop(k[,d]) -> v, remove specified key and return the corresponding value.\n",
      " |      If key is not found, d is returned if given, otherwise KeyError is raised\n",
      " |  \n",
      " |  popitem(...)\n",
      " |      D.popitem() -> (k, v), remove and return some (key, value) pair as a\n",
      " |      2-tuple; but raise KeyError if D is empty.\n",
      " |  \n",
      " |  setdefault(self, key, default=None, /)\n",
      " |      Insert key with a value of default if key is not in the dictionary.\n",
      " |      \n",
      " |      Return the value for key if key is in the dictionary, else default.\n",
      " |  \n",
      " |  update(...)\n",
      " |      D.update([E, ]**F) -> None.  Update D from dict/iterable E and F.\n",
      " |      If E is present and has a .keys() method, then does:  for k in E: D[k] = E[k]\n",
      " |      If E is present and lacks a .keys() method, then does:  for k, v in E: D[k] = v\n",
      " |      In either case, this is followed by: for k in F:  D[k] = F[k]\n",
      " |  \n",
      " |  values(...)\n",
      " |      D.values() -> an object providing a view on D's values\n",
      " |  \n",
      " |  ----------------------------------------------------------------------\n",
      " |  Class methods defined here:\n",
      " |  \n",
      " |  fromkeys(iterable, value=None, /) from builtins.type\n",
      " |      Create a new dictionary with keys from iterable and values set to value.\n",
      " |  \n",
      " |  ----------------------------------------------------------------------\n",
      " |  Static methods defined here:\n",
      " |  \n",
      " |  __new__(*args, **kwargs) from builtins.type\n",
      " |      Create and return a new object.  See help(type) for accurate signature.\n",
      " |  \n",
      " |  ----------------------------------------------------------------------\n",
      " |  Data and other attributes defined here:\n",
      " |  \n",
      " |  __hash__ = None\n",
      "\n"
     ]
    }
   ],
   "source": [
    "help(dict)"
   ]
  },
  {
   "cell_type": "markdown",
   "id": "9531e2ab",
   "metadata": {
    "papermill": {
     "duration": 0.055242,
     "end_time": "2021-08-27T11:14:20.000617",
     "exception": false,
     "start_time": "2021-08-27T11:14:19.945375",
     "status": "completed"
    },
    "tags": []
   },
   "source": [
    "# Your Turn\n",
    "\n",
    "You've learned a lot of Python... go **[demonstrate your new skills](https://www.kaggle.com/kernels/fork/1275185)** with some realistic programming applications."
   ]
  },
  {
   "cell_type": "markdown",
   "id": "7b6f2abe",
   "metadata": {
    "papermill": {
     "duration": 0.054584,
     "end_time": "2021-08-27T11:14:20.111137",
     "exception": false,
     "start_time": "2021-08-27T11:14:20.056553",
     "status": "completed"
    },
    "tags": []
   },
   "source": [
    "---\n",
    "\n",
    "\n",
    "\n",
    "\n",
    "*Have questions or comments? Visit the [Learn Discussion forum](https://www.kaggle.com/learn-forum/161283) to chat with other Learners.*"
   ]
  }
 ],
 "metadata": {
  "kernelspec": {
   "display_name": "Python 3",
   "language": "python",
   "name": "python3"
  },
  "language_info": {
   "codemirror_mode": {
    "name": "ipython",
    "version": 3
   },
   "file_extension": ".py",
   "mimetype": "text/x-python",
   "name": "python",
   "nbconvert_exporter": "python",
   "pygments_lexer": "ipython3",
   "version": "3.7.10"
  },
  "papermill": {
   "default_parameters": {},
   "duration": 15.640375,
   "end_time": "2021-08-27T11:14:20.774283",
   "environment_variables": {},
   "exception": null,
   "input_path": "__notebook__.ipynb",
   "output_path": "__notebook__.ipynb",
   "parameters": {},
   "start_time": "2021-08-27T11:14:05.133908",
   "version": "2.3.3"
  }
 },
 "nbformat": 4,
 "nbformat_minor": 5
}
