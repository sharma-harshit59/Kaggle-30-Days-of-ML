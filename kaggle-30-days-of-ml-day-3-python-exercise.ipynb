{
 "cells": [
  {
   "cell_type": "markdown",
   "id": "777def2b",
   "metadata": {
    "papermill": {
     "duration": 0.01459,
     "end_time": "2021-08-26T14:14:12.635127",
     "exception": false,
     "start_time": "2021-08-26T14:14:12.620537",
     "status": "completed"
    },
    "tags": []
   },
   "source": [
    "**This notebook is an exercise in the [Python](https://www.kaggle.com/learn/python) course.  You can reference the tutorial at [this link](https://www.kaggle.com/colinmorris/functions-and-getting-help).**\n",
    "\n",
    "---\n"
   ]
  },
  {
   "cell_type": "markdown",
   "id": "118be6ee",
   "metadata": {
    "papermill": {
     "duration": 0.013376,
     "end_time": "2021-08-26T14:14:12.662451",
     "exception": false,
     "start_time": "2021-08-26T14:14:12.649075",
     "status": "completed"
    },
    "tags": []
   },
   "source": [
    "Functions are powerful. Try writing some yourself.\n",
    "\n",
    "As before, don't forget to run the setup code below before jumping into question 1."
   ]
  },
  {
   "cell_type": "code",
   "execution_count": 1,
   "id": "e5f8d3c6",
   "metadata": {
    "_kg_hide-input": true,
    "_kg_hide-output": true,
    "execution": {
     "iopub.execute_input": "2021-08-26T14:14:12.703303Z",
     "iopub.status.busy": "2021-08-26T14:14:12.702504Z",
     "iopub.status.idle": "2021-08-26T14:14:12.836299Z",
     "shell.execute_reply": "2021-08-26T14:14:12.835608Z",
     "shell.execute_reply.started": "2021-08-26T14:08:34.850579Z"
    },
    "papermill": {
     "duration": 0.160381,
     "end_time": "2021-08-26T14:14:12.836464",
     "exception": false,
     "start_time": "2021-08-26T14:14:12.676083",
     "status": "completed"
    },
    "tags": []
   },
   "outputs": [
    {
     "name": "stdout",
     "output_type": "stream",
     "text": [
      "Setup complete.\n"
     ]
    }
   ],
   "source": [
    "# SETUP. You don't need to worry for now about what this code does or how it works.\n",
    "from learntools.core import binder; binder.bind(globals())\n",
    "from learntools.python.ex2 import *\n",
    "print('Setup complete.')"
   ]
  },
  {
   "cell_type": "markdown",
   "id": "5aceae30",
   "metadata": {
    "papermill": {
     "duration": 0.014006,
     "end_time": "2021-08-26T14:14:12.865033",
     "exception": false,
     "start_time": "2021-08-26T14:14:12.851027",
     "status": "completed"
    },
    "tags": []
   },
   "source": [
    "# 1.\n",
    "\n",
    "Complete the body of the following function according to its docstring.\n",
    "\n",
    "HINT: Python has a built-in function `round`."
   ]
  },
  {
   "cell_type": "code",
   "execution_count": 2,
   "id": "6999fbc5",
   "metadata": {
    "execution": {
     "iopub.execute_input": "2021-08-26T14:14:12.901921Z",
     "iopub.status.busy": "2021-08-26T14:14:12.901228Z",
     "iopub.status.idle": "2021-08-26T14:14:12.906110Z",
     "shell.execute_reply": "2021-08-26T14:14:12.905491Z",
     "shell.execute_reply.started": "2021-08-26T14:09:12.980031Z"
    },
    "papermill": {
     "duration": 0.026796,
     "end_time": "2021-08-26T14:14:12.906249",
     "exception": false,
     "start_time": "2021-08-26T14:14:12.879453",
     "status": "completed"
    },
    "tags": []
   },
   "outputs": [
    {
     "data": {
      "application/javascript": [
       "parent.postMessage({\"jupyterEvent\": \"custom.exercise_interaction\", \"data\": {\"outcomeType\": 1, \"valueTowardsCompletion\": 0.16666666666666666, \"interactionType\": 1, \"questionType\": 2, \"questionId\": \"1_RoundFunctionProblem\", \"learnToolsVersion\": \"0.3.4\", \"failureMessage\": \"\", \"exceptionClass\": \"\", \"trace\": \"\"}}, \"*\")"
      ],
      "text/plain": [
       "<IPython.core.display.Javascript object>"
      ]
     },
     "metadata": {},
     "output_type": "display_data"
    },
    {
     "data": {
      "text/markdown": [
       "<span style=\"color:#33cc33\">Correct</span>"
      ],
      "text/plain": [
       "Correct"
      ]
     },
     "metadata": {},
     "output_type": "display_data"
    }
   ],
   "source": [
    "def round_to_two_places(num):\n",
    "    \"\"\"Return the given number rounded to two decimal places. \n",
    "    \n",
    "    >>> round_to_two_places(3.14159)\n",
    "    3.14\n",
    "    \"\"\"\n",
    "    # Replace this body with your own code.\n",
    "    # (\"pass\" is a keyword that does literally nothing. We used it as a placeholder\n",
    "    # because after we begin a code block, Python requires at least one line of code)\n",
    "    return round(num, 2)\n",
    "\n",
    "# Check your answer\n",
    "q1.check()"
   ]
  },
  {
   "cell_type": "code",
   "execution_count": 3,
   "id": "e694220b",
   "metadata": {
    "execution": {
     "iopub.execute_input": "2021-08-26T14:14:12.941021Z",
     "iopub.status.busy": "2021-08-26T14:14:12.940376Z",
     "iopub.status.idle": "2021-08-26T14:14:12.942307Z",
     "shell.execute_reply": "2021-08-26T14:14:12.942845Z"
    },
    "papermill": {
     "duration": 0.02105,
     "end_time": "2021-08-26T14:14:12.943031",
     "exception": false,
     "start_time": "2021-08-26T14:14:12.921981",
     "status": "completed"
    },
    "tags": []
   },
   "outputs": [],
   "source": [
    "# Uncomment the following for a hint\n",
    "#q1.hint()\n",
    "# Or uncomment the following to peek at the solution\n",
    "#q1.solution()"
   ]
  },
  {
   "cell_type": "markdown",
   "id": "f962d1f6",
   "metadata": {
    "papermill": {
     "duration": 0.014904,
     "end_time": "2021-08-26T14:14:12.973252",
     "exception": false,
     "start_time": "2021-08-26T14:14:12.958348",
     "status": "completed"
    },
    "tags": []
   },
   "source": [
    "# 2.\n",
    "The help for `round` says that `ndigits` (the second argument) may be negative.\n",
    "What do you think will happen when it is? Try some examples in the following cell."
   ]
  },
  {
   "cell_type": "code",
   "execution_count": 4,
   "id": "9053fa11",
   "metadata": {
    "execution": {
     "iopub.execute_input": "2021-08-26T14:14:13.006558Z",
     "iopub.status.busy": "2021-08-26T14:14:13.005900Z",
     "iopub.status.idle": "2021-08-26T14:14:13.011344Z",
     "shell.execute_reply": "2021-08-26T14:14:13.011869Z",
     "shell.execute_reply.started": "2021-08-26T14:09:55.820378Z"
    },
    "papermill": {
     "duration": 0.023687,
     "end_time": "2021-08-26T14:14:13.012055",
     "exception": false,
     "start_time": "2021-08-26T14:14:12.988368",
     "status": "completed"
    },
    "tags": []
   },
   "outputs": [
    {
     "data": {
      "text/plain": [
       "200"
      ]
     },
     "execution_count": 4,
     "metadata": {},
     "output_type": "execute_result"
    }
   ],
   "source": [
    "# Put your test code here\n",
    "round(213, -2)"
   ]
  },
  {
   "cell_type": "markdown",
   "id": "455d1fd3",
   "metadata": {
    "papermill": {
     "duration": 0.015166,
     "end_time": "2021-08-26T14:14:13.042830",
     "exception": false,
     "start_time": "2021-08-26T14:14:13.027664",
     "status": "completed"
    },
    "tags": []
   },
   "source": [
    "Can you think of a case where this would be useful?  Once you're ready, run the code cell below to see the answer and to receive credit for completing the problem."
   ]
  },
  {
   "cell_type": "code",
   "execution_count": 5,
   "id": "3e4d4624",
   "metadata": {
    "execution": {
     "iopub.execute_input": "2021-08-26T14:14:13.078932Z",
     "iopub.status.busy": "2021-08-26T14:14:13.078265Z",
     "iopub.status.idle": "2021-08-26T14:14:13.085291Z",
     "shell.execute_reply": "2021-08-26T14:14:13.084798Z",
     "shell.execute_reply.started": "2021-08-26T14:10:10.920834Z"
    },
    "papermill": {
     "duration": 0.027033,
     "end_time": "2021-08-26T14:14:13.085430",
     "exception": false,
     "start_time": "2021-08-26T14:14:13.058397",
     "status": "completed"
    },
    "tags": []
   },
   "outputs": [
    {
     "data": {
      "application/javascript": [
       "parent.postMessage({\"jupyterEvent\": \"custom.exercise_interaction\", \"data\": {\"interactionType\": 3, \"questionType\": 4, \"questionId\": \"2_RoundNdigitsProblem\", \"learnToolsVersion\": \"0.3.4\", \"valueTowardsCompletion\": 0.0, \"failureMessage\": \"\", \"exceptionClass\": \"\", \"trace\": \"\", \"outcomeType\": 4}}, \"*\")"
      ],
      "text/plain": [
       "<IPython.core.display.Javascript object>"
      ]
     },
     "metadata": {},
     "output_type": "display_data"
    },
    {
     "data": {
      "text/markdown": [
       "<span style=\"color:#33cc99\">Solution:</span> As you've seen, `ndigits=-1` rounds to the nearest 10, `ndigits=-2` rounds to the nearest 100 and so on. Where might this be useful? Suppose we're dealing with large numbers:\n",
       "\n",
       "> The area of Finland is 338,424 km²  \n",
       "> The area of Greenland is 2,166,086 km²\n",
       "\n",
       "We probably don't care whether it's really 338,424, or 338,425, or 338,177. All those digits of accuracy are just distracting. We can chop them off by calling `round()` with `ndigits=-3`:\n",
       "\n",
       "> The area of Finland is 338,000 km²  \n",
       "> The area of Greenland is 2,166,000 km²\n",
       "\n",
       "(We'll talk about how we would get the commas later when we talk about string formatting :))\n"
      ],
      "text/plain": [
       "Solution: As you've seen, `ndigits=-1` rounds to the nearest 10, `ndigits=-2` rounds to the nearest 100 and so on. Where might this be useful? Suppose we're dealing with large numbers:\n",
       "\n",
       "> The area of Finland is 338,424 km²  \n",
       "> The area of Greenland is 2,166,086 km²\n",
       "\n",
       "We probably don't care whether it's really 338,424, or 338,425, or 338,177. All those digits of accuracy are just distracting. We can chop them off by calling `round()` with `ndigits=-3`:\n",
       "\n",
       "> The area of Finland is 338,000 km²  \n",
       "> The area of Greenland is 2,166,000 km²\n",
       "\n",
       "(We'll talk about how we would get the commas later when we talk about string formatting :))"
      ]
     },
     "metadata": {},
     "output_type": "display_data"
    }
   ],
   "source": [
    "# Check your answer (Run this code cell to receive credit!)\n",
    "q2.solution()"
   ]
  },
  {
   "cell_type": "markdown",
   "id": "32b3eee9",
   "metadata": {
    "papermill": {
     "duration": 0.016143,
     "end_time": "2021-08-26T14:14:13.118154",
     "exception": false,
     "start_time": "2021-08-26T14:14:13.102011",
     "status": "completed"
    },
    "tags": []
   },
   "source": [
    "# 3.\n",
    "\n",
    "In the previous exercise, the candy-sharing friends Alice, Bob and Carol tried to split candies evenly. For the sake of their friendship, any candies left over would be smashed. For example, if they collectively bring home 91 candies, they'll take 30 each and smash 1.\n",
    "\n",
    "Below is a simple function that will calculate the number of candies to smash for *any* number of total candies.\n",
    "\n",
    "Modify it so that it optionally takes a second argument representing the number of friends the candies are being split between. If no second argument is provided, it should assume 3 friends, as before.\n",
    "\n",
    "Update the docstring to reflect this new behaviour."
   ]
  },
  {
   "cell_type": "code",
   "execution_count": 6,
   "id": "de81311b",
   "metadata": {
    "execution": {
     "iopub.execute_input": "2021-08-26T14:14:13.165456Z",
     "iopub.status.busy": "2021-08-26T14:14:13.164573Z",
     "iopub.status.idle": "2021-08-26T14:14:13.172332Z",
     "shell.execute_reply": "2021-08-26T14:14:13.172972Z",
     "shell.execute_reply.started": "2021-08-26T14:11:10.917019Z"
    },
    "papermill": {
     "duration": 0.036388,
     "end_time": "2021-08-26T14:14:13.173209",
     "exception": false,
     "start_time": "2021-08-26T14:14:13.136821",
     "status": "completed"
    },
    "tags": []
   },
   "outputs": [
    {
     "data": {
      "application/javascript": [
       "parent.postMessage({\"jupyterEvent\": \"custom.exercise_interaction\", \"data\": {\"outcomeType\": 1, \"valueTowardsCompletion\": 0.16666666666666666, \"interactionType\": 1, \"questionType\": 2, \"questionId\": \"3_CandySmashingFunctionProblem\", \"learnToolsVersion\": \"0.3.4\", \"failureMessage\": \"\", \"exceptionClass\": \"\", \"trace\": \"\"}}, \"*\")"
      ],
      "text/plain": [
       "<IPython.core.display.Javascript object>"
      ]
     },
     "metadata": {},
     "output_type": "display_data"
    },
    {
     "data": {
      "text/markdown": [
       "<span style=\"color:#33cc33\">Correct</span>"
      ],
      "text/plain": [
       "Correct"
      ]
     },
     "metadata": {},
     "output_type": "display_data"
    }
   ],
   "source": [
    "def to_smash(total_candies, n = 3):\n",
    "    \"\"\"Return the number of leftover candies that must be smashed after distributing\n",
    "    the given number of candies evenly between 3 friends.\n",
    "    \n",
    "    >>> to_smash(91)\n",
    "    1\n",
    "    \"\"\"\n",
    "    return total_candies % n\n",
    "\n",
    "# Check your answer\n",
    "q3.check()"
   ]
  },
  {
   "cell_type": "code",
   "execution_count": 7,
   "id": "5abb2f98",
   "metadata": {
    "execution": {
     "iopub.execute_input": "2021-08-26T14:14:13.225043Z",
     "iopub.status.busy": "2021-08-26T14:14:13.224067Z",
     "iopub.status.idle": "2021-08-26T14:14:13.227474Z",
     "shell.execute_reply": "2021-08-26T14:14:13.226804Z"
    },
    "papermill": {
     "duration": 0.029128,
     "end_time": "2021-08-26T14:14:13.227617",
     "exception": false,
     "start_time": "2021-08-26T14:14:13.198489",
     "status": "completed"
    },
    "tags": []
   },
   "outputs": [],
   "source": [
    "#q3.hint()"
   ]
  },
  {
   "cell_type": "code",
   "execution_count": 8,
   "id": "39056e3d",
   "metadata": {
    "execution": {
     "iopub.execute_input": "2021-08-26T14:14:13.272354Z",
     "iopub.status.busy": "2021-08-26T14:14:13.271713Z",
     "iopub.status.idle": "2021-08-26T14:14:13.274101Z",
     "shell.execute_reply": "2021-08-26T14:14:13.273475Z"
    },
    "papermill": {
     "duration": 0.024259,
     "end_time": "2021-08-26T14:14:13.274238",
     "exception": false,
     "start_time": "2021-08-26T14:14:13.249979",
     "status": "completed"
    },
    "tags": []
   },
   "outputs": [],
   "source": [
    "#q3.solution()"
   ]
  },
  {
   "cell_type": "markdown",
   "id": "155dd386",
   "metadata": {
    "papermill": {
     "duration": 0.01763,
     "end_time": "2021-08-26T14:14:13.310118",
     "exception": false,
     "start_time": "2021-08-26T14:14:13.292488",
     "status": "completed"
    },
    "tags": []
   },
   "source": [
    "# 4. (Optional)\n",
    "\n",
    "It may not be fun, but reading and understanding error messages will be an important part of your Python career.\n",
    "\n",
    "Each code cell below contains some commented buggy code. For each cell...\n",
    "\n",
    "1. Read the code and predict what you think will happen when it's run.\n",
    "2. Then uncomment the code and run it to see what happens. (**Tip**: In the kernel editor, you can highlight several lines and press `ctrl`+`/` to toggle commenting.)\n",
    "3. Fix the code (so that it accomplishes its intended purpose without throwing an exception)\n",
    "\n",
    "<!-- TODO: should this be autochecked? Delta is probably pretty small. -->"
   ]
  },
  {
   "cell_type": "code",
   "execution_count": 9,
   "id": "302fa250",
   "metadata": {
    "execution": {
     "iopub.execute_input": "2021-08-26T14:14:13.348857Z",
     "iopub.status.busy": "2021-08-26T14:14:13.348267Z",
     "iopub.status.idle": "2021-08-26T14:14:13.353951Z",
     "shell.execute_reply": "2021-08-26T14:14:13.353400Z",
     "shell.execute_reply.started": "2021-08-26T14:11:52.068251Z"
    },
    "papermill": {
     "duration": 0.026031,
     "end_time": "2021-08-26T14:14:13.354092",
     "exception": false,
     "start_time": "2021-08-26T14:14:13.328061",
     "status": "completed"
    },
    "tags": []
   },
   "outputs": [
    {
     "data": {
      "text/plain": [
       "10.0"
      ]
     },
     "execution_count": 9,
     "metadata": {},
     "output_type": "execute_result"
    }
   ],
   "source": [
    "round_to_two_places(9.9999)"
   ]
  },
  {
   "cell_type": "code",
   "execution_count": 10,
   "id": "7c886047",
   "metadata": {
    "execution": {
     "iopub.execute_input": "2021-08-26T14:14:13.395962Z",
     "iopub.status.busy": "2021-08-26T14:14:13.395213Z",
     "iopub.status.idle": "2021-08-26T14:14:13.398622Z",
     "shell.execute_reply": "2021-08-26T14:14:13.399360Z",
     "shell.execute_reply.started": "2021-08-26T14:12:56.994289Z"
    },
    "papermill": {
     "duration": 0.027197,
     "end_time": "2021-08-26T14:14:13.399579",
     "exception": false,
     "start_time": "2021-08-26T14:14:13.372382",
     "status": "completed"
    },
    "tags": []
   },
   "outputs": [
    {
     "name": "stdout",
     "output_type": "stream",
     "text": [
      "5\n"
     ]
    }
   ],
   "source": [
    "x = -10\n",
    "y = 5\n",
    "# Which of the two variables above has the smallest absolute value?\n",
    "smallest_abs = min(abs(x), abs(y))\n",
    "print(smallest_abs)"
   ]
  },
  {
   "cell_type": "code",
   "execution_count": 11,
   "id": "3a88cb7a",
   "metadata": {
    "execution": {
     "iopub.execute_input": "2021-08-26T14:14:13.441222Z",
     "iopub.status.busy": "2021-08-26T14:14:13.440598Z",
     "iopub.status.idle": "2021-08-26T14:14:13.445607Z",
     "shell.execute_reply": "2021-08-26T14:14:13.446078Z",
     "shell.execute_reply.started": "2021-08-26T14:13:10.948117Z"
    },
    "papermill": {
     "duration": 0.027206,
     "end_time": "2021-08-26T14:14:13.446236",
     "exception": false,
     "start_time": "2021-08-26T14:14:13.419030",
     "status": "completed"
    },
    "tags": []
   },
   "outputs": [
    {
     "name": "stdout",
     "output_type": "stream",
     "text": [
      "5\n"
     ]
    }
   ],
   "source": [
    "def f(x):\n",
    "    y = abs(x)\n",
    "    return y\n",
    "\n",
    "print(f(5))"
   ]
  },
  {
   "cell_type": "markdown",
   "id": "0f376302",
   "metadata": {
    "papermill": {
     "duration": 0.018415,
     "end_time": "2021-08-26T14:14:13.483272",
     "exception": false,
     "start_time": "2021-08-26T14:14:13.464857",
     "status": "completed"
    },
    "tags": []
   },
   "source": [
    "# Keep Going\n",
    "\n",
    "Nice job with the code. Next up, you'll learn about *conditionals*, which you'll need to **[write interesting programs](https://www.kaggle.com/colinmorris/booleans-and-conditionals)**. "
   ]
  },
  {
   "cell_type": "markdown",
   "id": "3c08ef7b",
   "metadata": {
    "papermill": {
     "duration": 0.018271,
     "end_time": "2021-08-26T14:14:13.520101",
     "exception": false,
     "start_time": "2021-08-26T14:14:13.501830",
     "status": "completed"
    },
    "tags": []
   },
   "source": [
    "---\n",
    "\n",
    "\n",
    "\n",
    "\n",
    "*Have questions or comments? Visit the [Learn Discussion forum](https://www.kaggle.com/learn-forum/161283) to chat with other Learners.*"
   ]
  }
 ],
 "metadata": {
  "kernelspec": {
   "display_name": "Python 3",
   "language": "python",
   "name": "python3"
  },
  "language_info": {
   "codemirror_mode": {
    "name": "ipython",
    "version": 3
   },
   "file_extension": ".py",
   "mimetype": "text/x-python",
   "name": "python",
   "nbconvert_exporter": "python",
   "pygments_lexer": "ipython3",
   "version": "3.7.10"
  },
  "papermill": {
   "default_parameters": {},
   "duration": 9.688021,
   "end_time": "2021-08-26T14:14:14.148563",
   "environment_variables": {},
   "exception": null,
   "input_path": "__notebook__.ipynb",
   "output_path": "__notebook__.ipynb",
   "parameters": {},
   "start_time": "2021-08-26T14:14:04.460542",
   "version": "2.3.3"
  }
 },
 "nbformat": 4,
 "nbformat_minor": 5
}
