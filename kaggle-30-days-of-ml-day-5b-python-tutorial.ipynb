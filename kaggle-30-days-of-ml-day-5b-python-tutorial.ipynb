{
 "cells": [
  {
   "cell_type": "markdown",
   "id": "ec546891",
   "metadata": {
    "papermill": {
     "duration": 0.022298,
     "end_time": "2021-08-27T05:23:36.140770",
     "exception": false,
     "start_time": "2021-08-27T05:23:36.118472",
     "status": "completed"
    },
    "tags": []
   },
   "source": [
    "# Loops\n",
    "\n",
    "Loops are a way to repeatedly execute some code. Here's an example:"
   ]
  },
  {
   "cell_type": "code",
   "execution_count": 1,
   "id": "4c345b0e",
   "metadata": {
    "execution": {
     "iopub.execute_input": "2021-08-27T05:23:36.196123Z",
     "iopub.status.busy": "2021-08-27T05:23:36.194880Z",
     "iopub.status.idle": "2021-08-27T05:23:36.209047Z",
     "shell.execute_reply": "2021-08-27T05:23:36.208279Z",
     "shell.execute_reply.started": "2021-08-27T05:09:06.954548Z"
    },
    "papermill": {
     "duration": 0.044022,
     "end_time": "2021-08-27T05:23:36.209232",
     "exception": false,
     "start_time": "2021-08-27T05:23:36.165210",
     "status": "completed"
    },
    "tags": []
   },
   "outputs": [
    {
     "name": "stdout",
     "output_type": "stream",
     "text": [
      "Mercury Venus Earth Mars Jupiter Saturn Uranus Neptune "
     ]
    }
   ],
   "source": [
    "planets = ['Mercury', 'Venus', 'Earth', 'Mars', 'Jupiter', 'Saturn', 'Uranus', 'Neptune']\n",
    "for planet in planets:\n",
    "    print(planet, end=' ') # print all on same line"
   ]
  },
  {
   "cell_type": "markdown",
   "id": "d6612a0f",
   "metadata": {
    "papermill": {
     "duration": 0.021063,
     "end_time": "2021-08-27T05:23:36.252496",
     "exception": false,
     "start_time": "2021-08-27T05:23:36.231433",
     "status": "completed"
    },
    "tags": []
   },
   "source": [
    "The ``for`` loop specifies \n",
    "- the variable name to use (in this case, `planet`)\n",
    "- the set of values to loop over (in this case, `planets`)\n",
    "\n",
    "You use the word \"``in``\" to link them together.\n",
    "\n",
    "The object to the right of the \"``in``\" can be any object that supports iteration. Basically, if it can be thought of as a group of things, you can probably loop over it. In addition to lists, we can iterate over the elements of a tuple:"
   ]
  },
  {
   "cell_type": "code",
   "execution_count": 2,
   "id": "2736012f",
   "metadata": {
    "execution": {
     "iopub.execute_input": "2021-08-27T05:23:36.298582Z",
     "iopub.status.busy": "2021-08-27T05:23:36.297814Z",
     "iopub.status.idle": "2021-08-27T05:23:36.306110Z",
     "shell.execute_reply": "2021-08-27T05:23:36.306752Z",
     "shell.execute_reply.started": "2021-08-27T05:10:21.774244Z"
    },
    "papermill": {
     "duration": 0.032788,
     "end_time": "2021-08-27T05:23:36.306938",
     "exception": false,
     "start_time": "2021-08-27T05:23:36.274150",
     "status": "completed"
    },
    "tags": []
   },
   "outputs": [
    {
     "data": {
      "text/plain": [
       "360"
      ]
     },
     "execution_count": 2,
     "metadata": {},
     "output_type": "execute_result"
    }
   ],
   "source": [
    "multiplicands = (2, 2, 2, 3, 3, 5)\n",
    "product = 1\n",
    "for mult in multiplicands:\n",
    "    product = product * mult\n",
    "product"
   ]
  },
  {
   "cell_type": "markdown",
   "id": "504a53ca",
   "metadata": {
    "papermill": {
     "duration": 0.02184,
     "end_time": "2021-08-27T05:23:36.350308",
     "exception": false,
     "start_time": "2021-08-27T05:23:36.328468",
     "status": "completed"
    },
    "tags": []
   },
   "source": [
    "You can even loop through each character in a string:"
   ]
  },
  {
   "cell_type": "code",
   "execution_count": 3,
   "id": "88778f2c",
   "metadata": {
    "execution": {
     "iopub.execute_input": "2021-08-27T05:23:36.396686Z",
     "iopub.status.busy": "2021-08-27T05:23:36.395953Z",
     "iopub.status.idle": "2021-08-27T05:23:36.403093Z",
     "shell.execute_reply": "2021-08-27T05:23:36.402428Z",
     "shell.execute_reply.started": "2021-08-27T05:10:41.614202Z"
    },
    "papermill": {
     "duration": 0.031925,
     "end_time": "2021-08-27T05:23:36.403259",
     "exception": false,
     "start_time": "2021-08-27T05:23:36.371334",
     "status": "completed"
    },
    "tags": []
   },
   "outputs": [
    {
     "name": "stdout",
     "output_type": "stream",
     "text": [
      "HELLO"
     ]
    }
   ],
   "source": [
    "s = 'steganograpHy is the practicE of conceaLing a file, message, image, or video within another fiLe, message, image, Or video.'\n",
    "msg = ''\n",
    "# print all the uppercase letters in s, one at a time\n",
    "for char in s:\n",
    "    if char.isupper():\n",
    "        print(char, end='')        "
   ]
  },
  {
   "cell_type": "markdown",
   "id": "0406c51a",
   "metadata": {
    "papermill": {
     "duration": 0.021201,
     "end_time": "2021-08-27T05:23:36.446135",
     "exception": false,
     "start_time": "2021-08-27T05:23:36.424934",
     "status": "completed"
    },
    "tags": []
   },
   "source": [
    "### range()\n",
    "\n",
    "`range()` is a function that returns a sequence of numbers. It turns out to be very useful for writing loops.\n",
    "\n",
    "For example, if we want to repeat some action 5 times:"
   ]
  },
  {
   "cell_type": "code",
   "execution_count": 4,
   "id": "760e02d9",
   "metadata": {
    "execution": {
     "iopub.execute_input": "2021-08-27T05:23:36.495289Z",
     "iopub.status.busy": "2021-08-27T05:23:36.494226Z",
     "iopub.status.idle": "2021-08-27T05:23:36.499037Z",
     "shell.execute_reply": "2021-08-27T05:23:36.499595Z",
     "shell.execute_reply.started": "2021-08-27T05:11:04.734779Z"
    },
    "papermill": {
     "duration": 0.031909,
     "end_time": "2021-08-27T05:23:36.499779",
     "exception": false,
     "start_time": "2021-08-27T05:23:36.467870",
     "status": "completed"
    },
    "tags": []
   },
   "outputs": [
    {
     "name": "stdout",
     "output_type": "stream",
     "text": [
      "Doing important work. i = 0\n",
      "Doing important work. i = 1\n",
      "Doing important work. i = 2\n",
      "Doing important work. i = 3\n",
      "Doing important work. i = 4\n"
     ]
    }
   ],
   "source": [
    "for i in range(5):\n",
    "    print(\"Doing important work. i =\", i)"
   ]
  },
  {
   "cell_type": "markdown",
   "id": "07da03eb",
   "metadata": {
    "papermill": {
     "duration": 0.02138,
     "end_time": "2021-08-27T05:23:36.543066",
     "exception": false,
     "start_time": "2021-08-27T05:23:36.521686",
     "status": "completed"
    },
    "tags": []
   },
   "source": [
    "## ``while`` loops\n",
    "The other type of loop in Python is a ``while`` loop, which iterates until some condition is met:"
   ]
  },
  {
   "cell_type": "code",
   "execution_count": 5,
   "id": "170c25a9",
   "metadata": {
    "execution": {
     "iopub.execute_input": "2021-08-27T05:23:36.593656Z",
     "iopub.status.busy": "2021-08-27T05:23:36.592764Z",
     "iopub.status.idle": "2021-08-27T05:23:36.599044Z",
     "shell.execute_reply": "2021-08-27T05:23:36.598340Z",
     "shell.execute_reply.started": "2021-08-27T05:11:14.054648Z"
    },
    "papermill": {
     "duration": 0.033252,
     "end_time": "2021-08-27T05:23:36.599186",
     "exception": false,
     "start_time": "2021-08-27T05:23:36.565934",
     "status": "completed"
    },
    "tags": []
   },
   "outputs": [
    {
     "name": "stdout",
     "output_type": "stream",
     "text": [
      "0 1 2 3 4 5 6 7 8 9 "
     ]
    }
   ],
   "source": [
    "i = 0\n",
    "while i < 10:\n",
    "    print(i, end=' ')\n",
    "    i += 1 # increase the value of i by 1"
   ]
  },
  {
   "cell_type": "markdown",
   "id": "773ce9ca",
   "metadata": {
    "papermill": {
     "duration": 0.022828,
     "end_time": "2021-08-27T05:23:36.644396",
     "exception": false,
     "start_time": "2021-08-27T05:23:36.621568",
     "status": "completed"
    },
    "tags": []
   },
   "source": [
    "The argument of the ``while`` loop is evaluated as a boolean statement, and the loop is executed until the statement evaluates to False."
   ]
  },
  {
   "cell_type": "markdown",
   "id": "24c4ba0d",
   "metadata": {
    "papermill": {
     "duration": 0.022064,
     "end_time": "2021-08-27T05:23:36.688833",
     "exception": false,
     "start_time": "2021-08-27T05:23:36.666769",
     "status": "completed"
    },
    "tags": []
   },
   "source": [
    "# List comprehensions\n",
    "\n",
    "List comprehensions are one of Python's most beloved and unique features. The easiest way to understand them is probably to just look at a few examples:"
   ]
  },
  {
   "cell_type": "code",
   "execution_count": 6,
   "id": "bb9362cb",
   "metadata": {
    "execution": {
     "iopub.execute_input": "2021-08-27T05:23:36.739682Z",
     "iopub.status.busy": "2021-08-27T05:23:36.738907Z",
     "iopub.status.idle": "2021-08-27T05:23:36.742686Z",
     "shell.execute_reply": "2021-08-27T05:23:36.742058Z",
     "shell.execute_reply.started": "2021-08-27T05:11:56.225512Z"
    },
    "papermill": {
     "duration": 0.031538,
     "end_time": "2021-08-27T05:23:36.742825",
     "exception": false,
     "start_time": "2021-08-27T05:23:36.711287",
     "status": "completed"
    },
    "tags": []
   },
   "outputs": [
    {
     "data": {
      "text/plain": [
       "[0, 1, 4, 9, 16, 25, 36, 49, 64, 81]"
      ]
     },
     "execution_count": 6,
     "metadata": {},
     "output_type": "execute_result"
    }
   ],
   "source": [
    "squares = [n**2 for n in range(10)]\n",
    "squares"
   ]
  },
  {
   "cell_type": "markdown",
   "id": "dd300da0",
   "metadata": {
    "papermill": {
     "duration": 0.024751,
     "end_time": "2021-08-27T05:23:36.790444",
     "exception": false,
     "start_time": "2021-08-27T05:23:36.765693",
     "status": "completed"
    },
    "tags": []
   },
   "source": [
    "Here's how we would do the same thing without a list comprehension:"
   ]
  },
  {
   "cell_type": "code",
   "execution_count": 7,
   "id": "ece09f03",
   "metadata": {
    "execution": {
     "iopub.execute_input": "2021-08-27T05:23:36.846532Z",
     "iopub.status.busy": "2021-08-27T05:23:36.845565Z",
     "iopub.status.idle": "2021-08-27T05:23:36.850507Z",
     "shell.execute_reply": "2021-08-27T05:23:36.849825Z",
     "shell.execute_reply.started": "2021-08-27T05:16:29.380362Z"
    },
    "papermill": {
     "duration": 0.034407,
     "end_time": "2021-08-27T05:23:36.850674",
     "exception": false,
     "start_time": "2021-08-27T05:23:36.816267",
     "status": "completed"
    },
    "tags": []
   },
   "outputs": [
    {
     "data": {
      "text/plain": [
       "[0, 1, 4, 9, 16, 25, 36, 49, 64, 81]"
      ]
     },
     "execution_count": 7,
     "metadata": {},
     "output_type": "execute_result"
    }
   ],
   "source": [
    "squares = []\n",
    "for n in range(10):\n",
    "    squares.append(n**2)\n",
    "squares"
   ]
  },
  {
   "cell_type": "markdown",
   "id": "5a0dc3d8",
   "metadata": {
    "papermill": {
     "duration": 0.022512,
     "end_time": "2021-08-27T05:23:36.896090",
     "exception": false,
     "start_time": "2021-08-27T05:23:36.873578",
     "status": "completed"
    },
    "tags": []
   },
   "source": [
    "We can also add an `if` condition:"
   ]
  },
  {
   "cell_type": "code",
   "execution_count": 8,
   "id": "dbfb3dbb",
   "metadata": {
    "execution": {
     "iopub.execute_input": "2021-08-27T05:23:36.947969Z",
     "iopub.status.busy": "2021-08-27T05:23:36.947100Z",
     "iopub.status.idle": "2021-08-27T05:23:36.951757Z",
     "shell.execute_reply": "2021-08-27T05:23:36.951120Z",
     "shell.execute_reply.started": "2021-08-27T05:16:49.059630Z"
    },
    "papermill": {
     "duration": 0.032799,
     "end_time": "2021-08-27T05:23:36.951923",
     "exception": false,
     "start_time": "2021-08-27T05:23:36.919124",
     "status": "completed"
    },
    "tags": []
   },
   "outputs": [
    {
     "data": {
      "text/plain": [
       "['Venus', 'Earth', 'Mars']"
      ]
     },
     "execution_count": 8,
     "metadata": {},
     "output_type": "execute_result"
    }
   ],
   "source": [
    "short_planets = [planet for planet in planets if len(planet) < 6]\n",
    "short_planets"
   ]
  },
  {
   "cell_type": "markdown",
   "id": "27a451b5",
   "metadata": {
    "papermill": {
     "duration": 0.023719,
     "end_time": "2021-08-27T05:23:36.999119",
     "exception": false,
     "start_time": "2021-08-27T05:23:36.975400",
     "status": "completed"
    },
    "tags": []
   },
   "source": [
    "(If you're familiar with SQL, you might think of this as being like a \"WHERE\" clause)\n",
    "\n",
    "Here's an example of filtering with an `if` condition *and* applying some transformation to the loop variable:"
   ]
  },
  {
   "cell_type": "code",
   "execution_count": 9,
   "id": "2dd610d9",
   "metadata": {
    "execution": {
     "iopub.execute_input": "2021-08-27T05:23:37.053168Z",
     "iopub.status.busy": "2021-08-27T05:23:37.052153Z",
     "iopub.status.idle": "2021-08-27T05:23:37.056519Z",
     "shell.execute_reply": "2021-08-27T05:23:37.057028Z",
     "shell.execute_reply.started": "2021-08-27T05:17:20.259524Z"
    },
    "papermill": {
     "duration": 0.03418,
     "end_time": "2021-08-27T05:23:37.057225",
     "exception": false,
     "start_time": "2021-08-27T05:23:37.023045",
     "status": "completed"
    },
    "tags": []
   },
   "outputs": [
    {
     "data": {
      "text/plain": [
       "['VENUS!', 'EARTH!', 'MARS!']"
      ]
     },
     "execution_count": 9,
     "metadata": {},
     "output_type": "execute_result"
    }
   ],
   "source": [
    "# str.upper() returns an all-caps version of a string\n",
    "loud_short_planets = [planet.upper() + '!' for planet in planets if len(planet) < 6]\n",
    "loud_short_planets"
   ]
  },
  {
   "cell_type": "markdown",
   "id": "d0013263",
   "metadata": {
    "papermill": {
     "duration": 0.027191,
     "end_time": "2021-08-27T05:23:37.108480",
     "exception": false,
     "start_time": "2021-08-27T05:23:37.081289",
     "status": "completed"
    },
    "tags": []
   },
   "source": [
    "People usually write these on a single line, but you might find the structure clearer when it's split up over 3 lines:"
   ]
  },
  {
   "cell_type": "code",
   "execution_count": 10,
   "id": "9f953042",
   "metadata": {
    "execution": {
     "iopub.execute_input": "2021-08-27T05:23:37.176980Z",
     "iopub.status.busy": "2021-08-27T05:23:37.175760Z",
     "iopub.status.idle": "2021-08-27T05:23:37.181512Z",
     "shell.execute_reply": "2021-08-27T05:23:37.180328Z",
     "shell.execute_reply.started": "2021-08-27T05:19:57.860524Z"
    },
    "papermill": {
     "duration": 0.044244,
     "end_time": "2021-08-27T05:23:37.181774",
     "exception": false,
     "start_time": "2021-08-27T05:23:37.137530",
     "status": "completed"
    },
    "tags": []
   },
   "outputs": [
    {
     "data": {
      "text/plain": [
       "['VENUS!', 'EARTH!', 'MARS!']"
      ]
     },
     "execution_count": 10,
     "metadata": {},
     "output_type": "execute_result"
    }
   ],
   "source": [
    "[\n",
    "    planet.upper() + '!' \n",
    "    for planet in planets \n",
    "    if len(planet) < 6\n",
    "]"
   ]
  },
  {
   "cell_type": "markdown",
   "id": "5a9534ee",
   "metadata": {
    "papermill": {
     "duration": 0.02387,
     "end_time": "2021-08-27T05:23:37.238960",
     "exception": false,
     "start_time": "2021-08-27T05:23:37.215090",
     "status": "completed"
    },
    "tags": []
   },
   "source": [
    "(Continuing the SQL analogy, you could think of these three lines as SELECT, FROM, and WHERE)\n",
    "\n",
    "The expression on the left doesn't technically have to involve the loop variable (though it'd be pretty unusual for it not to). What do you think the expression below will evaluate to? Press the 'output' button to check. "
   ]
  },
  {
   "cell_type": "code",
   "execution_count": 11,
   "id": "cf23f55e",
   "metadata": {
    "_kg_hide-output": true,
    "execution": {
     "iopub.execute_input": "2021-08-27T05:23:37.293668Z",
     "iopub.status.busy": "2021-08-27T05:23:37.292844Z",
     "iopub.status.idle": "2021-08-27T05:23:37.295570Z",
     "shell.execute_reply": "2021-08-27T05:23:37.296066Z",
     "shell.execute_reply.started": "2021-08-27T05:21:52.635584Z"
    },
    "papermill": {
     "duration": 0.033446,
     "end_time": "2021-08-27T05:23:37.296242",
     "exception": false,
     "start_time": "2021-08-27T05:23:37.262796",
     "status": "completed"
    },
    "tags": []
   },
   "outputs": [
    {
     "data": {
      "text/plain": [
       "[32, 32, 32, 32, 32, 32, 32, 32]"
      ]
     },
     "execution_count": 11,
     "metadata": {},
     "output_type": "execute_result"
    }
   ],
   "source": [
    "[32 for planet in planets]"
   ]
  },
  {
   "cell_type": "markdown",
   "id": "2bd48488",
   "metadata": {
    "papermill": {
     "duration": 0.023668,
     "end_time": "2021-08-27T05:23:37.343923",
     "exception": false,
     "start_time": "2021-08-27T05:23:37.320255",
     "status": "completed"
    },
    "tags": []
   },
   "source": [
    "List comprehensions combined with functions like `min`, `max`, and `sum` can lead to impressive one-line solutions for problems that would otherwise require several lines of code. \n",
    "\n",
    "For example, compare the following two cells of code that do the same thing.\n"
   ]
  },
  {
   "cell_type": "code",
   "execution_count": 12,
   "id": "ea8c896f",
   "metadata": {
    "execution": {
     "iopub.execute_input": "2021-08-27T05:23:37.396341Z",
     "iopub.status.busy": "2021-08-27T05:23:37.395625Z",
     "iopub.status.idle": "2021-08-27T05:23:37.400471Z",
     "shell.execute_reply": "2021-08-27T05:23:37.401072Z",
     "shell.execute_reply.started": "2021-08-27T05:22:15.825272Z"
    },
    "papermill": {
     "duration": 0.033202,
     "end_time": "2021-08-27T05:23:37.401256",
     "exception": false,
     "start_time": "2021-08-27T05:23:37.368054",
     "status": "completed"
    },
    "tags": []
   },
   "outputs": [],
   "source": [
    "def count_negatives(nums):\n",
    "    \"\"\"Return the number of negative numbers in the given list.\n",
    "    \n",
    "    >>> count_negatives([5, -1, -2, 0, 3])\n",
    "    2\n",
    "    \"\"\"\n",
    "    n_negative = 0\n",
    "    for num in nums:\n",
    "        if num < 0:\n",
    "            n_negative = n_negative + 1\n",
    "    return n_negative"
   ]
  },
  {
   "cell_type": "markdown",
   "id": "a23e1858",
   "metadata": {
    "papermill": {
     "duration": 0.023943,
     "end_time": "2021-08-27T05:23:37.449308",
     "exception": false,
     "start_time": "2021-08-27T05:23:37.425365",
     "status": "completed"
    },
    "tags": []
   },
   "source": [
    "Here's a solution using a list comprehension:"
   ]
  },
  {
   "cell_type": "code",
   "execution_count": 13,
   "id": "81c710cd",
   "metadata": {
    "execution": {
     "iopub.execute_input": "2021-08-27T05:23:37.501033Z",
     "iopub.status.busy": "2021-08-27T05:23:37.500244Z",
     "iopub.status.idle": "2021-08-27T05:23:37.504327Z",
     "shell.execute_reply": "2021-08-27T05:23:37.504923Z",
     "shell.execute_reply.started": "2021-08-27T05:22:22.327567Z"
    },
    "papermill": {
     "duration": 0.03164,
     "end_time": "2021-08-27T05:23:37.505103",
     "exception": false,
     "start_time": "2021-08-27T05:23:37.473463",
     "status": "completed"
    },
    "tags": []
   },
   "outputs": [],
   "source": [
    "def count_negatives(nums):\n",
    "    return len([num for num in nums if num < 0])"
   ]
  },
  {
   "cell_type": "markdown",
   "id": "3cee7e78",
   "metadata": {
    "papermill": {
     "duration": 0.023557,
     "end_time": "2021-08-27T05:23:37.552761",
     "exception": false,
     "start_time": "2021-08-27T05:23:37.529204",
     "status": "completed"
    },
    "tags": []
   },
   "source": [
    "Much better, right?\n",
    "\n",
    "Well if all we care about is minimizing the length of our code, this third solution is better still!"
   ]
  },
  {
   "cell_type": "code",
   "execution_count": 14,
   "id": "c2c56893",
   "metadata": {
    "execution": {
     "iopub.execute_input": "2021-08-27T05:23:37.604731Z",
     "iopub.status.busy": "2021-08-27T05:23:37.603960Z",
     "iopub.status.idle": "2021-08-27T05:23:37.609188Z",
     "shell.execute_reply": "2021-08-27T05:23:37.608606Z",
     "shell.execute_reply.started": "2021-08-27T05:22:28.242323Z"
    },
    "papermill": {
     "duration": 0.032734,
     "end_time": "2021-08-27T05:23:37.609334",
     "exception": false,
     "start_time": "2021-08-27T05:23:37.576600",
     "status": "completed"
    },
    "tags": []
   },
   "outputs": [],
   "source": [
    "def count_negatives(nums):\n",
    "    # Reminder: in the \"booleans and conditionals\" exercises, we learned about a quirk of \n",
    "    # Python where it calculates something like True + True + False + True to be equal to 3.\n",
    "    return sum([num < 0 for num in nums])"
   ]
  },
  {
   "cell_type": "markdown",
   "id": "a28cb3a1",
   "metadata": {
    "papermill": {
     "duration": 0.023549,
     "end_time": "2021-08-27T05:23:37.657069",
     "exception": false,
     "start_time": "2021-08-27T05:23:37.633520",
     "status": "completed"
    },
    "tags": []
   },
   "source": [
    "Which of these solutions is the \"best\" is entirely subjective. Solving a problem with less code is always nice, but it's worth keeping in mind the following lines from [The Zen of Python](https://en.wikipedia.org/wiki/Zen_of_Python):\n",
    "\n",
    "> Readability counts.  \n",
    "> Explicit is better than implicit.\n",
    "\n",
    "So, use these tools to make compact readable programs. But when you have to choose, favor code that is easy for others to understand."
   ]
  },
  {
   "cell_type": "markdown",
   "id": "90bac3a8",
   "metadata": {
    "papermill": {
     "duration": 0.023554,
     "end_time": "2021-08-27T05:23:37.704733",
     "exception": false,
     "start_time": "2021-08-27T05:23:37.681179",
     "status": "completed"
    },
    "tags": []
   },
   "source": [
    "# Your Turn\n",
    "\n",
    "You know what's next -- we have some **[fun coding challenges](https://www.kaggle.com/kernels/fork/1275177)** for you! This next set of coding problems is shorter, so try it now."
   ]
  },
  {
   "cell_type": "markdown",
   "id": "cbf802b6",
   "metadata": {
    "papermill": {
     "duration": 0.023611,
     "end_time": "2021-08-27T05:23:37.752445",
     "exception": false,
     "start_time": "2021-08-27T05:23:37.728834",
     "status": "completed"
    },
    "tags": []
   },
   "source": [
    "---\n",
    "\n",
    "\n",
    "\n",
    "\n",
    "*Have questions or comments? Visit the [Learn Discussion forum](https://www.kaggle.com/learn-forum/161283) to chat with other Learners.*"
   ]
  }
 ],
 "metadata": {
  "kernelspec": {
   "display_name": "Python 3",
   "language": "python",
   "name": "python3"
  },
  "language_info": {
   "codemirror_mode": {
    "name": "ipython",
    "version": 3
   },
   "file_extension": ".py",
   "mimetype": "text/x-python",
   "name": "python",
   "nbconvert_exporter": "python",
   "pygments_lexer": "ipython3",
   "version": "3.7.10"
  },
  "papermill": {
   "default_parameters": {},
   "duration": 11.898429,
   "end_time": "2021-08-27T05:23:39.177731",
   "environment_variables": {},
   "exception": null,
   "input_path": "__notebook__.ipynb",
   "output_path": "__notebook__.ipynb",
   "parameters": {},
   "start_time": "2021-08-27T05:23:27.279302",
   "version": "2.3.3"
  }
 },
 "nbformat": 4,
 "nbformat_minor": 5
}
