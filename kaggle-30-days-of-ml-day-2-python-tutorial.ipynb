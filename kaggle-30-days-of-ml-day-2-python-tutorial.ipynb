{
 "cells": [
  {
   "cell_type": "markdown",
   "id": "fba9c3c1",
   "metadata": {
    "papermill": {
     "duration": 0.027167,
     "end_time": "2021-08-26T12:37:19.145337",
     "exception": false,
     "start_time": "2021-08-26T12:37:19.118170",
     "status": "completed"
    },
    "tags": []
   },
   "source": [
    "This course covers the key Python skills you’ll need so you can start using Python for data science. \n",
    "\n",
    "We'll start with a brief overview of Python syntax, variable assignment, and arithmetic operators. If you have previous Python experience, you can [skip straight to the hands-on exercise](https://www.kaggle.com/kernels/fork/1275163)."
   ]
  },
  {
   "cell_type": "markdown",
   "id": "96117a63",
   "metadata": {
    "papermill": {
     "duration": 0.026071,
     "end_time": "2021-08-26T12:37:19.197378",
     "exception": false,
     "start_time": "2021-08-26T12:37:19.171307",
     "status": "completed"
    },
    "tags": []
   },
   "source": [
    "# Hello, Python!\n",
    "\n",
    "Python was named for the British comedy troupe [Monty Python](https://en.wikipedia.org/wiki/Monty_Python), so we'll make our first Python program a homage to their skit about Spam.\n",
    "\n",
    "Just for fun, try reading over the code below and predicting what it's going to do when run. (If you have no idea, that's fine!)\n",
    "\n",
    "Then click the \"output\" button to see the results of our program."
   ]
  },
  {
   "cell_type": "code",
   "execution_count": 1,
   "id": "08395f13",
   "metadata": {
    "_kg_hide-output": true,
    "execution": {
     "iopub.execute_input": "2021-08-26T12:37:19.253786Z",
     "iopub.status.busy": "2021-08-26T12:37:19.252635Z",
     "iopub.status.idle": "2021-08-26T12:37:19.265838Z",
     "shell.execute_reply": "2021-08-26T12:37:19.266665Z",
     "shell.execute_reply.started": "2021-08-26T12:20:53.007572Z"
    },
    "papermill": {
     "duration": 0.043333,
     "end_time": "2021-08-26T12:37:19.267069",
     "exception": false,
     "start_time": "2021-08-26T12:37:19.223736",
     "status": "completed"
    },
    "tags": []
   },
   "outputs": [
    {
     "name": "stdout",
     "output_type": "stream",
     "text": [
      "0\n",
      "But I don't want ANY spam!\n",
      "Spam Spam Spam Spam \n"
     ]
    }
   ],
   "source": [
    "spam_amount = 0\n",
    "print(spam_amount)\n",
    "\n",
    "# Ordering Spam, egg, Spam, Spam, bacon and Spam (4 more servings of Spam)\n",
    "spam_amount = spam_amount + 4\n",
    "\n",
    "if spam_amount > 0:\n",
    "    print(\"But I don't want ANY spam!\")\n",
    "\n",
    "viking_song = \"Spam \" * spam_amount\n",
    "print(viking_song)"
   ]
  },
  {
   "cell_type": "markdown",
   "id": "63496dd7",
   "metadata": {
    "papermill": {
     "duration": 0.040085,
     "end_time": "2021-08-26T12:37:19.341273",
     "exception": false,
     "start_time": "2021-08-26T12:37:19.301188",
     "status": "completed"
    },
    "tags": []
   },
   "source": [
    "There's a lot to unpack here! This silly program demonstrates many important aspects of what Python code looks like and how it works. Let's review the code from top to bottom."
   ]
  },
  {
   "cell_type": "code",
   "execution_count": 2,
   "id": "d5f3b83b",
   "metadata": {
    "execution": {
     "iopub.execute_input": "2021-08-26T12:37:19.407213Z",
     "iopub.status.busy": "2021-08-26T12:37:19.406525Z",
     "iopub.status.idle": "2021-08-26T12:37:19.410117Z",
     "shell.execute_reply": "2021-08-26T12:37:19.410652Z",
     "shell.execute_reply.started": "2021-08-26T12:21:53.672158Z"
    },
    "papermill": {
     "duration": 0.033127,
     "end_time": "2021-08-26T12:37:19.410850",
     "exception": false,
     "start_time": "2021-08-26T12:37:19.377723",
     "status": "completed"
    },
    "tags": []
   },
   "outputs": [],
   "source": [
    "spam_amount = 0"
   ]
  },
  {
   "cell_type": "markdown",
   "id": "5fb808db",
   "metadata": {
    "papermill": {
     "duration": 0.027392,
     "end_time": "2021-08-26T12:37:19.464598",
     "exception": false,
     "start_time": "2021-08-26T12:37:19.437206",
     "status": "completed"
    },
    "tags": []
   },
   "source": [
    "**Variable assignment:** Here we create a variable called `spam_amount` and assign it the value of 0 using `=`, which is called the assignment operator.\n",
    "\n",
    "> **Aside**: If you've programmed in certain other languages (like Java or C++), you might be noticing some things Python *doesn't* require us to do here:  \n",
    "- we don't need to \"declare\" `spam_amount` before assigning to it\n",
    "- we don't need to tell Python what type of value `spam_amount` is going to refer to. In fact, we can even go on to reassign `spam_amount` to refer to a different sort of thing like a string or a boolean."
   ]
  },
  {
   "cell_type": "code",
   "execution_count": 3,
   "id": "9cfb6870",
   "metadata": {
    "_kg_hide-output": false,
    "execution": {
     "iopub.execute_input": "2021-08-26T12:37:19.522179Z",
     "iopub.status.busy": "2021-08-26T12:37:19.521433Z",
     "iopub.status.idle": "2021-08-26T12:37:19.524863Z",
     "shell.execute_reply": "2021-08-26T12:37:19.525458Z",
     "shell.execute_reply.started": "2021-08-26T12:22:40.757223Z"
    },
    "papermill": {
     "duration": 0.034556,
     "end_time": "2021-08-26T12:37:19.525625",
     "exception": false,
     "start_time": "2021-08-26T12:37:19.491069",
     "status": "completed"
    },
    "tags": []
   },
   "outputs": [
    {
     "name": "stdout",
     "output_type": "stream",
     "text": [
      "0\n"
     ]
    }
   ],
   "source": [
    "print(spam_amount)"
   ]
  },
  {
   "cell_type": "markdown",
   "id": "2bf64326",
   "metadata": {
    "papermill": {
     "duration": 0.026058,
     "end_time": "2021-08-26T12:37:19.578122",
     "exception": false,
     "start_time": "2021-08-26T12:37:19.552064",
     "status": "completed"
    },
    "tags": []
   },
   "source": [
    "**Function calls:**. `print` is a Python function that displays the value passed to it on the screen. We call functions by putting parentheses after their name, and putting the inputs (or *arguments*) to the function in those parentheses."
   ]
  },
  {
   "cell_type": "code",
   "execution_count": 4,
   "id": "d29c62ae",
   "metadata": {
    "_kg_hide-output": false,
    "execution": {
     "iopub.execute_input": "2021-08-26T12:37:19.634300Z",
     "iopub.status.busy": "2021-08-26T12:37:19.633608Z",
     "iopub.status.idle": "2021-08-26T12:37:19.637180Z",
     "shell.execute_reply": "2021-08-26T12:37:19.637703Z",
     "shell.execute_reply.started": "2021-08-26T12:23:03.822334Z"
    },
    "papermill": {
     "duration": 0.033136,
     "end_time": "2021-08-26T12:37:19.637878",
     "exception": false,
     "start_time": "2021-08-26T12:37:19.604742",
     "status": "completed"
    },
    "tags": []
   },
   "outputs": [],
   "source": [
    "# Ordering Spam, egg, Spam, Spam, bacon and Spam (4 more servings of Spam)\n",
    "spam_amount = spam_amount + 4"
   ]
  },
  {
   "cell_type": "markdown",
   "id": "d2c6bfc1",
   "metadata": {
    "papermill": {
     "duration": 0.025884,
     "end_time": "2021-08-26T12:37:19.690102",
     "exception": false,
     "start_time": "2021-08-26T12:37:19.664218",
     "status": "completed"
    },
    "tags": []
   },
   "source": [
    "The first line above is a **comment**. In Python, comments begin with the `#` symbol.\n",
    "\n",
    "Next we see an example of reassignment. Reassigning the value of an existing variable looks just the same as creating a variable - it still uses the `=` assignment operator.\n",
    "\n",
    "In this case, the value we're assigning to `spam_amount` involves some simple arithmetic on its previous value. When it encounters this line, Python evaluates the expression on the right-hand-side of the `=` (0 + 4 = 4), and then assigns that value to the variable on the left-hand-side."
   ]
  },
  {
   "cell_type": "code",
   "execution_count": 5,
   "id": "ff3073c0",
   "metadata": {
    "_kg_hide-output": false,
    "execution": {
     "iopub.execute_input": "2021-08-26T12:37:19.745996Z",
     "iopub.status.busy": "2021-08-26T12:37:19.745313Z",
     "iopub.status.idle": "2021-08-26T12:37:19.750582Z",
     "shell.execute_reply": "2021-08-26T12:37:19.751270Z",
     "shell.execute_reply.started": "2021-08-26T12:23:38.047548Z"
    },
    "papermill": {
     "duration": 0.035123,
     "end_time": "2021-08-26T12:37:19.751460",
     "exception": false,
     "start_time": "2021-08-26T12:37:19.716337",
     "status": "completed"
    },
    "tags": []
   },
   "outputs": [
    {
     "name": "stdout",
     "output_type": "stream",
     "text": [
      "But I don't want ANY spam!\n",
      "Spam Spam Spam\n"
     ]
    }
   ],
   "source": [
    "if spam_amount > 0:\n",
    "    print(\"But I don't want ANY spam!\")\n",
    "\n",
    "viking_song = \"Spam Spam Spam\"\n",
    "print(viking_song)"
   ]
  },
  {
   "cell_type": "markdown",
   "id": "cffd0727",
   "metadata": {
    "papermill": {
     "duration": 0.026517,
     "end_time": "2021-08-26T12:37:19.804712",
     "exception": false,
     "start_time": "2021-08-26T12:37:19.778195",
     "status": "completed"
    },
    "tags": []
   },
   "source": [
    "We won't talk much about \"conditionals\" until later, but, even if you've never coded before, you can probably guess what this does. Python is prized for its readability and the simplicity. \n",
    "\n",
    "Note how we indicated which code belongs to the `if`. `\"But I don't want ANY spam!\"` is only supposed to be printed if `spam_amount` is positive. But the later code (like `print(viking_song)`) should be executed no matter what. How do we (and Python) know that?\n",
    "\n",
    "The colon (`:`) at the end of the `if` line indicates that a new **code block** is starting. Subsequent lines which are indented are part of that code block. \n",
    "> **Aside**: If you've coded before, you might know that some other languages use `{`curly braces`}` to mark the beginning and end of code blocks. Python's use of meaningful whitespace can be surprising to programmers who are accustomed to other languages, but in practice it can lead to more consistent and readable code than languages that do not enforce indentation of code blocks. \n",
    "\n",
    "The later lines dealing with `viking_song` are not indented with an extra 4 spaces, so they're not a part of the `if`'s code block. We'll see more examples of indented code blocks later when we define functions and using loops.\n",
    "\n",
    "This code snippet is also our first sighting of a **string** in Python:\n",
    "\n",
    "```python\n",
    "\"But I don't want ANY spam!\"\n",
    "```\n",
    "\n",
    "Strings can be marked either by double or single quotation marks. (But because this particular string *contains* a single-quote character, we might confuse Python by trying to surround it with single-quotes, unless we're careful.)"
   ]
  },
  {
   "cell_type": "code",
   "execution_count": 6,
   "id": "384057c8",
   "metadata": {
    "_kg_hide-output": false,
    "execution": {
     "iopub.execute_input": "2021-08-26T12:37:19.862824Z",
     "iopub.status.busy": "2021-08-26T12:37:19.861721Z",
     "iopub.status.idle": "2021-08-26T12:37:19.868162Z",
     "shell.execute_reply": "2021-08-26T12:37:19.867592Z",
     "shell.execute_reply.started": "2021-08-26T12:26:11.378189Z"
    },
    "papermill": {
     "duration": 0.036201,
     "end_time": "2021-08-26T12:37:19.868311",
     "exception": false,
     "start_time": "2021-08-26T12:37:19.832110",
     "status": "completed"
    },
    "tags": []
   },
   "outputs": [
    {
     "name": "stdout",
     "output_type": "stream",
     "text": [
      "Spam Spam Spam Spam \n"
     ]
    }
   ],
   "source": [
    "viking_song = \"Spam \" * spam_amount\n",
    "print(viking_song)"
   ]
  },
  {
   "cell_type": "markdown",
   "id": "0edf9c0a",
   "metadata": {
    "papermill": {
     "duration": 0.026987,
     "end_time": "2021-08-26T12:37:19.922630",
     "exception": false,
     "start_time": "2021-08-26T12:37:19.895643",
     "status": "completed"
    },
    "tags": []
   },
   "source": [
    "The `*` operator can be used to multiply two numbers (`3 * 3` evaluates to 9), but we can also multiply a string by a number, to get a version that's been repeated that many times. Python offers a number of cheeky little time-saving tricks like this where operators like `*` and `+` have a different meaning depending on what kind of thing they're applied to. (The technical term for this is [operator overloading](https://en.wikipedia.org/wiki/Operator_overloading).)"
   ]
  },
  {
   "cell_type": "markdown",
   "id": "48cedb8b",
   "metadata": {
    "papermill": {
     "duration": 0.02757,
     "end_time": "2021-08-26T12:37:19.977490",
     "exception": false,
     "start_time": "2021-08-26T12:37:19.949920",
     "status": "completed"
    },
    "tags": []
   },
   "source": [
    "## Numbers and arithmetic in Python\n",
    "\n",
    "We've already seen an example of a variable containing a number above:"
   ]
  },
  {
   "cell_type": "code",
   "execution_count": 7,
   "id": "fedca615",
   "metadata": {
    "execution": {
     "iopub.execute_input": "2021-08-26T12:37:20.035304Z",
     "iopub.status.busy": "2021-08-26T12:37:20.034558Z",
     "iopub.status.idle": "2021-08-26T12:37:20.038030Z",
     "shell.execute_reply": "2021-08-26T12:37:20.038535Z",
     "shell.execute_reply.started": "2021-08-26T12:27:07.067856Z"
    },
    "papermill": {
     "duration": 0.033651,
     "end_time": "2021-08-26T12:37:20.038702",
     "exception": false,
     "start_time": "2021-08-26T12:37:20.005051",
     "status": "completed"
    },
    "tags": []
   },
   "outputs": [],
   "source": [
    "spam_amount = 0"
   ]
  },
  {
   "cell_type": "markdown",
   "id": "2317b5b7",
   "metadata": {
    "papermill": {
     "duration": 0.027029,
     "end_time": "2021-08-26T12:37:20.093532",
     "exception": false,
     "start_time": "2021-08-26T12:37:20.066503",
     "status": "completed"
    },
    "tags": []
   },
   "source": [
    "\"Number\" is a fine informal name for the kind of thing, but if we wanted to be more technical, we could ask Python how it would describe the type of thing that `spam_amount` is:"
   ]
  },
  {
   "cell_type": "code",
   "execution_count": 8,
   "id": "e1b3eb8f",
   "metadata": {
    "execution": {
     "iopub.execute_input": "2021-08-26T12:37:20.151102Z",
     "iopub.status.busy": "2021-08-26T12:37:20.150330Z",
     "iopub.status.idle": "2021-08-26T12:37:20.157826Z",
     "shell.execute_reply": "2021-08-26T12:37:20.158379Z",
     "shell.execute_reply.started": "2021-08-26T12:27:16.503090Z"
    },
    "papermill": {
     "duration": 0.037642,
     "end_time": "2021-08-26T12:37:20.158549",
     "exception": false,
     "start_time": "2021-08-26T12:37:20.120907",
     "status": "completed"
    },
    "tags": []
   },
   "outputs": [
    {
     "data": {
      "text/plain": [
       "int"
      ]
     },
     "execution_count": 8,
     "metadata": {},
     "output_type": "execute_result"
    }
   ],
   "source": [
    "type(spam_amount)"
   ]
  },
  {
   "cell_type": "markdown",
   "id": "02f43725",
   "metadata": {
    "papermill": {
     "duration": 0.026966,
     "end_time": "2021-08-26T12:37:20.212753",
     "exception": false,
     "start_time": "2021-08-26T12:37:20.185787",
     "status": "completed"
    },
    "tags": []
   },
   "source": [
    "It's an `int` - short for integer. There's another sort of number we commonly encounter in Python:"
   ]
  },
  {
   "cell_type": "code",
   "execution_count": 9,
   "id": "ce15fd15",
   "metadata": {
    "execution": {
     "iopub.execute_input": "2021-08-26T12:37:20.271709Z",
     "iopub.status.busy": "2021-08-26T12:37:20.270996Z",
     "iopub.status.idle": "2021-08-26T12:37:20.277343Z",
     "shell.execute_reply": "2021-08-26T12:37:20.276797Z",
     "shell.execute_reply.started": "2021-08-26T12:27:22.797447Z"
    },
    "papermill": {
     "duration": 0.036409,
     "end_time": "2021-08-26T12:37:20.277496",
     "exception": false,
     "start_time": "2021-08-26T12:37:20.241087",
     "status": "completed"
    },
    "tags": []
   },
   "outputs": [
    {
     "data": {
      "text/plain": [
       "float"
      ]
     },
     "execution_count": 9,
     "metadata": {},
     "output_type": "execute_result"
    }
   ],
   "source": [
    "type(19.95)"
   ]
  },
  {
   "cell_type": "markdown",
   "id": "92047d4e",
   "metadata": {
    "papermill": {
     "duration": 0.029059,
     "end_time": "2021-08-26T12:37:20.334698",
     "exception": false,
     "start_time": "2021-08-26T12:37:20.305639",
     "status": "completed"
    },
    "tags": []
   },
   "source": [
    "A `float` is a number with a decimal place - very useful for representing things like weights or proportions.\n",
    "\n",
    "`type()` is the second built-in function we've seen (after `print()`), and it's another good one to remember. It's very useful to be able to ask Python \"what kind of thing is this?\". "
   ]
  },
  {
   "cell_type": "markdown",
   "id": "485355b9",
   "metadata": {
    "papermill": {
     "duration": 0.0278,
     "end_time": "2021-08-26T12:37:20.391138",
     "exception": false,
     "start_time": "2021-08-26T12:37:20.363338",
     "status": "completed"
    },
    "tags": []
   },
   "source": [
    "A natural thing to want to do with numbers is perform arithmetic. We've seen the `+` operator for addition, and the `*` operator for multiplication. Python also has us covered for the rest of the basic buttons on your calculator:\n",
    "\n",
    "| Operator     | Name           | Description                                            |\n",
    "|--------------|----------------|--------------------------------------------------------|\n",
    "| ``a + b``    | Addition       | Sum of ``a`` and ``b``                                 |\n",
    "| ``a - b``    | Subtraction    | Difference of ``a`` and ``b``                          |\n",
    "| ``a * b``    | Multiplication | Product of ``a`` and ``b``                             |\n",
    "| ``a / b``    | True division  | Quotient of ``a`` and ``b``                            |\n",
    "| ``a // b``   | Floor division | Quotient of ``a`` and ``b``, removing fractional parts |\n",
    "| ``a % b``    | Modulus        | Integer remainder after division of ``a`` by ``b``     |\n",
    "| ``a ** b``   | Exponentiation | ``a`` raised to the power of ``b``                     |\n",
    "| ``-a``       | Negation       | The negative of ``a``                                  |\n",
    "\n",
    "<span style=\"display:none\"></span>\n",
    "\n",
    "One interesting observation here is that, whereas your calculator probably just has one button for division, Python can do two kinds. \"True division\" is basically what your calculator does:"
   ]
  },
  {
   "cell_type": "code",
   "execution_count": 10,
   "id": "cba9ecbd",
   "metadata": {
    "execution": {
     "iopub.execute_input": "2021-08-26T12:37:20.454373Z",
     "iopub.status.busy": "2021-08-26T12:37:20.453674Z",
     "iopub.status.idle": "2021-08-26T12:37:20.456732Z",
     "shell.execute_reply": "2021-08-26T12:37:20.457242Z",
     "shell.execute_reply.started": "2021-08-26T12:28:16.677426Z"
    },
    "papermill": {
     "duration": 0.037894,
     "end_time": "2021-08-26T12:37:20.457413",
     "exception": false,
     "start_time": "2021-08-26T12:37:20.419519",
     "status": "completed"
    },
    "tags": []
   },
   "outputs": [
    {
     "name": "stdout",
     "output_type": "stream",
     "text": [
      "2.5\n",
      "3.0\n"
     ]
    }
   ],
   "source": [
    "print(5 / 2)\n",
    "print(6 / 2)"
   ]
  },
  {
   "cell_type": "markdown",
   "id": "8d5cc4e5",
   "metadata": {
    "papermill": {
     "duration": 0.027757,
     "end_time": "2021-08-26T12:37:20.513183",
     "exception": false,
     "start_time": "2021-08-26T12:37:20.485426",
     "status": "completed"
    },
    "tags": []
   },
   "source": [
    "It always gives us a `float`. \n",
    "\n",
    "The `//` operator gives us a result that's rounded down to the next integer."
   ]
  },
  {
   "cell_type": "code",
   "execution_count": 11,
   "id": "519ef2c0",
   "metadata": {
    "execution": {
     "iopub.execute_input": "2021-08-26T12:37:20.573798Z",
     "iopub.status.busy": "2021-08-26T12:37:20.573083Z",
     "iopub.status.idle": "2021-08-26T12:37:20.577702Z",
     "shell.execute_reply": "2021-08-26T12:37:20.577100Z",
     "shell.execute_reply.started": "2021-08-26T12:30:08.622585Z"
    },
    "papermill": {
     "duration": 0.036734,
     "end_time": "2021-08-26T12:37:20.577845",
     "exception": false,
     "start_time": "2021-08-26T12:37:20.541111",
     "status": "completed"
    },
    "tags": []
   },
   "outputs": [
    {
     "name": "stdout",
     "output_type": "stream",
     "text": [
      "-3\n",
      "3\n"
     ]
    }
   ],
   "source": [
    "print(-5 // 2)\n",
    "print(6 // 2)"
   ]
  },
  {
   "cell_type": "markdown",
   "id": "811f25aa",
   "metadata": {
    "papermill": {
     "duration": 0.028369,
     "end_time": "2021-08-26T12:37:20.635439",
     "exception": false,
     "start_time": "2021-08-26T12:37:20.607070",
     "status": "completed"
    },
    "tags": []
   },
   "source": [
    "Can you think of where this would be useful? You'll see an example soon in the coding challenges."
   ]
  },
  {
   "cell_type": "markdown",
   "id": "646b2850",
   "metadata": {
    "papermill": {
     "duration": 0.028217,
     "end_time": "2021-08-26T12:37:20.693481",
     "exception": false,
     "start_time": "2021-08-26T12:37:20.665264",
     "status": "completed"
    },
    "tags": []
   },
   "source": [
    "### Order of operations\n",
    "\n",
    "The arithmetic we learned in primary school has conventions about the order in which operations are evaluated. Some remember these by a mnemonic such as **PEMDAS** - **P**arentheses, **E**xponents, **M**ultiplication/**D**ivision, **A**ddition/**S**ubtraction.\n",
    "\n",
    "Python follows similar rules about which calculations to perform first. They're mostly pretty intuitive."
   ]
  },
  {
   "cell_type": "code",
   "execution_count": 12,
   "id": "ac59d13a",
   "metadata": {
    "execution": {
     "iopub.execute_input": "2021-08-26T12:37:20.754236Z",
     "iopub.status.busy": "2021-08-26T12:37:20.753204Z",
     "iopub.status.idle": "2021-08-26T12:37:20.759153Z",
     "shell.execute_reply": "2021-08-26T12:37:20.759743Z",
     "shell.execute_reply.started": "2021-08-26T12:31:51.668077Z"
    },
    "papermill": {
     "duration": 0.037778,
     "end_time": "2021-08-26T12:37:20.759915",
     "exception": false,
     "start_time": "2021-08-26T12:37:20.722137",
     "status": "completed"
    },
    "tags": []
   },
   "outputs": [
    {
     "data": {
      "text/plain": [
       "7"
      ]
     },
     "execution_count": 12,
     "metadata": {},
     "output_type": "execute_result"
    }
   ],
   "source": [
    "8 - 3 + 2"
   ]
  },
  {
   "cell_type": "code",
   "execution_count": 13,
   "id": "bb95a125",
   "metadata": {
    "execution": {
     "iopub.execute_input": "2021-08-26T12:37:20.822356Z",
     "iopub.status.busy": "2021-08-26T12:37:20.821332Z",
     "iopub.status.idle": "2021-08-26T12:37:20.826793Z",
     "shell.execute_reply": "2021-08-26T12:37:20.827394Z",
     "shell.execute_reply.started": "2021-08-26T12:32:04.312803Z"
    },
    "papermill": {
     "duration": 0.037766,
     "end_time": "2021-08-26T12:37:20.827563",
     "exception": false,
     "start_time": "2021-08-26T12:37:20.789797",
     "status": "completed"
    },
    "tags": []
   },
   "outputs": [
    {
     "data": {
      "text/plain": [
       "5"
      ]
     },
     "execution_count": 13,
     "metadata": {},
     "output_type": "execute_result"
    }
   ],
   "source": [
    "-3 + 4 * 2"
   ]
  },
  {
   "cell_type": "markdown",
   "id": "cb0f4f4e",
   "metadata": {
    "papermill": {
     "duration": 0.028692,
     "end_time": "2021-08-26T12:37:20.885135",
     "exception": false,
     "start_time": "2021-08-26T12:37:20.856443",
     "status": "completed"
    },
    "tags": []
   },
   "source": [
    "Sometimes the default order of operations isn't what we want:"
   ]
  },
  {
   "cell_type": "code",
   "execution_count": 14,
   "id": "23f696db",
   "metadata": {
    "execution": {
     "iopub.execute_input": "2021-08-26T12:37:20.946689Z",
     "iopub.status.busy": "2021-08-26T12:37:20.945717Z",
     "iopub.status.idle": "2021-08-26T12:37:20.952805Z",
     "shell.execute_reply": "2021-08-26T12:37:20.952178Z",
     "shell.execute_reply.started": "2021-08-26T12:32:24.957532Z"
    },
    "papermill": {
     "duration": 0.038731,
     "end_time": "2021-08-26T12:37:20.952943",
     "exception": false,
     "start_time": "2021-08-26T12:37:20.914212",
     "status": "completed"
    },
    "tags": []
   },
   "outputs": [
    {
     "name": "stdout",
     "output_type": "stream",
     "text": [
      "Height in meters = 26.9 ?\n"
     ]
    }
   ],
   "source": [
    "hat_height_cm = 25\n",
    "my_height_cm = 190\n",
    "# How tall am I, in meters, when wearing my hat?\n",
    "total_height_meters = hat_height_cm + my_height_cm / 100\n",
    "print(\"Height in meters =\", total_height_meters, \"?\")"
   ]
  },
  {
   "cell_type": "markdown",
   "id": "6f986463",
   "metadata": {
    "papermill": {
     "duration": 0.029397,
     "end_time": "2021-08-26T12:37:21.011687",
     "exception": false,
     "start_time": "2021-08-26T12:37:20.982290",
     "status": "completed"
    },
    "tags": []
   },
   "source": [
    "Parentheses are useful here. You can add them to force Python to evaluate sub-expressions in whatever order you want."
   ]
  },
  {
   "cell_type": "code",
   "execution_count": 15,
   "id": "8d0900ea",
   "metadata": {
    "execution": {
     "iopub.execute_input": "2021-08-26T12:37:21.078412Z",
     "iopub.status.busy": "2021-08-26T12:37:21.077454Z",
     "iopub.status.idle": "2021-08-26T12:37:21.080799Z",
     "shell.execute_reply": "2021-08-26T12:37:21.081339Z",
     "shell.execute_reply.started": "2021-08-26T12:32:30.627230Z"
    },
    "papermill": {
     "duration": 0.040393,
     "end_time": "2021-08-26T12:37:21.081518",
     "exception": false,
     "start_time": "2021-08-26T12:37:21.041125",
     "status": "completed"
    },
    "tags": []
   },
   "outputs": [
    {
     "name": "stdout",
     "output_type": "stream",
     "text": [
      "Height in meters = 2.15\n"
     ]
    }
   ],
   "source": [
    "total_height_meters = (hat_height_cm + my_height_cm) / 100\n",
    "print(\"Height in meters =\", total_height_meters)"
   ]
  },
  {
   "cell_type": "markdown",
   "id": "24b2bead",
   "metadata": {
    "papermill": {
     "duration": 0.029582,
     "end_time": "2021-08-26T12:37:21.141471",
     "exception": false,
     "start_time": "2021-08-26T12:37:21.111889",
     "status": "completed"
    },
    "tags": []
   },
   "source": [
    "### Builtin functions for working with numbers\n",
    "\n",
    "`min` and `max` return the minimum and maximum of their arguments, respectively..."
   ]
  },
  {
   "cell_type": "code",
   "execution_count": 16,
   "id": "7ce38673",
   "metadata": {
    "execution": {
     "iopub.execute_input": "2021-08-26T12:37:21.206668Z",
     "iopub.status.busy": "2021-08-26T12:37:21.205861Z",
     "iopub.status.idle": "2021-08-26T12:37:21.208640Z",
     "shell.execute_reply": "2021-08-26T12:37:21.209307Z",
     "shell.execute_reply.started": "2021-08-26T12:32:50.302281Z"
    },
    "papermill": {
     "duration": 0.038048,
     "end_time": "2021-08-26T12:37:21.209486",
     "exception": false,
     "start_time": "2021-08-26T12:37:21.171438",
     "status": "completed"
    },
    "tags": []
   },
   "outputs": [
    {
     "name": "stdout",
     "output_type": "stream",
     "text": [
      "1\n",
      "3\n"
     ]
    }
   ],
   "source": [
    "print(min(1, 2, 3))\n",
    "print(max(1, 2, 3))"
   ]
  },
  {
   "cell_type": "markdown",
   "id": "826bbb29",
   "metadata": {
    "papermill": {
     "duration": 0.03089,
     "end_time": "2021-08-26T12:37:21.271159",
     "exception": false,
     "start_time": "2021-08-26T12:37:21.240269",
     "status": "completed"
    },
    "tags": []
   },
   "source": [
    "`abs` returns the absolute value of an argument:"
   ]
  },
  {
   "cell_type": "code",
   "execution_count": 17,
   "id": "4b8530ba",
   "metadata": {
    "execution": {
     "iopub.execute_input": "2021-08-26T12:37:21.335066Z",
     "iopub.status.busy": "2021-08-26T12:37:21.334372Z",
     "iopub.status.idle": "2021-08-26T12:37:21.341601Z",
     "shell.execute_reply": "2021-08-26T12:37:21.340789Z",
     "shell.execute_reply.started": "2021-08-26T12:32:53.947113Z"
    },
    "papermill": {
     "duration": 0.040325,
     "end_time": "2021-08-26T12:37:21.341806",
     "exception": false,
     "start_time": "2021-08-26T12:37:21.301481",
     "status": "completed"
    },
    "tags": []
   },
   "outputs": [
    {
     "name": "stdout",
     "output_type": "stream",
     "text": [
      "32\n",
      "32\n"
     ]
    }
   ],
   "source": [
    "print(abs(32))\n",
    "print(abs(-32))"
   ]
  },
  {
   "cell_type": "markdown",
   "id": "130b33f4",
   "metadata": {
    "papermill": {
     "duration": 0.030076,
     "end_time": "2021-08-26T12:37:21.403352",
     "exception": false,
     "start_time": "2021-08-26T12:37:21.373276",
     "status": "completed"
    },
    "tags": []
   },
   "source": [
    "In addition to being the names of Python's two main numerical types, `int` and `float` can also be called as functions which convert their arguments to the corresponding type:"
   ]
  },
  {
   "cell_type": "code",
   "execution_count": 18,
   "id": "22609535",
   "metadata": {
    "execution": {
     "iopub.execute_input": "2021-08-26T12:37:21.471024Z",
     "iopub.status.busy": "2021-08-26T12:37:21.470201Z",
     "iopub.status.idle": "2021-08-26T12:37:21.473615Z",
     "shell.execute_reply": "2021-08-26T12:37:21.474133Z",
     "shell.execute_reply.started": "2021-08-26T12:33:42.267203Z"
    },
    "papermill": {
     "duration": 0.039896,
     "end_time": "2021-08-26T12:37:21.474318",
     "exception": false,
     "start_time": "2021-08-26T12:37:21.434422",
     "status": "completed"
    },
    "tags": []
   },
   "outputs": [
    {
     "name": "stdout",
     "output_type": "stream",
     "text": [
      "10.0\n",
      "3\n",
      "808\n"
     ]
    }
   ],
   "source": [
    "print(float(10))\n",
    "print(int(3.33))\n",
    "# They can even be called on strings!\n",
    "print(int('807') + 1)"
   ]
  },
  {
   "cell_type": "markdown",
   "id": "10e27ac8",
   "metadata": {
    "papermill": {
     "duration": 0.030869,
     "end_time": "2021-08-26T12:37:21.535846",
     "exception": false,
     "start_time": "2021-08-26T12:37:21.504977",
     "status": "completed"
    },
    "tags": []
   },
   "source": [
    "# Your Turn\n",
    "\n",
    "Now is your chance. Try your **[first Python programming exercise](https://www.kaggle.com/kernels/fork/1275163)**!"
   ]
  },
  {
   "cell_type": "markdown",
   "id": "8d0050eb",
   "metadata": {
    "papermill": {
     "duration": 0.030801,
     "end_time": "2021-08-26T12:37:21.598239",
     "exception": false,
     "start_time": "2021-08-26T12:37:21.567438",
     "status": "completed"
    },
    "tags": []
   },
   "source": [
    "---\n",
    "\n",
    "\n",
    "\n",
    "\n",
    "*Have questions or comments? Visit the [Learn Discussion forum](https://www.kaggle.com/learn-forum/161283) to chat with other Learners.*"
   ]
  }
 ],
 "metadata": {
  "kernelspec": {
   "display_name": "Python 3",
   "language": "python",
   "name": "python3"
  },
  "language_info": {
   "codemirror_mode": {
    "name": "ipython",
    "version": 3
   },
   "file_extension": ".py",
   "mimetype": "text/x-python",
   "name": "python",
   "nbconvert_exporter": "python",
   "pygments_lexer": "ipython3",
   "version": "3.7.10"
  },
  "papermill": {
   "default_parameters": {},
   "duration": 11.722384,
   "end_time": "2021-08-26T12:37:22.239749",
   "environment_variables": {},
   "exception": null,
   "input_path": "__notebook__.ipynb",
   "output_path": "__notebook__.ipynb",
   "parameters": {},
   "start_time": "2021-08-26T12:37:10.517365",
   "version": "2.3.3"
  }
 },
 "nbformat": 4,
 "nbformat_minor": 5
}
