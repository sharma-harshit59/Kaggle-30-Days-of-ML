{
 "cells": [
  {
   "cell_type": "markdown",
   "id": "d15638be",
   "metadata": {
    "papermill": {
     "duration": 0.016577,
     "end_time": "2021-08-26T14:36:02.726652",
     "exception": false,
     "start_time": "2021-08-26T14:36:02.710075",
     "status": "completed"
    },
    "tags": []
   },
   "source": [
    "# Booleans\n",
    "\n",
    "Python has a type of variable called `bool`. It has two possible values: `True` and `False`."
   ]
  },
  {
   "cell_type": "code",
   "execution_count": 1,
   "id": "a883cc35",
   "metadata": {
    "execution": {
     "iopub.execute_input": "2021-08-26T14:36:02.762660Z",
     "iopub.status.busy": "2021-08-26T14:36:02.761595Z",
     "iopub.status.idle": "2021-08-26T14:36:02.772493Z",
     "shell.execute_reply": "2021-08-26T14:36:02.771782Z",
     "shell.execute_reply.started": "2021-08-26T14:21:29.576478Z"
    },
    "papermill": {
     "duration": 0.029667,
     "end_time": "2021-08-26T14:36:02.772674",
     "exception": false,
     "start_time": "2021-08-26T14:36:02.743007",
     "status": "completed"
    },
    "tags": []
   },
   "outputs": [
    {
     "name": "stdout",
     "output_type": "stream",
     "text": [
      "True\n",
      "<class 'bool'>\n"
     ]
    }
   ],
   "source": [
    "x = True\n",
    "print(x)\n",
    "print(type(x))"
   ]
  },
  {
   "cell_type": "markdown",
   "id": "acc1e10a",
   "metadata": {
    "papermill": {
     "duration": 0.015893,
     "end_time": "2021-08-26T14:36:02.805824",
     "exception": false,
     "start_time": "2021-08-26T14:36:02.789931",
     "status": "completed"
    },
    "tags": []
   },
   "source": [
    "Rather than putting `True` or `False` directly in our code, we usually get boolean values from **boolean operators**.  These are operators that answer yes/no questions. We'll go through some of these operators below. "
   ]
  },
  {
   "cell_type": "markdown",
   "id": "f768fc0d",
   "metadata": {
    "papermill": {
     "duration": 0.015264,
     "end_time": "2021-08-26T14:36:02.837185",
     "exception": false,
     "start_time": "2021-08-26T14:36:02.821921",
     "status": "completed"
    },
    "tags": []
   },
   "source": [
    "## Comparison Operations\n",
    "\n",
    "| Operation     | Description                       || Operation     | Description                          |\n",
    "|---------------|-----------------------------------||---------------|--------------------------------------|\n",
    "| ``a == b``    | ``a`` equal to ``b``              || ``a != b``    | ``a`` not equal to ``b``             |\n",
    "| ``a < b``     | ``a`` less than ``b``             || ``a > b``     | ``a`` greater than ``b``             |\n",
    "| ``a <= b``    | ``a`` less than or equal to ``b`` || ``a >= b``    | ``a`` greater than or equal to ``b`` |\n",
    "\n"
   ]
  },
  {
   "cell_type": "code",
   "execution_count": 2,
   "id": "1cd2e467",
   "metadata": {
    "execution": {
     "iopub.execute_input": "2021-08-26T14:36:02.874550Z",
     "iopub.status.busy": "2021-08-26T14:36:02.873906Z",
     "iopub.status.idle": "2021-08-26T14:36:02.878868Z",
     "shell.execute_reply": "2021-08-26T14:36:02.878256Z",
     "shell.execute_reply.started": "2021-08-26T14:28:29.507050Z"
    },
    "papermill": {
     "duration": 0.026019,
     "end_time": "2021-08-26T14:36:02.879041",
     "exception": false,
     "start_time": "2021-08-26T14:36:02.853022",
     "status": "completed"
    },
    "tags": []
   },
   "outputs": [
    {
     "name": "stdout",
     "output_type": "stream",
     "text": [
      "Can a 19-year-old run for president? False\n",
      "Can a 45-year-old run for president? True\n"
     ]
    }
   ],
   "source": [
    "def can_run_for_president(age):\n",
    "    \"\"\"Can someone of the given age run for president in the US?\"\"\"\n",
    "    # The US Constitution says you must be at least 35 years old\n",
    "    return age >= 35\n",
    "\n",
    "print(\"Can a 19-year-old run for president?\", can_run_for_president(19))\n",
    "print(\"Can a 45-year-old run for president?\", can_run_for_president(45))"
   ]
  },
  {
   "cell_type": "markdown",
   "id": "40a34fb7",
   "metadata": {
    "papermill": {
     "duration": 0.016108,
     "end_time": "2021-08-26T14:36:02.912627",
     "exception": false,
     "start_time": "2021-08-26T14:36:02.896519",
     "status": "completed"
    },
    "tags": []
   },
   "source": [
    "Comparisons frequently work like you'd hope"
   ]
  },
  {
   "cell_type": "code",
   "execution_count": 3,
   "id": "e2b1ebf1",
   "metadata": {
    "execution": {
     "iopub.execute_input": "2021-08-26T14:36:02.953006Z",
     "iopub.status.busy": "2021-08-26T14:36:02.952060Z",
     "iopub.status.idle": "2021-08-26T14:36:02.956142Z",
     "shell.execute_reply": "2021-08-26T14:36:02.955627Z",
     "shell.execute_reply.started": "2021-08-26T14:28:36.447183Z"
    },
    "papermill": {
     "duration": 0.02725,
     "end_time": "2021-08-26T14:36:02.956276",
     "exception": false,
     "start_time": "2021-08-26T14:36:02.929026",
     "status": "completed"
    },
    "tags": []
   },
   "outputs": [
    {
     "data": {
      "text/plain": [
       "True"
      ]
     },
     "execution_count": 3,
     "metadata": {},
     "output_type": "execute_result"
    }
   ],
   "source": [
    "3.0 == 3"
   ]
  },
  {
   "cell_type": "markdown",
   "id": "46e4961c",
   "metadata": {
    "papermill": {
     "duration": 0.016921,
     "end_time": "2021-08-26T14:36:02.990515",
     "exception": false,
     "start_time": "2021-08-26T14:36:02.973594",
     "status": "completed"
    },
    "tags": []
   },
   "source": [
    "But sometimes they can be tricky"
   ]
  },
  {
   "cell_type": "code",
   "execution_count": 4,
   "id": "d1278729",
   "metadata": {
    "execution": {
     "iopub.execute_input": "2021-08-26T14:36:03.029253Z",
     "iopub.status.busy": "2021-08-26T14:36:03.028261Z",
     "iopub.status.idle": "2021-08-26T14:36:03.032654Z",
     "shell.execute_reply": "2021-08-26T14:36:03.032143Z",
     "shell.execute_reply.started": "2021-08-26T14:28:42.897643Z"
    },
    "papermill": {
     "duration": 0.025461,
     "end_time": "2021-08-26T14:36:03.032777",
     "exception": false,
     "start_time": "2021-08-26T14:36:03.007316",
     "status": "completed"
    },
    "tags": []
   },
   "outputs": [
    {
     "data": {
      "text/plain": [
       "False"
      ]
     },
     "execution_count": 4,
     "metadata": {},
     "output_type": "execute_result"
    }
   ],
   "source": [
    "'3' == 3"
   ]
  },
  {
   "cell_type": "markdown",
   "id": "adc4b253",
   "metadata": {
    "papermill": {
     "duration": 0.017042,
     "end_time": "2021-08-26T14:36:03.067950",
     "exception": false,
     "start_time": "2021-08-26T14:36:03.050908",
     "status": "completed"
    },
    "tags": []
   },
   "source": [
    "Comparison operators can be combined with the arithmetic operators we've already seen to express a virtually limitless range of mathematical tests. For example, we can check if a number is odd by checking that the modulus with 2 returns 1:"
   ]
  },
  {
   "cell_type": "code",
   "execution_count": 5,
   "id": "e9e4a184",
   "metadata": {
    "execution": {
     "iopub.execute_input": "2021-08-26T14:36:03.109204Z",
     "iopub.status.busy": "2021-08-26T14:36:03.108630Z",
     "iopub.status.idle": "2021-08-26T14:36:03.110838Z",
     "shell.execute_reply": "2021-08-26T14:36:03.111261Z",
     "shell.execute_reply.started": "2021-08-26T14:29:00.326920Z"
    },
    "papermill": {
     "duration": 0.024263,
     "end_time": "2021-08-26T14:36:03.111388",
     "exception": false,
     "start_time": "2021-08-26T14:36:03.087125",
     "status": "completed"
    },
    "tags": []
   },
   "outputs": [
    {
     "name": "stdout",
     "output_type": "stream",
     "text": [
      "Is 100 odd? False\n",
      "Is -1 odd? True\n"
     ]
    }
   ],
   "source": [
    "def is_odd(n):\n",
    "    return (n % 2) == 1\n",
    "\n",
    "print(\"Is 100 odd?\", is_odd(100))\n",
    "print(\"Is -1 odd?\", is_odd(-1))"
   ]
  },
  {
   "cell_type": "markdown",
   "id": "95db6249",
   "metadata": {
    "papermill": {
     "duration": 0.01729,
     "end_time": "2021-08-26T14:36:03.145963",
     "exception": false,
     "start_time": "2021-08-26T14:36:03.128673",
     "status": "completed"
    },
    "tags": []
   },
   "source": [
    "Remember to use `==` instead of `=` when making comparisons. If you write `n == 2` you are asking about the value of n. When you write `n = 2` you are changing the value of n."
   ]
  },
  {
   "cell_type": "markdown",
   "id": "1afe4743",
   "metadata": {
    "papermill": {
     "duration": 0.017107,
     "end_time": "2021-08-26T14:36:03.180512",
     "exception": false,
     "start_time": "2021-08-26T14:36:03.163405",
     "status": "completed"
    },
    "tags": []
   },
   "source": [
    "## Combining Boolean Values\n",
    "You can combine boolean values using the standard concepts of \"and\", \"or\", and \"not\". In fact, the words to do this are: ``and``, ``or``, and ``not``.\n",
    "\n",
    "With these, we can make our `can_run_for_president` function more accurate."
   ]
  },
  {
   "cell_type": "code",
   "execution_count": 6,
   "id": "edb26e4e",
   "metadata": {
    "execution": {
     "iopub.execute_input": "2021-08-26T14:36:03.218782Z",
     "iopub.status.busy": "2021-08-26T14:36:03.218179Z",
     "iopub.status.idle": "2021-08-26T14:36:03.225368Z",
     "shell.execute_reply": "2021-08-26T14:36:03.224251Z",
     "shell.execute_reply.started": "2021-08-26T14:29:24.362611Z"
    },
    "papermill": {
     "duration": 0.027211,
     "end_time": "2021-08-26T14:36:03.225604",
     "exception": false,
     "start_time": "2021-08-26T14:36:03.198393",
     "status": "completed"
    },
    "tags": []
   },
   "outputs": [
    {
     "name": "stdout",
     "output_type": "stream",
     "text": [
      "False\n",
      "False\n",
      "True\n"
     ]
    }
   ],
   "source": [
    "def can_run_for_president(age, is_natural_born_citizen):\n",
    "    \"\"\"Can someone of the given age and citizenship status run for president in the US?\"\"\"\n",
    "    # The US Constitution says you must be a natural born citizen *and* at least 35 years old\n",
    "    return is_natural_born_citizen and (age >= 35)\n",
    "\n",
    "print(can_run_for_president(19, True))\n",
    "print(can_run_for_president(55, False))\n",
    "print(can_run_for_president(55, True))"
   ]
  },
  {
   "cell_type": "markdown",
   "id": "ad9a5291",
   "metadata": {
    "papermill": {
     "duration": 0.017471,
     "end_time": "2021-08-26T14:36:03.262114",
     "exception": false,
     "start_time": "2021-08-26T14:36:03.244643",
     "status": "completed"
    },
    "tags": []
   },
   "source": [
    "Quick, can you guess the value of this expression?"
   ]
  },
  {
   "cell_type": "code",
   "execution_count": 7,
   "id": "89c19ed9",
   "metadata": {
    "_kg_hide-output": true,
    "execution": {
     "iopub.execute_input": "2021-08-26T14:36:03.301996Z",
     "iopub.status.busy": "2021-08-26T14:36:03.301394Z",
     "iopub.status.idle": "2021-08-26T14:36:03.304234Z",
     "shell.execute_reply": "2021-08-26T14:36:03.304773Z",
     "shell.execute_reply.started": "2021-08-26T14:29:37.472434Z"
    },
    "papermill": {
     "duration": 0.025065,
     "end_time": "2021-08-26T14:36:03.304915",
     "exception": false,
     "start_time": "2021-08-26T14:36:03.279850",
     "status": "completed"
    },
    "tags": []
   },
   "outputs": [
    {
     "data": {
      "text/plain": [
       "True"
      ]
     },
     "execution_count": 7,
     "metadata": {},
     "output_type": "execute_result"
    }
   ],
   "source": [
    "True or True and False"
   ]
  },
  {
   "cell_type": "markdown",
   "id": "80d52c78",
   "metadata": {
    "papermill": {
     "duration": 0.017544,
     "end_time": "2021-08-26T14:36:03.340605",
     "exception": false,
     "start_time": "2021-08-26T14:36:03.323061",
     "status": "completed"
    },
    "tags": []
   },
   "source": [
    "(Click the \"output\" button to see the answer)\n",
    "\n",
    "To answer this, you'd need to figure out the order of operations. \n",
    "\n",
    "For example, `and` is evaluated before `or`. That's why the first expression above is `True`. If we evaluated it from left to right, we would have calculated `True or True` first (which is `True`), and then taken the `and` of that result with `False`, giving a final value of `False`.\n",
    "\n",
    "You could try to [memorize the order of precedence](https://docs.python.org/3/reference/expressions.html#operator-precedence), but a safer bet is to just use liberal parentheses. Not only does this help prevent bugs, it makes your intentions clearer to anyone who reads your code. \n",
    "\n",
    "For example, consider the following expression:\n",
    "\n",
    "```python\n",
    "prepared_for_weather = have_umbrella or rain_level < 5 and have_hood or not rain_level > 0 and is_workday\n",
    "```\n",
    "\n",
    "I'm trying to say that I'm safe from today's weather....\n",
    "- if I have an umbrella...\n",
    "- or if the rain isn't too heavy and I have a hood...\n",
    "- otherwise, I'm still fine unless it's raining *and* it's a workday\n",
    "\n",
    "But not only is my Python code hard to read, it has a bug. We can address both problems by adding some parentheses:\n",
    "\n",
    "```python\n",
    "prepared_for_weather = have_umbrella or (rain_level < 5 and have_hood) or not (rain_level > 0 and is_workday)\n",
    "```\n",
    "\n",
    "You can add even more parentheses if you think it helps readability:\n",
    "\n",
    "```python\n",
    "prepared_for_weather = have_umbrella or ((rain_level < 5) and have_hood) or (not (rain_level > 0 and is_workday))\n",
    "```\n",
    "\n",
    "We can also split it over multiple lines to emphasize the 3-part structure described above:\n",
    "\n",
    "```python\n",
    "prepared_for_weather = (\n",
    "    have_umbrella \n",
    "    or ((rain_level < 5) and have_hood) \n",
    "    or (not (rain_level > 0 and is_workday))\n",
    ")\n",
    "```"
   ]
  },
  {
   "cell_type": "markdown",
   "id": "a52357d0",
   "metadata": {
    "papermill": {
     "duration": 0.018021,
     "end_time": "2021-08-26T14:36:03.376457",
     "exception": false,
     "start_time": "2021-08-26T14:36:03.358436",
     "status": "completed"
    },
    "tags": []
   },
   "source": [
    "# Conditionals\n",
    "\n",
    "Booleans are most useful when combined with *conditional statements*, using the keywords ``if``, ``elif``, and ``else``.\n",
    "\n",
    "Conditional statements, often referred to as *if-then* statements, let you control what pieces of code are run based on the value of some Boolean condition.\n",
    "Here's an example:"
   ]
  },
  {
   "cell_type": "code",
   "execution_count": 8,
   "id": "465c5b3b",
   "metadata": {
    "execution": {
     "iopub.execute_input": "2021-08-26T14:36:03.415753Z",
     "iopub.status.busy": "2021-08-26T14:36:03.414823Z",
     "iopub.status.idle": "2021-08-26T14:36:03.421274Z",
     "shell.execute_reply": "2021-08-26T14:36:03.421704Z",
     "shell.execute_reply.started": "2021-08-26T14:31:46.066961Z"
    },
    "papermill": {
     "duration": 0.027429,
     "end_time": "2021-08-26T14:36:03.421834",
     "exception": false,
     "start_time": "2021-08-26T14:36:03.394405",
     "status": "completed"
    },
    "tags": []
   },
   "outputs": [
    {
     "name": "stdout",
     "output_type": "stream",
     "text": [
      "0 is zero\n",
      "-15 is negative\n"
     ]
    }
   ],
   "source": [
    "def inspect(x):\n",
    "    if x == 0:\n",
    "        print(x, \"is zero\")\n",
    "    elif x > 0:\n",
    "        print(x, \"is positive\")\n",
    "    elif x < 0:\n",
    "        print(x, \"is negative\")\n",
    "    else:\n",
    "        print(x, \"is unlike anything I've ever seen...\")\n",
    "\n",
    "inspect(0)\n",
    "inspect(-15)"
   ]
  },
  {
   "cell_type": "markdown",
   "id": "12767c56",
   "metadata": {
    "papermill": {
     "duration": 0.017937,
     "end_time": "2021-08-26T14:36:03.458334",
     "exception": false,
     "start_time": "2021-08-26T14:36:03.440397",
     "status": "completed"
    },
    "tags": []
   },
   "source": [
    "The ``if`` and ``else`` keywords are often used in other languages; its more unique keyword is ``elif``, a contraction of \"else if\".\n",
    "In these conditional clauses, ``elif`` and ``else`` blocks are optional; additionally, you can include as many ``elif`` statements as you would like.\n",
    "\n",
    "Note especially the use of colons (``:``) and whitespace to denote separate blocks of code. This is similar to what happens when we define a function - the function header ends with `:`, and the following line is indented with 4 spaces. All subsequent indented lines belong to the body of the function, until we encounter an unindented line, ending the function definition."
   ]
  },
  {
   "cell_type": "code",
   "execution_count": 9,
   "id": "35d9a05a",
   "metadata": {
    "execution": {
     "iopub.execute_input": "2021-08-26T14:36:03.501253Z",
     "iopub.status.busy": "2021-08-26T14:36:03.500630Z",
     "iopub.status.idle": "2021-08-26T14:36:03.504224Z",
     "shell.execute_reply": "2021-08-26T14:36:03.504672Z",
     "shell.execute_reply.started": "2021-08-26T14:32:10.967484Z"
    },
    "papermill": {
     "duration": 0.027812,
     "end_time": "2021-08-26T14:36:03.504820",
     "exception": false,
     "start_time": "2021-08-26T14:36:03.477008",
     "status": "completed"
    },
    "tags": []
   },
   "outputs": [
    {
     "name": "stdout",
     "output_type": "stream",
     "text": [
      "Only printed when x is positive; x = 1\n",
      "Also only printed when x is positive; x = 1\n",
      "Always printed, regardless of x's value; x = 1\n",
      "Always printed, regardless of x's value; x = 0\n"
     ]
    }
   ],
   "source": [
    "def f(x):\n",
    "    if x > 0:\n",
    "        print(\"Only printed when x is positive; x =\", x)\n",
    "        print(\"Also only printed when x is positive; x =\", x)\n",
    "    print(\"Always printed, regardless of x's value; x =\", x)\n",
    "\n",
    "f(1)\n",
    "f(0)"
   ]
  },
  {
   "cell_type": "markdown",
   "id": "a471437a",
   "metadata": {
    "papermill": {
     "duration": 0.018367,
     "end_time": "2021-08-26T14:36:03.542186",
     "exception": false,
     "start_time": "2021-08-26T14:36:03.523819",
     "status": "completed"
    },
    "tags": []
   },
   "source": [
    "## Boolean conversion\n",
    "\n",
    "We've seen `int()`, which turns things into ints, and `float()`, which turns things into floats, so you might not be surprised to hear that Python has a `bool()` function which turns things into bools."
   ]
  },
  {
   "cell_type": "code",
   "execution_count": 10,
   "id": "a93e4fbd",
   "metadata": {
    "execution": {
     "iopub.execute_input": "2021-08-26T14:36:03.584762Z",
     "iopub.status.busy": "2021-08-26T14:36:03.583846Z",
     "iopub.status.idle": "2021-08-26T14:36:03.588232Z",
     "shell.execute_reply": "2021-08-26T14:36:03.587586Z",
     "shell.execute_reply.started": "2021-08-26T14:32:28.123293Z"
    },
    "papermill": {
     "duration": 0.027594,
     "end_time": "2021-08-26T14:36:03.588357",
     "exception": false,
     "start_time": "2021-08-26T14:36:03.560763",
     "status": "completed"
    },
    "tags": []
   },
   "outputs": [
    {
     "name": "stdout",
     "output_type": "stream",
     "text": [
      "True\n",
      "False\n",
      "True\n",
      "False\n"
     ]
    }
   ],
   "source": [
    "print(bool(1)) # all numbers are treated as true, except 0\n",
    "print(bool(0))\n",
    "print(bool(\"asf\")) # all strings are treated as true, except the empty string \"\"\n",
    "print(bool(\"\"))\n",
    "# Generally empty sequences (strings, lists, and other types we've yet to see like lists and tuples)\n",
    "# are \"falsey\" and the rest are \"truthy\""
   ]
  },
  {
   "cell_type": "markdown",
   "id": "4ea815ec",
   "metadata": {
    "papermill": {
     "duration": 0.019239,
     "end_time": "2021-08-26T14:36:03.626954",
     "exception": false,
     "start_time": "2021-08-26T14:36:03.607715",
     "status": "completed"
    },
    "tags": []
   },
   "source": [
    "We can use non-boolean objects in `if` conditions and other places where a boolean would be expected. Python will implicitly treat them as their corresponding boolean value:"
   ]
  },
  {
   "cell_type": "code",
   "execution_count": 11,
   "id": "0537d8b9",
   "metadata": {
    "execution": {
     "iopub.execute_input": "2021-08-26T14:36:03.667593Z",
     "iopub.status.busy": "2021-08-26T14:36:03.667012Z",
     "iopub.status.idle": "2021-08-26T14:36:03.669682Z",
     "shell.execute_reply": "2021-08-26T14:36:03.670169Z",
     "shell.execute_reply.started": "2021-08-26T14:35:28.281903Z"
    },
    "papermill": {
     "duration": 0.024982,
     "end_time": "2021-08-26T14:36:03.670298",
     "exception": false,
     "start_time": "2021-08-26T14:36:03.645316",
     "status": "completed"
    },
    "tags": []
   },
   "outputs": [
    {
     "name": "stdout",
     "output_type": "stream",
     "text": [
      "spam\n"
     ]
    }
   ],
   "source": [
    "if 0:\n",
    "    print(0)\n",
    "elif \"spam\":\n",
    "    print(\"spam\")"
   ]
  },
  {
   "cell_type": "markdown",
   "id": "4fd36c68",
   "metadata": {
    "papermill": {
     "duration": 0.019008,
     "end_time": "2021-08-26T14:36:03.708232",
     "exception": false,
     "start_time": "2021-08-26T14:36:03.689224",
     "status": "completed"
    },
    "tags": []
   },
   "source": [
    "# Your Turn\n",
    "\n",
    "You probably don't realize how much you have learned so far. Go try the **[hands-on coding problems](https://www.kaggle.com/kernels/fork/1275165)**, and you'll be pleasantly surprised about how much you can do."
   ]
  },
  {
   "cell_type": "markdown",
   "id": "0a4cbf39",
   "metadata": {
    "papermill": {
     "duration": 0.018934,
     "end_time": "2021-08-26T14:36:03.746534",
     "exception": false,
     "start_time": "2021-08-26T14:36:03.727600",
     "status": "completed"
    },
    "tags": []
   },
   "source": [
    "---\n",
    "\n",
    "\n",
    "\n",
    "\n",
    "*Have questions or comments? Visit the [Learn Discussion forum](https://www.kaggle.com/learn-forum/161283) to chat with other Learners.*"
   ]
  }
 ],
 "metadata": {
  "kernelspec": {
   "display_name": "Python 3",
   "language": "python",
   "name": "python3"
  },
  "language_info": {
   "codemirror_mode": {
    "name": "ipython",
    "version": 3
   },
   "file_extension": ".py",
   "mimetype": "text/x-python",
   "name": "python",
   "nbconvert_exporter": "python",
   "pygments_lexer": "ipython3",
   "version": "3.7.10"
  },
  "papermill": {
   "default_parameters": {},
   "duration": 9.70653,
   "end_time": "2021-08-26T14:36:05.051962",
   "environment_variables": {},
   "exception": null,
   "input_path": "__notebook__.ipynb",
   "output_path": "__notebook__.ipynb",
   "parameters": {},
   "start_time": "2021-08-26T14:35:55.345432",
   "version": "2.3.3"
  }
 },
 "nbformat": 4,
 "nbformat_minor": 5
}
