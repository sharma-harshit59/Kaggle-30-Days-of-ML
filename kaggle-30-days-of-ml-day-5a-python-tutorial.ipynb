{
 "cells": [
  {
   "cell_type": "markdown",
   "id": "3f5d7693",
   "metadata": {
    "papermill": {
     "duration": 0.049379,
     "end_time": "2021-08-26T17:45:48.721475",
     "exception": false,
     "start_time": "2021-08-26T17:45:48.672096",
     "status": "completed"
    },
    "tags": []
   },
   "source": [
    "# Lists\n",
    "\n",
    "Lists in Python represent ordered sequences of values. Here is an example of how to create them:"
   ]
  },
  {
   "cell_type": "code",
   "execution_count": 1,
   "id": "ce807793",
   "metadata": {
    "execution": {
     "iopub.execute_input": "2021-08-26T17:45:48.832941Z",
     "iopub.status.busy": "2021-08-26T17:45:48.832023Z",
     "iopub.status.idle": "2021-08-26T17:45:48.835190Z",
     "shell.execute_reply": "2021-08-26T17:45:48.834576Z",
     "shell.execute_reply.started": "2021-08-26T17:23:31.017996Z"
    },
    "papermill": {
     "duration": 0.065875,
     "end_time": "2021-08-26T17:45:48.835369",
     "exception": false,
     "start_time": "2021-08-26T17:45:48.769494",
     "status": "completed"
    },
    "tags": []
   },
   "outputs": [],
   "source": [
    "primes = [2, 3, 5, 7]"
   ]
  },
  {
   "cell_type": "markdown",
   "id": "8ae1caac",
   "metadata": {
    "papermill": {
     "duration": 0.048408,
     "end_time": "2021-08-26T17:45:48.932366",
     "exception": false,
     "start_time": "2021-08-26T17:45:48.883958",
     "status": "completed"
    },
    "tags": []
   },
   "source": [
    "We can put other types of things in lists:"
   ]
  },
  {
   "cell_type": "code",
   "execution_count": 2,
   "id": "8ceed066",
   "metadata": {
    "execution": {
     "iopub.execute_input": "2021-08-26T17:45:49.035442Z",
     "iopub.status.busy": "2021-08-26T17:45:49.034417Z",
     "iopub.status.idle": "2021-08-26T17:45:49.037347Z",
     "shell.execute_reply": "2021-08-26T17:45:49.036813Z",
     "shell.execute_reply.started": "2021-08-26T17:23:37.303156Z"
    },
    "papermill": {
     "duration": 0.056512,
     "end_time": "2021-08-26T17:45:49.037478",
     "exception": false,
     "start_time": "2021-08-26T17:45:48.980966",
     "status": "completed"
    },
    "tags": []
   },
   "outputs": [],
   "source": [
    "planets = ['Mercury', 'Venus', 'Earth', 'Mars', 'Jupiter', 'Saturn', 'Uranus', 'Neptune']"
   ]
  },
  {
   "cell_type": "markdown",
   "id": "5b218b56",
   "metadata": {
    "papermill": {
     "duration": 0.04757,
     "end_time": "2021-08-26T17:45:49.133683",
     "exception": false,
     "start_time": "2021-08-26T17:45:49.086113",
     "status": "completed"
    },
    "tags": []
   },
   "source": [
    "We can even make a list of lists:"
   ]
  },
  {
   "cell_type": "code",
   "execution_count": 3,
   "id": "e5e97389",
   "metadata": {
    "execution": {
     "iopub.execute_input": "2021-08-26T17:45:49.236064Z",
     "iopub.status.busy": "2021-08-26T17:45:49.235074Z",
     "iopub.status.idle": "2021-08-26T17:45:49.238416Z",
     "shell.execute_reply": "2021-08-26T17:45:49.237768Z",
     "shell.execute_reply.started": "2021-08-26T17:23:56.882162Z"
    },
    "papermill": {
     "duration": 0.056765,
     "end_time": "2021-08-26T17:45:49.238561",
     "exception": false,
     "start_time": "2021-08-26T17:45:49.181796",
     "status": "completed"
    },
    "tags": []
   },
   "outputs": [],
   "source": [
    "hands = [\n",
    "    ['J', 'Q', 'K'],\n",
    "    ['2', '2', '2'],\n",
    "    ['6', 'A', 'K'], # (Comma after the last element is optional)\n",
    "]\n",
    "# (I could also have written this on one line, but it can get hard to read)\n",
    "hands = [['J', 'Q', 'K'], ['2', '2', '2'], ['6', 'A', 'K']]"
   ]
  },
  {
   "cell_type": "markdown",
   "id": "bef39c3f",
   "metadata": {
    "papermill": {
     "duration": 0.047741,
     "end_time": "2021-08-26T17:45:49.334273",
     "exception": false,
     "start_time": "2021-08-26T17:45:49.286532",
     "status": "completed"
    },
    "tags": []
   },
   "source": [
    "A list can contain a mix of different types of variables:"
   ]
  },
  {
   "cell_type": "code",
   "execution_count": 4,
   "id": "22896161",
   "metadata": {
    "execution": {
     "iopub.execute_input": "2021-08-26T17:45:49.464480Z",
     "iopub.status.busy": "2021-08-26T17:45:49.463725Z",
     "iopub.status.idle": "2021-08-26T17:45:49.467665Z",
     "shell.execute_reply": "2021-08-26T17:45:49.466836Z",
     "shell.execute_reply.started": "2021-08-26T17:24:10.318559Z"
    },
    "papermill": {
     "duration": 0.080204,
     "end_time": "2021-08-26T17:45:49.467830",
     "exception": false,
     "start_time": "2021-08-26T17:45:49.387626",
     "status": "completed"
    },
    "tags": []
   },
   "outputs": [],
   "source": [
    "my_favourite_things = [32, 'raindrops on roses', help]\n",
    "# (Yes, Python's help function is *definitely* one of my favourite things)"
   ]
  },
  {
   "cell_type": "markdown",
   "id": "9decbac4",
   "metadata": {
    "papermill": {
     "duration": 0.049398,
     "end_time": "2021-08-26T17:45:49.567677",
     "exception": false,
     "start_time": "2021-08-26T17:45:49.518279",
     "status": "completed"
    },
    "tags": []
   },
   "source": [
    "## Indexing\n",
    "\n",
    "You can access individual list elements with square brackets.\n",
    "\n",
    "Which planet is closest to the sun? Python uses *zero-based* indexing, so the first element has index 0."
   ]
  },
  {
   "cell_type": "code",
   "execution_count": 5,
   "id": "a5b1c5b6",
   "metadata": {
    "execution": {
     "iopub.execute_input": "2021-08-26T17:45:49.673374Z",
     "iopub.status.busy": "2021-08-26T17:45:49.672516Z",
     "iopub.status.idle": "2021-08-26T17:45:49.676413Z",
     "shell.execute_reply": "2021-08-26T17:45:49.676889Z",
     "shell.execute_reply.started": "2021-08-26T17:24:19.998355Z"
    },
    "papermill": {
     "duration": 0.059656,
     "end_time": "2021-08-26T17:45:49.677050",
     "exception": false,
     "start_time": "2021-08-26T17:45:49.617394",
     "status": "completed"
    },
    "tags": []
   },
   "outputs": [
    {
     "data": {
      "text/plain": [
       "'Mercury'"
      ]
     },
     "execution_count": 5,
     "metadata": {},
     "output_type": "execute_result"
    }
   ],
   "source": [
    "planets[0]"
   ]
  },
  {
   "cell_type": "markdown",
   "id": "a209f73a",
   "metadata": {
    "papermill": {
     "duration": 0.048285,
     "end_time": "2021-08-26T17:45:49.774227",
     "exception": false,
     "start_time": "2021-08-26T17:45:49.725942",
     "status": "completed"
    },
    "tags": []
   },
   "source": [
    "What's the next closest planet?"
   ]
  },
  {
   "cell_type": "code",
   "execution_count": 6,
   "id": "98791dc4",
   "metadata": {
    "execution": {
     "iopub.execute_input": "2021-08-26T17:45:49.877533Z",
     "iopub.status.busy": "2021-08-26T17:45:49.876653Z",
     "iopub.status.idle": "2021-08-26T17:45:49.880815Z",
     "shell.execute_reply": "2021-08-26T17:45:49.880320Z",
     "shell.execute_reply.started": "2021-08-26T17:24:22.862566Z"
    },
    "papermill": {
     "duration": 0.058421,
     "end_time": "2021-08-26T17:45:49.880969",
     "exception": false,
     "start_time": "2021-08-26T17:45:49.822548",
     "status": "completed"
    },
    "tags": []
   },
   "outputs": [
    {
     "data": {
      "text/plain": [
       "'Venus'"
      ]
     },
     "execution_count": 6,
     "metadata": {},
     "output_type": "execute_result"
    }
   ],
   "source": [
    "planets[1]"
   ]
  },
  {
   "cell_type": "markdown",
   "id": "57918220",
   "metadata": {
    "papermill": {
     "duration": 0.048235,
     "end_time": "2021-08-26T17:45:49.978219",
     "exception": false,
     "start_time": "2021-08-26T17:45:49.929984",
     "status": "completed"
    },
    "tags": []
   },
   "source": [
    "Which planet is *furthest* from the sun?\n",
    "\n",
    "Elements at the end of the list can be accessed with negative numbers, starting from -1:"
   ]
  },
  {
   "cell_type": "code",
   "execution_count": 7,
   "id": "887c6d80",
   "metadata": {
    "execution": {
     "iopub.execute_input": "2021-08-26T17:45:50.082628Z",
     "iopub.status.busy": "2021-08-26T17:45:50.081749Z",
     "iopub.status.idle": "2021-08-26T17:45:50.086048Z",
     "shell.execute_reply": "2021-08-26T17:45:50.085417Z",
     "shell.execute_reply.started": "2021-08-26T17:24:30.475107Z"
    },
    "papermill": {
     "duration": 0.058449,
     "end_time": "2021-08-26T17:45:50.086185",
     "exception": false,
     "start_time": "2021-08-26T17:45:50.027736",
     "status": "completed"
    },
    "tags": []
   },
   "outputs": [
    {
     "data": {
      "text/plain": [
       "'Neptune'"
      ]
     },
     "execution_count": 7,
     "metadata": {},
     "output_type": "execute_result"
    }
   ],
   "source": [
    "planets[-1]"
   ]
  },
  {
   "cell_type": "code",
   "execution_count": 8,
   "id": "a80c0dce",
   "metadata": {
    "execution": {
     "iopub.execute_input": "2021-08-26T17:45:50.191435Z",
     "iopub.status.busy": "2021-08-26T17:45:50.190812Z",
     "iopub.status.idle": "2021-08-26T17:45:50.196314Z",
     "shell.execute_reply": "2021-08-26T17:45:50.195800Z",
     "shell.execute_reply.started": "2021-08-26T17:24:36.402923Z"
    },
    "papermill": {
     "duration": 0.059692,
     "end_time": "2021-08-26T17:45:50.196452",
     "exception": false,
     "start_time": "2021-08-26T17:45:50.136760",
     "status": "completed"
    },
    "tags": []
   },
   "outputs": [
    {
     "data": {
      "text/plain": [
       "'Uranus'"
      ]
     },
     "execution_count": 8,
     "metadata": {},
     "output_type": "execute_result"
    }
   ],
   "source": [
    "planets[-2]"
   ]
  },
  {
   "cell_type": "markdown",
   "id": "e7d5cf94",
   "metadata": {
    "papermill": {
     "duration": 0.049578,
     "end_time": "2021-08-26T17:45:50.295680",
     "exception": false,
     "start_time": "2021-08-26T17:45:50.246102",
     "status": "completed"
    },
    "tags": []
   },
   "source": [
    "## Slicing\n",
    "\n",
    "What are the first three planets? We can answer this question using *slicing*:"
   ]
  },
  {
   "cell_type": "code",
   "execution_count": 9,
   "id": "4c8c9ea4",
   "metadata": {
    "execution": {
     "iopub.execute_input": "2021-08-26T17:45:50.400542Z",
     "iopub.status.busy": "2021-08-26T17:45:50.399900Z",
     "iopub.status.idle": "2021-08-26T17:45:50.406811Z",
     "shell.execute_reply": "2021-08-26T17:45:50.406179Z",
     "shell.execute_reply.started": "2021-08-26T17:25:50.342417Z"
    },
    "papermill": {
     "duration": 0.061632,
     "end_time": "2021-08-26T17:45:50.406963",
     "exception": false,
     "start_time": "2021-08-26T17:45:50.345331",
     "status": "completed"
    },
    "tags": []
   },
   "outputs": [
    {
     "data": {
      "text/plain": [
       "['Mercury', 'Venus', 'Earth']"
      ]
     },
     "execution_count": 9,
     "metadata": {},
     "output_type": "execute_result"
    }
   ],
   "source": [
    "planets[0:3]"
   ]
  },
  {
   "cell_type": "markdown",
   "id": "f8c850fd",
   "metadata": {
    "papermill": {
     "duration": 0.050945,
     "end_time": "2021-08-26T17:45:50.508617",
     "exception": false,
     "start_time": "2021-08-26T17:45:50.457672",
     "status": "completed"
    },
    "tags": []
   },
   "source": [
    "`planets[0:3]` is our way of asking for the elements of `planets` starting from index 0 and continuing up to *but not including* index 3.\n",
    "\n",
    "The starting and ending indices are both optional. If I leave out the start index, it's assumed to be 0. So I could rewrite the expression above as:"
   ]
  },
  {
   "cell_type": "code",
   "execution_count": 10,
   "id": "a6d525c2",
   "metadata": {
    "execution": {
     "iopub.execute_input": "2021-08-26T17:45:50.613492Z",
     "iopub.status.busy": "2021-08-26T17:45:50.612824Z",
     "iopub.status.idle": "2021-08-26T17:45:50.615776Z",
     "shell.execute_reply": "2021-08-26T17:45:50.615295Z",
     "shell.execute_reply.started": "2021-08-26T17:25:53.877324Z"
    },
    "papermill": {
     "duration": 0.057186,
     "end_time": "2021-08-26T17:45:50.615926",
     "exception": false,
     "start_time": "2021-08-26T17:45:50.558740",
     "status": "completed"
    },
    "tags": []
   },
   "outputs": [
    {
     "data": {
      "text/plain": [
       "['Mercury', 'Venus', 'Earth']"
      ]
     },
     "execution_count": 10,
     "metadata": {},
     "output_type": "execute_result"
    }
   ],
   "source": [
    "planets[:3]"
   ]
  },
  {
   "cell_type": "markdown",
   "id": "02eb6a3b",
   "metadata": {
    "papermill": {
     "duration": 0.049715,
     "end_time": "2021-08-26T17:45:50.716500",
     "exception": false,
     "start_time": "2021-08-26T17:45:50.666785",
     "status": "completed"
    },
    "tags": []
   },
   "source": [
    "If I leave out the end index, it's assumed to be the length of the list."
   ]
  },
  {
   "cell_type": "code",
   "execution_count": 11,
   "id": "0bce484b",
   "metadata": {
    "execution": {
     "iopub.execute_input": "2021-08-26T17:45:50.821271Z",
     "iopub.status.busy": "2021-08-26T17:45:50.820565Z",
     "iopub.status.idle": "2021-08-26T17:45:50.822930Z",
     "shell.execute_reply": "2021-08-26T17:45:50.823499Z",
     "shell.execute_reply.started": "2021-08-26T17:25:57.022250Z"
    },
    "papermill": {
     "duration": 0.057377,
     "end_time": "2021-08-26T17:45:50.823655",
     "exception": false,
     "start_time": "2021-08-26T17:45:50.766278",
     "status": "completed"
    },
    "tags": []
   },
   "outputs": [
    {
     "data": {
      "text/plain": [
       "['Mars', 'Jupiter', 'Saturn', 'Uranus', 'Neptune']"
      ]
     },
     "execution_count": 11,
     "metadata": {},
     "output_type": "execute_result"
    }
   ],
   "source": [
    "planets[3:]"
   ]
  },
  {
   "cell_type": "markdown",
   "id": "40f6a8bd",
   "metadata": {
    "papermill": {
     "duration": 0.050732,
     "end_time": "2021-08-26T17:45:50.924471",
     "exception": false,
     "start_time": "2021-08-26T17:45:50.873739",
     "status": "completed"
    },
    "tags": []
   },
   "source": [
    "i.e. the expression above means \"give me all the planets from index 3 onward\".\n",
    "\n",
    "We can also use negative indices when slicing:"
   ]
  },
  {
   "cell_type": "code",
   "execution_count": 12,
   "id": "20f32ebe",
   "metadata": {
    "execution": {
     "iopub.execute_input": "2021-08-26T17:45:51.028008Z",
     "iopub.status.busy": "2021-08-26T17:45:51.027287Z",
     "iopub.status.idle": "2021-08-26T17:45:51.033039Z",
     "shell.execute_reply": "2021-08-26T17:45:51.032467Z",
     "shell.execute_reply.started": "2021-08-26T17:26:06.253499Z"
    },
    "papermill": {
     "duration": 0.058591,
     "end_time": "2021-08-26T17:45:51.033179",
     "exception": false,
     "start_time": "2021-08-26T17:45:50.974588",
     "status": "completed"
    },
    "tags": []
   },
   "outputs": [
    {
     "data": {
      "text/plain": [
       "['Venus', 'Earth', 'Mars', 'Jupiter', 'Saturn', 'Uranus']"
      ]
     },
     "execution_count": 12,
     "metadata": {},
     "output_type": "execute_result"
    }
   ],
   "source": [
    "# All the planets except the first and last\n",
    "planets[1:-1]"
   ]
  },
  {
   "cell_type": "code",
   "execution_count": 13,
   "id": "c6685151",
   "metadata": {
    "execution": {
     "iopub.execute_input": "2021-08-26T17:45:51.141555Z",
     "iopub.status.busy": "2021-08-26T17:45:51.140899Z",
     "iopub.status.idle": "2021-08-26T17:45:51.143399Z",
     "shell.execute_reply": "2021-08-26T17:45:51.143871Z",
     "shell.execute_reply.started": "2021-08-26T17:26:12.089490Z"
    },
    "papermill": {
     "duration": 0.059239,
     "end_time": "2021-08-26T17:45:51.144045",
     "exception": false,
     "start_time": "2021-08-26T17:45:51.084806",
     "status": "completed"
    },
    "tags": []
   },
   "outputs": [
    {
     "data": {
      "text/plain": [
       "['Saturn', 'Uranus', 'Neptune']"
      ]
     },
     "execution_count": 13,
     "metadata": {},
     "output_type": "execute_result"
    }
   ],
   "source": [
    "# The last 3 planets\n",
    "planets[-3:]"
   ]
  },
  {
   "cell_type": "markdown",
   "id": "e7934d2d",
   "metadata": {
    "papermill": {
     "duration": 0.050502,
     "end_time": "2021-08-26T17:45:51.245648",
     "exception": false,
     "start_time": "2021-08-26T17:45:51.195146",
     "status": "completed"
    },
    "tags": []
   },
   "source": [
    "## Changing lists\n",
    "\n",
    "Lists are \"mutable\", meaning they can be modified \"in place\".\n",
    "\n",
    "One way to modify a list is to assign to an index or slice expression.\n",
    "\n",
    "For example, let's say we want to rename Mars:"
   ]
  },
  {
   "cell_type": "code",
   "execution_count": 14,
   "id": "871ac16e",
   "metadata": {
    "execution": {
     "iopub.execute_input": "2021-08-26T17:45:51.350470Z",
     "iopub.status.busy": "2021-08-26T17:45:51.349868Z",
     "iopub.status.idle": "2021-08-26T17:45:51.354366Z",
     "shell.execute_reply": "2021-08-26T17:45:51.354796Z",
     "shell.execute_reply.started": "2021-08-26T17:26:25.238964Z"
    },
    "papermill": {
     "duration": 0.058496,
     "end_time": "2021-08-26T17:45:51.354987",
     "exception": false,
     "start_time": "2021-08-26T17:45:51.296491",
     "status": "completed"
    },
    "tags": []
   },
   "outputs": [
    {
     "data": {
      "text/plain": [
       "['Mercury',\n",
       " 'Venus',\n",
       " 'Earth',\n",
       " 'Malacandra',\n",
       " 'Jupiter',\n",
       " 'Saturn',\n",
       " 'Uranus',\n",
       " 'Neptune']"
      ]
     },
     "execution_count": 14,
     "metadata": {},
     "output_type": "execute_result"
    }
   ],
   "source": [
    "planets[3] = 'Malacandra'\n",
    "planets"
   ]
  },
  {
   "cell_type": "markdown",
   "id": "83b8ebc9",
   "metadata": {
    "papermill": {
     "duration": 0.051141,
     "end_time": "2021-08-26T17:45:51.457736",
     "exception": false,
     "start_time": "2021-08-26T17:45:51.406595",
     "status": "completed"
    },
    "tags": []
   },
   "source": [
    "Hm, that's quite a mouthful. Let's compensate by shortening the names of the first 3 planets."
   ]
  },
  {
   "cell_type": "code",
   "execution_count": 15,
   "id": "2a3da244",
   "metadata": {
    "execution": {
     "iopub.execute_input": "2021-08-26T17:45:51.564540Z",
     "iopub.status.busy": "2021-08-26T17:45:51.563846Z",
     "iopub.status.idle": "2021-08-26T17:45:51.569861Z",
     "shell.execute_reply": "2021-08-26T17:45:51.569376Z",
     "shell.execute_reply.started": "2021-08-26T17:27:23.227476Z"
    },
    "papermill": {
     "duration": 0.059802,
     "end_time": "2021-08-26T17:45:51.570029",
     "exception": false,
     "start_time": "2021-08-26T17:45:51.510227",
     "status": "completed"
    },
    "tags": []
   },
   "outputs": [
    {
     "name": "stdout",
     "output_type": "stream",
     "text": [
      "['Mur', 'Vee', 'Ur', 'Malacandra', 'Jupiter', 'Saturn', 'Uranus', 'Neptune']\n",
      "['Mercury', 'Venus', 'Earth', 'Mars', 'Jupiter', 'Saturn', 'Uranus', 'Neptune']\n"
     ]
    }
   ],
   "source": [
    "planets[:3] = ['Mur', 'Vee', 'Ur']\n",
    "print(planets)\n",
    "# That was silly. Let's give them back their old names\n",
    "planets[:4] = ['Mercury', 'Venus', 'Earth', 'Mars',]\n",
    "print(planets)"
   ]
  },
  {
   "cell_type": "markdown",
   "id": "6df4909d",
   "metadata": {
    "papermill": {
     "duration": 0.051533,
     "end_time": "2021-08-26T17:45:51.673448",
     "exception": false,
     "start_time": "2021-08-26T17:45:51.621915",
     "status": "completed"
    },
    "tags": []
   },
   "source": [
    "## List functions\n",
    "\n",
    "Python has several useful functions for working with lists.\n",
    "\n",
    "`len` gives the length of a list:"
   ]
  },
  {
   "cell_type": "code",
   "execution_count": 16,
   "id": "bf622978",
   "metadata": {
    "execution": {
     "iopub.execute_input": "2021-08-26T17:45:51.782306Z",
     "iopub.status.busy": "2021-08-26T17:45:51.781542Z",
     "iopub.status.idle": "2021-08-26T17:45:51.785582Z",
     "shell.execute_reply": "2021-08-26T17:45:51.785109Z",
     "shell.execute_reply.started": "2021-08-26T17:27:32.442582Z"
    },
    "papermill": {
     "duration": 0.060601,
     "end_time": "2021-08-26T17:45:51.785716",
     "exception": false,
     "start_time": "2021-08-26T17:45:51.725115",
     "status": "completed"
    },
    "tags": []
   },
   "outputs": [
    {
     "data": {
      "text/plain": [
       "8"
      ]
     },
     "execution_count": 16,
     "metadata": {},
     "output_type": "execute_result"
    }
   ],
   "source": [
    "# How many planets are there?\n",
    "len(planets)"
   ]
  },
  {
   "cell_type": "markdown",
   "id": "97bf9acb",
   "metadata": {
    "papermill": {
     "duration": 0.051601,
     "end_time": "2021-08-26T17:45:51.889235",
     "exception": false,
     "start_time": "2021-08-26T17:45:51.837634",
     "status": "completed"
    },
    "tags": []
   },
   "source": [
    "`sorted` returns a sorted version of a list:"
   ]
  },
  {
   "cell_type": "code",
   "execution_count": 17,
   "id": "bd4824ed",
   "metadata": {
    "execution": {
     "iopub.execute_input": "2021-08-26T17:45:51.998348Z",
     "iopub.status.busy": "2021-08-26T17:45:51.997521Z",
     "iopub.status.idle": "2021-08-26T17:45:52.000781Z",
     "shell.execute_reply": "2021-08-26T17:45:52.001345Z"
    },
    "papermill": {
     "duration": 0.060377,
     "end_time": "2021-08-26T17:45:52.001510",
     "exception": false,
     "start_time": "2021-08-26T17:45:51.941133",
     "status": "completed"
    },
    "tags": []
   },
   "outputs": [
    {
     "data": {
      "text/plain": [
       "['Earth', 'Jupiter', 'Mars', 'Mercury', 'Neptune', 'Saturn', 'Uranus', 'Venus']"
      ]
     },
     "execution_count": 17,
     "metadata": {},
     "output_type": "execute_result"
    }
   ],
   "source": [
    "# The planets sorted in alphabetical order\n",
    "sorted(planets)"
   ]
  },
  {
   "cell_type": "markdown",
   "id": "ce11ba2b",
   "metadata": {
    "papermill": {
     "duration": 0.053133,
     "end_time": "2021-08-26T17:45:52.108684",
     "exception": false,
     "start_time": "2021-08-26T17:45:52.055551",
     "status": "completed"
    },
    "tags": []
   },
   "source": [
    "`sum` does what you might expect:"
   ]
  },
  {
   "cell_type": "code",
   "execution_count": 18,
   "id": "2e2a7e6b",
   "metadata": {
    "execution": {
     "iopub.execute_input": "2021-08-26T17:45:52.218857Z",
     "iopub.status.busy": "2021-08-26T17:45:52.218033Z",
     "iopub.status.idle": "2021-08-26T17:45:52.222236Z",
     "shell.execute_reply": "2021-08-26T17:45:52.221705Z",
     "shell.execute_reply.started": "2021-08-26T17:29:43.177961Z"
    },
    "papermill": {
     "duration": 0.06157,
     "end_time": "2021-08-26T17:45:52.222366",
     "exception": false,
     "start_time": "2021-08-26T17:45:52.160796",
     "status": "completed"
    },
    "tags": []
   },
   "outputs": [
    {
     "data": {
      "text/plain": [
       "17"
      ]
     },
     "execution_count": 18,
     "metadata": {},
     "output_type": "execute_result"
    }
   ],
   "source": [
    "primes = [2, 3, 5, 7]\n",
    "sum(primes)"
   ]
  },
  {
   "cell_type": "markdown",
   "id": "3d09ab19",
   "metadata": {
    "papermill": {
     "duration": 0.052166,
     "end_time": "2021-08-26T17:45:52.327606",
     "exception": false,
     "start_time": "2021-08-26T17:45:52.275440",
     "status": "completed"
    },
    "tags": []
   },
   "source": [
    "We've previously used the `min` and `max` to get the minimum or maximum of several arguments. But we can also pass in a single list argument."
   ]
  },
  {
   "cell_type": "code",
   "execution_count": 19,
   "id": "5f621e61",
   "metadata": {
    "execution": {
     "iopub.execute_input": "2021-08-26T17:45:52.438487Z",
     "iopub.status.busy": "2021-08-26T17:45:52.437556Z",
     "iopub.status.idle": "2021-08-26T17:45:52.441830Z",
     "shell.execute_reply": "2021-08-26T17:45:52.441323Z",
     "shell.execute_reply.started": "2021-08-26T17:29:53.969203Z"
    },
    "papermill": {
     "duration": 0.061724,
     "end_time": "2021-08-26T17:45:52.441978",
     "exception": false,
     "start_time": "2021-08-26T17:45:52.380254",
     "status": "completed"
    },
    "tags": []
   },
   "outputs": [
    {
     "data": {
      "text/plain": [
       "2"
      ]
     },
     "execution_count": 19,
     "metadata": {},
     "output_type": "execute_result"
    }
   ],
   "source": [
    "min(primes)"
   ]
  },
  {
   "cell_type": "markdown",
   "id": "bc4c7547",
   "metadata": {
    "papermill": {
     "duration": 0.052844,
     "end_time": "2021-08-26T17:45:52.549379",
     "exception": false,
     "start_time": "2021-08-26T17:45:52.496535",
     "status": "completed"
    },
    "tags": []
   },
   "source": [
    "## Interlude: objects\n",
    "\n",
    "I've used the term 'object' a lot so far - you may have even read that *everything* in Python is an object. What does that mean?\n",
    "\n",
    "In short, objects carry some things around with them. You access that stuff using Python's dot syntax.\n",
    "\n",
    "For example, numbers in Python carry around an associated variable called `imag` representing their imaginary part. (You'll probably never need to use this unless you're doing some very weird math.)"
   ]
  },
  {
   "cell_type": "code",
   "execution_count": 20,
   "id": "c5424e49",
   "metadata": {
    "execution": {
     "iopub.execute_input": "2021-08-26T17:45:52.660922Z",
     "iopub.status.busy": "2021-08-26T17:45:52.660169Z",
     "iopub.status.idle": "2021-08-26T17:45:52.664046Z",
     "shell.execute_reply": "2021-08-26T17:45:52.663399Z",
     "shell.execute_reply.started": "2021-08-26T17:30:37.928986Z"
    },
    "papermill": {
     "duration": 0.061698,
     "end_time": "2021-08-26T17:45:52.664189",
     "exception": false,
     "start_time": "2021-08-26T17:45:52.602491",
     "status": "completed"
    },
    "tags": []
   },
   "outputs": [
    {
     "name": "stdout",
     "output_type": "stream",
     "text": [
      "0\n",
      "3.0\n"
     ]
    }
   ],
   "source": [
    "x = 12\n",
    "# x is a real number, so its imaginary part is 0.\n",
    "print(x.imag)\n",
    "# Here's how to make a complex number, in case you've ever been curious:\n",
    "c = 12 + 3j\n",
    "print(c.imag)"
   ]
  },
  {
   "cell_type": "markdown",
   "id": "f39d8c24",
   "metadata": {
    "papermill": {
     "duration": 0.052996,
     "end_time": "2021-08-26T17:45:52.770625",
     "exception": false,
     "start_time": "2021-08-26T17:45:52.717629",
     "status": "completed"
    },
    "tags": []
   },
   "source": [
    "The things an object carries around can also include functions. A function attached to an object is called a **method**. (Non-function things attached to an object, such as `imag`, are called *attributes*).\n",
    "\n",
    "For example, numbers have a method called `bit_length`. Again, we access it using dot syntax:"
   ]
  },
  {
   "cell_type": "code",
   "execution_count": 21,
   "id": "de391ef1",
   "metadata": {
    "execution": {
     "iopub.execute_input": "2021-08-26T17:45:52.883550Z",
     "iopub.status.busy": "2021-08-26T17:45:52.882771Z",
     "iopub.status.idle": "2021-08-26T17:45:52.885900Z",
     "shell.execute_reply": "2021-08-26T17:45:52.886459Z",
     "shell.execute_reply.started": "2021-08-26T17:32:25.994328Z"
    },
    "papermill": {
     "duration": 0.062636,
     "end_time": "2021-08-26T17:45:52.886665",
     "exception": false,
     "start_time": "2021-08-26T17:45:52.824029",
     "status": "completed"
    },
    "tags": []
   },
   "outputs": [
    {
     "data": {
      "text/plain": [
       "<function int.bit_length()>"
      ]
     },
     "execution_count": 21,
     "metadata": {},
     "output_type": "execute_result"
    }
   ],
   "source": [
    "x.bit_length"
   ]
  },
  {
   "cell_type": "markdown",
   "id": "a88876ab",
   "metadata": {
    "papermill": {
     "duration": 0.053082,
     "end_time": "2021-08-26T17:45:52.993228",
     "exception": false,
     "start_time": "2021-08-26T17:45:52.940146",
     "status": "completed"
    },
    "tags": []
   },
   "source": [
    "To actually call it, we add parentheses:"
   ]
  },
  {
   "cell_type": "code",
   "execution_count": 22,
   "id": "790c4f78",
   "metadata": {
    "execution": {
     "iopub.execute_input": "2021-08-26T17:45:53.106019Z",
     "iopub.status.busy": "2021-08-26T17:45:53.104954Z",
     "iopub.status.idle": "2021-08-26T17:45:53.110349Z",
     "shell.execute_reply": "2021-08-26T17:45:53.110834Z",
     "shell.execute_reply.started": "2021-08-26T17:33:04.367356Z"
    },
    "papermill": {
     "duration": 0.063441,
     "end_time": "2021-08-26T17:45:53.111018",
     "exception": false,
     "start_time": "2021-08-26T17:45:53.047577",
     "status": "completed"
    },
    "tags": []
   },
   "outputs": [
    {
     "data": {
      "text/plain": [
       "7"
      ]
     },
     "execution_count": 22,
     "metadata": {},
     "output_type": "execute_result"
    }
   ],
   "source": [
    "x = 122\n",
    "x.bit_length()"
   ]
  },
  {
   "cell_type": "markdown",
   "id": "059e48dd",
   "metadata": {
    "papermill": {
     "duration": 0.053636,
     "end_time": "2021-08-26T17:45:53.218753",
     "exception": false,
     "start_time": "2021-08-26T17:45:53.165117",
     "status": "completed"
    },
    "tags": []
   },
   "source": [
    "> **Aside:** You've actually been calling methods already if you've been doing the exercises. In the exercise notebooks `q1`, `q2`, `q3`, etc. are all objects which have methods called `check`, `hint`, and `solution`.\n",
    "\n",
    "In the same way that we can pass functions to the `help` function (e.g. `help(max)`), we can also pass in methods:"
   ]
  },
  {
   "cell_type": "code",
   "execution_count": 23,
   "id": "e79a4999",
   "metadata": {
    "execution": {
     "iopub.execute_input": "2021-08-26T17:45:53.330432Z",
     "iopub.status.busy": "2021-08-26T17:45:53.329500Z",
     "iopub.status.idle": "2021-08-26T17:45:53.430232Z",
     "shell.execute_reply": "2021-08-26T17:45:53.430957Z",
     "shell.execute_reply.started": "2021-08-26T17:34:51.908491Z"
    },
    "papermill": {
     "duration": 0.158503,
     "end_time": "2021-08-26T17:45:53.431199",
     "exception": false,
     "start_time": "2021-08-26T17:45:53.272696",
     "status": "completed"
    },
    "tags": []
   },
   "outputs": [
    {
     "name": "stdout",
     "output_type": "stream",
     "text": [
      "Help on built-in function bin in module builtins:\n",
      "\n",
      "bin(number, /)\n",
      "    Return the binary representation of an integer.\n",
      "    \n",
      "    >>> bin(2796202)\n",
      "    '0b1010101010101010101010'\n",
      "\n"
     ]
    }
   ],
   "source": [
    "help(bin)"
   ]
  },
  {
   "cell_type": "markdown",
   "id": "09d55b80",
   "metadata": {
    "papermill": {
     "duration": 0.054201,
     "end_time": "2021-08-26T17:45:53.541069",
     "exception": false,
     "start_time": "2021-08-26T17:45:53.486868",
     "status": "completed"
    },
    "tags": []
   },
   "source": [
    "<!-- TODO:\n",
    "dir?\n",
    "A useful builtin method for interacting with objects is `dir`. `dir` asks: what are the names of all the things (methods, and attributes) that this object is carrying around?\n",
    "help(x)?\n",
    "-->\n",
    "\n",
    "The examples above were utterly obscure. None of the types of objects we've looked at so far (numbers, functions, booleans) have attributes or methods you're likely ever to use.\n",
    "\n",
    "But it turns out that lists have several methods which you'll use all the time."
   ]
  },
  {
   "cell_type": "markdown",
   "id": "58e24434",
   "metadata": {
    "papermill": {
     "duration": 0.054227,
     "end_time": "2021-08-26T17:45:53.650044",
     "exception": false,
     "start_time": "2021-08-26T17:45:53.595817",
     "status": "completed"
    },
    "tags": []
   },
   "source": [
    "## List methods"
   ]
  },
  {
   "cell_type": "markdown",
   "id": "2303d55d",
   "metadata": {
    "papermill": {
     "duration": 0.054325,
     "end_time": "2021-08-26T17:45:53.758706",
     "exception": false,
     "start_time": "2021-08-26T17:45:53.704381",
     "status": "completed"
    },
    "tags": []
   },
   "source": [
    "`list.append` modifies a list by adding an item to the end:"
   ]
  },
  {
   "cell_type": "code",
   "execution_count": 24,
   "id": "140081ac",
   "metadata": {
    "execution": {
     "iopub.execute_input": "2021-08-26T17:45:53.874755Z",
     "iopub.status.busy": "2021-08-26T17:45:53.873967Z",
     "iopub.status.idle": "2021-08-26T17:45:53.876630Z",
     "shell.execute_reply": "2021-08-26T17:45:53.876162Z",
     "shell.execute_reply.started": "2021-08-26T17:36:44.303040Z"
    },
    "papermill": {
     "duration": 0.061382,
     "end_time": "2021-08-26T17:45:53.876771",
     "exception": false,
     "start_time": "2021-08-26T17:45:53.815389",
     "status": "completed"
    },
    "tags": []
   },
   "outputs": [],
   "source": [
    "# Pluto is a planet darn it!\n",
    "planets.append('Pluto')"
   ]
  },
  {
   "cell_type": "markdown",
   "id": "50072994",
   "metadata": {
    "papermill": {
     "duration": 0.053937,
     "end_time": "2021-08-26T17:45:53.985254",
     "exception": false,
     "start_time": "2021-08-26T17:45:53.931317",
     "status": "completed"
    },
    "tags": []
   },
   "source": [
    "Why does the cell above have no output? Let's check the documentation by calling `help(planets.append)`.\n",
    "\n",
    "> **Aside:** `append` is a method carried around by *all* objects of type list, not just `planets`, so we also could have called `help(list.append)`. However, if we try to call `help(append)`, Python will complain that no variable exists called \"append\". The \"append\" name only exists within lists - it doesn't exist as a standalone name like builtin functions such as `max` or `len`."
   ]
  },
  {
   "cell_type": "code",
   "execution_count": 25,
   "id": "42cdf7ac",
   "metadata": {
    "execution": {
     "iopub.execute_input": "2021-08-26T17:45:54.100958Z",
     "iopub.status.busy": "2021-08-26T17:45:54.099999Z",
     "iopub.status.idle": "2021-08-26T17:45:54.103187Z",
     "shell.execute_reply": "2021-08-26T17:45:54.103695Z",
     "shell.execute_reply.started": "2021-08-26T17:37:00.464655Z"
    },
    "papermill": {
     "duration": 0.064316,
     "end_time": "2021-08-26T17:45:54.103853",
     "exception": false,
     "start_time": "2021-08-26T17:45:54.039537",
     "status": "completed"
    },
    "tags": []
   },
   "outputs": [
    {
     "name": "stdout",
     "output_type": "stream",
     "text": [
      "Help on built-in function append:\n",
      "\n",
      "append(object, /) method of builtins.list instance\n",
      "    Append object to the end of the list.\n",
      "\n"
     ]
    }
   ],
   "source": [
    "help(planets.append)"
   ]
  },
  {
   "cell_type": "markdown",
   "id": "9a058c4f",
   "metadata": {
    "papermill": {
     "duration": 0.055102,
     "end_time": "2021-08-26T17:45:54.214026",
     "exception": false,
     "start_time": "2021-08-26T17:45:54.158924",
     "status": "completed"
    },
    "tags": []
   },
   "source": [
    "The `-> None` part is telling us that `list.append` doesn't return anything. But if we check the value of `planets`, we can see that the method call modified the value of `planets`:"
   ]
  },
  {
   "cell_type": "code",
   "execution_count": 26,
   "id": "86f84fad",
   "metadata": {
    "execution": {
     "iopub.execute_input": "2021-08-26T17:45:54.329530Z",
     "iopub.status.busy": "2021-08-26T17:45:54.328619Z",
     "iopub.status.idle": "2021-08-26T17:45:54.332993Z",
     "shell.execute_reply": "2021-08-26T17:45:54.332472Z",
     "shell.execute_reply.started": "2021-08-26T17:37:32.557847Z"
    },
    "papermill": {
     "duration": 0.064272,
     "end_time": "2021-08-26T17:45:54.333126",
     "exception": false,
     "start_time": "2021-08-26T17:45:54.268854",
     "status": "completed"
    },
    "tags": []
   },
   "outputs": [
    {
     "data": {
      "text/plain": [
       "['Mercury',\n",
       " 'Venus',\n",
       " 'Earth',\n",
       " 'Mars',\n",
       " 'Jupiter',\n",
       " 'Saturn',\n",
       " 'Uranus',\n",
       " 'Neptune',\n",
       " 'Pluto']"
      ]
     },
     "execution_count": 26,
     "metadata": {},
     "output_type": "execute_result"
    }
   ],
   "source": [
    "planets"
   ]
  },
  {
   "cell_type": "markdown",
   "id": "e687caf3",
   "metadata": {
    "papermill": {
     "duration": 0.055127,
     "end_time": "2021-08-26T17:45:54.443520",
     "exception": false,
     "start_time": "2021-08-26T17:45:54.388393",
     "status": "completed"
    },
    "tags": []
   },
   "source": [
    "`list.pop` removes and returns the last element of a list:"
   ]
  },
  {
   "cell_type": "code",
   "execution_count": 27,
   "id": "dcc1543d",
   "metadata": {
    "execution": {
     "iopub.execute_input": "2021-08-26T17:45:54.558080Z",
     "iopub.status.busy": "2021-08-26T17:45:54.557431Z",
     "iopub.status.idle": "2021-08-26T17:45:54.563247Z",
     "shell.execute_reply": "2021-08-26T17:45:54.562573Z",
     "shell.execute_reply.started": "2021-08-26T17:37:38.272810Z"
    },
    "papermill": {
     "duration": 0.063789,
     "end_time": "2021-08-26T17:45:54.563391",
     "exception": false,
     "start_time": "2021-08-26T17:45:54.499602",
     "status": "completed"
    },
    "tags": []
   },
   "outputs": [
    {
     "data": {
      "text/plain": [
       "'Pluto'"
      ]
     },
     "execution_count": 27,
     "metadata": {},
     "output_type": "execute_result"
    }
   ],
   "source": [
    "planets.pop()"
   ]
  },
  {
   "cell_type": "code",
   "execution_count": 28,
   "id": "2d9517ff",
   "metadata": {
    "execution": {
     "iopub.execute_input": "2021-08-26T17:45:54.680635Z",
     "iopub.status.busy": "2021-08-26T17:45:54.680013Z",
     "iopub.status.idle": "2021-08-26T17:45:54.682983Z",
     "shell.execute_reply": "2021-08-26T17:45:54.683488Z",
     "shell.execute_reply.started": "2021-08-26T17:37:41.702700Z"
    },
    "papermill": {
     "duration": 0.063727,
     "end_time": "2021-08-26T17:45:54.683650",
     "exception": false,
     "start_time": "2021-08-26T17:45:54.619923",
     "status": "completed"
    },
    "tags": []
   },
   "outputs": [
    {
     "data": {
      "text/plain": [
       "['Mercury', 'Venus', 'Earth', 'Mars', 'Jupiter', 'Saturn', 'Uranus', 'Neptune']"
      ]
     },
     "execution_count": 28,
     "metadata": {},
     "output_type": "execute_result"
    }
   ],
   "source": [
    "planets"
   ]
  },
  {
   "cell_type": "markdown",
   "id": "983ffa64",
   "metadata": {
    "papermill": {
     "duration": 0.055549,
     "end_time": "2021-08-26T17:45:54.795135",
     "exception": false,
     "start_time": "2021-08-26T17:45:54.739586",
     "status": "completed"
    },
    "tags": []
   },
   "source": [
    "### Searching lists\n",
    "\n",
    "Where does Earth fall in the order of planets? We can get its index using the `list.index` method."
   ]
  },
  {
   "cell_type": "code",
   "execution_count": 29,
   "id": "d2c8013f",
   "metadata": {
    "execution": {
     "iopub.execute_input": "2021-08-26T17:45:54.911912Z",
     "iopub.status.busy": "2021-08-26T17:45:54.911113Z",
     "iopub.status.idle": "2021-08-26T17:45:54.915419Z",
     "shell.execute_reply": "2021-08-26T17:45:54.915919Z",
     "shell.execute_reply.started": "2021-08-26T17:37:49.988393Z"
    },
    "papermill": {
     "duration": 0.064276,
     "end_time": "2021-08-26T17:45:54.916095",
     "exception": false,
     "start_time": "2021-08-26T17:45:54.851819",
     "status": "completed"
    },
    "tags": []
   },
   "outputs": [
    {
     "data": {
      "text/plain": [
       "2"
      ]
     },
     "execution_count": 29,
     "metadata": {},
     "output_type": "execute_result"
    }
   ],
   "source": [
    "planets.index('Earth')"
   ]
  },
  {
   "cell_type": "markdown",
   "id": "7de917f7",
   "metadata": {
    "papermill": {
     "duration": 0.055374,
     "end_time": "2021-08-26T17:45:55.027333",
     "exception": false,
     "start_time": "2021-08-26T17:45:54.971959",
     "status": "completed"
    },
    "tags": []
   },
   "source": [
    "It comes third (i.e. at index 2 - 0 indexing!).\n",
    "\n",
    "At what index does Pluto occur?"
   ]
  },
  {
   "cell_type": "code",
   "execution_count": 30,
   "id": "3d6665ab",
   "metadata": {
    "execution": {
     "iopub.execute_input": "2021-08-26T17:45:55.142819Z",
     "iopub.status.busy": "2021-08-26T17:45:55.142220Z",
     "iopub.status.idle": "2021-08-26T17:45:55.205004Z",
     "shell.execute_reply": "2021-08-26T17:45:55.205526Z",
     "shell.execute_reply.started": "2021-08-26T17:37:57.398345Z"
    },
    "papermill": {
     "duration": 0.121991,
     "end_time": "2021-08-26T17:45:55.205790",
     "exception": false,
     "start_time": "2021-08-26T17:45:55.083799",
     "status": "completed"
    },
    "tags": [
     "raises-exception"
    ]
   },
   "outputs": [
    {
     "ename": "ValueError",
     "evalue": "'Pluto' is not in list",
     "output_type": "error",
     "traceback": [
      "\u001b[0;31m---------------------------------------------------------------------------\u001b[0m",
      "\u001b[0;31mValueError\u001b[0m                                Traceback (most recent call last)",
      "\u001b[0;32m<ipython-input-30-3a8584cba91a>\u001b[0m in \u001b[0;36m<module>\u001b[0;34m\u001b[0m\n\u001b[0;32m----> 1\u001b[0;31m \u001b[0mplanets\u001b[0m\u001b[0;34m.\u001b[0m\u001b[0mindex\u001b[0m\u001b[0;34m(\u001b[0m\u001b[0;34m'Pluto'\u001b[0m\u001b[0;34m)\u001b[0m\u001b[0;34m\u001b[0m\u001b[0;34m\u001b[0m\u001b[0m\n\u001b[0m",
      "\u001b[0;31mValueError\u001b[0m: 'Pluto' is not in list"
     ]
    }
   ],
   "source": [
    "planets.index('Pluto')"
   ]
  },
  {
   "cell_type": "markdown",
   "id": "333962ac",
   "metadata": {
    "papermill": {
     "duration": 0.056413,
     "end_time": "2021-08-26T17:45:55.318514",
     "exception": false,
     "start_time": "2021-08-26T17:45:55.262101",
     "status": "completed"
    },
    "tags": []
   },
   "source": [
    "Oh, that's right...\n",
    "\n",
    "To avoid unpleasant surprises like this, we can use the `in` operator to determine whether a list contains a particular value:"
   ]
  },
  {
   "cell_type": "code",
   "execution_count": 31,
   "id": "09b76a6c",
   "metadata": {
    "execution": {
     "iopub.execute_input": "2021-08-26T17:45:55.434984Z",
     "iopub.status.busy": "2021-08-26T17:45:55.434356Z",
     "iopub.status.idle": "2021-08-26T17:45:55.439141Z",
     "shell.execute_reply": "2021-08-26T17:45:55.439646Z",
     "shell.execute_reply.started": "2021-08-26T17:38:04.367494Z"
    },
    "papermill": {
     "duration": 0.064613,
     "end_time": "2021-08-26T17:45:55.439815",
     "exception": false,
     "start_time": "2021-08-26T17:45:55.375202",
     "status": "completed"
    },
    "tags": []
   },
   "outputs": [
    {
     "data": {
      "text/plain": [
       "True"
      ]
     },
     "execution_count": 31,
     "metadata": {},
     "output_type": "execute_result"
    }
   ],
   "source": [
    "# Is Earth a planet?\n",
    "\"Earth\" in planets"
   ]
  },
  {
   "cell_type": "code",
   "execution_count": 32,
   "id": "bbaea6bb",
   "metadata": {
    "execution": {
     "iopub.execute_input": "2021-08-26T17:45:55.558221Z",
     "iopub.status.busy": "2021-08-26T17:45:55.557209Z",
     "iopub.status.idle": "2021-08-26T17:45:55.562595Z",
     "shell.execute_reply": "2021-08-26T17:45:55.563135Z",
     "shell.execute_reply.started": "2021-08-26T17:38:07.377634Z"
    },
    "papermill": {
     "duration": 0.066786,
     "end_time": "2021-08-26T17:45:55.563303",
     "exception": false,
     "start_time": "2021-08-26T17:45:55.496517",
     "status": "completed"
    },
    "tags": []
   },
   "outputs": [
    {
     "data": {
      "text/plain": [
       "False"
      ]
     },
     "execution_count": 32,
     "metadata": {},
     "output_type": "execute_result"
    }
   ],
   "source": [
    "# Is Calbefraques a planet?\n",
    "\"Calbefraques\" in planets"
   ]
  },
  {
   "cell_type": "markdown",
   "id": "49165e9b",
   "metadata": {
    "papermill": {
     "duration": 0.056612,
     "end_time": "2021-08-26T17:45:55.677862",
     "exception": false,
     "start_time": "2021-08-26T17:45:55.621250",
     "status": "completed"
    },
    "tags": []
   },
   "source": [
    "There are a few more interesting list methods we haven't covered. If you want to learn about all the methods and attributes attached to a particular object, we can call `help()` on the object itself. For example, `help(planets)` will tell us about *all* the list methods: "
   ]
  },
  {
   "cell_type": "code",
   "execution_count": 33,
   "id": "0457d725",
   "metadata": {
    "_kg_hide-output": true,
    "execution": {
     "iopub.execute_input": "2021-08-26T17:45:55.795349Z",
     "iopub.status.busy": "2021-08-26T17:45:55.794407Z",
     "iopub.status.idle": "2021-08-26T17:45:55.801361Z",
     "shell.execute_reply": "2021-08-26T17:45:55.800696Z",
     "shell.execute_reply.started": "2021-08-26T17:39:27.642924Z"
    },
    "papermill": {
     "duration": 0.066918,
     "end_time": "2021-08-26T17:45:55.801500",
     "exception": false,
     "start_time": "2021-08-26T17:45:55.734582",
     "status": "completed"
    },
    "tags": []
   },
   "outputs": [
    {
     "data": {
      "text/plain": [
       "'Neptune'"
      ]
     },
     "execution_count": 33,
     "metadata": {},
     "output_type": "execute_result"
    }
   ],
   "source": [
    "# help(planets)\n",
    "planets.pop()"
   ]
  },
  {
   "cell_type": "markdown",
   "id": "01280935",
   "metadata": {
    "papermill": {
     "duration": 0.057108,
     "end_time": "2021-08-26T17:45:55.916097",
     "exception": false,
     "start_time": "2021-08-26T17:45:55.858989",
     "status": "completed"
    },
    "tags": []
   },
   "source": [
    "Click the \"output\" button to see the full help page. Lists have lots of methods with weird-looking names like `__eq__` and `__iadd__`. Don't worry too much about these for now. (You'll probably never call such methods directly. But they get called behind the scenes when we use syntax like indexing or comparison operators.) The most interesting methods are toward the bottom of the list (`append`, `clear`, `copy`, etc.)."
   ]
  },
  {
   "cell_type": "markdown",
   "id": "3b394bb5",
   "metadata": {
    "papermill": {
     "duration": 0.057087,
     "end_time": "2021-08-26T17:45:56.030509",
     "exception": false,
     "start_time": "2021-08-26T17:45:55.973422",
     "status": "completed"
    },
    "tags": []
   },
   "source": [
    "## Tuples\n",
    "\n",
    "Tuples are almost exactly the same as lists. They differ in just two ways.\n",
    "\n",
    "**1:** The syntax for creating them uses parentheses instead of square brackets"
   ]
  },
  {
   "cell_type": "code",
   "execution_count": 34,
   "id": "54659771",
   "metadata": {
    "execution": {
     "iopub.execute_input": "2021-08-26T17:45:56.151959Z",
     "iopub.status.busy": "2021-08-26T17:45:56.151134Z",
     "iopub.status.idle": "2021-08-26T17:45:56.153441Z",
     "shell.execute_reply": "2021-08-26T17:45:56.153908Z",
     "shell.execute_reply.started": "2021-08-26T17:39:48.337672Z"
    },
    "papermill": {
     "duration": 0.065248,
     "end_time": "2021-08-26T17:45:56.154079",
     "exception": false,
     "start_time": "2021-08-26T17:45:56.088831",
     "status": "completed"
    },
    "tags": []
   },
   "outputs": [],
   "source": [
    "t = (1, 2, 3)"
   ]
  },
  {
   "cell_type": "code",
   "execution_count": 35,
   "id": "137c732d",
   "metadata": {
    "execution": {
     "iopub.execute_input": "2021-08-26T17:45:56.274531Z",
     "iopub.status.busy": "2021-08-26T17:45:56.273587Z",
     "iopub.status.idle": "2021-08-26T17:45:56.277651Z",
     "shell.execute_reply": "2021-08-26T17:45:56.277175Z",
     "shell.execute_reply.started": "2021-08-26T17:39:54.982161Z"
    },
    "papermill": {
     "duration": 0.066047,
     "end_time": "2021-08-26T17:45:56.277788",
     "exception": false,
     "start_time": "2021-08-26T17:45:56.211741",
     "status": "completed"
    },
    "tags": []
   },
   "outputs": [
    {
     "data": {
      "text/plain": [
       "(1, 2, 3)"
      ]
     },
     "execution_count": 35,
     "metadata": {},
     "output_type": "execute_result"
    }
   ],
   "source": [
    "t = 1, 2, 3 # equivalent to above\n",
    "t"
   ]
  },
  {
   "cell_type": "markdown",
   "id": "6725fe30",
   "metadata": {
    "papermill": {
     "duration": 0.073066,
     "end_time": "2021-08-26T17:45:56.422354",
     "exception": false,
     "start_time": "2021-08-26T17:45:56.349288",
     "status": "completed"
    },
    "tags": []
   },
   "source": [
    "**2:** They cannot be modified (they are *immutable*)."
   ]
  },
  {
   "cell_type": "code",
   "execution_count": 36,
   "id": "a5fefa50",
   "metadata": {
    "execution": {
     "iopub.execute_input": "2021-08-26T17:45:56.561723Z",
     "iopub.status.busy": "2021-08-26T17:45:56.560752Z",
     "iopub.status.idle": "2021-08-26T17:45:56.568245Z",
     "shell.execute_reply": "2021-08-26T17:45:56.569087Z",
     "shell.execute_reply.started": "2021-08-26T17:39:58.632505Z"
    },
    "papermill": {
     "duration": 0.088613,
     "end_time": "2021-08-26T17:45:56.569333",
     "exception": false,
     "start_time": "2021-08-26T17:45:56.480720",
     "status": "completed"
    },
    "tags": [
     "raises-exception"
    ]
   },
   "outputs": [
    {
     "ename": "TypeError",
     "evalue": "'tuple' object does not support item assignment",
     "output_type": "error",
     "traceback": [
      "\u001b[0;31m---------------------------------------------------------------------------\u001b[0m",
      "\u001b[0;31mTypeError\u001b[0m                                 Traceback (most recent call last)",
      "\u001b[0;32m<ipython-input-36-e6cf7836e708>\u001b[0m in \u001b[0;36m<module>\u001b[0;34m\u001b[0m\n\u001b[0;32m----> 1\u001b[0;31m \u001b[0mt\u001b[0m\u001b[0;34m[\u001b[0m\u001b[0;36m0\u001b[0m\u001b[0;34m]\u001b[0m \u001b[0;34m=\u001b[0m \u001b[0;36m100\u001b[0m\u001b[0;34m\u001b[0m\u001b[0;34m\u001b[0m\u001b[0m\n\u001b[0m",
      "\u001b[0;31mTypeError\u001b[0m: 'tuple' object does not support item assignment"
     ]
    }
   ],
   "source": [
    "t[0] = 100"
   ]
  },
  {
   "cell_type": "markdown",
   "id": "779974ee",
   "metadata": {
    "papermill": {
     "duration": 0.05841,
     "end_time": "2021-08-26T17:45:56.710472",
     "exception": false,
     "start_time": "2021-08-26T17:45:56.652062",
     "status": "completed"
    },
    "tags": []
   },
   "source": [
    "Tuples are often used for functions that have multiple return values.\n",
    "\n",
    "For example, the ``as_integer_ratio()`` method of float objects returns a numerator and a denominator in the form of a tuple:"
   ]
  },
  {
   "cell_type": "code",
   "execution_count": 37,
   "id": "71688fc8",
   "metadata": {
    "execution": {
     "iopub.execute_input": "2021-08-26T17:45:56.834867Z",
     "iopub.status.busy": "2021-08-26T17:45:56.834013Z",
     "iopub.status.idle": "2021-08-26T17:45:56.837403Z",
     "shell.execute_reply": "2021-08-26T17:45:56.838037Z",
     "shell.execute_reply.started": "2021-08-26T17:44:08.169004Z"
    },
    "papermill": {
     "duration": 0.069006,
     "end_time": "2021-08-26T17:45:56.838217",
     "exception": false,
     "start_time": "2021-08-26T17:45:56.769211",
     "status": "completed"
    },
    "tags": []
   },
   "outputs": [
    {
     "data": {
      "text/plain": [
       "(1, 4)"
      ]
     },
     "execution_count": 37,
     "metadata": {},
     "output_type": "execute_result"
    }
   ],
   "source": [
    "x = 0.25\n",
    "x.as_integer_ratio()"
   ]
  },
  {
   "cell_type": "markdown",
   "id": "8f1dfee3",
   "metadata": {
    "papermill": {
     "duration": 0.060241,
     "end_time": "2021-08-26T17:45:56.959755",
     "exception": false,
     "start_time": "2021-08-26T17:45:56.899514",
     "status": "completed"
    },
    "tags": []
   },
   "source": [
    "These multiple return values can be individually assigned as follows:"
   ]
  },
  {
   "cell_type": "code",
   "execution_count": 38,
   "id": "a3f7d14b",
   "metadata": {
    "execution": {
     "iopub.execute_input": "2021-08-26T17:45:57.087270Z",
     "iopub.status.busy": "2021-08-26T17:45:57.086241Z",
     "iopub.status.idle": "2021-08-26T17:45:57.093645Z",
     "shell.execute_reply": "2021-08-26T17:45:57.092550Z",
     "shell.execute_reply.started": "2021-08-26T17:44:57.111340Z"
    },
    "papermill": {
     "duration": 0.074362,
     "end_time": "2021-08-26T17:45:57.093940",
     "exception": false,
     "start_time": "2021-08-26T17:45:57.019578",
     "status": "completed"
    },
    "tags": []
   },
   "outputs": [
    {
     "name": "stdout",
     "output_type": "stream",
     "text": [
      "1\n"
     ]
    }
   ],
   "source": [
    "numerator, denominator = x.as_integer_ratio()\n",
    "print(numerator)"
   ]
  },
  {
   "cell_type": "markdown",
   "id": "8fe0a532",
   "metadata": {
    "papermill": {
     "duration": 0.060845,
     "end_time": "2021-08-26T17:45:57.215108",
     "exception": false,
     "start_time": "2021-08-26T17:45:57.154263",
     "status": "completed"
    },
    "tags": []
   },
   "source": [
    "Finally we have some insight into the classic Stupid Python Trick™ for swapping two variables!"
   ]
  },
  {
   "cell_type": "code",
   "execution_count": 39,
   "id": "2acdb545",
   "metadata": {
    "execution": {
     "iopub.execute_input": "2021-08-26T17:45:57.341355Z",
     "iopub.status.busy": "2021-08-26T17:45:57.340687Z",
     "iopub.status.idle": "2021-08-26T17:45:57.343162Z",
     "shell.execute_reply": "2021-08-26T17:45:57.343626Z",
     "shell.execute_reply.started": "2021-08-26T17:45:05.150243Z"
    },
    "papermill": {
     "duration": 0.06761,
     "end_time": "2021-08-26T17:45:57.343782",
     "exception": false,
     "start_time": "2021-08-26T17:45:57.276172",
     "status": "completed"
    },
    "tags": []
   },
   "outputs": [
    {
     "name": "stdout",
     "output_type": "stream",
     "text": [
      "0 1\n"
     ]
    }
   ],
   "source": [
    "a = 1\n",
    "b = 0\n",
    "a, b = b, a\n",
    "print(a, b)"
   ]
  },
  {
   "cell_type": "markdown",
   "id": "b91aa897",
   "metadata": {
    "papermill": {
     "duration": 0.059178,
     "end_time": "2021-08-26T17:45:57.465779",
     "exception": false,
     "start_time": "2021-08-26T17:45:57.406601",
     "status": "completed"
    },
    "tags": []
   },
   "source": [
    "# Your Turn\n",
    "\n",
    "You learn best by writing code, not just reading it. So try **[the coding challenge](https://www.kaggle.com/kernels/fork/1275173)** now."
   ]
  },
  {
   "cell_type": "markdown",
   "id": "da5866aa",
   "metadata": {
    "papermill": {
     "duration": 0.05865,
     "end_time": "2021-08-26T17:45:57.583934",
     "exception": false,
     "start_time": "2021-08-26T17:45:57.525284",
     "status": "completed"
    },
    "tags": []
   },
   "source": [
    "---\n",
    "\n",
    "\n",
    "\n",
    "\n",
    "*Have questions or comments? Visit the [Learn Discussion forum](https://www.kaggle.com/learn-forum/161283) to chat with other Learners.*"
   ]
  }
 ],
 "metadata": {
  "kernelspec": {
   "display_name": "Python 3",
   "language": "python",
   "name": "python3"
  },
  "language_info": {
   "codemirror_mode": {
    "name": "ipython",
    "version": 3
   },
   "file_extension": ".py",
   "mimetype": "text/x-python",
   "name": "python",
   "nbconvert_exporter": "python",
   "pygments_lexer": "ipython3",
   "version": "3.7.10"
  },
  "papermill": {
   "default_parameters": {},
   "duration": 17.594597,
   "end_time": "2021-08-26T17:45:58.252715",
   "environment_variables": {},
   "exception": null,
   "input_path": "__notebook__.ipynb",
   "output_path": "__notebook__.ipynb",
   "parameters": {},
   "start_time": "2021-08-26T17:45:40.658118",
   "version": "2.3.3"
  }
 },
 "nbformat": 4,
 "nbformat_minor": 5
}
