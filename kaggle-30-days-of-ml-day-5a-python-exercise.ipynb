{
 "cells": [
  {
   "cell_type": "markdown",
   "id": "500edaee",
   "metadata": {
    "papermill": {
     "duration": 0.022038,
     "end_time": "2021-08-26T18:04:28.160775",
     "exception": false,
     "start_time": "2021-08-26T18:04:28.138737",
     "status": "completed"
    },
    "tags": []
   },
   "source": [
    "**This notebook is an exercise in the [Python](https://www.kaggle.com/learn/python) course.  You can reference the tutorial at [this link](https://www.kaggle.com/colinmorris/lists).**\n",
    "\n",
    "---\n"
   ]
  },
  {
   "cell_type": "markdown",
   "id": "6a1e3466",
   "metadata": {
    "papermill": {
     "duration": 0.021844,
     "end_time": "2021-08-26T18:04:28.201159",
     "exception": false,
     "start_time": "2021-08-26T18:04:28.179315",
     "status": "completed"
    },
    "tags": []
   },
   "source": [
    "Things get more interesting with lists. You'll apply your new knowledge to solve the questions below. Remember to run the following cell first."
   ]
  },
  {
   "cell_type": "code",
   "execution_count": 1,
   "id": "8372cf16",
   "metadata": {
    "execution": {
     "iopub.execute_input": "2021-08-26T18:04:28.242920Z",
     "iopub.status.busy": "2021-08-26T18:04:28.241752Z",
     "iopub.status.idle": "2021-08-26T18:04:28.389100Z",
     "shell.execute_reply": "2021-08-26T18:04:28.389602Z",
     "shell.execute_reply.started": "2021-08-26T17:50:24.249957Z"
    },
    "papermill": {
     "duration": 0.168175,
     "end_time": "2021-08-26T18:04:28.389951",
     "exception": false,
     "start_time": "2021-08-26T18:04:28.221776",
     "status": "completed"
    },
    "tags": []
   },
   "outputs": [
    {
     "name": "stdout",
     "output_type": "stream",
     "text": [
      "Setup complete.\n"
     ]
    }
   ],
   "source": [
    "from learntools.core import binder; binder.bind(globals())\n",
    "from learntools.python.ex4 import *\n",
    "print('Setup complete.')"
   ]
  },
  {
   "cell_type": "markdown",
   "id": "c24a3495",
   "metadata": {
    "papermill": {
     "duration": 0.013987,
     "end_time": "2021-08-26T18:04:28.419167",
     "exception": false,
     "start_time": "2021-08-26T18:04:28.405180",
     "status": "completed"
    },
    "tags": []
   },
   "source": [
    "# 1.\n",
    "\n",
    "Complete the function below according to its docstring."
   ]
  },
  {
   "cell_type": "code",
   "execution_count": 2,
   "id": "d0a3d5fa",
   "metadata": {
    "execution": {
     "iopub.execute_input": "2021-08-26T18:04:28.460129Z",
     "iopub.status.busy": "2021-08-26T18:04:28.459442Z",
     "iopub.status.idle": "2021-08-26T18:04:28.465756Z",
     "shell.execute_reply": "2021-08-26T18:04:28.465243Z",
     "shell.execute_reply.started": "2021-08-26T17:51:27.544721Z"
    },
    "papermill": {
     "duration": 0.030102,
     "end_time": "2021-08-26T18:04:28.465911",
     "exception": false,
     "start_time": "2021-08-26T18:04:28.435809",
     "status": "completed"
    },
    "tags": []
   },
   "outputs": [
    {
     "data": {
      "application/javascript": [
       "parent.postMessage({\"jupyterEvent\": \"custom.exercise_interaction\", \"data\": {\"outcomeType\": 1, \"valueTowardsCompletion\": 0.2, \"interactionType\": 1, \"questionType\": 2, \"questionId\": \"1_SelectSecondItem\", \"learnToolsVersion\": \"0.3.4\", \"failureMessage\": \"\", \"exceptionClass\": \"\", \"trace\": \"\"}}, \"*\")"
      ],
      "text/plain": [
       "<IPython.core.display.Javascript object>"
      ]
     },
     "metadata": {},
     "output_type": "display_data"
    },
    {
     "data": {
      "text/markdown": [
       "<span style=\"color:#33cc33\">Correct</span>"
      ],
      "text/plain": [
       "Correct"
      ]
     },
     "metadata": {},
     "output_type": "display_data"
    }
   ],
   "source": [
    "def select_second(L):\n",
    "    \"\"\"Return the second element of the given list. If the list has no second\n",
    "    element, return None.\n",
    "    \"\"\"\n",
    "    if len(L) >= 2:\n",
    "        return L[1]\n",
    "\n",
    "# Check your answer\n",
    "q1.check()"
   ]
  },
  {
   "cell_type": "code",
   "execution_count": 3,
   "id": "b53b060c",
   "metadata": {
    "collapsed": true,
    "execution": {
     "iopub.execute_input": "2021-08-26T18:04:28.501481Z",
     "iopub.status.busy": "2021-08-26T18:04:28.500793Z",
     "iopub.status.idle": "2021-08-26T18:04:28.504103Z",
     "shell.execute_reply": "2021-08-26T18:04:28.503420Z"
    },
    "jupyter": {
     "outputs_hidden": true
    },
    "papermill": {
     "duration": 0.0228,
     "end_time": "2021-08-26T18:04:28.504282",
     "exception": false,
     "start_time": "2021-08-26T18:04:28.481482",
     "status": "completed"
    },
    "tags": []
   },
   "outputs": [],
   "source": [
    "#q1.hint()\n",
    "#q1.solution()"
   ]
  },
  {
   "cell_type": "markdown",
   "id": "4ca50433",
   "metadata": {
    "papermill": {
     "duration": 0.015142,
     "end_time": "2021-08-26T18:04:28.535082",
     "exception": false,
     "start_time": "2021-08-26T18:04:28.519940",
     "status": "completed"
    },
    "tags": []
   },
   "source": [
    "# 2.\n",
    "\n",
    "You are analyzing sports teams.  Members of each team are stored in a list. The Coach is the first name in the list, the captain is the second name in the list, and other players are listed after that. \n",
    "These lists are stored in another list, which starts with the best team and proceeds through the list to the worst team last.  Complete the function below to select the **captain** of the worst team."
   ]
  },
  {
   "cell_type": "code",
   "execution_count": 4,
   "id": "06d0585e",
   "metadata": {
    "execution": {
     "iopub.execute_input": "2021-08-26T18:04:28.572408Z",
     "iopub.status.busy": "2021-08-26T18:04:28.571720Z",
     "iopub.status.idle": "2021-08-26T18:04:28.577909Z",
     "shell.execute_reply": "2021-08-26T18:04:28.578502Z",
     "shell.execute_reply.started": "2021-08-26T17:52:13.910381Z"
    },
    "papermill": {
     "duration": 0.028041,
     "end_time": "2021-08-26T18:04:28.578777",
     "exception": false,
     "start_time": "2021-08-26T18:04:28.550736",
     "status": "completed"
    },
    "tags": []
   },
   "outputs": [
    {
     "data": {
      "application/javascript": [
       "parent.postMessage({\"jupyterEvent\": \"custom.exercise_interaction\", \"data\": {\"outcomeType\": 1, \"valueTowardsCompletion\": 0.2, \"interactionType\": 1, \"questionType\": 2, \"questionId\": \"2_LosingTeamCaptain\", \"learnToolsVersion\": \"0.3.4\", \"failureMessage\": \"\", \"exceptionClass\": \"\", \"trace\": \"\"}}, \"*\")"
      ],
      "text/plain": [
       "<IPython.core.display.Javascript object>"
      ]
     },
     "metadata": {},
     "output_type": "display_data"
    },
    {
     "data": {
      "text/markdown": [
       "<span style=\"color:#33cc33\">Correct</span>"
      ],
      "text/plain": [
       "Correct"
      ]
     },
     "metadata": {},
     "output_type": "display_data"
    }
   ],
   "source": [
    "def losing_team_captain(teams):\n",
    "    \"\"\"Given a list of teams, where each team is a list of names, return the 2nd player (captain)\n",
    "    from the last listed team\n",
    "    \"\"\"\n",
    "    return teams[-1][1]\n",
    "\n",
    "# Check your answer\n",
    "q2.check()"
   ]
  },
  {
   "cell_type": "code",
   "execution_count": 5,
   "id": "1b3b1745",
   "metadata": {
    "collapsed": true,
    "execution": {
     "iopub.execute_input": "2021-08-26T18:04:28.619841Z",
     "iopub.status.busy": "2021-08-26T18:04:28.619127Z",
     "iopub.status.idle": "2021-08-26T18:04:28.621181Z",
     "shell.execute_reply": "2021-08-26T18:04:28.621629Z"
    },
    "jupyter": {
     "outputs_hidden": true
    },
    "papermill": {
     "duration": 0.024816,
     "end_time": "2021-08-26T18:04:28.621855",
     "exception": false,
     "start_time": "2021-08-26T18:04:28.597039",
     "status": "completed"
    },
    "tags": []
   },
   "outputs": [],
   "source": [
    "#q2.hint()\n",
    "#q2.solution()"
   ]
  },
  {
   "cell_type": "markdown",
   "id": "1611e8a0",
   "metadata": {
    "papermill": {
     "duration": 0.016504,
     "end_time": "2021-08-26T18:04:28.655237",
     "exception": false,
     "start_time": "2021-08-26T18:04:28.638733",
     "status": "completed"
    },
    "tags": []
   },
   "source": [
    "# 3.\n",
    "\n",
    "The next iteration of Mario Kart will feature an extra-infuriating new item, the *Purple Shell*. When used, it warps the last place racer into first place and the first place racer into last place. Complete the function below to implement the Purple Shell's effect."
   ]
  },
  {
   "cell_type": "code",
   "execution_count": 6,
   "id": "629848d1",
   "metadata": {
    "execution": {
     "iopub.execute_input": "2021-08-26T18:04:28.692290Z",
     "iopub.status.busy": "2021-08-26T18:04:28.691566Z",
     "iopub.status.idle": "2021-08-26T18:04:28.701565Z",
     "shell.execute_reply": "2021-08-26T18:04:28.700914Z",
     "shell.execute_reply.started": "2021-08-26T17:54:18.435731Z"
    },
    "papermill": {
     "duration": 0.029749,
     "end_time": "2021-08-26T18:04:28.701753",
     "exception": false,
     "start_time": "2021-08-26T18:04:28.672004",
     "status": "completed"
    },
    "tags": []
   },
   "outputs": [
    {
     "data": {
      "application/javascript": [
       "parent.postMessage({\"jupyterEvent\": \"custom.exercise_interaction\", \"data\": {\"outcomeType\": 1, \"valueTowardsCompletion\": 0.2, \"interactionType\": 1, \"questionType\": 2, \"questionId\": \"3_PurpleShell\", \"learnToolsVersion\": \"0.3.4\", \"failureMessage\": \"\", \"exceptionClass\": \"\", \"trace\": \"\"}}, \"*\")"
      ],
      "text/plain": [
       "<IPython.core.display.Javascript object>"
      ]
     },
     "metadata": {},
     "output_type": "display_data"
    },
    {
     "data": {
      "text/markdown": [
       "<span style=\"color:#33cc33\">Correct</span>"
      ],
      "text/plain": [
       "Correct"
      ]
     },
     "metadata": {},
     "output_type": "display_data"
    }
   ],
   "source": [
    "def purple_shell(racers):\n",
    "    \"\"\"Given a list of racers, set the first place racer (at the front of the list) to last\n",
    "    place and vice versa.\n",
    "    \n",
    "    >>> r = [\"Mario\", \"Bowser\", \"Luigi\"]\n",
    "    >>> purple_shell(r)\n",
    "    >>> r\n",
    "    [\"Luigi\", \"Bowser\", \"Mario\"]\n",
    "    \"\"\"\n",
    "    racers[-1], racers[0] = racers[0], racers[-1]\n",
    "\n",
    "# Check your answer\n",
    "q3.check()"
   ]
  },
  {
   "cell_type": "code",
   "execution_count": 7,
   "id": "09126e23",
   "metadata": {
    "collapsed": true,
    "execution": {
     "iopub.execute_input": "2021-08-26T18:04:28.741995Z",
     "iopub.status.busy": "2021-08-26T18:04:28.741353Z",
     "iopub.status.idle": "2021-08-26T18:04:28.744792Z",
     "shell.execute_reply": "2021-08-26T18:04:28.744157Z"
    },
    "jupyter": {
     "outputs_hidden": true
    },
    "papermill": {
     "duration": 0.025359,
     "end_time": "2021-08-26T18:04:28.744945",
     "exception": false,
     "start_time": "2021-08-26T18:04:28.719586",
     "status": "completed"
    },
    "tags": []
   },
   "outputs": [],
   "source": [
    "#q3.hint()\n",
    "#q3.solution()"
   ]
  },
  {
   "cell_type": "markdown",
   "id": "6babd2c4",
   "metadata": {
    "papermill": {
     "duration": 0.017327,
     "end_time": "2021-08-26T18:04:28.780302",
     "exception": false,
     "start_time": "2021-08-26T18:04:28.762975",
     "status": "completed"
    },
    "tags": []
   },
   "source": [
    "# 4.\n",
    "\n",
    "What are the lengths of the following lists? Fill in the variable `lengths` with your predictions. (Try to make a prediction for each list *without* just calling `len()` on it.)"
   ]
  },
  {
   "cell_type": "code",
   "execution_count": 8,
   "id": "bfc03f19",
   "metadata": {
    "execution": {
     "iopub.execute_input": "2021-08-26T18:04:28.819260Z",
     "iopub.status.busy": "2021-08-26T18:04:28.818600Z",
     "iopub.status.idle": "2021-08-26T18:04:28.826179Z",
     "shell.execute_reply": "2021-08-26T18:04:28.826667Z",
     "shell.execute_reply.started": "2021-08-26T17:55:01.978029Z"
    },
    "papermill": {
     "duration": 0.028552,
     "end_time": "2021-08-26T18:04:28.826876",
     "exception": false,
     "start_time": "2021-08-26T18:04:28.798324",
     "status": "completed"
    },
    "tags": []
   },
   "outputs": [
    {
     "data": {
      "application/javascript": [
       "parent.postMessage({\"jupyterEvent\": \"custom.exercise_interaction\", \"data\": {\"outcomeType\": 1, \"valueTowardsCompletion\": 0.2, \"interactionType\": 1, \"questionType\": 1, \"questionId\": \"4_UnderstandLen\", \"learnToolsVersion\": \"0.3.4\", \"failureMessage\": \"\", \"exceptionClass\": \"\", \"trace\": \"\"}}, \"*\")"
      ],
      "text/plain": [
       "<IPython.core.display.Javascript object>"
      ]
     },
     "metadata": {},
     "output_type": "display_data"
    },
    {
     "data": {
      "text/markdown": [
       "<span style=\"color:#33cc33\">Correct:</span> \n",
       "\n",
       "\n",
       "- a: There are three items in this list. Nothing tricky yet.\n",
       "- b: The list `[2, 3]` counts as a single item. It has one item before it. So we have 2 items in the list\n",
       "- c: The empty list has 0 items\n",
       "- d: The expression is the same as the list `[2, 3]`, which has length 2."
      ],
      "text/plain": [
       "Correct: \n",
       "\n",
       "\n",
       "- a: There are three items in this list. Nothing tricky yet.\n",
       "- b: The list `[2, 3]` counts as a single item. It has one item before it. So we have 2 items in the list\n",
       "- c: The empty list has 0 items\n",
       "- d: The expression is the same as the list `[2, 3]`, which has length 2."
      ]
     },
     "metadata": {},
     "output_type": "display_data"
    }
   ],
   "source": [
    "a = [1, 2, 3]\n",
    "b = [1, [2, 3]]\n",
    "c = []\n",
    "d = [1, 2, 3][1:]\n",
    "\n",
    "# Put your predictions in the list below. Lengths should contain 4 numbers, the\n",
    "# first being the length of a, the second being the length of b and so on.\n",
    "lengths = [3, 2, 0, 2]\n",
    "\n",
    "# Check your answer\n",
    "q4.check()"
   ]
  },
  {
   "cell_type": "code",
   "execution_count": 9,
   "id": "640497b9",
   "metadata": {
    "collapsed": true,
    "execution": {
     "iopub.execute_input": "2021-08-26T18:04:28.867658Z",
     "iopub.status.busy": "2021-08-26T18:04:28.866971Z",
     "iopub.status.idle": "2021-08-26T18:04:28.870285Z",
     "shell.execute_reply": "2021-08-26T18:04:28.870754Z"
    },
    "jupyter": {
     "outputs_hidden": true
    },
    "papermill": {
     "duration": 0.02538,
     "end_time": "2021-08-26T18:04:28.870955",
     "exception": false,
     "start_time": "2021-08-26T18:04:28.845575",
     "status": "completed"
    },
    "tags": []
   },
   "outputs": [],
   "source": [
    "# line below provides some explanation\n",
    "#q4.solution()"
   ]
  },
  {
   "cell_type": "markdown",
   "id": "7631e4da",
   "metadata": {
    "papermill": {
     "duration": 0.01854,
     "end_time": "2021-08-26T18:04:28.908919",
     "exception": false,
     "start_time": "2021-08-26T18:04:28.890379",
     "status": "completed"
    },
    "tags": []
   },
   "source": [
    "# 5. <span title=\"A bit spicy\" style=\"color: darkgreen \">🌶️</span>\n",
    "\n",
    "We're using lists to record people who attended our party and what order they arrived in. For example, the following list represents a party with 7 guests, in which Adela showed up first and Ford was the last to arrive:\n",
    "\n",
    "    party_attendees = ['Adela', 'Fleda', 'Owen', 'May', 'Mona', 'Gilbert', 'Ford']\n",
    "\n",
    "A guest is considered 'fashionably late' if they arrived after at least half of the party's guests. However, they must not be the very last guest (that's taking it too far). In the above example, Mona and Gilbert are the only guests who were fashionably late.\n",
    "\n",
    "Complete the function below which takes a list of party attendees as well as a person, and tells us whether that person is fashionably late."
   ]
  },
  {
   "cell_type": "code",
   "execution_count": 10,
   "id": "0918fbcc",
   "metadata": {
    "execution": {
     "iopub.execute_input": "2021-08-26T18:04:28.950588Z",
     "iopub.status.busy": "2021-08-26T18:04:28.949919Z",
     "iopub.status.idle": "2021-08-26T18:04:28.958345Z",
     "shell.execute_reply": "2021-08-26T18:04:28.958845Z",
     "shell.execute_reply.started": "2021-08-26T18:03:40.680622Z"
    },
    "papermill": {
     "duration": 0.031089,
     "end_time": "2021-08-26T18:04:28.959041",
     "exception": false,
     "start_time": "2021-08-26T18:04:28.927952",
     "status": "completed"
    },
    "tags": []
   },
   "outputs": [
    {
     "data": {
      "application/javascript": [
       "parent.postMessage({\"jupyterEvent\": \"custom.exercise_interaction\", \"data\": {\"outcomeType\": 1, \"valueTowardsCompletion\": 0.2, \"interactionType\": 1, \"questionType\": 2, \"questionId\": \"5_FashionablyLate\", \"learnToolsVersion\": \"0.3.4\", \"failureMessage\": \"\", \"exceptionClass\": \"\", \"trace\": \"\"}}, \"*\")"
      ],
      "text/plain": [
       "<IPython.core.display.Javascript object>"
      ]
     },
     "metadata": {},
     "output_type": "display_data"
    },
    {
     "data": {
      "text/markdown": [
       "<span style=\"color:#33cc33\">Correct</span>"
      ],
      "text/plain": [
       "Correct"
      ]
     },
     "metadata": {},
     "output_type": "display_data"
    }
   ],
   "source": [
    "def fashionably_late(arrivals, name):\n",
    "    \"\"\"Given an ordered list of arrivals to the party and a name, return whether the guest with that\n",
    "    name was fashionably late.\n",
    "    \"\"\"\n",
    "    n = len(arrivals)\n",
    "    if n % 2 == 0:\n",
    "        if name in arrivals[n//2:-1]:\n",
    "            return True\n",
    "        else:\n",
    "            return False\n",
    "    else:\n",
    "        if name in arrivals[(n//2)+1:-1]:\n",
    "            return True\n",
    "        else:\n",
    "            return False\n",
    "\n",
    "# Check your answer\n",
    "q5.check()"
   ]
  },
  {
   "cell_type": "code",
   "execution_count": 11,
   "id": "fcbb7c3f",
   "metadata": {
    "collapsed": true,
    "execution": {
     "iopub.execute_input": "2021-08-26T18:04:29.004083Z",
     "iopub.status.busy": "2021-08-26T18:04:29.003349Z",
     "iopub.status.idle": "2021-08-26T18:04:29.007683Z",
     "shell.execute_reply": "2021-08-26T18:04:29.007107Z"
    },
    "jupyter": {
     "outputs_hidden": true
    },
    "papermill": {
     "duration": 0.028056,
     "end_time": "2021-08-26T18:04:29.007860",
     "exception": false,
     "start_time": "2021-08-26T18:04:28.979804",
     "status": "completed"
    },
    "tags": []
   },
   "outputs": [],
   "source": [
    "#q5.hint()\n",
    "#q5.solution()"
   ]
  },
  {
   "cell_type": "markdown",
   "id": "d8c853cd",
   "metadata": {
    "papermill": {
     "duration": 0.020023,
     "end_time": "2021-08-26T18:04:29.048248",
     "exception": false,
     "start_time": "2021-08-26T18:04:29.028225",
     "status": "completed"
    },
    "tags": []
   },
   "source": [
    "# Keep Going\n",
    "\n",
    "That's it for lists and tuples! Now you have the baseline knowledge to **[learn about loops](https://www.kaggle.com/colinmorris/loops-and-list-comprehensions)**, which is where lists and tuples get really interesting. "
   ]
  },
  {
   "cell_type": "markdown",
   "id": "aa853d72",
   "metadata": {
    "papermill": {
     "duration": 0.020059,
     "end_time": "2021-08-26T18:04:29.088763",
     "exception": false,
     "start_time": "2021-08-26T18:04:29.068704",
     "status": "completed"
    },
    "tags": []
   },
   "source": [
    "---\n",
    "\n",
    "\n",
    "\n",
    "\n",
    "*Have questions or comments? Visit the [Learn Discussion forum](https://www.kaggle.com/learn-forum/161283) to chat with other Learners.*"
   ]
  }
 ],
 "metadata": {
  "kernelspec": {
   "display_name": "Python 3",
   "language": "python",
   "name": "python3"
  },
  "language_info": {
   "codemirror_mode": {
    "name": "ipython",
    "version": 3
   },
   "file_extension": ".py",
   "mimetype": "text/x-python",
   "name": "python",
   "nbconvert_exporter": "python",
   "pygments_lexer": "ipython3",
   "version": "3.7.10"
  },
  "papermill": {
   "default_parameters": {},
   "duration": 10.89081,
   "end_time": "2021-08-26T18:04:30.436364",
   "environment_variables": {},
   "exception": null,
   "input_path": "__notebook__.ipynb",
   "output_path": "__notebook__.ipynb",
   "parameters": {},
   "start_time": "2021-08-26T18:04:19.545554",
   "version": "2.3.3"
  }
 },
 "nbformat": 4,
 "nbformat_minor": 5
}
